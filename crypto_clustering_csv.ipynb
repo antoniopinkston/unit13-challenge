{
 "cells": [
  {
   "cell_type": "markdown",
   "metadata": {},
   "source": [
    "# Clustering Crypto"
   ]
  },
  {
   "cell_type": "code",
   "execution_count": 4,
   "metadata": {},
   "outputs": [],
   "source": [
    "# Initial imports\n",
    "%matplotlib inline\n",
    "import requests\n",
    "import pandas as pd\n",
    "import numpy as np\n",
    "from pathlib import Path\n",
    "import matplotlib as mpl\n",
    "import matplotlib.pyplot as plt\n",
    "from mpl_toolkits.mplot3d import Axes3D\n",
    "import hvplot.pandas\n",
    "import plotly.express as px\n",
    "from sklearn.preprocessing import StandardScaler, MinMaxScaler, LabelEncoder\n",
    "from sklearn.decomposition import PCA\n",
    "from sklearn.cluster import KMeans\n",
    "from urllib.request import Request, urlopen"
   ]
  },
  {
   "cell_type": "markdown",
   "metadata": {},
   "source": [
    "### Fetching Cryptocurrency Data"
   ]
  },
  {
   "cell_type": "code",
   "execution_count": 5,
   "metadata": {},
   "outputs": [
    {
     "data": {
      "text/html": [
       "<div>\n",
       "<style scoped>\n",
       "    .dataframe tbody tr th:only-of-type {\n",
       "        vertical-align: middle;\n",
       "    }\n",
       "\n",
       "    .dataframe tbody tr th {\n",
       "        vertical-align: top;\n",
       "    }\n",
       "\n",
       "    .dataframe thead th {\n",
       "        text-align: right;\n",
       "    }\n",
       "</style>\n",
       "<table border=\"1\" class=\"dataframe\">\n",
       "  <thead>\n",
       "    <tr style=\"text-align: right;\">\n",
       "      <th></th>\n",
       "      <th>Unnamed: 0</th>\n",
       "      <th>CoinName</th>\n",
       "      <th>Algorithm</th>\n",
       "      <th>IsTrading</th>\n",
       "      <th>ProofType</th>\n",
       "      <th>TotalCoinsMined</th>\n",
       "      <th>TotalCoinSupply</th>\n",
       "    </tr>\n",
       "  </thead>\n",
       "  <tbody>\n",
       "    <tr>\n",
       "      <th>0</th>\n",
       "      <td>42</td>\n",
       "      <td>42 Coin</td>\n",
       "      <td>Scrypt</td>\n",
       "      <td>True</td>\n",
       "      <td>PoW/PoS</td>\n",
       "      <td>4.199995e+01</td>\n",
       "      <td>42</td>\n",
       "    </tr>\n",
       "    <tr>\n",
       "      <th>1</th>\n",
       "      <td>365</td>\n",
       "      <td>365Coin</td>\n",
       "      <td>X11</td>\n",
       "      <td>True</td>\n",
       "      <td>PoW/PoS</td>\n",
       "      <td>NaN</td>\n",
       "      <td>2300000000</td>\n",
       "    </tr>\n",
       "    <tr>\n",
       "      <th>2</th>\n",
       "      <td>404</td>\n",
       "      <td>404Coin</td>\n",
       "      <td>Scrypt</td>\n",
       "      <td>True</td>\n",
       "      <td>PoW/PoS</td>\n",
       "      <td>1.055185e+09</td>\n",
       "      <td>532000000</td>\n",
       "    </tr>\n",
       "    <tr>\n",
       "      <th>3</th>\n",
       "      <td>611</td>\n",
       "      <td>SixEleven</td>\n",
       "      <td>SHA-256</td>\n",
       "      <td>True</td>\n",
       "      <td>PoW</td>\n",
       "      <td>NaN</td>\n",
       "      <td>611000</td>\n",
       "    </tr>\n",
       "    <tr>\n",
       "      <th>4</th>\n",
       "      <td>808</td>\n",
       "      <td>808</td>\n",
       "      <td>SHA-256</td>\n",
       "      <td>True</td>\n",
       "      <td>PoW/PoS</td>\n",
       "      <td>0.000000e+00</td>\n",
       "      <td>0</td>\n",
       "    </tr>\n",
       "  </tbody>\n",
       "</table>\n",
       "</div>"
      ],
      "text/plain": [
       "  Unnamed: 0   CoinName Algorithm  IsTrading ProofType  TotalCoinsMined  \\\n",
       "0         42    42 Coin    Scrypt       True   PoW/PoS     4.199995e+01   \n",
       "1        365    365Coin       X11       True   PoW/PoS              NaN   \n",
       "2        404    404Coin    Scrypt       True   PoW/PoS     1.055185e+09   \n",
       "3        611  SixEleven   SHA-256       True       PoW              NaN   \n",
       "4        808        808   SHA-256       True   PoW/PoS     0.000000e+00   \n",
       "\n",
       "  TotalCoinSupply  \n",
       "0              42  \n",
       "1      2300000000  \n",
       "2       532000000  \n",
       "3          611000  \n",
       "4               0  "
      ]
     },
     "execution_count": 5,
     "metadata": {},
     "output_type": "execute_result"
    }
   ],
   "source": [
    "# Alternatively, use the provided csv file:\n",
    "# file_path = Path(\"Resources/crypto_data.csv\")\n",
    "file_path = Path('C:/Users/Squid Ink Tony/Jupyter-Workspace/Unit13Homework/crypto_data.csv')\n",
    "# Create a DataFrame\n",
    "crypto_df = pd.read_csv(file_path)\n",
    "crypto_df.head()"
   ]
  },
  {
   "cell_type": "markdown",
   "metadata": {},
   "source": [
    "### Data Preprocessing"
   ]
  },
  {
   "cell_type": "code",
   "execution_count": 6,
   "metadata": {},
   "outputs": [
    {
     "data": {
      "text/html": [
       "<div>\n",
       "<style scoped>\n",
       "    .dataframe tbody tr th:only-of-type {\n",
       "        vertical-align: middle;\n",
       "    }\n",
       "\n",
       "    .dataframe tbody tr th {\n",
       "        vertical-align: top;\n",
       "    }\n",
       "\n",
       "    .dataframe thead th {\n",
       "        text-align: right;\n",
       "    }\n",
       "</style>\n",
       "<table border=\"1\" class=\"dataframe\">\n",
       "  <thead>\n",
       "    <tr style=\"text-align: right;\">\n",
       "      <th></th>\n",
       "      <th>CoinName</th>\n",
       "      <th>Algorithm</th>\n",
       "      <th>IsTrading</th>\n",
       "      <th>ProofType</th>\n",
       "      <th>TotalCoinsMined</th>\n",
       "      <th>TotalCoinSupply</th>\n",
       "    </tr>\n",
       "  </thead>\n",
       "  <tbody>\n",
       "    <tr>\n",
       "      <th>0</th>\n",
       "      <td>42 Coin</td>\n",
       "      <td>Scrypt</td>\n",
       "      <td>True</td>\n",
       "      <td>PoW/PoS</td>\n",
       "      <td>4.199995e+01</td>\n",
       "      <td>42</td>\n",
       "    </tr>\n",
       "    <tr>\n",
       "      <th>1</th>\n",
       "      <td>365Coin</td>\n",
       "      <td>X11</td>\n",
       "      <td>True</td>\n",
       "      <td>PoW/PoS</td>\n",
       "      <td>NaN</td>\n",
       "      <td>2300000000</td>\n",
       "    </tr>\n",
       "    <tr>\n",
       "      <th>2</th>\n",
       "      <td>404Coin</td>\n",
       "      <td>Scrypt</td>\n",
       "      <td>True</td>\n",
       "      <td>PoW/PoS</td>\n",
       "      <td>1.055185e+09</td>\n",
       "      <td>532000000</td>\n",
       "    </tr>\n",
       "    <tr>\n",
       "      <th>3</th>\n",
       "      <td>SixEleven</td>\n",
       "      <td>SHA-256</td>\n",
       "      <td>True</td>\n",
       "      <td>PoW</td>\n",
       "      <td>NaN</td>\n",
       "      <td>611000</td>\n",
       "    </tr>\n",
       "    <tr>\n",
       "      <th>4</th>\n",
       "      <td>808</td>\n",
       "      <td>SHA-256</td>\n",
       "      <td>True</td>\n",
       "      <td>PoW/PoS</td>\n",
       "      <td>0.000000e+00</td>\n",
       "      <td>0</td>\n",
       "    </tr>\n",
       "    <tr>\n",
       "      <th>...</th>\n",
       "      <td>...</td>\n",
       "      <td>...</td>\n",
       "      <td>...</td>\n",
       "      <td>...</td>\n",
       "      <td>...</td>\n",
       "      <td>...</td>\n",
       "    </tr>\n",
       "    <tr>\n",
       "      <th>1247</th>\n",
       "      <td>BitcoinPlus</td>\n",
       "      <td>Scrypt</td>\n",
       "      <td>True</td>\n",
       "      <td>PoS</td>\n",
       "      <td>1.283270e+05</td>\n",
       "      <td>1000000</td>\n",
       "    </tr>\n",
       "    <tr>\n",
       "      <th>1248</th>\n",
       "      <td>DivotyCoin</td>\n",
       "      <td>Scrypt</td>\n",
       "      <td>False</td>\n",
       "      <td>PoW/PoS</td>\n",
       "      <td>2.149121e+07</td>\n",
       "      <td>100000000</td>\n",
       "    </tr>\n",
       "    <tr>\n",
       "      <th>1249</th>\n",
       "      <td>Giotto Coin</td>\n",
       "      <td>Scrypt</td>\n",
       "      <td>False</td>\n",
       "      <td>PoW/PoS</td>\n",
       "      <td>NaN</td>\n",
       "      <td>233100000</td>\n",
       "    </tr>\n",
       "    <tr>\n",
       "      <th>1250</th>\n",
       "      <td>OpenSourceCoin</td>\n",
       "      <td>SHA-256</td>\n",
       "      <td>False</td>\n",
       "      <td>PoW/PoS</td>\n",
       "      <td>NaN</td>\n",
       "      <td>21000000</td>\n",
       "    </tr>\n",
       "    <tr>\n",
       "      <th>1251</th>\n",
       "      <td>SteamPunk</td>\n",
       "      <td>PoS</td>\n",
       "      <td>False</td>\n",
       "      <td>PoS</td>\n",
       "      <td>NaN</td>\n",
       "      <td>40000000</td>\n",
       "    </tr>\n",
       "  </tbody>\n",
       "</table>\n",
       "<p>1252 rows × 6 columns</p>\n",
       "</div>"
      ],
      "text/plain": [
       "            CoinName Algorithm  IsTrading ProofType  TotalCoinsMined  \\\n",
       "0            42 Coin    Scrypt       True   PoW/PoS     4.199995e+01   \n",
       "1            365Coin       X11       True   PoW/PoS              NaN   \n",
       "2            404Coin    Scrypt       True   PoW/PoS     1.055185e+09   \n",
       "3          SixEleven   SHA-256       True       PoW              NaN   \n",
       "4                808   SHA-256       True   PoW/PoS     0.000000e+00   \n",
       "...              ...       ...        ...       ...              ...   \n",
       "1247     BitcoinPlus    Scrypt       True       PoS     1.283270e+05   \n",
       "1248      DivotyCoin    Scrypt      False   PoW/PoS     2.149121e+07   \n",
       "1249     Giotto Coin    Scrypt      False   PoW/PoS              NaN   \n",
       "1250  OpenSourceCoin   SHA-256      False   PoW/PoS              NaN   \n",
       "1251       SteamPunk       PoS      False       PoS              NaN   \n",
       "\n",
       "     TotalCoinSupply  \n",
       "0                 42  \n",
       "1         2300000000  \n",
       "2          532000000  \n",
       "3             611000  \n",
       "4                  0  \n",
       "...              ...  \n",
       "1247         1000000  \n",
       "1248       100000000  \n",
       "1249       233100000  \n",
       "1250        21000000  \n",
       "1251        40000000  \n",
       "\n",
       "[1252 rows x 6 columns]"
      ]
     },
     "execution_count": 6,
     "metadata": {},
     "output_type": "execute_result"
    }
   ],
   "source": [
    "# Keep only necessary columns:\n",
    "# 'CoinName','Algorithm','IsTrading','ProofType','TotalCoinsMined','MaxSupply'\n",
    "slim_crypto_df = crypto_df.drop(columns=['Unnamed: 0'])\n",
    "\n",
    "slim_crypto_df"
   ]
  },
  {
   "cell_type": "code",
   "execution_count": 7,
   "metadata": {},
   "outputs": [
    {
     "data": {
      "text/html": [
       "<div>\n",
       "<style scoped>\n",
       "    .dataframe tbody tr th:only-of-type {\n",
       "        vertical-align: middle;\n",
       "    }\n",
       "\n",
       "    .dataframe tbody tr th {\n",
       "        vertical-align: top;\n",
       "    }\n",
       "\n",
       "    .dataframe thead th {\n",
       "        text-align: right;\n",
       "    }\n",
       "</style>\n",
       "<table border=\"1\" class=\"dataframe\">\n",
       "  <thead>\n",
       "    <tr style=\"text-align: right;\">\n",
       "      <th></th>\n",
       "      <th>CoinName</th>\n",
       "      <th>Algorithm</th>\n",
       "      <th>IsTrading</th>\n",
       "      <th>ProofType</th>\n",
       "      <th>TotalCoinsMined</th>\n",
       "      <th>TotalCoinSupply</th>\n",
       "    </tr>\n",
       "  </thead>\n",
       "  <tbody>\n",
       "    <tr>\n",
       "      <th>0</th>\n",
       "      <td>42 Coin</td>\n",
       "      <td>Scrypt</td>\n",
       "      <td>True</td>\n",
       "      <td>PoW/PoS</td>\n",
       "      <td>4.199995e+01</td>\n",
       "      <td>42</td>\n",
       "    </tr>\n",
       "    <tr>\n",
       "      <th>1</th>\n",
       "      <td>365Coin</td>\n",
       "      <td>X11</td>\n",
       "      <td>True</td>\n",
       "      <td>PoW/PoS</td>\n",
       "      <td>NaN</td>\n",
       "      <td>2300000000</td>\n",
       "    </tr>\n",
       "    <tr>\n",
       "      <th>2</th>\n",
       "      <td>404Coin</td>\n",
       "      <td>Scrypt</td>\n",
       "      <td>True</td>\n",
       "      <td>PoW/PoS</td>\n",
       "      <td>1.055185e+09</td>\n",
       "      <td>532000000</td>\n",
       "    </tr>\n",
       "    <tr>\n",
       "      <th>3</th>\n",
       "      <td>SixEleven</td>\n",
       "      <td>SHA-256</td>\n",
       "      <td>True</td>\n",
       "      <td>PoW</td>\n",
       "      <td>NaN</td>\n",
       "      <td>611000</td>\n",
       "    </tr>\n",
       "    <tr>\n",
       "      <th>4</th>\n",
       "      <td>808</td>\n",
       "      <td>SHA-256</td>\n",
       "      <td>True</td>\n",
       "      <td>PoW/PoS</td>\n",
       "      <td>0.000000e+00</td>\n",
       "      <td>0</td>\n",
       "    </tr>\n",
       "    <tr>\n",
       "      <th>...</th>\n",
       "      <td>...</td>\n",
       "      <td>...</td>\n",
       "      <td>...</td>\n",
       "      <td>...</td>\n",
       "      <td>...</td>\n",
       "      <td>...</td>\n",
       "    </tr>\n",
       "    <tr>\n",
       "      <th>1243</th>\n",
       "      <td>Super Zero</td>\n",
       "      <td>Ethash</td>\n",
       "      <td>True</td>\n",
       "      <td>PoW</td>\n",
       "      <td>NaN</td>\n",
       "      <td>1000000000</td>\n",
       "    </tr>\n",
       "    <tr>\n",
       "      <th>1244</th>\n",
       "      <td>UOS</td>\n",
       "      <td>SHA-256</td>\n",
       "      <td>True</td>\n",
       "      <td>DPoI</td>\n",
       "      <td>NaN</td>\n",
       "      <td>1000000000</td>\n",
       "    </tr>\n",
       "    <tr>\n",
       "      <th>1245</th>\n",
       "      <td>Beldex</td>\n",
       "      <td>CryptoNight</td>\n",
       "      <td>True</td>\n",
       "      <td>PoW</td>\n",
       "      <td>9.802226e+08</td>\n",
       "      <td>1400222610</td>\n",
       "    </tr>\n",
       "    <tr>\n",
       "      <th>1246</th>\n",
       "      <td>Horizen</td>\n",
       "      <td>Equihash</td>\n",
       "      <td>True</td>\n",
       "      <td>PoW</td>\n",
       "      <td>7.296538e+06</td>\n",
       "      <td>21000000</td>\n",
       "    </tr>\n",
       "    <tr>\n",
       "      <th>1247</th>\n",
       "      <td>BitcoinPlus</td>\n",
       "      <td>Scrypt</td>\n",
       "      <td>True</td>\n",
       "      <td>PoS</td>\n",
       "      <td>1.283270e+05</td>\n",
       "      <td>1000000</td>\n",
       "    </tr>\n",
       "  </tbody>\n",
       "</table>\n",
       "<p>1144 rows × 6 columns</p>\n",
       "</div>"
      ],
      "text/plain": [
       "         CoinName    Algorithm  IsTrading ProofType  TotalCoinsMined  \\\n",
       "0         42 Coin       Scrypt       True   PoW/PoS     4.199995e+01   \n",
       "1         365Coin          X11       True   PoW/PoS              NaN   \n",
       "2         404Coin       Scrypt       True   PoW/PoS     1.055185e+09   \n",
       "3       SixEleven      SHA-256       True       PoW              NaN   \n",
       "4             808      SHA-256       True   PoW/PoS     0.000000e+00   \n",
       "...           ...          ...        ...       ...              ...   \n",
       "1243   Super Zero       Ethash       True       PoW              NaN   \n",
       "1244          UOS      SHA-256       True      DPoI              NaN   \n",
       "1245       Beldex  CryptoNight       True       PoW     9.802226e+08   \n",
       "1246      Horizen     Equihash       True       PoW     7.296538e+06   \n",
       "1247  BitcoinPlus       Scrypt       True       PoS     1.283270e+05   \n",
       "\n",
       "     TotalCoinSupply  \n",
       "0                 42  \n",
       "1         2300000000  \n",
       "2          532000000  \n",
       "3             611000  \n",
       "4                  0  \n",
       "...              ...  \n",
       "1243      1000000000  \n",
       "1244      1000000000  \n",
       "1245      1400222610  \n",
       "1246        21000000  \n",
       "1247         1000000  \n",
       "\n",
       "[1144 rows x 6 columns]"
      ]
     },
     "execution_count": 7,
     "metadata": {},
     "output_type": "execute_result"
    }
   ],
   "source": [
    "# Keep only cryptocurrencies that are trading\n",
    "slim_crypto_df = slim_crypto_df.loc[slim_crypto_df['IsTrading'] == True]\n",
    "slim_crypto_df"
   ]
  },
  {
   "cell_type": "code",
   "execution_count": 8,
   "metadata": {},
   "outputs": [
    {
     "data": {
      "text/html": [
       "<div>\n",
       "<style scoped>\n",
       "    .dataframe tbody tr th:only-of-type {\n",
       "        vertical-align: middle;\n",
       "    }\n",
       "\n",
       "    .dataframe tbody tr th {\n",
       "        vertical-align: top;\n",
       "    }\n",
       "\n",
       "    .dataframe thead th {\n",
       "        text-align: right;\n",
       "    }\n",
       "</style>\n",
       "<table border=\"1\" class=\"dataframe\">\n",
       "  <thead>\n",
       "    <tr style=\"text-align: right;\">\n",
       "      <th></th>\n",
       "      <th>CoinName</th>\n",
       "      <th>Algorithm</th>\n",
       "      <th>IsTrading</th>\n",
       "      <th>ProofType</th>\n",
       "      <th>TotalCoinsMined</th>\n",
       "      <th>TotalCoinSupply</th>\n",
       "    </tr>\n",
       "  </thead>\n",
       "  <tbody>\n",
       "    <tr>\n",
       "      <th>0</th>\n",
       "      <td>42 Coin</td>\n",
       "      <td>Scrypt</td>\n",
       "      <td>True</td>\n",
       "      <td>PoW/PoS</td>\n",
       "      <td>4.199995e+01</td>\n",
       "      <td>42</td>\n",
       "    </tr>\n",
       "    <tr>\n",
       "      <th>1</th>\n",
       "      <td>365Coin</td>\n",
       "      <td>X11</td>\n",
       "      <td>True</td>\n",
       "      <td>PoW/PoS</td>\n",
       "      <td>NaN</td>\n",
       "      <td>2300000000</td>\n",
       "    </tr>\n",
       "    <tr>\n",
       "      <th>2</th>\n",
       "      <td>404Coin</td>\n",
       "      <td>Scrypt</td>\n",
       "      <td>True</td>\n",
       "      <td>PoW/PoS</td>\n",
       "      <td>1.055185e+09</td>\n",
       "      <td>532000000</td>\n",
       "    </tr>\n",
       "    <tr>\n",
       "      <th>3</th>\n",
       "      <td>SixEleven</td>\n",
       "      <td>SHA-256</td>\n",
       "      <td>True</td>\n",
       "      <td>PoW</td>\n",
       "      <td>NaN</td>\n",
       "      <td>611000</td>\n",
       "    </tr>\n",
       "    <tr>\n",
       "      <th>4</th>\n",
       "      <td>808</td>\n",
       "      <td>SHA-256</td>\n",
       "      <td>True</td>\n",
       "      <td>PoW/PoS</td>\n",
       "      <td>0.000000e+00</td>\n",
       "      <td>0</td>\n",
       "    </tr>\n",
       "    <tr>\n",
       "      <th>...</th>\n",
       "      <td>...</td>\n",
       "      <td>...</td>\n",
       "      <td>...</td>\n",
       "      <td>...</td>\n",
       "      <td>...</td>\n",
       "      <td>...</td>\n",
       "    </tr>\n",
       "    <tr>\n",
       "      <th>1243</th>\n",
       "      <td>Super Zero</td>\n",
       "      <td>Ethash</td>\n",
       "      <td>True</td>\n",
       "      <td>PoW</td>\n",
       "      <td>NaN</td>\n",
       "      <td>1000000000</td>\n",
       "    </tr>\n",
       "    <tr>\n",
       "      <th>1244</th>\n",
       "      <td>UOS</td>\n",
       "      <td>SHA-256</td>\n",
       "      <td>True</td>\n",
       "      <td>DPoI</td>\n",
       "      <td>NaN</td>\n",
       "      <td>1000000000</td>\n",
       "    </tr>\n",
       "    <tr>\n",
       "      <th>1245</th>\n",
       "      <td>Beldex</td>\n",
       "      <td>CryptoNight</td>\n",
       "      <td>True</td>\n",
       "      <td>PoW</td>\n",
       "      <td>9.802226e+08</td>\n",
       "      <td>1400222610</td>\n",
       "    </tr>\n",
       "    <tr>\n",
       "      <th>1246</th>\n",
       "      <td>Horizen</td>\n",
       "      <td>Equihash</td>\n",
       "      <td>True</td>\n",
       "      <td>PoW</td>\n",
       "      <td>7.296538e+06</td>\n",
       "      <td>21000000</td>\n",
       "    </tr>\n",
       "    <tr>\n",
       "      <th>1247</th>\n",
       "      <td>BitcoinPlus</td>\n",
       "      <td>Scrypt</td>\n",
       "      <td>True</td>\n",
       "      <td>PoS</td>\n",
       "      <td>1.283270e+05</td>\n",
       "      <td>1000000</td>\n",
       "    </tr>\n",
       "  </tbody>\n",
       "</table>\n",
       "<p>1144 rows × 6 columns</p>\n",
       "</div>"
      ],
      "text/plain": [
       "         CoinName    Algorithm  IsTrading ProofType  TotalCoinsMined  \\\n",
       "0         42 Coin       Scrypt       True   PoW/PoS     4.199995e+01   \n",
       "1         365Coin          X11       True   PoW/PoS              NaN   \n",
       "2         404Coin       Scrypt       True   PoW/PoS     1.055185e+09   \n",
       "3       SixEleven      SHA-256       True       PoW              NaN   \n",
       "4             808      SHA-256       True   PoW/PoS     0.000000e+00   \n",
       "...           ...          ...        ...       ...              ...   \n",
       "1243   Super Zero       Ethash       True       PoW              NaN   \n",
       "1244          UOS      SHA-256       True      DPoI              NaN   \n",
       "1245       Beldex  CryptoNight       True       PoW     9.802226e+08   \n",
       "1246      Horizen     Equihash       True       PoW     7.296538e+06   \n",
       "1247  BitcoinPlus       Scrypt       True       PoS     1.283270e+05   \n",
       "\n",
       "     TotalCoinSupply  \n",
       "0                 42  \n",
       "1         2300000000  \n",
       "2          532000000  \n",
       "3             611000  \n",
       "4                  0  \n",
       "...              ...  \n",
       "1243      1000000000  \n",
       "1244      1000000000  \n",
       "1245      1400222610  \n",
       "1246        21000000  \n",
       "1247         1000000  \n",
       "\n",
       "[1144 rows x 6 columns]"
      ]
     },
     "execution_count": 8,
     "metadata": {},
     "output_type": "execute_result"
    }
   ],
   "source": [
    "# Keep only cryptocurrencies with a working algorithm\n",
    "slim_crypto_df = slim_crypto_df.loc[slim_crypto_df['Algorithm'] != 'N/A']\n",
    "slim_crypto_df"
   ]
  },
  {
   "cell_type": "code",
   "execution_count": 9,
   "metadata": {},
   "outputs": [
    {
     "data": {
      "text/html": [
       "<div>\n",
       "<style scoped>\n",
       "    .dataframe tbody tr th:only-of-type {\n",
       "        vertical-align: middle;\n",
       "    }\n",
       "\n",
       "    .dataframe tbody tr th {\n",
       "        vertical-align: top;\n",
       "    }\n",
       "\n",
       "    .dataframe thead th {\n",
       "        text-align: right;\n",
       "    }\n",
       "</style>\n",
       "<table border=\"1\" class=\"dataframe\">\n",
       "  <thead>\n",
       "    <tr style=\"text-align: right;\">\n",
       "      <th></th>\n",
       "      <th>CoinName</th>\n",
       "      <th>Algorithm</th>\n",
       "      <th>ProofType</th>\n",
       "      <th>TotalCoinsMined</th>\n",
       "      <th>TotalCoinSupply</th>\n",
       "    </tr>\n",
       "  </thead>\n",
       "  <tbody>\n",
       "    <tr>\n",
       "      <th>0</th>\n",
       "      <td>42 Coin</td>\n",
       "      <td>Scrypt</td>\n",
       "      <td>PoW/PoS</td>\n",
       "      <td>4.199995e+01</td>\n",
       "      <td>42</td>\n",
       "    </tr>\n",
       "    <tr>\n",
       "      <th>1</th>\n",
       "      <td>365Coin</td>\n",
       "      <td>X11</td>\n",
       "      <td>PoW/PoS</td>\n",
       "      <td>NaN</td>\n",
       "      <td>2300000000</td>\n",
       "    </tr>\n",
       "    <tr>\n",
       "      <th>2</th>\n",
       "      <td>404Coin</td>\n",
       "      <td>Scrypt</td>\n",
       "      <td>PoW/PoS</td>\n",
       "      <td>1.055185e+09</td>\n",
       "      <td>532000000</td>\n",
       "    </tr>\n",
       "    <tr>\n",
       "      <th>3</th>\n",
       "      <td>SixEleven</td>\n",
       "      <td>SHA-256</td>\n",
       "      <td>PoW</td>\n",
       "      <td>NaN</td>\n",
       "      <td>611000</td>\n",
       "    </tr>\n",
       "    <tr>\n",
       "      <th>4</th>\n",
       "      <td>808</td>\n",
       "      <td>SHA-256</td>\n",
       "      <td>PoW/PoS</td>\n",
       "      <td>0.000000e+00</td>\n",
       "      <td>0</td>\n",
       "    </tr>\n",
       "    <tr>\n",
       "      <th>...</th>\n",
       "      <td>...</td>\n",
       "      <td>...</td>\n",
       "      <td>...</td>\n",
       "      <td>...</td>\n",
       "      <td>...</td>\n",
       "    </tr>\n",
       "    <tr>\n",
       "      <th>1243</th>\n",
       "      <td>Super Zero</td>\n",
       "      <td>Ethash</td>\n",
       "      <td>PoW</td>\n",
       "      <td>NaN</td>\n",
       "      <td>1000000000</td>\n",
       "    </tr>\n",
       "    <tr>\n",
       "      <th>1244</th>\n",
       "      <td>UOS</td>\n",
       "      <td>SHA-256</td>\n",
       "      <td>DPoI</td>\n",
       "      <td>NaN</td>\n",
       "      <td>1000000000</td>\n",
       "    </tr>\n",
       "    <tr>\n",
       "      <th>1245</th>\n",
       "      <td>Beldex</td>\n",
       "      <td>CryptoNight</td>\n",
       "      <td>PoW</td>\n",
       "      <td>9.802226e+08</td>\n",
       "      <td>1400222610</td>\n",
       "    </tr>\n",
       "    <tr>\n",
       "      <th>1246</th>\n",
       "      <td>Horizen</td>\n",
       "      <td>Equihash</td>\n",
       "      <td>PoW</td>\n",
       "      <td>7.296538e+06</td>\n",
       "      <td>21000000</td>\n",
       "    </tr>\n",
       "    <tr>\n",
       "      <th>1247</th>\n",
       "      <td>BitcoinPlus</td>\n",
       "      <td>Scrypt</td>\n",
       "      <td>PoS</td>\n",
       "      <td>1.283270e+05</td>\n",
       "      <td>1000000</td>\n",
       "    </tr>\n",
       "  </tbody>\n",
       "</table>\n",
       "<p>1144 rows × 5 columns</p>\n",
       "</div>"
      ],
      "text/plain": [
       "         CoinName    Algorithm ProofType  TotalCoinsMined TotalCoinSupply\n",
       "0         42 Coin       Scrypt   PoW/PoS     4.199995e+01              42\n",
       "1         365Coin          X11   PoW/PoS              NaN      2300000000\n",
       "2         404Coin       Scrypt   PoW/PoS     1.055185e+09       532000000\n",
       "3       SixEleven      SHA-256       PoW              NaN          611000\n",
       "4             808      SHA-256   PoW/PoS     0.000000e+00               0\n",
       "...           ...          ...       ...              ...             ...\n",
       "1243   Super Zero       Ethash       PoW              NaN      1000000000\n",
       "1244          UOS      SHA-256      DPoI              NaN      1000000000\n",
       "1245       Beldex  CryptoNight       PoW     9.802226e+08      1400222610\n",
       "1246      Horizen     Equihash       PoW     7.296538e+06        21000000\n",
       "1247  BitcoinPlus       Scrypt       PoS     1.283270e+05         1000000\n",
       "\n",
       "[1144 rows x 5 columns]"
      ]
     },
     "execution_count": 9,
     "metadata": {},
     "output_type": "execute_result"
    }
   ],
   "source": [
    "# Remove the \"IsTrading\" column\n",
    "slim_crypto_df = slim_crypto_df.drop(columns='IsTrading')\n",
    "slim_crypto_df"
   ]
  },
  {
   "cell_type": "code",
   "execution_count": 10,
   "metadata": {},
   "outputs": [
    {
     "data": {
      "text/html": [
       "<div>\n",
       "<style scoped>\n",
       "    .dataframe tbody tr th:only-of-type {\n",
       "        vertical-align: middle;\n",
       "    }\n",
       "\n",
       "    .dataframe tbody tr th {\n",
       "        vertical-align: top;\n",
       "    }\n",
       "\n",
       "    .dataframe thead th {\n",
       "        text-align: right;\n",
       "    }\n",
       "</style>\n",
       "<table border=\"1\" class=\"dataframe\">\n",
       "  <thead>\n",
       "    <tr style=\"text-align: right;\">\n",
       "      <th></th>\n",
       "      <th>CoinName</th>\n",
       "      <th>Algorithm</th>\n",
       "      <th>ProofType</th>\n",
       "      <th>TotalCoinsMined</th>\n",
       "      <th>TotalCoinSupply</th>\n",
       "    </tr>\n",
       "  </thead>\n",
       "  <tbody>\n",
       "    <tr>\n",
       "      <th>0</th>\n",
       "      <td>42 Coin</td>\n",
       "      <td>Scrypt</td>\n",
       "      <td>PoW/PoS</td>\n",
       "      <td>4.199995e+01</td>\n",
       "      <td>42</td>\n",
       "    </tr>\n",
       "    <tr>\n",
       "      <th>2</th>\n",
       "      <td>404Coin</td>\n",
       "      <td>Scrypt</td>\n",
       "      <td>PoW/PoS</td>\n",
       "      <td>1.055185e+09</td>\n",
       "      <td>532000000</td>\n",
       "    </tr>\n",
       "    <tr>\n",
       "      <th>4</th>\n",
       "      <td>808</td>\n",
       "      <td>SHA-256</td>\n",
       "      <td>PoW/PoS</td>\n",
       "      <td>0.000000e+00</td>\n",
       "      <td>0</td>\n",
       "    </tr>\n",
       "    <tr>\n",
       "      <th>5</th>\n",
       "      <td>EliteCoin</td>\n",
       "      <td>X13</td>\n",
       "      <td>PoW/PoS</td>\n",
       "      <td>2.927942e+10</td>\n",
       "      <td>314159265359</td>\n",
       "    </tr>\n",
       "    <tr>\n",
       "      <th>7</th>\n",
       "      <td>Bitcoin</td>\n",
       "      <td>SHA-256</td>\n",
       "      <td>PoW</td>\n",
       "      <td>1.792718e+07</td>\n",
       "      <td>21000000</td>\n",
       "    </tr>\n",
       "    <tr>\n",
       "      <th>...</th>\n",
       "      <td>...</td>\n",
       "      <td>...</td>\n",
       "      <td>...</td>\n",
       "      <td>...</td>\n",
       "      <td>...</td>\n",
       "    </tr>\n",
       "    <tr>\n",
       "      <th>1238</th>\n",
       "      <td>ZEPHYR</td>\n",
       "      <td>SHA-256</td>\n",
       "      <td>DPoS</td>\n",
       "      <td>2.000000e+09</td>\n",
       "      <td>2000000000</td>\n",
       "    </tr>\n",
       "    <tr>\n",
       "      <th>1242</th>\n",
       "      <td>Gapcoin</td>\n",
       "      <td>Scrypt</td>\n",
       "      <td>PoW/PoS</td>\n",
       "      <td>1.493105e+07</td>\n",
       "      <td>250000000</td>\n",
       "    </tr>\n",
       "    <tr>\n",
       "      <th>1245</th>\n",
       "      <td>Beldex</td>\n",
       "      <td>CryptoNight</td>\n",
       "      <td>PoW</td>\n",
       "      <td>9.802226e+08</td>\n",
       "      <td>1400222610</td>\n",
       "    </tr>\n",
       "    <tr>\n",
       "      <th>1246</th>\n",
       "      <td>Horizen</td>\n",
       "      <td>Equihash</td>\n",
       "      <td>PoW</td>\n",
       "      <td>7.296538e+06</td>\n",
       "      <td>21000000</td>\n",
       "    </tr>\n",
       "    <tr>\n",
       "      <th>1247</th>\n",
       "      <td>BitcoinPlus</td>\n",
       "      <td>Scrypt</td>\n",
       "      <td>PoS</td>\n",
       "      <td>1.283270e+05</td>\n",
       "      <td>1000000</td>\n",
       "    </tr>\n",
       "  </tbody>\n",
       "</table>\n",
       "<p>685 rows × 5 columns</p>\n",
       "</div>"
      ],
      "text/plain": [
       "         CoinName    Algorithm ProofType  TotalCoinsMined TotalCoinSupply\n",
       "0         42 Coin       Scrypt   PoW/PoS     4.199995e+01              42\n",
       "2         404Coin       Scrypt   PoW/PoS     1.055185e+09       532000000\n",
       "4             808      SHA-256   PoW/PoS     0.000000e+00               0\n",
       "5       EliteCoin          X13   PoW/PoS     2.927942e+10    314159265359\n",
       "7         Bitcoin      SHA-256       PoW     1.792718e+07        21000000\n",
       "...           ...          ...       ...              ...             ...\n",
       "1238       ZEPHYR      SHA-256      DPoS     2.000000e+09      2000000000\n",
       "1242      Gapcoin       Scrypt   PoW/PoS     1.493105e+07       250000000\n",
       "1245       Beldex  CryptoNight       PoW     9.802226e+08      1400222610\n",
       "1246      Horizen     Equihash       PoW     7.296538e+06        21000000\n",
       "1247  BitcoinPlus       Scrypt       PoS     1.283270e+05         1000000\n",
       "\n",
       "[685 rows x 5 columns]"
      ]
     },
     "execution_count": 10,
     "metadata": {},
     "output_type": "execute_result"
    }
   ],
   "source": [
    "# Remove rows with at least 1 null value\n",
    "slim_crypto_df = slim_crypto_df.dropna()\n",
    "slim_crypto_df"
   ]
  },
  {
   "cell_type": "code",
   "execution_count": 11,
   "metadata": {},
   "outputs": [
    {
     "data": {
      "text/html": [
       "<div>\n",
       "<style scoped>\n",
       "    .dataframe tbody tr th:only-of-type {\n",
       "        vertical-align: middle;\n",
       "    }\n",
       "\n",
       "    .dataframe tbody tr th {\n",
       "        vertical-align: top;\n",
       "    }\n",
       "\n",
       "    .dataframe thead th {\n",
       "        text-align: right;\n",
       "    }\n",
       "</style>\n",
       "<table border=\"1\" class=\"dataframe\">\n",
       "  <thead>\n",
       "    <tr style=\"text-align: right;\">\n",
       "      <th></th>\n",
       "      <th>CoinName</th>\n",
       "      <th>Algorithm</th>\n",
       "      <th>ProofType</th>\n",
       "      <th>TotalCoinsMined</th>\n",
       "      <th>TotalCoinSupply</th>\n",
       "    </tr>\n",
       "  </thead>\n",
       "  <tbody>\n",
       "    <tr>\n",
       "      <th>0</th>\n",
       "      <td>42 Coin</td>\n",
       "      <td>Scrypt</td>\n",
       "      <td>PoW/PoS</td>\n",
       "      <td>4.199995e+01</td>\n",
       "      <td>42</td>\n",
       "    </tr>\n",
       "    <tr>\n",
       "      <th>2</th>\n",
       "      <td>404Coin</td>\n",
       "      <td>Scrypt</td>\n",
       "      <td>PoW/PoS</td>\n",
       "      <td>1.055185e+09</td>\n",
       "      <td>532000000</td>\n",
       "    </tr>\n",
       "    <tr>\n",
       "      <th>5</th>\n",
       "      <td>EliteCoin</td>\n",
       "      <td>X13</td>\n",
       "      <td>PoW/PoS</td>\n",
       "      <td>2.927942e+10</td>\n",
       "      <td>314159265359</td>\n",
       "    </tr>\n",
       "    <tr>\n",
       "      <th>7</th>\n",
       "      <td>Bitcoin</td>\n",
       "      <td>SHA-256</td>\n",
       "      <td>PoW</td>\n",
       "      <td>1.792718e+07</td>\n",
       "      <td>21000000</td>\n",
       "    </tr>\n",
       "    <tr>\n",
       "      <th>8</th>\n",
       "      <td>Ethereum</td>\n",
       "      <td>Ethash</td>\n",
       "      <td>PoW</td>\n",
       "      <td>1.076842e+08</td>\n",
       "      <td>0</td>\n",
       "    </tr>\n",
       "    <tr>\n",
       "      <th>...</th>\n",
       "      <td>...</td>\n",
       "      <td>...</td>\n",
       "      <td>...</td>\n",
       "      <td>...</td>\n",
       "      <td>...</td>\n",
       "    </tr>\n",
       "    <tr>\n",
       "      <th>1238</th>\n",
       "      <td>ZEPHYR</td>\n",
       "      <td>SHA-256</td>\n",
       "      <td>DPoS</td>\n",
       "      <td>2.000000e+09</td>\n",
       "      <td>2000000000</td>\n",
       "    </tr>\n",
       "    <tr>\n",
       "      <th>1242</th>\n",
       "      <td>Gapcoin</td>\n",
       "      <td>Scrypt</td>\n",
       "      <td>PoW/PoS</td>\n",
       "      <td>1.493105e+07</td>\n",
       "      <td>250000000</td>\n",
       "    </tr>\n",
       "    <tr>\n",
       "      <th>1245</th>\n",
       "      <td>Beldex</td>\n",
       "      <td>CryptoNight</td>\n",
       "      <td>PoW</td>\n",
       "      <td>9.802226e+08</td>\n",
       "      <td>1400222610</td>\n",
       "    </tr>\n",
       "    <tr>\n",
       "      <th>1246</th>\n",
       "      <td>Horizen</td>\n",
       "      <td>Equihash</td>\n",
       "      <td>PoW</td>\n",
       "      <td>7.296538e+06</td>\n",
       "      <td>21000000</td>\n",
       "    </tr>\n",
       "    <tr>\n",
       "      <th>1247</th>\n",
       "      <td>BitcoinPlus</td>\n",
       "      <td>Scrypt</td>\n",
       "      <td>PoS</td>\n",
       "      <td>1.283270e+05</td>\n",
       "      <td>1000000</td>\n",
       "    </tr>\n",
       "  </tbody>\n",
       "</table>\n",
       "<p>533 rows × 5 columns</p>\n",
       "</div>"
      ],
      "text/plain": [
       "         CoinName    Algorithm ProofType  TotalCoinsMined TotalCoinSupply\n",
       "0         42 Coin       Scrypt   PoW/PoS     4.199995e+01              42\n",
       "2         404Coin       Scrypt   PoW/PoS     1.055185e+09       532000000\n",
       "5       EliteCoin          X13   PoW/PoS     2.927942e+10    314159265359\n",
       "7         Bitcoin      SHA-256       PoW     1.792718e+07        21000000\n",
       "8        Ethereum       Ethash       PoW     1.076842e+08               0\n",
       "...           ...          ...       ...              ...             ...\n",
       "1238       ZEPHYR      SHA-256      DPoS     2.000000e+09      2000000000\n",
       "1242      Gapcoin       Scrypt   PoW/PoS     1.493105e+07       250000000\n",
       "1245       Beldex  CryptoNight       PoW     9.802226e+08      1400222610\n",
       "1246      Horizen     Equihash       PoW     7.296538e+06        21000000\n",
       "1247  BitcoinPlus       Scrypt       PoS     1.283270e+05         1000000\n",
       "\n",
       "[533 rows x 5 columns]"
      ]
     },
     "execution_count": 11,
     "metadata": {},
     "output_type": "execute_result"
    }
   ],
   "source": [
    "# Remove rows with cryptocurrencies having no coins mined\n",
    "slim_crypto_df = slim_crypto_df.loc[slim_crypto_df['TotalCoinsMined'] != 0]\n",
    "slim_crypto_df"
   ]
  },
  {
   "cell_type": "code",
   "execution_count": 12,
   "metadata": {},
   "outputs": [
    {
     "data": {
      "text/html": [
       "<div>\n",
       "<style scoped>\n",
       "    .dataframe tbody tr th:only-of-type {\n",
       "        vertical-align: middle;\n",
       "    }\n",
       "\n",
       "    .dataframe tbody tr th {\n",
       "        vertical-align: top;\n",
       "    }\n",
       "\n",
       "    .dataframe thead th {\n",
       "        text-align: right;\n",
       "    }\n",
       "</style>\n",
       "<table border=\"1\" class=\"dataframe\">\n",
       "  <thead>\n",
       "    <tr style=\"text-align: right;\">\n",
       "      <th></th>\n",
       "      <th>CoinName</th>\n",
       "      <th>Algorithm</th>\n",
       "      <th>ProofType</th>\n",
       "      <th>TotalCoinsMined</th>\n",
       "      <th>TotalCoinSupply</th>\n",
       "    </tr>\n",
       "  </thead>\n",
       "  <tbody>\n",
       "    <tr>\n",
       "      <th>0</th>\n",
       "      <td>42 Coin</td>\n",
       "      <td>Scrypt</td>\n",
       "      <td>PoW/PoS</td>\n",
       "      <td>4.199995e+01</td>\n",
       "      <td>42</td>\n",
       "    </tr>\n",
       "    <tr>\n",
       "      <th>2</th>\n",
       "      <td>404Coin</td>\n",
       "      <td>Scrypt</td>\n",
       "      <td>PoW/PoS</td>\n",
       "      <td>1.055185e+09</td>\n",
       "      <td>532000000</td>\n",
       "    </tr>\n",
       "    <tr>\n",
       "      <th>5</th>\n",
       "      <td>EliteCoin</td>\n",
       "      <td>X13</td>\n",
       "      <td>PoW/PoS</td>\n",
       "      <td>2.927942e+10</td>\n",
       "      <td>314159265359</td>\n",
       "    </tr>\n",
       "    <tr>\n",
       "      <th>7</th>\n",
       "      <td>Bitcoin</td>\n",
       "      <td>SHA-256</td>\n",
       "      <td>PoW</td>\n",
       "      <td>1.792718e+07</td>\n",
       "      <td>21000000</td>\n",
       "    </tr>\n",
       "    <tr>\n",
       "      <th>8</th>\n",
       "      <td>Ethereum</td>\n",
       "      <td>Ethash</td>\n",
       "      <td>PoW</td>\n",
       "      <td>1.076842e+08</td>\n",
       "      <td>0</td>\n",
       "    </tr>\n",
       "    <tr>\n",
       "      <th>...</th>\n",
       "      <td>...</td>\n",
       "      <td>...</td>\n",
       "      <td>...</td>\n",
       "      <td>...</td>\n",
       "      <td>...</td>\n",
       "    </tr>\n",
       "    <tr>\n",
       "      <th>1238</th>\n",
       "      <td>ZEPHYR</td>\n",
       "      <td>SHA-256</td>\n",
       "      <td>DPoS</td>\n",
       "      <td>2.000000e+09</td>\n",
       "      <td>2000000000</td>\n",
       "    </tr>\n",
       "    <tr>\n",
       "      <th>1242</th>\n",
       "      <td>Gapcoin</td>\n",
       "      <td>Scrypt</td>\n",
       "      <td>PoW/PoS</td>\n",
       "      <td>1.493105e+07</td>\n",
       "      <td>250000000</td>\n",
       "    </tr>\n",
       "    <tr>\n",
       "      <th>1245</th>\n",
       "      <td>Beldex</td>\n",
       "      <td>CryptoNight</td>\n",
       "      <td>PoW</td>\n",
       "      <td>9.802226e+08</td>\n",
       "      <td>1400222610</td>\n",
       "    </tr>\n",
       "    <tr>\n",
       "      <th>1246</th>\n",
       "      <td>Horizen</td>\n",
       "      <td>Equihash</td>\n",
       "      <td>PoW</td>\n",
       "      <td>7.296538e+06</td>\n",
       "      <td>21000000</td>\n",
       "    </tr>\n",
       "    <tr>\n",
       "      <th>1247</th>\n",
       "      <td>BitcoinPlus</td>\n",
       "      <td>Scrypt</td>\n",
       "      <td>PoS</td>\n",
       "      <td>1.283270e+05</td>\n",
       "      <td>1000000</td>\n",
       "    </tr>\n",
       "  </tbody>\n",
       "</table>\n",
       "<p>533 rows × 5 columns</p>\n",
       "</div>"
      ],
      "text/plain": [
       "         CoinName    Algorithm ProofType  TotalCoinsMined TotalCoinSupply\n",
       "0         42 Coin       Scrypt   PoW/PoS     4.199995e+01              42\n",
       "2         404Coin       Scrypt   PoW/PoS     1.055185e+09       532000000\n",
       "5       EliteCoin          X13   PoW/PoS     2.927942e+10    314159265359\n",
       "7         Bitcoin      SHA-256       PoW     1.792718e+07        21000000\n",
       "8        Ethereum       Ethash       PoW     1.076842e+08               0\n",
       "...           ...          ...       ...              ...             ...\n",
       "1238       ZEPHYR      SHA-256      DPoS     2.000000e+09      2000000000\n",
       "1242      Gapcoin       Scrypt   PoW/PoS     1.493105e+07       250000000\n",
       "1245       Beldex  CryptoNight       PoW     9.802226e+08      1400222610\n",
       "1246      Horizen     Equihash       PoW     7.296538e+06        21000000\n",
       "1247  BitcoinPlus       Scrypt       PoS     1.283270e+05         1000000\n",
       "\n",
       "[533 rows x 5 columns]"
      ]
     },
     "execution_count": 12,
     "metadata": {},
     "output_type": "execute_result"
    }
   ],
   "source": [
    "# Drop rows where there are 'N/A' text values\n",
    "slim_crypto_df = slim_crypto_df.loc[slim_crypto_df['TotalCoinSupply'] != 'N/A']\n",
    "slim_crypto_df = slim_crypto_df.loc[slim_crypto_df['ProofType'] != 'N/A']\n",
    "slim_crypto_df"
   ]
  },
  {
   "cell_type": "code",
   "execution_count": 13,
   "metadata": {},
   "outputs": [
    {
     "data": {
      "text/html": [
       "<div>\n",
       "<style scoped>\n",
       "    .dataframe tbody tr th:only-of-type {\n",
       "        vertical-align: middle;\n",
       "    }\n",
       "\n",
       "    .dataframe tbody tr th {\n",
       "        vertical-align: top;\n",
       "    }\n",
       "\n",
       "    .dataframe thead th {\n",
       "        text-align: right;\n",
       "    }\n",
       "</style>\n",
       "<table border=\"1\" class=\"dataframe\">\n",
       "  <thead>\n",
       "    <tr style=\"text-align: right;\">\n",
       "      <th></th>\n",
       "      <th>CoinName</th>\n",
       "      <th>Algorithm</th>\n",
       "      <th>ProofType</th>\n",
       "      <th>TotalCoinsMined</th>\n",
       "      <th>TotalCoinSupply</th>\n",
       "    </tr>\n",
       "  </thead>\n",
       "  <tbody>\n",
       "    <tr>\n",
       "      <th>0</th>\n",
       "      <td>42 Coin</td>\n",
       "      <td>Scrypt</td>\n",
       "      <td>PoW/PoS</td>\n",
       "      <td>4.199995e+01</td>\n",
       "      <td>42</td>\n",
       "    </tr>\n",
       "    <tr>\n",
       "      <th>2</th>\n",
       "      <td>404Coin</td>\n",
       "      <td>Scrypt</td>\n",
       "      <td>PoW/PoS</td>\n",
       "      <td>1.055185e+09</td>\n",
       "      <td>532000000</td>\n",
       "    </tr>\n",
       "    <tr>\n",
       "      <th>5</th>\n",
       "      <td>EliteCoin</td>\n",
       "      <td>X13</td>\n",
       "      <td>PoW/PoS</td>\n",
       "      <td>2.927942e+10</td>\n",
       "      <td>314159265359</td>\n",
       "    </tr>\n",
       "    <tr>\n",
       "      <th>7</th>\n",
       "      <td>Bitcoin</td>\n",
       "      <td>SHA-256</td>\n",
       "      <td>PoW</td>\n",
       "      <td>1.792718e+07</td>\n",
       "      <td>21000000</td>\n",
       "    </tr>\n",
       "    <tr>\n",
       "      <th>8</th>\n",
       "      <td>Ethereum</td>\n",
       "      <td>Ethash</td>\n",
       "      <td>PoW</td>\n",
       "      <td>1.076842e+08</td>\n",
       "      <td>0</td>\n",
       "    </tr>\n",
       "    <tr>\n",
       "      <th>...</th>\n",
       "      <td>...</td>\n",
       "      <td>...</td>\n",
       "      <td>...</td>\n",
       "      <td>...</td>\n",
       "      <td>...</td>\n",
       "    </tr>\n",
       "    <tr>\n",
       "      <th>1238</th>\n",
       "      <td>ZEPHYR</td>\n",
       "      <td>SHA-256</td>\n",
       "      <td>DPoS</td>\n",
       "      <td>2.000000e+09</td>\n",
       "      <td>2000000000</td>\n",
       "    </tr>\n",
       "    <tr>\n",
       "      <th>1242</th>\n",
       "      <td>Gapcoin</td>\n",
       "      <td>Scrypt</td>\n",
       "      <td>PoW/PoS</td>\n",
       "      <td>1.493105e+07</td>\n",
       "      <td>250000000</td>\n",
       "    </tr>\n",
       "    <tr>\n",
       "      <th>1245</th>\n",
       "      <td>Beldex</td>\n",
       "      <td>CryptoNight</td>\n",
       "      <td>PoW</td>\n",
       "      <td>9.802226e+08</td>\n",
       "      <td>1400222610</td>\n",
       "    </tr>\n",
       "    <tr>\n",
       "      <th>1246</th>\n",
       "      <td>Horizen</td>\n",
       "      <td>Equihash</td>\n",
       "      <td>PoW</td>\n",
       "      <td>7.296538e+06</td>\n",
       "      <td>21000000</td>\n",
       "    </tr>\n",
       "    <tr>\n",
       "      <th>1247</th>\n",
       "      <td>BitcoinPlus</td>\n",
       "      <td>Scrypt</td>\n",
       "      <td>PoS</td>\n",
       "      <td>1.283270e+05</td>\n",
       "      <td>1000000</td>\n",
       "    </tr>\n",
       "  </tbody>\n",
       "</table>\n",
       "<p>533 rows × 5 columns</p>\n",
       "</div>"
      ],
      "text/plain": [
       "         CoinName    Algorithm ProofType  TotalCoinsMined TotalCoinSupply\n",
       "0         42 Coin       Scrypt   PoW/PoS     4.199995e+01              42\n",
       "2         404Coin       Scrypt   PoW/PoS     1.055185e+09       532000000\n",
       "5       EliteCoin          X13   PoW/PoS     2.927942e+10    314159265359\n",
       "7         Bitcoin      SHA-256       PoW     1.792718e+07        21000000\n",
       "8        Ethereum       Ethash       PoW     1.076842e+08               0\n",
       "...           ...          ...       ...              ...             ...\n",
       "1238       ZEPHYR      SHA-256      DPoS     2.000000e+09      2000000000\n",
       "1242      Gapcoin       Scrypt   PoW/PoS     1.493105e+07       250000000\n",
       "1245       Beldex  CryptoNight       PoW     9.802226e+08      1400222610\n",
       "1246      Horizen     Equihash       PoW     7.296538e+06        21000000\n",
       "1247  BitcoinPlus       Scrypt       PoS     1.283270e+05         1000000\n",
       "\n",
       "[533 rows x 5 columns]"
      ]
     },
     "execution_count": 13,
     "metadata": {},
     "output_type": "execute_result"
    }
   ],
   "source": [
    "# Store the 'CoinName'column in its own DataFrame prior to dropping it from crypto_dfnames = slim_crypto_df\n",
    "crypto_dfnames = slim_crypto_df\n",
    "slim_crypto_df"
   ]
  },
  {
   "cell_type": "code",
   "execution_count": 14,
   "metadata": {},
   "outputs": [
    {
     "data": {
      "text/html": [
       "<div>\n",
       "<style scoped>\n",
       "    .dataframe tbody tr th:only-of-type {\n",
       "        vertical-align: middle;\n",
       "    }\n",
       "\n",
       "    .dataframe tbody tr th {\n",
       "        vertical-align: top;\n",
       "    }\n",
       "\n",
       "    .dataframe thead th {\n",
       "        text-align: right;\n",
       "    }\n",
       "</style>\n",
       "<table border=\"1\" class=\"dataframe\">\n",
       "  <thead>\n",
       "    <tr style=\"text-align: right;\">\n",
       "      <th></th>\n",
       "      <th>Algorithm</th>\n",
       "      <th>ProofType</th>\n",
       "      <th>TotalCoinsMined</th>\n",
       "      <th>TotalCoinSupply</th>\n",
       "    </tr>\n",
       "  </thead>\n",
       "  <tbody>\n",
       "    <tr>\n",
       "      <th>0</th>\n",
       "      <td>Scrypt</td>\n",
       "      <td>PoW/PoS</td>\n",
       "      <td>4.199995e+01</td>\n",
       "      <td>42</td>\n",
       "    </tr>\n",
       "    <tr>\n",
       "      <th>2</th>\n",
       "      <td>Scrypt</td>\n",
       "      <td>PoW/PoS</td>\n",
       "      <td>1.055185e+09</td>\n",
       "      <td>532000000</td>\n",
       "    </tr>\n",
       "    <tr>\n",
       "      <th>5</th>\n",
       "      <td>X13</td>\n",
       "      <td>PoW/PoS</td>\n",
       "      <td>2.927942e+10</td>\n",
       "      <td>314159265359</td>\n",
       "    </tr>\n",
       "    <tr>\n",
       "      <th>7</th>\n",
       "      <td>SHA-256</td>\n",
       "      <td>PoW</td>\n",
       "      <td>1.792718e+07</td>\n",
       "      <td>21000000</td>\n",
       "    </tr>\n",
       "    <tr>\n",
       "      <th>8</th>\n",
       "      <td>Ethash</td>\n",
       "      <td>PoW</td>\n",
       "      <td>1.076842e+08</td>\n",
       "      <td>0</td>\n",
       "    </tr>\n",
       "    <tr>\n",
       "      <th>...</th>\n",
       "      <td>...</td>\n",
       "      <td>...</td>\n",
       "      <td>...</td>\n",
       "      <td>...</td>\n",
       "    </tr>\n",
       "    <tr>\n",
       "      <th>1238</th>\n",
       "      <td>SHA-256</td>\n",
       "      <td>DPoS</td>\n",
       "      <td>2.000000e+09</td>\n",
       "      <td>2000000000</td>\n",
       "    </tr>\n",
       "    <tr>\n",
       "      <th>1242</th>\n",
       "      <td>Scrypt</td>\n",
       "      <td>PoW/PoS</td>\n",
       "      <td>1.493105e+07</td>\n",
       "      <td>250000000</td>\n",
       "    </tr>\n",
       "    <tr>\n",
       "      <th>1245</th>\n",
       "      <td>CryptoNight</td>\n",
       "      <td>PoW</td>\n",
       "      <td>9.802226e+08</td>\n",
       "      <td>1400222610</td>\n",
       "    </tr>\n",
       "    <tr>\n",
       "      <th>1246</th>\n",
       "      <td>Equihash</td>\n",
       "      <td>PoW</td>\n",
       "      <td>7.296538e+06</td>\n",
       "      <td>21000000</td>\n",
       "    </tr>\n",
       "    <tr>\n",
       "      <th>1247</th>\n",
       "      <td>Scrypt</td>\n",
       "      <td>PoS</td>\n",
       "      <td>1.283270e+05</td>\n",
       "      <td>1000000</td>\n",
       "    </tr>\n",
       "  </tbody>\n",
       "</table>\n",
       "<p>533 rows × 4 columns</p>\n",
       "</div>"
      ],
      "text/plain": [
       "        Algorithm ProofType  TotalCoinsMined TotalCoinSupply\n",
       "0          Scrypt   PoW/PoS     4.199995e+01              42\n",
       "2          Scrypt   PoW/PoS     1.055185e+09       532000000\n",
       "5             X13   PoW/PoS     2.927942e+10    314159265359\n",
       "7         SHA-256       PoW     1.792718e+07        21000000\n",
       "8          Ethash       PoW     1.076842e+08               0\n",
       "...           ...       ...              ...             ...\n",
       "1238      SHA-256      DPoS     2.000000e+09      2000000000\n",
       "1242       Scrypt   PoW/PoS     1.493105e+07       250000000\n",
       "1245  CryptoNight       PoW     9.802226e+08      1400222610\n",
       "1246     Equihash       PoW     7.296538e+06        21000000\n",
       "1247       Scrypt       PoS     1.283270e+05         1000000\n",
       "\n",
       "[533 rows x 4 columns]"
      ]
     },
     "execution_count": 14,
     "metadata": {},
     "output_type": "execute_result"
    }
   ],
   "source": [
    "# Drop the 'CoinName' column since it's not going to be used on the clustering algorithm\n",
    "slim_crypto_df = slim_crypto_df.drop(columns='CoinName')\n",
    "slim_crypto_df\n"
   ]
  },
  {
   "cell_type": "code",
   "execution_count": 15,
   "metadata": {},
   "outputs": [
    {
     "data": {
      "text/html": [
       "<div>\n",
       "<style scoped>\n",
       "    .dataframe tbody tr th:only-of-type {\n",
       "        vertical-align: middle;\n",
       "    }\n",
       "\n",
       "    .dataframe tbody tr th {\n",
       "        vertical-align: top;\n",
       "    }\n",
       "\n",
       "    .dataframe thead th {\n",
       "        text-align: right;\n",
       "    }\n",
       "</style>\n",
       "<table border=\"1\" class=\"dataframe\">\n",
       "  <thead>\n",
       "    <tr style=\"text-align: right;\">\n",
       "      <th></th>\n",
       "      <th>TotalCoinsMined</th>\n",
       "      <th>TotalCoinSupply</th>\n",
       "      <th>1GB AES Pattern Search</th>\n",
       "      <th>536</th>\n",
       "      <th>Argon2d</th>\n",
       "      <th>BLAKE256</th>\n",
       "      <th>Blake</th>\n",
       "      <th>Blake2S</th>\n",
       "      <th>Blake2b</th>\n",
       "      <th>C11</th>\n",
       "      <th>...</th>\n",
       "      <th>PoW/PoS</th>\n",
       "      <th>PoW/PoS</th>\n",
       "      <th>PoW/PoW</th>\n",
       "      <th>PoW/nPoS</th>\n",
       "      <th>Pos</th>\n",
       "      <th>Proof of Authority</th>\n",
       "      <th>Proof of Trust</th>\n",
       "      <th>TPoS</th>\n",
       "      <th>Zero-Knowledge Proof</th>\n",
       "      <th>dPoW/PoW</th>\n",
       "    </tr>\n",
       "  </thead>\n",
       "  <tbody>\n",
       "    <tr>\n",
       "      <th>0</th>\n",
       "      <td>4.199995e+01</td>\n",
       "      <td>42</td>\n",
       "      <td>0</td>\n",
       "      <td>0</td>\n",
       "      <td>0</td>\n",
       "      <td>0</td>\n",
       "      <td>0</td>\n",
       "      <td>0</td>\n",
       "      <td>0</td>\n",
       "      <td>0</td>\n",
       "      <td>...</td>\n",
       "      <td>1</td>\n",
       "      <td>0</td>\n",
       "      <td>0</td>\n",
       "      <td>0</td>\n",
       "      <td>0</td>\n",
       "      <td>0</td>\n",
       "      <td>0</td>\n",
       "      <td>0</td>\n",
       "      <td>0</td>\n",
       "      <td>0</td>\n",
       "    </tr>\n",
       "    <tr>\n",
       "      <th>2</th>\n",
       "      <td>1.055185e+09</td>\n",
       "      <td>532000000</td>\n",
       "      <td>0</td>\n",
       "      <td>0</td>\n",
       "      <td>0</td>\n",
       "      <td>0</td>\n",
       "      <td>0</td>\n",
       "      <td>0</td>\n",
       "      <td>0</td>\n",
       "      <td>0</td>\n",
       "      <td>...</td>\n",
       "      <td>1</td>\n",
       "      <td>0</td>\n",
       "      <td>0</td>\n",
       "      <td>0</td>\n",
       "      <td>0</td>\n",
       "      <td>0</td>\n",
       "      <td>0</td>\n",
       "      <td>0</td>\n",
       "      <td>0</td>\n",
       "      <td>0</td>\n",
       "    </tr>\n",
       "    <tr>\n",
       "      <th>5</th>\n",
       "      <td>2.927942e+10</td>\n",
       "      <td>314159265359</td>\n",
       "      <td>0</td>\n",
       "      <td>0</td>\n",
       "      <td>0</td>\n",
       "      <td>0</td>\n",
       "      <td>0</td>\n",
       "      <td>0</td>\n",
       "      <td>0</td>\n",
       "      <td>0</td>\n",
       "      <td>...</td>\n",
       "      <td>1</td>\n",
       "      <td>0</td>\n",
       "      <td>0</td>\n",
       "      <td>0</td>\n",
       "      <td>0</td>\n",
       "      <td>0</td>\n",
       "      <td>0</td>\n",
       "      <td>0</td>\n",
       "      <td>0</td>\n",
       "      <td>0</td>\n",
       "    </tr>\n",
       "    <tr>\n",
       "      <th>7</th>\n",
       "      <td>1.792718e+07</td>\n",
       "      <td>21000000</td>\n",
       "      <td>0</td>\n",
       "      <td>0</td>\n",
       "      <td>0</td>\n",
       "      <td>0</td>\n",
       "      <td>0</td>\n",
       "      <td>0</td>\n",
       "      <td>0</td>\n",
       "      <td>0</td>\n",
       "      <td>...</td>\n",
       "      <td>0</td>\n",
       "      <td>0</td>\n",
       "      <td>0</td>\n",
       "      <td>0</td>\n",
       "      <td>0</td>\n",
       "      <td>0</td>\n",
       "      <td>0</td>\n",
       "      <td>0</td>\n",
       "      <td>0</td>\n",
       "      <td>0</td>\n",
       "    </tr>\n",
       "    <tr>\n",
       "      <th>8</th>\n",
       "      <td>1.076842e+08</td>\n",
       "      <td>0</td>\n",
       "      <td>0</td>\n",
       "      <td>0</td>\n",
       "      <td>0</td>\n",
       "      <td>0</td>\n",
       "      <td>0</td>\n",
       "      <td>0</td>\n",
       "      <td>0</td>\n",
       "      <td>0</td>\n",
       "      <td>...</td>\n",
       "      <td>0</td>\n",
       "      <td>0</td>\n",
       "      <td>0</td>\n",
       "      <td>0</td>\n",
       "      <td>0</td>\n",
       "      <td>0</td>\n",
       "      <td>0</td>\n",
       "      <td>0</td>\n",
       "      <td>0</td>\n",
       "      <td>0</td>\n",
       "    </tr>\n",
       "  </tbody>\n",
       "</table>\n",
       "<p>5 rows × 100 columns</p>\n",
       "</div>"
      ],
      "text/plain": [
       "   TotalCoinsMined TotalCoinSupply  1GB AES Pattern Search  536  Argon2d  \\\n",
       "0     4.199995e+01              42                       0    0        0   \n",
       "2     1.055185e+09       532000000                       0    0        0   \n",
       "5     2.927942e+10    314159265359                       0    0        0   \n",
       "7     1.792718e+07        21000000                       0    0        0   \n",
       "8     1.076842e+08               0                       0    0        0   \n",
       "\n",
       "   BLAKE256  Blake  Blake2S  Blake2b  C11  ...  PoW/PoS  PoW/PoS   PoW/PoW  \\\n",
       "0         0      0        0        0    0  ...        1         0        0   \n",
       "2         0      0        0        0    0  ...        1         0        0   \n",
       "5         0      0        0        0    0  ...        1         0        0   \n",
       "7         0      0        0        0    0  ...        0         0        0   \n",
       "8         0      0        0        0    0  ...        0         0        0   \n",
       "\n",
       "   PoW/nPoS  Pos  Proof of Authority  Proof of Trust  TPoS  \\\n",
       "0         0    0                   0               0     0   \n",
       "2         0    0                   0               0     0   \n",
       "5         0    0                   0               0     0   \n",
       "7         0    0                   0               0     0   \n",
       "8         0    0                   0               0     0   \n",
       "\n",
       "   Zero-Knowledge Proof  dPoW/PoW  \n",
       "0                     0         0  \n",
       "2                     0         0  \n",
       "5                     0         0  \n",
       "7                     0         0  \n",
       "8                     0         0  \n",
       "\n",
       "[5 rows x 100 columns]"
      ]
     },
     "execution_count": 15,
     "metadata": {},
     "output_type": "execute_result"
    }
   ],
   "source": [
    "# Create dummy variables for text features\n",
    "slim_crypto_encoded = pd.get_dummies(slim_crypto_df, prefix='', prefix_sep='', \n",
    "                            columns=['Algorithm', 'ProofType'])\n",
    "slim_crypto_encoded.head()"
   ]
  },
  {
   "cell_type": "code",
   "execution_count": 16,
   "metadata": {},
   "outputs": [
    {
     "data": {
      "text/plain": [
       "array([[-0.11674788, -0.15286468, -0.0433555 , ..., -0.0433555 ,\n",
       "        -0.0433555 , -0.0433555 ],\n",
       "       [-0.09358885, -0.14499604, -0.0433555 , ..., -0.0433555 ,\n",
       "        -0.0433555 , -0.0433555 ],\n",
       "       [ 0.52587231,  4.4937636 , -0.0433555 , ..., -0.0433555 ,\n",
       "        -0.0433555 , -0.0433555 ],\n",
       "       ...,\n",
       "       [-0.09523411, -0.13215444, -0.0433555 , ..., -0.0433555 ,\n",
       "        -0.0433555 , -0.0433555 ],\n",
       "       [-0.11658774, -0.15255408, -0.0433555 , ..., -0.0433555 ,\n",
       "        -0.0433555 , -0.0433555 ],\n",
       "       [-0.11674507, -0.15284989, -0.0433555 , ..., -0.0433555 ,\n",
       "        -0.0433555 , -0.0433555 ]])"
      ]
     },
     "execution_count": 16,
     "metadata": {},
     "output_type": "execute_result"
    }
   ],
   "source": [
    "# Standardize data\n",
    "slim_crypto_df_scaled = StandardScaler().fit_transform(slim_crypto_encoded)\n",
    "slim_crypto_df_scaled"
   ]
  },
  {
   "cell_type": "markdown",
   "metadata": {},
   "source": [
    "### Reducing Dimensions Using PCA"
   ]
  },
  {
   "cell_type": "code",
   "execution_count": 17,
   "metadata": {},
   "outputs": [],
   "source": [
    "# Use PCA to reduce dimensions to 3 principal components\n",
    "pca = PCA(n_components=3)\n",
    "crypto_pca = pca.fit_transform(slim_crypto_df_scaled)"
   ]
  },
  {
   "cell_type": "code",
   "execution_count": 18,
   "metadata": {},
   "outputs": [
    {
     "data": {
      "text/html": [
       "<div>\n",
       "<style scoped>\n",
       "    .dataframe tbody tr th:only-of-type {\n",
       "        vertical-align: middle;\n",
       "    }\n",
       "\n",
       "    .dataframe tbody tr th {\n",
       "        vertical-align: top;\n",
       "    }\n",
       "\n",
       "    .dataframe thead th {\n",
       "        text-align: right;\n",
       "    }\n",
       "</style>\n",
       "<table border=\"1\" class=\"dataframe\">\n",
       "  <thead>\n",
       "    <tr style=\"text-align: right;\">\n",
       "      <th></th>\n",
       "      <th>PC 1</th>\n",
       "      <th>PC 2</th>\n",
       "      <th>PC 3</th>\n",
       "    </tr>\n",
       "  </thead>\n",
       "  <tbody>\n",
       "    <tr>\n",
       "      <th>0</th>\n",
       "      <td>-0.317622</td>\n",
       "      <td>0.964144</td>\n",
       "      <td>-0.554957</td>\n",
       "    </tr>\n",
       "    <tr>\n",
       "      <th>2</th>\n",
       "      <td>-0.300890</td>\n",
       "      <td>0.964063</td>\n",
       "      <td>-0.555290</td>\n",
       "    </tr>\n",
       "    <tr>\n",
       "      <th>5</th>\n",
       "      <td>2.310378</td>\n",
       "      <td>1.576185</td>\n",
       "      <td>-0.667483</td>\n",
       "    </tr>\n",
       "    <tr>\n",
       "      <th>7</th>\n",
       "      <td>-0.156878</td>\n",
       "      <td>-1.286483</td>\n",
       "      <td>0.195763</td>\n",
       "    </tr>\n",
       "    <tr>\n",
       "      <th>8</th>\n",
       "      <td>-0.164424</td>\n",
       "      <td>-1.983205</td>\n",
       "      <td>0.396891</td>\n",
       "    </tr>\n",
       "  </tbody>\n",
       "</table>\n",
       "</div>"
      ],
      "text/plain": [
       "       PC 1      PC 2      PC 3\n",
       "0 -0.317622  0.964144 -0.554957\n",
       "2 -0.300890  0.964063 -0.555290\n",
       "5  2.310378  1.576185 -0.667483\n",
       "7 -0.156878 -1.286483  0.195763\n",
       "8 -0.164424 -1.983205  0.396891"
      ]
     },
     "execution_count": 18,
     "metadata": {},
     "output_type": "execute_result"
    }
   ],
   "source": [
    "# Creating a DataFrame with the principal components data\n",
    "pca_df = pd.DataFrame(\n",
    "    data=crypto_pca, columns=[\"PC 1\", \"PC 2\", \"PC 3\"], index=slim_crypto_df.index\n",
    ")\n",
    "pca_df.head()"
   ]
  },
  {
   "cell_type": "markdown",
   "metadata": {},
   "source": [
    "### Clustering Crytocurrencies Using K-Means\n",
    "\n",
    "#### Find the Best Value for `k` Using the Elbow Curve"
   ]
  },
  {
   "cell_type": "code",
   "execution_count": 19,
   "metadata": {},
   "outputs": [
    {
     "data": {},
     "metadata": {},
     "output_type": "display_data"
    },
    {
     "data": {
      "application/vnd.holoviews_exec.v0+json": "",
      "text/html": [
       "<div id='1001'>\n",
       "\n",
       "\n",
       "\n",
       "\n",
       "\n",
       "  <div class=\"bk-root\" id=\"fd08c0e3-dd9d-4a61-b4c4-9e6d2af53e45\" data-root-id=\"1001\"></div>\n",
       "</div>\n",
       "<script type=\"application/javascript\">(function(root) {\n",
       "  function embed_document(root) {\n",
       "    var docs_json = {\"bdf95c7a-2876-49ee-b837-a4d23e2d701f\":{\"roots\":{\"references\":[{\"attributes\":{\"ticks\":[1,2,3,4,5,6,7,8,9,10]},\"id\":\"1044\",\"type\":\"FixedTicker\"},{\"attributes\":{\"below\":[{\"id\":\"1015\"}],\"center\":[{\"id\":\"1018\"},{\"id\":\"1022\"}],\"left\":[{\"id\":\"1019\"}],\"margin\":[5,5,5,5],\"min_border_bottom\":10,\"min_border_left\":10,\"min_border_right\":10,\"min_border_top\":10,\"plot_height\":300,\"plot_width\":700,\"renderers\":[{\"id\":\"1042\"}],\"sizing_mode\":\"fixed\",\"title\":{\"id\":\"1007\"},\"toolbar\":{\"id\":\"1029\"},\"x_range\":{\"id\":\"1003\"},\"x_scale\":{\"id\":\"1011\"},\"y_range\":{\"id\":\"1004\"},\"y_scale\":{\"id\":\"1013\"}},\"id\":\"1006\",\"subtype\":\"Figure\",\"type\":\"Plot\"},{\"attributes\":{},\"id\":\"1057\",\"type\":\"UnionRenderers\"},{\"attributes\":{\"end\":4000.1347525806304,\"reset_end\":4000.1347525806304,\"reset_start\":-246.9829763470351,\"start\":-246.9829763470351,\"tags\":[[[\"inertia\",\"inertia\",null]]]},\"id\":\"1004\",\"type\":\"Range1d\"},{\"attributes\":{\"margin\":[5,5,5,5],\"name\":\"HSpacer01538\",\"sizing_mode\":\"stretch_width\"},\"id\":\"1002\",\"type\":\"Spacer\"},{\"attributes\":{\"line_alpha\":0.2,\"line_color\":\"#1f77b3\",\"line_width\":2,\"x\":{\"field\":\"k\"},\"y\":{\"field\":\"inertia\"}},\"id\":\"1041\",\"type\":\"Line\"},{\"attributes\":{},\"id\":\"1045\",\"type\":\"BasicTickFormatter\"},{\"attributes\":{\"source\":{\"id\":\"1036\"}},\"id\":\"1043\",\"type\":\"CDSView\"},{\"attributes\":{},\"id\":\"1013\",\"type\":\"LinearScale\"},{\"attributes\":{\"children\":[{\"id\":\"1002\"},{\"id\":\"1006\"},{\"id\":\"1065\"}],\"margin\":[0,0,0,0],\"name\":\"Row01534\",\"tags\":[\"embedded\"]},\"id\":\"1001\",\"type\":\"Row\"},{\"attributes\":{},\"id\":\"1049\",\"type\":\"BasicTickFormatter\"},{\"attributes\":{\"bottom_units\":\"screen\",\"fill_alpha\":0.5,\"fill_color\":\"lightgrey\",\"left_units\":\"screen\",\"level\":\"overlay\",\"line_alpha\":1.0,\"line_color\":\"black\",\"line_dash\":[4,4],\"line_width\":2,\"right_units\":\"screen\",\"top_units\":\"screen\"},\"id\":\"1028\",\"type\":\"BoxAnnotation\"},{\"attributes\":{\"text\":\"Elbow Visualization\",\"text_color\":{\"value\":\"black\"},\"text_font_size\":{\"value\":\"12pt\"}},\"id\":\"1007\",\"type\":\"Title\"},{\"attributes\":{\"callback\":null,\"renderers\":[{\"id\":\"1042\"}],\"tags\":[\"hv_created\"],\"tooltips\":[[\"k\",\"@{k}\"],[\"inertia\",\"@{inertia}\"]]},\"id\":\"1005\",\"type\":\"HoverTool\"},{\"attributes\":{\"data\":{\"inertia\":{\"__ndarray__\":\"XgcLo2p8rEAw/S6W1FejQDE6gps8WpdAI453TwL8gEAkFQQKcpR2QDEF1AbQrHFAgHvaC/6Ga0CFf32LaWNkQBPy1jKk+WBA0/pIUmK8WkA=\",\"dtype\":\"float64\",\"order\":\"little\",\"shape\":[10]},\"k\":[1,2,3,4,5,6,7,8,9,10]},\"selected\":{\"id\":\"1037\"},\"selection_policy\":{\"id\":\"1057\"}},\"id\":\"1036\",\"type\":\"ColumnDataSource\"},{\"attributes\":{},\"id\":\"1011\",\"type\":\"LinearScale\"},{\"attributes\":{\"end\":10.0,\"reset_end\":10.0,\"reset_start\":1.0,\"start\":1.0,\"tags\":[[[\"k\",\"k\",null]]]},\"id\":\"1003\",\"type\":\"Range1d\"},{\"attributes\":{\"axis\":{\"id\":\"1015\"},\"grid_line_color\":null,\"ticker\":null},\"id\":\"1018\",\"type\":\"Grid\"},{\"attributes\":{},\"id\":\"1024\",\"type\":\"PanTool\"},{\"attributes\":{\"axis_label\":\"Number of Clusters\",\"bounds\":\"auto\",\"formatter\":{\"id\":\"1045\"},\"major_label_orientation\":\"horizontal\",\"ticker\":{\"id\":\"1044\"}},\"id\":\"1015\",\"type\":\"LinearAxis\"},{\"attributes\":{\"axis\":{\"id\":\"1019\"},\"dimension\":1,\"grid_line_color\":null,\"ticker\":null},\"id\":\"1022\",\"type\":\"Grid\"},{\"attributes\":{\"axis_label\":\"Inertia\",\"bounds\":\"auto\",\"formatter\":{\"id\":\"1049\"},\"major_label_orientation\":\"horizontal\",\"ticker\":{\"id\":\"1020\"}},\"id\":\"1019\",\"type\":\"LinearAxis\"},{\"attributes\":{},\"id\":\"1020\",\"type\":\"BasicTicker\"},{\"attributes\":{},\"id\":\"1025\",\"type\":\"WheelZoomTool\"},{\"attributes\":{\"margin\":[5,5,5,5],\"name\":\"HSpacer01539\",\"sizing_mode\":\"stretch_width\"},\"id\":\"1065\",\"type\":\"Spacer\"},{\"attributes\":{},\"id\":\"1023\",\"type\":\"SaveTool\"},{\"attributes\":{\"overlay\":{\"id\":\"1028\"}},\"id\":\"1026\",\"type\":\"BoxZoomTool\"},{\"attributes\":{},\"id\":\"1027\",\"type\":\"ResetTool\"},{\"attributes\":{\"active_drag\":\"auto\",\"active_inspect\":\"auto\",\"active_multi\":null,\"active_scroll\":\"auto\",\"active_tap\":\"auto\",\"tools\":[{\"id\":\"1005\"},{\"id\":\"1023\"},{\"id\":\"1024\"},{\"id\":\"1025\"},{\"id\":\"1026\"},{\"id\":\"1027\"}]},\"id\":\"1029\",\"type\":\"Toolbar\"},{\"attributes\":{\"data_source\":{\"id\":\"1036\"},\"glyph\":{\"id\":\"1039\"},\"hover_glyph\":null,\"muted_glyph\":{\"id\":\"1041\"},\"nonselection_glyph\":{\"id\":\"1040\"},\"selection_glyph\":null,\"view\":{\"id\":\"1043\"}},\"id\":\"1042\",\"type\":\"GlyphRenderer\"},{\"attributes\":{\"line_alpha\":0.1,\"line_color\":\"#1f77b3\",\"line_width\":2,\"x\":{\"field\":\"k\"},\"y\":{\"field\":\"inertia\"}},\"id\":\"1040\",\"type\":\"Line\"},{\"attributes\":{},\"id\":\"1037\",\"type\":\"Selection\"},{\"attributes\":{\"line_color\":\"#1f77b3\",\"line_width\":2,\"x\":{\"field\":\"k\"},\"y\":{\"field\":\"inertia\"}},\"id\":\"1039\",\"type\":\"Line\"}],\"root_ids\":[\"1001\"]},\"title\":\"Bokeh Application\",\"version\":\"2.2.3\"}};\n",
       "    var render_items = [{\"docid\":\"bdf95c7a-2876-49ee-b837-a4d23e2d701f\",\"root_ids\":[\"1001\"],\"roots\":{\"1001\":\"fd08c0e3-dd9d-4a61-b4c4-9e6d2af53e45\"}}];\n",
       "    root.Bokeh.embed.embed_items_notebook(docs_json, render_items);\n",
       "  }\n",
       "  if (root.Bokeh !== undefined && root.Bokeh.Panel !== undefined) {\n",
       "    embed_document(root);\n",
       "  } else {\n",
       "    var attempts = 0;\n",
       "    var timer = setInterval(function(root) {\n",
       "      if (root.Bokeh !== undefined && root.Bokeh.Panel !== undefined) {\n",
       "        clearInterval(timer);\n",
       "        embed_document(root);\n",
       "      } else if (document.readyState == \"complete\") {\n",
       "        attempts++;\n",
       "        if (attempts > 100) {\n",
       "          clearInterval(timer);\n",
       "          console.log(\"Bokeh: ERROR: Unable to run BokehJS code because BokehJS library is missing\");\n",
       "        }\n",
       "      }\n",
       "    }, 10, root)\n",
       "  }\n",
       "})(window);</script>"
      ],
      "text/plain": [
       ":Curve   [k]   (inertia)"
      ]
     },
     "execution_count": 19,
     "metadata": {
      "application/vnd.holoviews_exec.v0+json": {
       "id": "1001"
      }
     },
     "output_type": "execute_result"
    }
   ],
   "source": [
    "inertia = []\n",
    "k = list(range(1, 11))\n",
    "\n",
    "# Calculate the inertia for the range ok k values\n",
    "for i in k:\n",
    "    km = KMeans(n_clusters=i, random_state=0)\n",
    "    km.fit(pca_df)\n",
    "    inertia.append(km.inertia_)\n",
    "\n",
    "# Create the Elbow Curve using hvPlot\n",
    "elbow_data = {\"k\": k, \"inertia\": inertia}\n",
    "df_elbow = pd.DataFrame(elbow_data)\n",
    "df_elbow.hvplot.line(x=\"k\", y=\"inertia\", xticks=k, title=\"Elbow Visualization\", xlabel=\"Number of Clusters\", ylabel=\"Inertia\")"
   ]
  },
  {
   "cell_type": "markdown",
   "metadata": {},
   "source": [
    "Running K-Means with `k=<your best value for k here>`"
   ]
  },
  {
   "cell_type": "code",
   "execution_count": 34,
   "metadata": {},
   "outputs": [
    {
     "data": {
      "text/html": [
       "<div>\n",
       "<style scoped>\n",
       "    .dataframe tbody tr th:only-of-type {\n",
       "        vertical-align: middle;\n",
       "    }\n",
       "\n",
       "    .dataframe tbody tr th {\n",
       "        vertical-align: top;\n",
       "    }\n",
       "\n",
       "    .dataframe thead th {\n",
       "        text-align: right;\n",
       "    }\n",
       "</style>\n",
       "<table border=\"1\" class=\"dataframe\">\n",
       "  <thead>\n",
       "    <tr style=\"text-align: right;\">\n",
       "      <th></th>\n",
       "      <th>CoinName</th>\n",
       "      <th>Algorithm</th>\n",
       "      <th>ProofType</th>\n",
       "      <th>TotalCoinsMined</th>\n",
       "      <th>TotalCoinSupply</th>\n",
       "      <th>PC 1</th>\n",
       "      <th>PC 2</th>\n",
       "      <th>PC 3</th>\n",
       "      <th>Class</th>\n",
       "      <th>Predictions</th>\n",
       "    </tr>\n",
       "  </thead>\n",
       "  <tbody>\n",
       "    <tr>\n",
       "      <th>0</th>\n",
       "      <td>42 Coin</td>\n",
       "      <td>Scrypt</td>\n",
       "      <td>PoW/PoS</td>\n",
       "      <td>4.199995e+01</td>\n",
       "      <td>42</td>\n",
       "      <td>-0.317622</td>\n",
       "      <td>0.964144</td>\n",
       "      <td>-0.554957</td>\n",
       "      <td>0</td>\n",
       "      <td>0</td>\n",
       "    </tr>\n",
       "    <tr>\n",
       "      <th>2</th>\n",
       "      <td>404Coin</td>\n",
       "      <td>Scrypt</td>\n",
       "      <td>PoW/PoS</td>\n",
       "      <td>1.055185e+09</td>\n",
       "      <td>532000000</td>\n",
       "      <td>-0.300890</td>\n",
       "      <td>0.964063</td>\n",
       "      <td>-0.555290</td>\n",
       "      <td>0</td>\n",
       "      <td>0</td>\n",
       "    </tr>\n",
       "    <tr>\n",
       "      <th>5</th>\n",
       "      <td>EliteCoin</td>\n",
       "      <td>X13</td>\n",
       "      <td>PoW/PoS</td>\n",
       "      <td>2.927942e+10</td>\n",
       "      <td>314159265359</td>\n",
       "      <td>2.310378</td>\n",
       "      <td>1.576185</td>\n",
       "      <td>-0.667483</td>\n",
       "      <td>4</td>\n",
       "      <td>4</td>\n",
       "    </tr>\n",
       "    <tr>\n",
       "      <th>7</th>\n",
       "      <td>Bitcoin</td>\n",
       "      <td>SHA-256</td>\n",
       "      <td>PoW</td>\n",
       "      <td>1.792718e+07</td>\n",
       "      <td>21000000</td>\n",
       "      <td>-0.156878</td>\n",
       "      <td>-1.286483</td>\n",
       "      <td>0.195763</td>\n",
       "      <td>1</td>\n",
       "      <td>1</td>\n",
       "    </tr>\n",
       "    <tr>\n",
       "      <th>8</th>\n",
       "      <td>Ethereum</td>\n",
       "      <td>Ethash</td>\n",
       "      <td>PoW</td>\n",
       "      <td>1.076842e+08</td>\n",
       "      <td>0</td>\n",
       "      <td>-0.164424</td>\n",
       "      <td>-1.983205</td>\n",
       "      <td>0.396891</td>\n",
       "      <td>1</td>\n",
       "      <td>1</td>\n",
       "    </tr>\n",
       "  </tbody>\n",
       "</table>\n",
       "</div>"
      ],
      "text/plain": [
       "    CoinName Algorithm ProofType  TotalCoinsMined TotalCoinSupply      PC 1  \\\n",
       "0    42 Coin    Scrypt   PoW/PoS     4.199995e+01              42 -0.317622   \n",
       "2    404Coin    Scrypt   PoW/PoS     1.055185e+09       532000000 -0.300890   \n",
       "5  EliteCoin       X13   PoW/PoS     2.927942e+10    314159265359  2.310378   \n",
       "7    Bitcoin   SHA-256       PoW     1.792718e+07        21000000 -0.156878   \n",
       "8   Ethereum    Ethash       PoW     1.076842e+08               0 -0.164424   \n",
       "\n",
       "       PC 2      PC 3  Class  Predictions  \n",
       "0  0.964144 -0.554957      0            0  \n",
       "2  0.964063 -0.555290      0            0  \n",
       "5  1.576185 -0.667483      4            4  \n",
       "7 -1.286483  0.195763      1            1  \n",
       "8 -1.983205  0.396891      1            1  "
      ]
     },
     "execution_count": 34,
     "metadata": {},
     "output_type": "execute_result"
    }
   ],
   "source": [
    "kmodel = KMeans(n_clusters=6, random_state=0)\n",
    "\n",
    "# Fit the model\n",
    "kmodel.fit(pca_df)\n",
    "\n",
    "# Predict clusters\n",
    "predictions = kmodel.predict(pca_df)\n",
    "\n",
    "# Creating a new DataFrame including predicted clusters and cryptocurrencies features\n",
    "clustered_df = pd.DataFrame({\n",
    "    \"CoinName\": crypto_dfnames.CoinName,\n",
    "    \"Algorithm\": slim_crypto_df.Algorithm,\n",
    "    \"ProofType\": slim_crypto_df.ProofType,\n",
    "    \"TotalCoinsMined\": slim_crypto_df.TotalCoinsMined,\n",
    "    \"TotalCoinSupply\": slim_crypto_df.TotalCoinSupply,\n",
    "    \"PC 1\": pca_df['PC 1'],\n",
    "    \"PC 2\": pca_df['PC 2'],\n",
    "    \"PC 3\": pca_df['PC 3'],\n",
    "    \"Class\": kmodel.labels_,\n",
    "    \"Predictions\": predictions, \n",
    "    },\n",
    ")\n",
    "clustered_df.head()\n"
   ]
  },
  {
   "cell_type": "code",
   "execution_count": 35,
   "metadata": {},
   "outputs": [
    {
     "data": {},
     "metadata": {},
     "output_type": "display_data"
    },
    {
     "data": {
      "application/vnd.holoviews_exec.v0+json": "",
      "text/html": [
       "<div id='2136'>\n",
       "\n",
       "\n",
       "\n",
       "\n",
       "\n",
       "  <div class=\"bk-root\" id=\"1898249c-59e5-4390-bcaa-4b246aab785e\" data-root-id=\"2136\"></div>\n",
       "</div>\n",
       "<script type=\"application/javascript\">(function(root) {\n",
       "  function embed_document(root) {\n",
       "    var docs_json = {\"9512e18a-6fac-41a5-bbe5-eca2d54175d0\":{\"roots\":{\"references\":[{\"attributes\":{},\"id\":\"2311\",\"type\":\"UnionRenderers\"},{\"attributes\":{\"source\":{\"id\":\"2238\"}},\"id\":\"2245\",\"type\":\"CDSView\"},{\"attributes\":{\"bottom_units\":\"screen\",\"fill_alpha\":0.5,\"fill_color\":\"lightgrey\",\"left_units\":\"screen\",\"level\":\"overlay\",\"line_alpha\":1.0,\"line_color\":\"black\",\"line_dash\":[4,4],\"line_width\":2,\"right_units\":\"screen\",\"top_units\":\"screen\"},\"id\":\"2168\",\"type\":\"BoxAnnotation\"},{\"attributes\":{\"fill_color\":{\"value\":\"#d62628\"},\"line_color\":{\"value\":\"#d62628\"},\"size\":{\"units\":\"screen\",\"value\":5.477225575051661},\"x\":{\"field\":\"PC 3\"},\"y\":{\"field\":\"PC 2\"}},\"id\":\"2241\",\"type\":\"Scatter\"},{\"attributes\":{\"label\":{\"value\":\"3\"},\"renderers\":[{\"id\":\"2244\"}]},\"id\":\"2260\",\"type\":\"LegendItem\"},{\"attributes\":{\"data_source\":{\"id\":\"2238\"},\"glyph\":{\"id\":\"2241\"},\"hover_glyph\":null,\"muted_glyph\":{\"id\":\"2243\"},\"nonselection_glyph\":{\"id\":\"2242\"},\"selection_glyph\":null,\"view\":{\"id\":\"2245\"}},\"id\":\"2244\",\"type\":\"GlyphRenderer\"},{\"attributes\":{\"fill_color\":{\"value\":\"#ff7e0e\"},\"line_color\":{\"value\":\"#ff7e0e\"},\"size\":{\"units\":\"screen\",\"value\":5.477225575051661},\"x\":{\"field\":\"PC 3\"},\"y\":{\"field\":\"PC 2\"}},\"id\":\"2201\",\"type\":\"Scatter\"},{\"attributes\":{\"data\":{\"Class\":[4,4,4,4,4,4,4,4,4,4,4,4,4,4],\"PC 2\":{\"__ndarray__\":\"ktTcUA04+T8M998Q49sCwKQXYtmWOgFA+5/kV/mX87+Z5t1JlFUKQFiYIxY3OgFAOg5LUb73BsCQqfzAW/IBQBjT+ID2r88/8AzLkO45AUAIDNZajToBQHo7s2MoOwFAH8QuSjQ7AUBs/OMsT+DuPw==\",\"dtype\":\"float64\",\"order\":\"little\",\"shape\":[14]},\"PC 3\":{\"__ndarray__\":\"a+rE6QVc5b8YoOfe/+HXP8+YIhhMkNY/IfqaW6Olrr9LXMGRH0Dyv6bHyD7qjtY/R0qKc+wO1T+28+OpHBfbP7uTbtNKj9e/RwFuEwKL1j81stOsMJDWP+HrO8CBjNY/TijIww+M1j+0ba6Q937FPw==\",\"dtype\":\"float64\",\"order\":\"little\",\"shape\":[14]},\"PC_2\":{\"__ndarray__\":\"ktTcUA04+T8M998Q49sCwKQXYtmWOgFA+5/kV/mX87+Z5t1JlFUKQFiYIxY3OgFAOg5LUb73BsCQqfzAW/IBQBjT+ID2r88/8AzLkO45AUAIDNZajToBQHo7s2MoOwFAH8QuSjQ7AUBs/OMsT+DuPw==\",\"dtype\":\"float64\",\"order\":\"little\",\"shape\":[14]},\"PC_3\":{\"__ndarray__\":\"a+rE6QVc5b8YoOfe/+HXP8+YIhhMkNY/IfqaW6Olrr9LXMGRH0Dyv6bHyD7qjtY/R0qKc+wO1T+28+OpHBfbP7uTbtNKj9e/RwFuEwKL1j81stOsMJDWP+HrO8CBjNY/TijIww+M1j+0ba6Q937FPw==\",\"dtype\":\"float64\",\"order\":\"little\",\"shape\":[14]}},\"selected\":{\"id\":\"2262\"},\"selection_policy\":{\"id\":\"2284\"}},\"id\":\"2261\",\"type\":\"ColumnDataSource\"},{\"attributes\":{},\"id\":\"2259\",\"type\":\"UnionRenderers\"},{\"attributes\":{},\"id\":\"2199\",\"type\":\"Selection\"},{\"attributes\":{\"margin\":[5,5,5,5],\"name\":\"HSpacer04151\",\"sizing_mode\":\"stretch_width\"},\"id\":\"2137\",\"type\":\"Spacer\"},{\"attributes\":{\"source\":{\"id\":\"2198\"}},\"id\":\"2205\",\"type\":\"CDSView\"},{\"attributes\":{\"margin\":[5,5,5,5],\"name\":\"HSpacer04152\",\"sizing_mode\":\"stretch_width\"},\"id\":\"2475\",\"type\":\"Spacer\"},{\"attributes\":{\"fill_alpha\":{\"value\":0.1},\"fill_color\":{\"value\":\"#ff7e0e\"},\"line_alpha\":{\"value\":0.1},\"line_color\":{\"value\":\"#ff7e0e\"},\"size\":{\"units\":\"screen\",\"value\":5.477225575051661},\"x\":{\"field\":\"PC 3\"},\"y\":{\"field\":\"PC 2\"}},\"id\":\"2202\",\"type\":\"Scatter\"},{\"attributes\":{\"fill_alpha\":{\"value\":0.2},\"fill_color\":{\"value\":\"#ff7e0e\"},\"line_alpha\":{\"value\":0.2},\"line_color\":{\"value\":\"#ff7e0e\"},\"size\":{\"units\":\"screen\",\"value\":5.477225575051661},\"x\":{\"field\":\"PC 3\"},\"y\":{\"field\":\"PC 2\"}},\"id\":\"2203\",\"type\":\"Scatter\"},{\"attributes\":{\"axis\":{\"id\":\"2155\"},\"grid_line_color\":null,\"ticker\":null},\"id\":\"2158\",\"type\":\"Grid\"},{\"attributes\":{\"data_source\":{\"id\":\"2198\"},\"glyph\":{\"id\":\"2201\"},\"hover_glyph\":null,\"muted_glyph\":{\"id\":\"2203\"},\"nonselection_glyph\":{\"id\":\"2202\"},\"selection_glyph\":null,\"view\":{\"id\":\"2205\"}},\"id\":\"2204\",\"type\":\"GlyphRenderer\"},{\"attributes\":{\"label\":{\"value\":\"1\"},\"renderers\":[{\"id\":\"2204\"}]},\"id\":\"2216\",\"type\":\"LegendItem\"},{\"attributes\":{\"fill_color\":{\"value\":\"#9367bc\"},\"line_color\":{\"value\":\"#9367bc\"},\"size\":{\"units\":\"screen\",\"value\":5.477225575051661},\"x\":{\"field\":\"PC 3\"},\"y\":{\"field\":\"PC 2\"}},\"id\":\"2264\",\"type\":\"Scatter\"},{\"attributes\":{},\"id\":\"2176\",\"type\":\"BasicTickFormatter\"},{\"attributes\":{\"children\":[{\"id\":\"2137\"},{\"id\":\"2146\"},{\"id\":\"2475\"}],\"margin\":[0,0,0,0],\"name\":\"Row04147\",\"tags\":[\"embedded\"]},\"id\":\"2136\",\"type\":\"Row\"},{\"attributes\":{},\"id\":\"2262\",\"type\":\"Selection\"},{\"attributes\":{\"data\":{\"Class\":[0,0,0,0,0,0,0,0,0,0,0,0,0,0,0,0,0,0,0,0,0,0,0,0,0,0,0,0,0,0,0,0,0,0,0,0,0,0,0,0,0,0,0,0,0,0,0,0,0,0,0,0,0,0,0,0,0,0,0,0,0,0,0,0,0,0,0,0,0,0,0,0,0,0,0,0,0,0,0,0,0,0,0,0,0,0,0,0,0,0,0,0,0,0,0,0,0,0,0,0,0,0,0,0,0,0,0,0,0,0,0,0,0,0,0,0,0,0,0,0,0,0,0,0,0,0,0,0,0,0,0,0,0,0,0,0,0,0,0,0,0,0,0,0,0,0,0,0,0,0,0,0,0,0,0,0,0,0,0,0,0,0,0,0,0,0,0,0,0,0,0,0,0,0,0,0,0,0,0,0,0,0,0,0,0,0,0,0,0,0,0,0,0,0,0,0,0,0,0,0,0,0,0,0,0,0,0,0,0,0,0,0,0,0,0,0,0,0,0,0,0,0,0,0,0,0,0,0,0,0,0,0,0,0,0,0,0,0,0,0,0,0,0,0,0,0,0,0,0,0,0,0,0,0,0,0,0,0,0,0,0,0,0,0,0,0,0,0,0,0,0,0,0,0,0,0,0,0],\"PC 2\":{\"__ndarray__\":\"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\",\"dtype\":\"float64\",\"order\":\"little\",\"shape\":[278]},\"PC 3\":{\"__ndarray__\":\"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\",\"dtype\":\"float64\",\"order\":\"little\",\"shape\":[278]},\"PC_2\":{\"__ndarray__\":\"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\",\"dtype\":\"float64\",\"order\":\"little\",\"shape\":[278]},\"PC_3\":{\"__ndarray__\":\"4x+t6zTC4b9ZgOif78Thv5uRylXV+N6/B6alQOvp1D/cbH7Y4S7Xv/QUxmzTa7q/K0wG2E665b/rbb16QsLhv+siaoiYw+G/HI3KynnC4b+xmMsLNcLhv/ZrmLQ1wuG/STPn+/v527+SNjinSVbYvw2tTnAsRse/hienoAWv1r8OMVZHf8LhvyCBt9hH2My/FjCl+9743r+Ka4lYvs/iv5q+cNeOTdO/DftQoL051797XOVrjfDSv+KRwiqhIuS/lPHyqYQi5L8bQVe2INXTv9kQFPEGw+G/fQQJPXLC4b/l8+BASwLiv3MRb9oLysy/xvcMSML43r+YW5iy2ASzP5RI9+1zfcm/rEj38sf43r9EiO9H4cXhv5BnNl5lwuG/hOXAhHsl0r9H+uFLzPjev3X7E/0iBbM/XYrSs44i5L9HD+4TU8Phv62FmxTsneC/xZ2CEjVFwL8+7QLmHi/XvzfJc7Z/Vti/EIGlKJPw0r8X7OjAfyLkv91b5osD8tK/k/L2vTXC4b/eus0vgiLkvx7kzKCwycy/NjxYez/C4b/RDVj5w/jev+FHkx8mFdm/1znsLLd04L8XtDdK3mvJv5D43FMN8dK/aMh+PpMi5L+VWbdSnjDXv3MjKE0GuuW/tY3sG3Lo2r+pjbGC5C7Xv6PeZnYDU9+/GLmbd+Eu17/S+nmnMwTjv8boK39CwuG/xGC87vvw0r8qlAMXavnev9TYTa9eL9S/nC5Tn+wu179n1sN9Whjbv+cyP8NcRse/WzDeYnf53r8Xe79eMy/Xv9T22Zu/L9e/SyAkVXHu4r+wY5caFvnev5jnmHRtsM2/mS10opLF4b8gtN53QMLhv6jN+jeBwuG/Cb8hL1qx17+NBy10b9HMv5Drowjo+N6/u0TNYF/C4b8O37Cp4C7Xv1HNXjzE+N6/vwi3ojrC4b/UOZgBNsLhvwV3y48y8dK/uSTQdg/m3L8oq15ycATmv9z1aaQBR8e/bqh6rkfC4b9LGZ6JTPzev42wNSyNR8e/ffmUEQex179uWAsxqN/mv7wVqG08R8e/DHG1+hTS5b96C8MC4/jev0kLv1a07OS//pnlKMj43r9JVQVSuEbHv1KjPFJGwuG/joTg1D7C4b/nMj/DXEbHv2DjNHnh+N6/1tDKfO0u17+Hecr1RsLhv4RP6EMeRs2/Zrez0EDC4b+q869Uv8Lhv2//lDnF+N6/Wym141bC4b8eFjJZ8rfTv3J78IE5wuG/fnxRczfC4b9fQVn7zV/Rv7f4ngyoHcq/6UkSAKjC4b/BhOXS4i7Xv8NQ+2rM+N6/LFpvmj/C4b86toiNOcLhv3KTmV6O8NK/MMc1zBaA3b+MFf9qGbHXv7TPyOYvxeG/X00dFavw0r/heAGu+fjev36j+/An/OW/zUpT12r53r9KNOE2ckfHv3dNDwkD+d6/G9H0rOdKx7+zTUPLFfrev9UICz08wuG/CyjtYDvC4b+iyRqJAMPhv8n//qTcSby/uX0txOX43r9L0Chq7PTSv2tQVZ9RRse/BWxfOVbC4b9Cc9MxWFrmv+6n1ir9bLq/9FCxAy2xzb+TyAmcdXHnv4wClrI07uK/YISK9Gvu4r/CIrXCIv/lv42jLy+OIuS/UbzRorH94b9aB0RKjCLkv6uPYrSZvMu/G9ILcTn/5b9Rvvc21Pjev5LGFLOQ8NK/nY/Bx1pGx79An8qqScLhv3twBiA4wuG/2pFf91771D/09jSArATWv3IreWPV+N6/Gr8Fq4rW079IhhTCOMLhv7/EG5SSX8O/iMoccABA4r/sLrAnZy/Xv0nJfAxe8OK/zpDDkhFI3b9SQMhkOsLhv0sS03YS+uC/RTdexknj0r90ZLQVQcLhv8uaQAMgQru/7it6mCf53r8RXUHZGUTjvwVymZgNI+S/LNqPup3C4b+8ZwamhUjVvy/AnjjXX9G/alUKYaj04b9M+PohWMLhv0SYJS0J+d6/Bc9Pdwtg0b+2goOvNsThvy8FsyI3wuG/W8o9SbXJzL/+ceLsPbDNv5SCD+MAE7k/ulnkqZKWz78i4mmG58Lhv5IHilxKs9e/3XebqLKN3L8XMXffzvjevw+IS7T/DeG/Qhhhx8Pw0r8kaCms3WXFv0HGezZC7uK/dcH7ADbC4b9fq02ZNsLhv8rHJkBr8tK/DCgeXcr9vb/ba09FmEbHv0zc2oxAwuG/i6kye0/64L+3JZeVeUbHvxAaviyILbS/ZY9jOVjJ4b8O+zyQT7LPvzChCKGq8NK/4XJ0U5vg4b8to0Mqj/DSvwmNkA3oyeW/b8O1FlLC4b9XG6UmRODav/1lPnzHYNG/uDR1Ty9tur9ftIUQSaq0P6HLNNKKn9W//QOgk8xf0b9gb0D43Pngv8ZfK35GC9O/XqOZDL5D2r/W/Lu1LmDRv5RHq0cDw+G/1svHNfLJzL8gERsO+fjev1ZUuhVX8dK/dRfCZ99Gx7+N7E4GEaXXv6aUDcL1ycy/5Dv/JtLS4b8bN5ewcyP0P0IMIlwNiNG/exofLjd227/DI+wuGGDNv9VpGVr3+eC/XHnwyrctsD9rn/d1QcLhvzvKwLPm+eC/pJdFtsNf0b/M42PeAUHiv5Ft/varycy/D9vff1HC4b+IUaFFyA7hv4Z2O3Cvz+W/L7dLV3753r++h5EX6fjev/VoL81+/+G/Nfd1ytH53r99iTGRX8Lhv5MW5HdLwuG/8bQhNr9rur8jA4ZPOsLhvwCalAV2+96/pht3zbDM4b9Fu3qBlH3Xv+mCQSaC/N6/NUuijFnC4b/6RVWHaMPhv1EwpkD4+d6/TY0cco/C4b8MFjSZL0bHv7vbXVrca8u/rIexvVUv17+2i4g3FCzTvzsaefT+wuG/POkETDXV079uuBMlECL0P3Qz7Eh8IuS/KzHRO2GDur/PoByHO0bHv8sDqADPpqi/m39HHHDC4b+YPh5IdfDSvw==\",\"dtype\":\"float64\",\"order\":\"little\",\"shape\":[278]}},\"selected\":{\"id\":\"2181\"},\"selection_policy\":{\"id\":\"2195\"}},\"id\":\"2180\",\"type\":\"ColumnDataSource\"},{\"attributes\":{},\"id\":\"2178\",\"type\":\"BasicTickFormatter\"},{\"attributes\":{\"source\":{\"id\":\"2261\"}},\"id\":\"2268\",\"type\":\"CDSView\"},{\"attributes\":{},\"id\":\"2160\",\"type\":\"BasicTicker\"},{\"attributes\":{},\"id\":\"2215\",\"type\":\"UnionRenderers\"},{\"attributes\":{\"end\":19.917871795414698,\"reset_end\":19.917871795414698,\"reset_start\":-2.0060740206777923,\"start\":-2.0060740206777923,\"tags\":[[[\"PC 3\",\"PC 3\",null]]]},\"id\":\"2138\",\"type\":\"Range1d\"},{\"attributes\":{\"fill_alpha\":{\"value\":0.1},\"fill_color\":{\"value\":\"#9367bc\"},\"line_alpha\":{\"value\":0.1},\"line_color\":{\"value\":\"#9367bc\"},\"size\":{\"units\":\"screen\",\"value\":5.477225575051661},\"x\":{\"field\":\"PC 3\"},\"y\":{\"field\":\"PC 2\"}},\"id\":\"2265\",\"type\":\"Scatter\"},{\"attributes\":{\"fill_alpha\":{\"value\":0.2},\"fill_color\":{\"value\":\"#9367bc\"},\"line_alpha\":{\"value\":0.2},\"line_color\":{\"value\":\"#9367bc\"},\"size\":{\"units\":\"screen\",\"value\":5.477225575051661},\"x\":{\"field\":\"PC 3\"},\"y\":{\"field\":\"PC 2\"}},\"id\":\"2266\",\"type\":\"Scatter\"},{\"attributes\":{\"data_source\":{\"id\":\"2261\"},\"glyph\":{\"id\":\"2264\"},\"hover_glyph\":null,\"muted_glyph\":{\"id\":\"2266\"},\"nonselection_glyph\":{\"id\":\"2265\"},\"selection_glyph\":null,\"view\":{\"id\":\"2268\"}},\"id\":\"2267\",\"type\":\"GlyphRenderer\"},{\"attributes\":{\"end\":6.182053717001166,\"reset_end\":6.182053717001166,\"reset_start\":-3.693970487732834,\"start\":-3.693970487732834,\"tags\":[[[\"PC 2\",\"PC 2\",null]]]},\"id\":\"2139\",\"type\":\"Range1d\"},{\"attributes\":{\"label\":{\"value\":\"4\"},\"renderers\":[{\"id\":\"2267\"}]},\"id\":\"2285\",\"type\":\"LegendItem\"},{\"attributes\":{},\"id\":\"2151\",\"type\":\"LinearScale\"},{\"attributes\":{\"text\":\"\",\"text_color\":{\"value\":\"black\"},\"text_font_size\":{\"value\":\"12pt\"}},\"id\":\"2147\",\"type\":\"Title\"},{\"attributes\":{\"below\":[{\"id\":\"2155\"}],\"center\":[{\"id\":\"2158\"},{\"id\":\"2162\"}],\"left\":[{\"id\":\"2159\"}],\"margin\":[5,5,5,5],\"min_border_bottom\":10,\"min_border_left\":10,\"min_border_right\":10,\"min_border_top\":10,\"plot_height\":300,\"plot_width\":700,\"renderers\":[{\"id\":\"2186\"},{\"id\":\"2204\"},{\"id\":\"2223\"},{\"id\":\"2244\"},{\"id\":\"2267\"},{\"id\":\"2292\"}],\"right\":[{\"id\":\"2196\"}],\"sizing_mode\":\"fixed\",\"title\":{\"id\":\"2147\"},\"toolbar\":{\"id\":\"2169\"},\"x_range\":{\"id\":\"2138\"},\"x_scale\":{\"id\":\"2151\"},\"y_range\":{\"id\":\"2139\"},\"y_scale\":{\"id\":\"2153\"}},\"id\":\"2146\",\"subtype\":\"Figure\",\"type\":\"Plot\"},{\"attributes\":{\"callback\":null,\"renderers\":[{\"id\":\"2186\"},{\"id\":\"2204\"},{\"id\":\"2223\"},{\"id\":\"2244\"},{\"id\":\"2267\"},{\"id\":\"2292\"}],\"tags\":[\"hv_created\"],\"tooltips\":[[\"Class\",\"@{Class}\"],[\"PC 3\",\"@{PC_3}\"],[\"PC 2\",\"@{PC_2}\"]]},\"id\":\"2140\",\"type\":\"HoverTool\"},{\"attributes\":{\"fill_color\":{\"value\":\"#2ba02b\"},\"line_color\":{\"value\":\"#2ba02b\"},\"size\":{\"units\":\"screen\",\"value\":5.477225575051661},\"x\":{\"field\":\"PC 3\"},\"y\":{\"field\":\"PC 2\"}},\"id\":\"2220\",\"type\":\"Scatter\"},{\"attributes\":{\"click_policy\":\"mute\",\"items\":[{\"id\":\"2197\"},{\"id\":\"2216\"},{\"id\":\"2237\"},{\"id\":\"2260\"},{\"id\":\"2285\"},{\"id\":\"2312\"}],\"location\":[0,0],\"title\":\"Class\"},\"id\":\"2196\",\"type\":\"Legend\"},{\"attributes\":{},\"id\":\"2239\",\"type\":\"Selection\"},{\"attributes\":{},\"id\":\"2284\",\"type\":\"UnionRenderers\"},{\"attributes\":{\"fill_alpha\":{\"value\":0.1},\"fill_color\":{\"value\":\"#d62628\"},\"line_alpha\":{\"value\":0.1},\"line_color\":{\"value\":\"#d62628\"},\"size\":{\"units\":\"screen\",\"value\":5.477225575051661},\"x\":{\"field\":\"PC 3\"},\"y\":{\"field\":\"PC 2\"}},\"id\":\"2242\",\"type\":\"Scatter\"},{\"attributes\":{},\"id\":\"2218\",\"type\":\"Selection\"},{\"attributes\":{\"data\":{\"Class\":[2],\"PC 2\":{\"__ndarray__\":\"TYyhUST29j8=\",\"dtype\":\"float64\",\"order\":\"little\",\"shape\":[1]},\"PC 3\":{\"__ndarray__\":\"WrTfFf0/178=\",\"dtype\":\"float64\",\"order\":\"little\",\"shape\":[1]},\"PC_2\":{\"__ndarray__\":\"TYyhUST29j8=\",\"dtype\":\"float64\",\"order\":\"little\",\"shape\":[1]},\"PC_3\":{\"__ndarray__\":\"WrTfFf0/178=\",\"dtype\":\"float64\",\"order\":\"little\",\"shape\":[1]}},\"selected\":{\"id\":\"2218\"},\"selection_policy\":{\"id\":\"2236\"}},\"id\":\"2217\",\"type\":\"ColumnDataSource\"},{\"attributes\":{\"data\":{\"Class\":[3,3,3],\"PC 2\":{\"__ndarray__\":\"E0OzP6tvFUD2zAFh52YLQE3Dp1Jtyv4/\",\"dtype\":\"float64\",\"order\":\"little\",\"shape\":[3]},\"PC 3\":{\"__ndarray__\":\"5FfuBq5CK0DNNE2YLywxQEclU41tDTNA\",\"dtype\":\"float64\",\"order\":\"little\",\"shape\":[3]},\"PC_2\":{\"__ndarray__\":\"E0OzP6tvFUD2zAFh52YLQE3Dp1Jtyv4/\",\"dtype\":\"float64\",\"order\":\"little\",\"shape\":[3]},\"PC_3\":{\"__ndarray__\":\"5FfuBq5CK0DNNE2YLywxQEclU41tDTNA\",\"dtype\":\"float64\",\"order\":\"little\",\"shape\":[3]}},\"selected\":{\"id\":\"2239\"},\"selection_policy\":{\"id\":\"2259\"}},\"id\":\"2238\",\"type\":\"ColumnDataSource\"},{\"attributes\":{\"source\":{\"id\":\"2217\"}},\"id\":\"2224\",\"type\":\"CDSView\"},{\"attributes\":{},\"id\":\"2164\",\"type\":\"PanTool\"},{\"attributes\":{\"fill_alpha\":{\"value\":0.1},\"fill_color\":{\"value\":\"#2ba02b\"},\"line_alpha\":{\"value\":0.1},\"line_color\":{\"value\":\"#2ba02b\"},\"size\":{\"units\":\"screen\",\"value\":5.477225575051661},\"x\":{\"field\":\"PC 3\"},\"y\":{\"field\":\"PC 2\"}},\"id\":\"2221\",\"type\":\"Scatter\"},{\"attributes\":{\"axis_label\":\"PC 3\",\"bounds\":\"auto\",\"formatter\":{\"id\":\"2176\"},\"major_label_orientation\":\"horizontal\",\"ticker\":{\"id\":\"2156\"}},\"id\":\"2155\",\"type\":\"LinearAxis\"},{\"attributes\":{\"fill_alpha\":{\"value\":0.2},\"fill_color\":{\"value\":\"#2ba02b\"},\"line_alpha\":{\"value\":0.2},\"line_color\":{\"value\":\"#2ba02b\"},\"size\":{\"units\":\"screen\",\"value\":5.477225575051661},\"x\":{\"field\":\"PC 3\"},\"y\":{\"field\":\"PC 2\"}},\"id\":\"2222\",\"type\":\"Scatter\"},{\"attributes\":{\"axis\":{\"id\":\"2159\"},\"dimension\":1,\"grid_line_color\":null,\"ticker\":null},\"id\":\"2162\",\"type\":\"Grid\"},{\"attributes\":{\"data_source\":{\"id\":\"2217\"},\"glyph\":{\"id\":\"2220\"},\"hover_glyph\":null,\"muted_glyph\":{\"id\":\"2222\"},\"nonselection_glyph\":{\"id\":\"2221\"},\"selection_glyph\":null,\"view\":{\"id\":\"2224\"}},\"id\":\"2223\",\"type\":\"GlyphRenderer\"},{\"attributes\":{\"fill_alpha\":{\"value\":0.2},\"fill_color\":{\"value\":\"#d62628\"},\"line_alpha\":{\"value\":0.2},\"line_color\":{\"value\":\"#d62628\"},\"size\":{\"units\":\"screen\",\"value\":5.477225575051661},\"x\":{\"field\":\"PC 3\"},\"y\":{\"field\":\"PC 2\"}},\"id\":\"2243\",\"type\":\"Scatter\"},{\"attributes\":{},\"id\":\"2153\",\"type\":\"LinearScale\"},{\"attributes\":{\"fill_color\":{\"value\":\"#8c564b\"},\"line_color\":{\"value\":\"#8c564b\"},\"size\":{\"units\":\"screen\",\"value\":5.477225575051661},\"x\":{\"field\":\"PC 3\"},\"y\":{\"field\":\"PC 2\"}},\"id\":\"2289\",\"type\":\"Scatter\"},{\"attributes\":{},\"id\":\"2181\",\"type\":\"Selection\"},{\"attributes\":{\"label\":{\"value\":\"2\"},\"renderers\":[{\"id\":\"2223\"}]},\"id\":\"2237\",\"type\":\"LegendItem\"},{\"attributes\":{},\"id\":\"2156\",\"type\":\"BasicTicker\"},{\"attributes\":{\"axis_label\":\"PC 2\",\"bounds\":\"auto\",\"formatter\":{\"id\":\"2178\"},\"major_label_orientation\":\"horizontal\",\"ticker\":{\"id\":\"2160\"}},\"id\":\"2159\",\"type\":\"LinearAxis\"},{\"attributes\":{},\"id\":\"2163\",\"type\":\"SaveTool\"},{\"attributes\":{},\"id\":\"2165\",\"type\":\"WheelZoomTool\"},{\"attributes\":{},\"id\":\"2287\",\"type\":\"Selection\"},{\"attributes\":{\"data\":{\"Class\":[5,5],\"PC 2\":{\"__ndarray__\":\"K0+6UtBMBkB0e+BPbpIEQA==\",\"dtype\":\"float64\",\"order\":\"little\",\"shape\":[2]},\"PC 3\":{\"__ndarray__\":\"KIuke49cIEAwXY0sHvYhQA==\",\"dtype\":\"float64\",\"order\":\"little\",\"shape\":[2]},\"PC_2\":{\"__ndarray__\":\"K0+6UtBMBkB0e+BPbpIEQA==\",\"dtype\":\"float64\",\"order\":\"little\",\"shape\":[2]},\"PC_3\":{\"__ndarray__\":\"KIuke49cIEAwXY0sHvYhQA==\",\"dtype\":\"float64\",\"order\":\"little\",\"shape\":[2]}},\"selected\":{\"id\":\"2287\"},\"selection_policy\":{\"id\":\"2311\"}},\"id\":\"2286\",\"type\":\"ColumnDataSource\"},{\"attributes\":{\"overlay\":{\"id\":\"2168\"}},\"id\":\"2166\",\"type\":\"BoxZoomTool\"},{\"attributes\":{\"source\":{\"id\":\"2286\"}},\"id\":\"2293\",\"type\":\"CDSView\"},{\"attributes\":{},\"id\":\"2195\",\"type\":\"UnionRenderers\"},{\"attributes\":{},\"id\":\"2167\",\"type\":\"ResetTool\"},{\"attributes\":{\"fill_alpha\":{\"value\":0.1},\"fill_color\":{\"value\":\"#8c564b\"},\"line_alpha\":{\"value\":0.1},\"line_color\":{\"value\":\"#8c564b\"},\"size\":{\"units\":\"screen\",\"value\":5.477225575051661},\"x\":{\"field\":\"PC 3\"},\"y\":{\"field\":\"PC 2\"}},\"id\":\"2290\",\"type\":\"Scatter\"},{\"attributes\":{\"active_drag\":\"auto\",\"active_inspect\":\"auto\",\"active_multi\":null,\"active_scroll\":\"auto\",\"active_tap\":\"auto\",\"tools\":[{\"id\":\"2140\"},{\"id\":\"2163\"},{\"id\":\"2164\"},{\"id\":\"2165\"},{\"id\":\"2166\"},{\"id\":\"2167\"}]},\"id\":\"2169\",\"type\":\"Toolbar\"},{\"attributes\":{\"fill_alpha\":{\"value\":0.2},\"fill_color\":{\"value\":\"#8c564b\"},\"line_alpha\":{\"value\":0.2},\"line_color\":{\"value\":\"#8c564b\"},\"size\":{\"units\":\"screen\",\"value\":5.477225575051661},\"x\":{\"field\":\"PC 3\"},\"y\":{\"field\":\"PC 2\"}},\"id\":\"2291\",\"type\":\"Scatter\"},{\"attributes\":{},\"id\":\"2236\",\"type\":\"UnionRenderers\"},{\"attributes\":{\"data_source\":{\"id\":\"2286\"},\"glyph\":{\"id\":\"2289\"},\"hover_glyph\":null,\"muted_glyph\":{\"id\":\"2291\"},\"nonselection_glyph\":{\"id\":\"2290\"},\"selection_glyph\":null,\"view\":{\"id\":\"2293\"}},\"id\":\"2292\",\"type\":\"GlyphRenderer\"},{\"attributes\":{\"data_source\":{\"id\":\"2180\"},\"glyph\":{\"id\":\"2183\"},\"hover_glyph\":null,\"muted_glyph\":{\"id\":\"2185\"},\"nonselection_glyph\":{\"id\":\"2184\"},\"selection_glyph\":null,\"view\":{\"id\":\"2187\"}},\"id\":\"2186\",\"type\":\"GlyphRenderer\"},{\"attributes\":{\"label\":{\"value\":\"0\"},\"renderers\":[{\"id\":\"2186\"}]},\"id\":\"2197\",\"type\":\"LegendItem\"},{\"attributes\":{\"label\":{\"value\":\"5\"},\"renderers\":[{\"id\":\"2292\"}]},\"id\":\"2312\",\"type\":\"LegendItem\"},{\"attributes\":{\"data\":{\"Class\":[1,1,1,1,1,1,1,1,1,1,1,1,1,1,1,1,1,1,1,1,1,1,1,1,1,1,1,1,1,1,1,1,1,1,1,1,1,1,1,1,1,1,1,1,1,1,1,1,1,1,1,1,1,1,1,1,1,1,1,1,1,1,1,1,1,1,1,1,1,1,1,1,1,1,1,1,1,1,1,1,1,1,1,1,1,1,1,1,1,1,1,1,1,1,1,1,1,1,1,1,1,1,1,1,1,1,1,1,1,1,1,1,1,1,1,1,1,1,1,1,1,1,1,1,1,1,1,1,1,1,1,1,1,1,1,1,1,1,1,1,1,1,1,1,1,1,1,1,1,1,1,1,1,1,1,1,1,1,1,1,1,1,1,1,1,1,1,1,1,1,1,1,1,1,1,1,1,1,1,1,1,1,1,1,1,1,1,1,1,1,1,1,1,1,1,1,1,1,1,1,1,1,1,1,1,1,1,1,1,1,1,1,1,1,1,1,1,1,1,1,1,1,1,1,1,1,1,1,1,1,1,1,1,1,1],\"PC 2\":{\"__ndarray__\":\"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\",\"dtype\":\"float64\",\"order\":\"little\",\"shape\":[235]},\"PC 3\":{\"__ndarray__\":\"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\",\"dtype\":\"float64\",\"order\":\"little\",\"shape\":[235]},\"PC_2\":{\"__ndarray__\":\"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\",\"dtype\":\"float64\",\"order\":\"little\",\"shape\":[235]},\"PC_3\":{\"__ndarray__\":\"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\",\"dtype\":\"float64\",\"order\":\"little\",\"shape\":[235]}},\"selected\":{\"id\":\"2199\"},\"selection_policy\":{\"id\":\"2215\"}},\"id\":\"2198\",\"type\":\"ColumnDataSource\"},{\"attributes\":{\"source\":{\"id\":\"2180\"}},\"id\":\"2187\",\"type\":\"CDSView\"},{\"attributes\":{\"fill_alpha\":{\"value\":0.1},\"fill_color\":{\"value\":\"#1f77b3\"},\"line_alpha\":{\"value\":0.1},\"line_color\":{\"value\":\"#1f77b3\"},\"size\":{\"units\":\"screen\",\"value\":5.477225575051661},\"x\":{\"field\":\"PC 3\"},\"y\":{\"field\":\"PC 2\"}},\"id\":\"2184\",\"type\":\"Scatter\"},{\"attributes\":{\"fill_alpha\":{\"value\":0.2},\"fill_color\":{\"value\":\"#1f77b3\"},\"line_alpha\":{\"value\":0.2},\"line_color\":{\"value\":\"#1f77b3\"},\"size\":{\"units\":\"screen\",\"value\":5.477225575051661},\"x\":{\"field\":\"PC 3\"},\"y\":{\"field\":\"PC 2\"}},\"id\":\"2185\",\"type\":\"Scatter\"},{\"attributes\":{\"fill_color\":{\"value\":\"#1f77b3\"},\"line_color\":{\"value\":\"#1f77b3\"},\"size\":{\"units\":\"screen\",\"value\":5.477225575051661},\"x\":{\"field\":\"PC 3\"},\"y\":{\"field\":\"PC 2\"}},\"id\":\"2183\",\"type\":\"Scatter\"}],\"root_ids\":[\"2136\"]},\"title\":\"Bokeh Application\",\"version\":\"2.2.3\"}};\n",
       "    var render_items = [{\"docid\":\"9512e18a-6fac-41a5-bbe5-eca2d54175d0\",\"root_ids\":[\"2136\"],\"roots\":{\"2136\":\"1898249c-59e5-4390-bcaa-4b246aab785e\"}}];\n",
       "    root.Bokeh.embed.embed_items_notebook(docs_json, render_items);\n",
       "  }\n",
       "  if (root.Bokeh !== undefined && root.Bokeh.Panel !== undefined) {\n",
       "    embed_document(root);\n",
       "  } else {\n",
       "    var attempts = 0;\n",
       "    var timer = setInterval(function(root) {\n",
       "      if (root.Bokeh !== undefined && root.Bokeh.Panel !== undefined) {\n",
       "        clearInterval(timer);\n",
       "        embed_document(root);\n",
       "      } else if (document.readyState == \"complete\") {\n",
       "        attempts++;\n",
       "        if (attempts > 100) {\n",
       "          clearInterval(timer);\n",
       "          console.log(\"Bokeh: ERROR: Unable to run BokehJS code because BokehJS library is missing\");\n",
       "        }\n",
       "      }\n",
       "    }, 10, root)\n",
       "  }\n",
       "})(window);</script>"
      ],
      "text/plain": [
       ":NdOverlay   [Class]\n",
       "   :Scatter   [PC 3]   (PC 2)"
      ]
     },
     "execution_count": 35,
     "metadata": {
      "application/vnd.holoviews_exec.v0+json": {
       "id": "2136"
      }
     },
     "output_type": "execute_result"
    }
   ],
   "source": [
    "# Plotting the clusters with two features\n",
    "clustered_df.hvplot.scatter(x=\"PC 3\", y=\"PC 2\", by=\"Class\")"
   ]
  },
  {
   "cell_type": "markdown",
   "metadata": {},
   "source": [
    "### Visualizing Results\n",
    "\n",
    "#### 3D-Scatter with Clusters"
   ]
  },
  {
   "cell_type": "code",
   "execution_count": 36,
   "metadata": {},
   "outputs": [
    {
     "data": {
      "application/vnd.plotly.v1+json": {
       "config": {
        "plotlyServerURL": "https://plot.ly"
       },
       "data": [
        {
         "customdata": [
          [
           "Scrypt"
          ],
          [
           "Scrypt"
          ],
          [
           "X11"
          ],
          [
           "SHA-512"
          ],
          [
           "SHA-256"
          ],
          [
           "SHA-256"
          ],
          [
           "X15"
          ],
          [
           "Scrypt"
          ],
          [
           "Scrypt"
          ],
          [
           "Scrypt"
          ],
          [
           "Scrypt"
          ],
          [
           "Scrypt"
          ],
          [
           "Scrypt"
          ],
          [
           "Groestl"
          ],
          [
           "PoS"
          ],
          [
           "Scrypt"
          ],
          [
           "Scrypt"
          ],
          [
           "X11"
          ],
          [
           "X11"
          ],
          [
           "SHA3"
          ],
          [
           "Scrypt"
          ],
          [
           "SHA-256"
          ],
          [
           "Scrypt"
          ],
          [
           "X13"
          ],
          [
           "X13"
          ],
          [
           "NeoScrypt"
          ],
          [
           "Scrypt"
          ],
          [
           "Scrypt"
          ],
          [
           "Scrypt"
          ],
          [
           "X11"
          ],
          [
           "X11"
          ],
          [
           "Multiple"
          ],
          [
           "PHI1612"
          ],
          [
           "X11"
          ],
          [
           "Scrypt"
          ],
          [
           "Scrypt"
          ],
          [
           "Scrypt"
          ],
          [
           "X11"
          ],
          [
           "Multiple"
          ],
          [
           "X13"
          ],
          [
           "Scrypt"
          ],
          [
           "Shabal256"
          ],
          [
           "Counterparty"
          ],
          [
           "SHA-256"
          ],
          [
           "Groestl"
          ],
          [
           "Scrypt"
          ],
          [
           "X13"
          ],
          [
           "Scrypt"
          ],
          [
           "Scrypt"
          ],
          [
           "X13"
          ],
          [
           "X11"
          ],
          [
           "Scrypt"
          ],
          [
           "X11"
          ],
          [
           "SHA3"
          ],
          [
           "QUAIT"
          ],
          [
           "X11"
          ],
          [
           "Scrypt"
          ],
          [
           "X13"
          ],
          [
           "SHA-256"
          ],
          [
           "X15"
          ],
          [
           "BLAKE256"
          ],
          [
           "SHA-256"
          ],
          [
           "X11"
          ],
          [
           "SHA-256"
          ],
          [
           "NIST5"
          ],
          [
           "Scrypt"
          ],
          [
           "Scrypt"
          ],
          [
           "X11"
          ],
          [
           "Scrypt"
          ],
          [
           "SHA-256"
          ],
          [
           "Scrypt"
          ],
          [
           "PoS"
          ],
          [
           "X11"
          ],
          [
           "SHA-256"
          ],
          [
           "SHA-256"
          ],
          [
           "NIST5"
          ],
          [
           "X11"
          ],
          [
           "POS 3.0"
          ],
          [
           "Scrypt"
          ],
          [
           "Scrypt"
          ],
          [
           "Scrypt"
          ],
          [
           "X13"
          ],
          [
           "X11"
          ],
          [
           "X11"
          ],
          [
           "Scrypt"
          ],
          [
           "SHA-256"
          ],
          [
           "X11"
          ],
          [
           "Scrypt"
          ],
          [
           "Scrypt"
          ],
          [
           "Scrypt"
          ],
          [
           "Scrypt"
          ],
          [
           "SHA-256D"
          ],
          [
           "PoS"
          ],
          [
           "Scrypt"
          ],
          [
           "X11"
          ],
          [
           "PoS"
          ],
          [
           "X13"
          ],
          [
           "X14"
          ],
          [
           "PoS"
          ],
          [
           "SHA-256D"
          ],
          [
           "X11"
          ],
          [
           "X13"
          ],
          [
           "X11"
          ],
          [
           "PoS"
          ],
          [
           "Scrypt"
          ],
          [
           "Scrypt"
          ],
          [
           "PoS"
          ],
          [
           "X11"
          ],
          [
           "SHA-256"
          ],
          [
           "Scrypt"
          ],
          [
           "X11"
          ],
          [
           "Scrypt"
          ],
          [
           "Scrypt"
          ],
          [
           "X11"
          ],
          [
           "Scrypt"
          ],
          [
           "Scrypt"
          ],
          [
           "Scrypt"
          ],
          [
           "Scrypt"
          ],
          [
           "Quark"
          ],
          [
           "QuBit"
          ],
          [
           "Scrypt"
          ],
          [
           "SHA-256"
          ],
          [
           "X11"
          ],
          [
           "Scrypt"
          ],
          [
           "Scrypt"
          ],
          [
           "Scrypt"
          ],
          [
           "Scrypt"
          ],
          [
           "X13"
          ],
          [
           "Scrypt"
          ],
          [
           "Scrypt"
          ],
          [
           "X11"
          ],
          [
           "Blake2S"
          ],
          [
           "X11"
          ],
          [
           "PoS"
          ],
          [
           "X11"
          ],
          [
           "PoS"
          ],
          [
           "X11"
          ],
          [
           "Scrypt"
          ],
          [
           "Scrypt"
          ],
          [
           "Scrypt"
          ],
          [
           "SHA-256"
          ],
          [
           "X11"
          ],
          [
           "Scrypt"
          ],
          [
           "PoS"
          ],
          [
           "Scrypt"
          ],
          [
           "X15"
          ],
          [
           "SHA-256"
          ],
          [
           "POS 3.0"
          ],
          [
           "536"
          ],
          [
           "NIST5"
          ],
          [
           "NIST5"
          ],
          [
           "Skein"
          ],
          [
           "X13"
          ],
          [
           "Scrypt"
          ],
          [
           "X13"
          ],
          [
           "SkunkHash v2 Raptor"
          ],
          [
           "Skein"
          ],
          [
           "X11"
          ],
          [
           "Scrypt"
          ],
          [
           "PoS"
          ],
          [
           "Scrypt"
          ],
          [
           "Scrypt"
          ],
          [
           "SHA-512"
          ],
          [
           "Ouroboros"
          ],
          [
           "X11"
          ],
          [
           "NeoScrypt"
          ],
          [
           "Scrypt"
          ],
          [
           "Lyra2REv2"
          ],
          [
           "Scrypt"
          ],
          [
           "SHA-256"
          ],
          [
           "NIST5"
          ],
          [
           "PHI1612"
          ],
          [
           "Scrypt"
          ],
          [
           "Quark"
          ],
          [
           "POS 2.0"
          ],
          [
           "Scrypt"
          ],
          [
           "SHA-256"
          ],
          [
           "X11"
          ],
          [
           "NIST5"
          ],
          [
           "X13"
          ],
          [
           "Scrypt"
          ],
          [
           "NIST5"
          ],
          [
           "Quark"
          ],
          [
           "Scrypt"
          ],
          [
           "Scrypt"
          ],
          [
           "X11"
          ],
          [
           "Quark"
          ],
          [
           "Scrypt"
          ],
          [
           "Scrypt"
          ],
          [
           "X11"
          ],
          [
           "POS 3.0"
          ],
          [
           "Ethash"
          ],
          [
           "Scrypt"
          ],
          [
           "Scrypt"
          ],
          [
           "X13"
          ],
          [
           "C11"
          ],
          [
           "X11"
          ],
          [
           "XEVAN"
          ],
          [
           "Scrypt"
          ],
          [
           "VBFT"
          ],
          [
           "NIST5"
          ],
          [
           "Scrypt"
          ],
          [
           "Scrypt"
          ],
          [
           "Scrypt"
          ],
          [
           "Green Protocol"
          ],
          [
           "PoS"
          ],
          [
           "Scrypt"
          ],
          [
           "Quark"
          ],
          [
           "PoS"
          ],
          [
           "X16R"
          ],
          [
           "Scrypt"
          ],
          [
           "XEVAN"
          ],
          [
           "Scrypt"
          ],
          [
           "Scrypt"
          ],
          [
           "Scrypt"
          ],
          [
           "SHA-256D"
          ],
          [
           "Scrypt"
          ],
          [
           "X15"
          ],
          [
           "Quark"
          ],
          [
           "SHA-256"
          ],
          [
           "DPoS"
          ],
          [
           "X16R"
          ],
          [
           "Quark"
          ],
          [
           "Quark"
          ],
          [
           "Scrypt"
          ],
          [
           "Lyra2REv2"
          ],
          [
           "Quark"
          ],
          [
           "Scrypt"
          ],
          [
           "X11"
          ],
          [
           "X11"
          ],
          [
           "Scrypt"
          ],
          [
           "PoS"
          ],
          [
           "Keccak"
          ],
          [
           "X11"
          ],
          [
           "Scrypt"
          ],
          [
           "SHA-512"
          ],
          [
           "XEVAN"
          ],
          [
           "XEVAN"
          ],
          [
           "X11"
          ],
          [
           "Quark"
          ],
          [
           "Equihash"
          ],
          [
           "Scrypt"
          ],
          [
           "Quark"
          ],
          [
           "Quark"
          ],
          [
           "Scrypt"
          ],
          [
           "X11"
          ],
          [
           "Scrypt"
          ],
          [
           "XEVAN"
          ],
          [
           "SHA-256D"
          ],
          [
           "X11"
          ],
          [
           "X11"
          ],
          [
           "Scrypt"
          ],
          [
           "X11"
          ],
          [
           "Scrypt"
          ],
          [
           "Scrypt"
          ],
          [
           "SHA-256"
          ],
          [
           "Scrypt"
          ],
          [
           "X11"
          ],
          [
           "Scrypt"
          ],
          [
           "SHA-256"
          ],
          [
           "X11"
          ],
          [
           "Scrypt"
          ],
          [
           "Scrypt"
          ],
          [
           "X11"
          ],
          [
           "Scrypt"
          ],
          [
           "PoS"
          ],
          [
           "X11"
          ],
          [
           "SHA-256"
          ],
          [
           "Scrypt"
          ],
          [
           "Scrypt"
          ],
          [
           "NeoScrypt"
          ],
          [
           "SHA3-256"
          ],
          [
           "X13"
          ],
          [
           "SHA-256"
          ],
          [
           "PoS"
          ],
          [
           "PoS"
          ],
          [
           "Scrypt"
          ],
          [
           "Scrypt"
          ]
         ],
         "hovertemplate": "<b>%{hovertext}</b><br><br>Class=%{marker.color}<br>PC 1=%{x}<br>PC 2=%{y}<br>PC 3=%{z}<br>Algorithm=%{customdata[0]}<extra></extra>",
         "hovertext": [
          "42 Coin",
          "404Coin",
          "Dash",
          "Bitshares",
          "BitcoinDark",
          "PayCoin",
          "KoboCoin",
          "Aurora Coin",
          "BlueCoin",
          "EnergyCoin",
          "BitBar",
          "CryptoBullion",
          "CasinoCoin",
          "Diamond",
          "Exclusive Coin",
          "FlutterCoin",
          "HoboNickels",
          "HyperStake",
          "IOCoin",
          "MaxCoin",
          "MintCoin",
          "MazaCoin",
          "Nautilus Coin",
          "NavCoin",
          "OpalCoin",
          "Orbitcoin",
          "PotCoin",
          "PhoenixCoin",
          "Reddcoin",
          "SuperCoin",
          "SyncCoin",
          "TeslaCoin",
          "TittieCoin",
          "TorCoin",
          "UnitaryStatus Dollar",
          "UltraCoin",
          "VeriCoin",
          "X11 Coin",
          "Crypti",
          "StealthCoin",
          "ZCC Coin",
          "BurstCoin",
          "StorjCoin",
          "Neutron",
          "FairCoin",
          "RubyCoin",
          "Kore",
          "Dnotes",
          "8BIT Coin",
          "Sativa Coin",
          "Ucoin",
          "Vtorrent",
          "IslaCoin",
          "Nexus",
          "Droidz",
          "Squall Coin",
          "Diggits",
          "Paycon",
          "Emercoin",
          "EverGreenCoin",
          "Decred",
          "EDRCoin",
          "Hitcoin",
          "DubaiCoin",
          "PWR Coin",
          "BillaryCoin",
          "GPU Coin",
          "EuropeCoin",
          "ZeitCoin",
          "SwingCoin",
          "SafeExchangeCoin",
          "Nebuchadnezzar",
          "Ratecoin",
          "Revenu",
          "Clockcoin",
          "VIP Tokens",
          "BitSend",
          "Let it Ride",
          "PutinCoin",
          "iBankCoin",
          "Frankywillcoin",
          "MudraCoin",
          "Lutetium Coin",
          "GoldBlocks",
          "CarterCoin",
          "BitTokens",
          "MustangCoin",
          "ZoneCoin",
          "RootCoin",
          "BitCurrency",
          "Swiscoin",
          "BuzzCoin",
          "Opair",
          "PesoBit",
          "Halloween Coin",
          "CoffeeCoin",
          "RoyalCoin",
          "GanjaCoin V2",
          "TeamUP",
          "LanaCoin",
          "InsaneCoin",
          "EmberCoin",
          "XenixCoin",
          "FreeCoin",
          "PLNCoin",
          "AquariusCoin",
          "Creatio",
          "Eternity",
          "Eurocoin",
          "BitcoinFast",
          "Stakenet",
          "BitConnect Coin",
          "MoneyCoin",
          "Enigma",
          "Russiacoin",
          "PandaCoin",
          "GameUnits",
          "GAKHcoin",
          "Allsafe",
          "LiteCreed",
          "Klingon Empire Darsek",
          "Internet of People",
          "KushCoin",
          "Printerium",
          "Impeach",
          "Zilbercoin",
          "FirstCoin",
          "FindCoin",
          "OpenChat",
          "RenosCoin",
          "VirtacoinPlus",
          "TajCoin",
          "Impact",
          "Atmos",
          "HappyCoin",
          "MacronCoin",
          "Condensate",
          "Independent Money System",
          "ArgusCoin",
          "LomoCoin",
          "ProCurrency",
          "GoldReserve",
          "GrowthCoin",
          "Phreak",
          "Degas Coin",
          "HTML5 Coin",
          "Ultimate Secure Cash",
          "QTUM",
          "Espers",
          "Denarius",
          "Virta Unique Coin",
          "Bitcoin Planet",
          "BritCoin",
          "Linda",
          "DeepOnion",
          "Signatum",
          "Cream",
          "Monoeci",
          "Draftcoin",
          "Stakecoin",
          "CoinonatX",
          "Ethereum Dark",
          "Obsidian",
          "Cardano",
          "Regalcoin",
          "TrezarCoin",
          "TerraNovaCoin",
          "Rupee",
          "WomenCoin",
          "Theresa May Coin",
          "NamoCoin",
          "LUXCoin",
          "Xios",
          "Bitcloud 2.0",
          "KekCoin",
          "BlackholeCoin",
          "Infinity Economics",
          "Magnet",
          "Electra",
          "Bitcoin Diamond",
          "Cash & Back Coin",
          "Bulwark",
          "Kalkulus",
          "GermanCoin",
          "LiteCoin Ultra",
          "PhantomX",
          "Digiwage",
          "Trollcoin",
          "Litecoin Plus",
          "Monkey Project",
          "TokenPay",
          "1717 Masonic Commemorative Token",
          "My Big Coin",
          "Unified Society USDEX",
          "Tokyo Coin",
          "Stipend",
          "Pushi",
          "Ellerium",
          "Velox",
          "Ontology",
          "Bitspace",
          "Briacoin",
          "Ignition",
          "MedicCoin",
          "Bitcoin Green",
          "Deviant Coin",
          "Abjcoin",
          "Carebit",
          "Zealium",
          "Proton",
          "iDealCash",
          "Bitcoin Incognito",
          "HollyWoodCoin",
          "Swisscoin",
          "Xt3ch",
          "TheVig",
          "EmaratCoin",
          "Dekado",
          "Poseidon Quark",
          "BitcoinWSpectrum",
          "Muse",
          "Trivechain",
          "Dystem",
          "Giant",
          "Peony Coin",
          "Absolute Coin",
          "Vitae",
          "TPCash",
          "ARENON",
          "EUNO",
          "MMOCoin",
          "Ketan",
          "XDNA",
          "PAXEX",
          "ThunderStake",
          "Kcash",
          "Bettex coin",
          "BitMoney",
          "Junson Ming Chan Coin",
          "HerbCoin",
          "PirateCash",
          "Oduwa",
          "Galilel",
          "Crypto Sports",
          "Credit",
          "Dash Platinum",
          "Nasdacoin",
          "Beetle Coin",
          "Titan Coin",
          "Award",
          "Insane Coin",
          "LiteDoge",
          "TruckCoin",
          "OrangeCoin",
          "BitstarCoin",
          "NeosCoin",
          "HyperCoin",
          "PinkCoin",
          "AudioCoin",
          "IncaKoin",
          "Piggy Coin",
          "Genstake",
          "XiaoMiCoin",
          "CapriCoin",
          " ClubCoin",
          "Radium",
          "Creditbit ",
          "OKCash",
          "HiCoin",
          "WhiteCoin",
          "FriendshipCoin",
          "Fiii",
          "Triangles Coin",
          "TigerCash",
          "Particl",
          "Nxt",
          "Gapcoin",
          "BitcoinPlus"
         ],
         "legendgroup": "0",
         "marker": {
          "color": [
           0,
           0,
           0,
           0,
           0,
           0,
           0,
           0,
           0,
           0,
           0,
           0,
           0,
           0,
           0,
           0,
           0,
           0,
           0,
           0,
           0,
           0,
           0,
           0,
           0,
           0,
           0,
           0,
           0,
           0,
           0,
           0,
           0,
           0,
           0,
           0,
           0,
           0,
           0,
           0,
           0,
           0,
           0,
           0,
           0,
           0,
           0,
           0,
           0,
           0,
           0,
           0,
           0,
           0,
           0,
           0,
           0,
           0,
           0,
           0,
           0,
           0,
           0,
           0,
           0,
           0,
           0,
           0,
           0,
           0,
           0,
           0,
           0,
           0,
           0,
           0,
           0,
           0,
           0,
           0,
           0,
           0,
           0,
           0,
           0,
           0,
           0,
           0,
           0,
           0,
           0,
           0,
           0,
           0,
           0,
           0,
           0,
           0,
           0,
           0,
           0,
           0,
           0,
           0,
           0,
           0,
           0,
           0,
           0,
           0,
           0,
           0,
           0,
           0,
           0,
           0,
           0,
           0,
           0,
           0,
           0,
           0,
           0,
           0,
           0,
           0,
           0,
           0,
           0,
           0,
           0,
           0,
           0,
           0,
           0,
           0,
           0,
           0,
           0,
           0,
           0,
           0,
           0,
           0,
           0,
           0,
           0,
           0,
           0,
           0,
           0,
           0,
           0,
           0,
           0,
           0,
           0,
           0,
           0,
           0,
           0,
           0,
           0,
           0,
           0,
           0,
           0,
           0,
           0,
           0,
           0,
           0,
           0,
           0,
           0,
           0,
           0,
           0,
           0,
           0,
           0,
           0,
           0,
           0,
           0,
           0,
           0,
           0,
           0,
           0,
           0,
           0,
           0,
           0,
           0,
           0,
           0,
           0,
           0,
           0,
           0,
           0,
           0,
           0,
           0,
           0,
           0,
           0,
           0,
           0,
           0,
           0,
           0,
           0,
           0,
           0,
           0,
           0,
           0,
           0,
           0,
           0,
           0,
           0,
           0,
           0,
           0,
           0,
           0,
           0,
           0,
           0,
           0,
           0,
           0,
           0,
           0,
           0,
           0,
           0,
           0,
           0,
           0,
           0,
           0,
           0,
           0,
           0,
           0,
           0,
           0,
           0,
           0,
           0,
           0,
           0,
           0,
           0,
           0,
           0,
           0,
           0,
           0,
           0,
           0,
           0,
           0,
           0,
           0,
           0,
           0,
           0,
           0,
           0,
           0,
           0,
           0,
           0
          ],
          "coloraxis": "coloraxis",
          "symbol": "circle"
         },
         "mode": "markers",
         "name": "0",
         "scene": "scene",
         "showlegend": true,
         "type": "scatter3d",
         "x": [
          -0.317621723509612,
          -0.3008902754697042,
          -0.40417439107338626,
          -0.19546472760927722,
          -0.3204947570663429,
          -0.2728932542734229,
          -0.23390771926257312,
          -0.31727985213811344,
          -0.3098281326025446,
          -0.3161123362947754,
          -0.3176176406024626,
          -0.3176018564133212,
          0.6668737771935297,
          -0.36876783269676644,
          -0.35416074138536785,
          -0.24230560666126247,
          -0.3156720945553111,
          -0.336316653025018,
          -0.4040686698439112,
          -0.38272588773808847,
          -0.008909934233396402,
          -0.283641424896142,
          -0.26977017028616573,
          -0.2856706126649022,
          -0.2862952875163204,
          -0.35753243518691386,
          -0.3118989068624209,
          -0.31601655078284263,
          0.04193913197390741,
          -0.35628207370050513,
          -0.4044418449675247,
          -0.23625706057947685,
          -0.3022725480277772,
          -0.4043530750834703,
          -0.2927461433067616,
          -0.3162932849065712,
          -0.2680851357021364,
          -0.40431743705780965,
          -0.236727246770724,
          -0.28607528246326935,
          -0.3086836441044442,
          -0.06021741044018204,
          -0.2893078552351542,
          -0.3197030745627739,
          -0.3681871292017722,
          -0.2697504475475753,
          -0.2863709017927069,
          -0.2643803271642072,
          -0.31760372098241335,
          -0.2863229096216313,
          -0.35672856246229717,
          -0.3173369312097872,
          -0.40442330066692284,
          -0.339255659162099,
          -0.42049991594531466,
          -0.40929130971898975,
          -0.26814505659097043,
          -0.2858424136991718,
          -0.3130161812375792,
          -0.23636076240097742,
          -0.0710735444009818,
          -0.32046555574771224,
          -0.0804555995414791,
          -0.3205295708459177,
          -0.23714725399687286,
          -0.31721218906509335,
          -0.2680128645302771,
          -0.40157900565199234,
          0.8885474853238894,
          -0.320328666335184,
          -0.06701598595280474,
          -0.3538426412658732,
          -0.40225730383108993,
          -0.3190661472084222,
          -0.316723347486542,
          -0.35898630940086623,
          -0.40315265616608553,
          -0.3395759005361346,
          -0.2934030911962339,
          -0.3172504238944506,
          -0.31568291056204373,
          -0.2374574127203515,
          -0.3441660061400754,
          -0.4038948251158728,
          -0.3164512257476513,
          -0.32051038510297514,
          -0.4044124316374309,
          -0.31744047398020075,
          -0.31759793122633895,
          -0.26800371194265854,
          -0.2031845771710772,
          0.029562693529878236,
          -0.3527952671878699,
          -0.31721055905273937,
          -0.39051110740916234,
          -0.3521214473732974,
          -0.23889485641033578,
          -0.4120182145544978,
          -0.35186784586216785,
          -0.286283734510153,
          -0.404003199953807,
          0.8503353579171937,
          -0.4043671576967565,
          -0.3532609971373137,
          -0.31713759862557267,
          -0.3172925157958981,
          -0.3538426412658732,
          -0.4039400460518733,
          -0.32037251976986575,
          -0.31713837019308666,
          -0.40493779365387894,
          -0.31728637454161646,
          -0.31285323784133134,
          -0.40439625967320453,
          -0.31649326299192293,
          0.3762428065876653,
          -0.3174865291613857,
          -0.3175574373504621,
          -0.3414500612860979,
          -0.34512349840277756,
          -0.31376630831921354,
          -0.32048670532988643,
          -0.40430582855689134,
          -0.3173342695910391,
          -0.31746171436090453,
          -0.2696562615606774,
          -0.24782475119258998,
          -0.23866171933907443,
          -0.29823358670526035,
          -0.2693964881768463,
          -0.4035681277167963,
          -0.4287013423786302,
          -0.4023014395649068,
          -0.3520817117606276,
          -0.4034656082730929,
          -0.3464577152244857,
          -0.3993881409652625,
          -0.3174047804231805,
          -0.31740392347420326,
          -0.3104926391669371,
          0.2623252383195321,
          -0.40394633824615583,
          -0.2522180741129595,
          -0.353877012211929,
          -0.31661184511165286,
          0.9030420986366872,
          -0.2715773657221507,
          -0.3383490168296712,
          0.5964976908698505,
          -0.36052851746950276,
          -0.35902415926200504,
          -0.42871657265513347,
          -0.2860066374685215,
          0.1494636557196683,
          -0.28607775595339097,
          -0.3232218445607979,
          -0.42821949609790466,
          -0.4042199823552517,
          -0.26973098021978986,
          -0.3537425696493629,
          -0.3170383709540661,
          -0.3175402941459103,
          -0.2537796951353864,
          0.6694608961048615,
          -0.40416047210236894,
          -0.3525095153729539,
          -0.3174956652144166,
          -0.33567882961668455,
          0.4548164870645998,
          -0.31882595480086817,
          -0.3452279550620954,
          -0.38556207849578505,
          -0.3174457759989264,
          -0.38742248861120815,
          -0.34848297340266615,
          -0.3173156984932302,
          -0.09863617773744585,
          -0.402947648522868,
          0.20135849984927073,
          -0.28273428431203507,
          -0.3147647511221159,
          -0.31275315608066406,
          -0.34133548335802016,
          0.09876636359639078,
          -0.31645001591172894,
          -0.4035316488026668,
          -0.34049631806871455,
          -0.3039620636404446,
          -0.317562514526602,
          -0.3567003747903131,
          -0.33985898450211255,
          -0.28159534480878756,
          -0.20517545829409964,
          -0.31308876641985056,
          -0.23042030817404685,
          -0.40824656291405814,
          -0.40423720391194184,
          -0.332588215294852,
          -0.26888700329190746,
          -0.3397152983475926,
          -0.3601256515505765,
          -0.3175899835619442,
          -0.31757161022964625,
          -0.2632439386060818,
          -0.3469118060837669,
          -0.3533352638064683,
          -0.31728684955695674,
          -0.38608523945119844,
          -0.35352472777211763,
          -0.32126068676146635,
          -0.2639160568023672,
          -0.33759088243616353,
          -0.26942392740519494,
          -0.11986272061369795,
          -0.2696768770778473,
          -0.3519015737118084,
          -0.31675847641035976,
          -0.18816367561131286,
          -0.3370226733443745,
          -0.27170619062696066,
          0.9844743002588979,
          -0.36813224285296087,
          -0.34144945914817376,
          -0.38911446800854965,
          -0.1498356505894599,
          -0.38314451685466405,
          -0.3401634497144983,
          -0.31043249312185556,
          -0.35627590605916454,
          -0.40370830534395485,
          -0.2669101589039128,
          -0.3526201849846497,
          -0.3517202351924446,
          -0.3561364670681453,
          -0.17640804521842526,
          -0.12485717657013692,
          -0.2850434845589754,
          0.48300478234743965,
          -0.14582111325886812,
          -0.3884060120433467,
          -0.27347579191584087,
          -0.3172908929420892,
          -0.3888641457137668,
          -0.34156694465371024,
          0.5932581650741066,
          -0.3567549126945108,
          -0.31677138933782734,
          -0.327019245501664,
          -0.3064127430193322,
          -0.40126109441933416,
          -0.40393656139649137,
          0.11957060030473751,
          -0.4014666502366717,
          -0.31615375001170526,
          -0.31698288558918697,
          -0.2729259623185747,
          -0.31750359587369914,
          -0.3955284322909317,
          -0.23080185644062973,
          -0.09927986166389918,
          -0.3912569607320025,
          -0.3167789689321897,
          -0.30981352690510217,
          -0.40049052165398197,
          -0.3152111104267448,
          -0.354119429159009,
          -0.408707515271161,
          -0.31900344437871603,
          -0.07613655734010101,
          -0.31239394367506435,
          -0.3571564736005911,
          -0.6123118066553167,
          -0.2864786017100805,
          -0.2537412785639787,
          -0.3540550440485852,
          -0.3973789538921414,
          -0.3156578541386577,
          -0.2700751734459133
         ],
         "y": [
          0.9641442555044674,
          0.9640634359560551,
          1.2300759314162497,
          1.46091274128961,
          0.8198042978767985,
          0.6464488516469061,
          1.7559260921628532,
          0.9641383371415309,
          0.9642858816927277,
          0.9641716843176218,
          0.9641439680141402,
          0.9641438931306617,
          0.24326321179465982,
          0.7987343287739764,
          1.5901030770624192,
          0.42096527493678465,
          0.9640928726474318,
          1.057097627050588,
          1.230077852596323,
          1.8701749374269265,
          0.7955268671343635,
          0.8187397910610718,
          0.7907747755288385,
          1.7562816022876742,
          1.7562702506142052,
          0.5610177562202086,
          0.9639444100076093,
          0.9641025286404458,
          0.9706782426393438,
          1.0567348128030414,
          1.2300869859823527,
          0.027806529052810634,
          1.6223292126869577,
          1.2300813655270364,
          0.9634388071675171,
          0.9640960529282441,
          0.37672989880812574,
          1.2300852685884551,
          0.02787032793500264,
          1.7562742485749336,
          0.9635832478137621,
          0.4166177566152215,
          1.2781577275758973,
          0.8197854065782447,
          0.7987480500249131,
          0.790786839057526,
          1.7562601953615486,
          0.7905227097534944,
          0.9641445826791417,
          1.756262514344935,
          1.0567122305171173,
          0.9641349621844542,
          1.2300873236952508,
          1.9603289644810475,
          1.7666080776045925,
          0.9940258188216924,
          0.790743669265472,
          1.7562423087129926,
          0.8192326833618044,
          1.7561156914205038,
          0.7052672507817574,
          0.8198048285269965,
          1.2167673963695131,
          0.8198119847004766,
          1.4353122444881363,
          0.964121313518261,
          0.7906584981687184,
          1.2298612128350053,
          0.7402158455122257,
          0.8197942943292479,
          0.257310579883536,
          1.5900943889860961,
          1.230072427098744,
          0.8196850479399985,
          0.819508946294985,
          1.4330330603155876,
          1.2300098570113263,
          1.572590026995132,
          0.9631374963544349,
          0.9641189307029199,
          0.9641071447310229,
          1.5827857129630165,
          1.0564796929645188,
          1.2300607556386796,
          0.9641004171232729,
          0.8198047373137374,
          1.23008535091366,
          0.9641323571599528,
          0.96414468789135,
          0.7908185809664222,
          0.34328947127514287,
          1.8188040334910414,
          1.590074356695031,
          0.964151727269381,
          1.2292549903874257,
          1.5901111981879448,
          1.5829024692134044,
          1.7920830972447894,
          1.5899269909271359,
          1.8221029860440838,
          1.2300732548703728,
          1.7763103351089349,
          1.2300855563140387,
          1.5900832557493871,
          0.9641251720591212,
          0.9641198538103558,
          1.5900943889860961,
          1.2300526995611463,
          0.8198079660523575,
          0.9641291658495705,
          0.7266558916761393,
          0.9641300934534756,
          0.9637602011504975,
          1.2300841979293697,
          0.9640605879065344,
          0.7790035925697194,
          0.9641373076925439,
          0.9641430250045944,
          1.4244030776986576,
          0.4197780334675604,
          0.9638526008090547,
          0.8198051676256856,
          1.2300826914339862,
          0.9641350105517396,
          0.9641312959743091,
          0.7907487618755666,
          0.2981679836167463,
          1.5828980067421565,
          0.9637731476297353,
          0.790768366088882,
          1.2300305208430207,
          2.002530034924975,
          1.2300463049497898,
          1.5900610701608373,
          1.2300323838398208,
          1.5899536847961033,
          1.229817107441705,
          0.9641328523329099,
          0.9641275232798246,
          0.963550374517823,
          0.6019265797329637,
          1.2300670538520513,
          0.7896585763023317,
          1.5900865300760063,
          0.9640866468519735,
          1.7117312440224315,
          0.6463370597946586,
          1.572564213880691,
          1.7179745398045645,
          1.4330629096418963,
          1.4330106695527087,
          1.8840946438682418,
          1.7562537930505666,
          0.9364606086955588,
          1.7562605320788336,
          1.4917255732039034,
          1.884103676808744,
          1.2300841405613443,
          0.7907746008473524,
          1.590066112768327,
          0.9641199492689827,
          0.9641426968669156,
          1.4623916871269094,
          1.5052684783818722,
          1.2300725671952497,
          0.5608223880466587,
          0.9641351642913193,
          0.7352701348573293,
          0.9600953123214864,
          0.8197781959002152,
          1.4324800697796973,
          1.7966634909406618,
          0.9641322608109719,
          1.5976611654431343,
          1.5497179422361718,
          0.9641391183543948,
          0.6431136319624874,
          1.230009965278781,
          1.4215778784279167,
          1.7561830409806678,
          0.9640442521608172,
          1.2596909337892672,
          1.424401542665448,
          0.9355393308425493,
          0.9640570332081113,
          1.2300673553263568,
          1.4243444489199026,
          0.9637413921617004,
          0.9641424377615733,
          1.0567120193155215,
          1.5725910319253429,
          -0.050301924132840986,
          0.08671226395615418,
          0.9640587928781805,
          1.582479533146769,
          1.0508346785363167,
          1.2300726196780738,
          1.4672417702193827,
          0.7907128241523632,
          1.7920855455690592,
          1.43304129330733,
          0.9641426620223285,
          0.9641415490415881,
          0.7905433603556701,
          1.6044974746592489,
          1.590054415762094,
          0.9641286379580858,
          1.5976854661105564,
          1.590056760251413,
          0.7731428165643051,
          0.9614148202191961,
          1.2312060321566334,
          0.7907739634009189,
          0.9603589550387933,
          0.7907563449960974,
          1.8262683050292976,
          0.9640991743139099,
          1.5827181115758242,
          1.4240241536608103,
          0.6464069331645397,
          1.8344813652673408,
          0.9464912377088021,
          1.4243987480507416,
          1.5977713785095442,
          0.7807544198396718,
          0.9086143039435174,
          1.4243649664808535,
          0.963551467499656,
          1.0566951361401438,
          1.2300641451004795,
          0.7906503609205905,
          1.5899791516041233,
          0.9064279381641785,
          1.0566651156184637,
          0.9536886389115704,
          1.445133377527381,
          1.2938856540360486,
          1.1649649704357337,
          1.0605593370262791,
          1.5977489137505618,
          -0.03288628647860946,
          0.964135075366229,
          1.597765882551098,
          1.4244021328723753,
          0.9265841953017017,
          1.0567119687067377,
          0.9640989396584954,
          1.4670246603334098,
          1.8235501188327643,
          1.2298409464194167,
          1.2300744658349911,
          0.9467688632799655,
          1.2301410523353102,
          0.9640262454072539,
          0.9641166139864622,
          0.6464421081027805,
          0.9641464021657717,
          1.2298872465748187,
          0.9581259249852102,
          0.8237027074976961,
          1.2296031524800108,
          0.9641487187066387,
          0.9639967744396545,
          1.2300083168839,
          0.9640723124446074,
          1.5900973169085557,
          0.8197916912278325,
          0.8197713533779161,
          0.7870645073857538,
          0.9640222259345304,
          0.5609837880390827,
          3.90360322673026,
          1.7562668325927915,
          0.6460824950872744,
          1.590098751597954,
          1.825458411024215,
          0.9639990853084934,
          0.7907802146641649
         ],
         "z": [
          -0.5549568751384836,
          -0.5552900431830593,
          -0.4839375818067084,
          0.32677727997960954,
          -0.3622364629934063,
          -0.10320779233559901,
          -0.6789926738005126,
          -0.5549633404984297,
          -0.5551264442775311,
          -0.5549897156492167,
          -0.5549569349648406,
          -0.5549572493795256,
          -0.43713283157267263,
          -0.3802665837291467,
          -0.18182902797466519,
          -0.35443249405636157,
          -0.554992331819024,
          -0.2253503616511887,
          -0.4839398820374766,
          -0.5878593186601944,
          -0.3016087631139982,
          -0.3628992143239181,
          -0.2959321550055802,
          -0.629227241054249,
          -0.6292136496845608,
          -0.3098832874939192,
          -0.5550570210039282,
          -0.5549861137480004,
          -0.5627800242579012,
          -0.2249159637996275,
          -0.4839330390567479,
          0.07429270134194466,
          -0.1991410171454545,
          -0.48393439032691776,
          -0.5554052739137281,
          -0.5549799766624677,
          -0.2835377499028129,
          -0.4839354268114317,
          0.07429712942756146,
          -0.6292184364468302,
          -0.5550933255440008,
          -0.5192776110163116,
          -0.127112039602464,
          -0.3622510191159626,
          -0.3802794725189815,
          -0.2959335228861315,
          -0.6292113082666927,
          -0.29602135336011576,
          -0.5549572668310979,
          -0.6292124684967708,
          -0.22490508891658662,
          -0.5549619111133157,
          -0.48393344259258436,
          -0.39191582759406,
          -0.5142475011251076,
          -0.19860437988191457,
          -0.29596265020143964,
          -0.6292206020937217,
          -0.3623424346709723,
          -0.6789580828636715,
          -0.42043736197430387,
          -0.3622370983414052,
          -0.4894417434947888,
          -0.3622363727617013,
          -0.5942629118943279,
          -0.5549633487528574,
          -0.2959585029034424,
          -0.48397304770907346,
          -0.3153912269548418,
          -0.36223903235507193,
          -0.4233614185498937,
          -0.1818347886422977,
          -0.48397621779509387,
          -0.36225589993220936,
          -0.3622893354403065,
          -0.5916067755615669,
          -0.4839530238801286,
          -0.23194664185740232,
          -0.5553677723814189,
          -0.5549623814782798,
          -0.5549932568887259,
          -0.3701997242232982,
          -0.22514146015788264,
          -0.48394203990727025,
          -0.5549771204624884,
          -0.36223618098618793,
          -0.4839335050157461,
          -0.5549596002604388,
          -0.5549573928017772,
          -0.2959715275045343,
          -0.4515417728694718,
          -0.6880419000420703,
          -0.1818544438173565,
          -0.5549658210559423,
          -0.4841491073533645,
          -0.1818710771434592,
          -0.3701799079607538,
          -0.7148018796822393,
          -0.18186145166707302,
          -0.6818947693496127,
          -0.48394084233967016,
          -0.653894586015988,
          -0.4839344405540088,
          -0.18184570317195384,
          -0.5549651724041758,
          -0.5549616010431622,
          -0.1818347886422977,
          -0.48394047581273547,
          -0.3622392386125858,
          -0.5549654770473332,
          -0.2287023383693133,
          -0.554962546940925,
          -0.5550228742646273,
          -0.48393374083752055,
          -0.5549730727591781,
          -0.30810221395981496,
          -0.5549590623739802,
          -0.5549580814657842,
          -0.27147244973914114,
          -0.20403004280337253,
          -0.555011749400646,
          -0.3622366961991013,
          -0.48393545577461,
          -0.5549619690235139,
          -0.554959083970693,
          -0.2959323810412605,
          -0.46094293539418896,
          -0.37018428276891124,
          -0.5553206927784147,
          -0.29593922674140133,
          -0.48394624703168004,
          -0.6870307642649178,
          -0.48397322681300353,
          -0.18186786346123746,
          -0.483948477599561,
          -0.18197341866619685,
          -0.48401398515599253,
          -0.5549603645561328,
          -0.5549599545568084,
          -0.5550539663147911,
          -0.11050204303955903,
          -0.48394149930933456,
          -0.29619894377834005,
          -0.1818334606165338,
          -0.554972755485665,
          -0.6985283826030371,
          -0.10322553916799368,
          -0.23196947746567498,
          -0.7326000259038373,
          -0.5915778625495292,
          -0.5916042114441886,
          -0.6873945048219741,
          -0.6292181893924053,
          -0.5622184925140435,
          -0.6292172861578635,
          -0.21669312770711477,
          -0.6874053199704265,
          -0.4839373146814739,
          -0.2959329365577129,
          -0.18183455232349113,
          -0.5549667678614938,
          -0.5549584031573568,
          0.32784246594954214,
          -0.34403526802257933,
          -0.48393759454909635,
          -0.3099695844784819,
          -0.554958705008354,
          -0.15135414344653061,
          -0.5703127088257398,
          -0.36226824641992894,
          -0.5918417209525525,
          -0.4575237210504043,
          -0.5549594849017103,
          -0.5305263825217222,
          -0.2951225697696496,
          -0.5549626754683588,
          -0.10647773818400734,
          -0.483957194236324,
          -0.6020631068485348,
          -0.6292789440590815,
          -0.5550068515574984,
          -0.3325513955438699,
          -0.27147465256985276,
          -0.5611154456443448,
          -0.5549736655882582,
          -0.4839499417197468,
          -0.27148710872209875,
          -0.5552018573763096,
          -0.55495793130118,
          -0.22490564419020384,
          -0.23194097582462797,
          0.09794621985884994,
          -0.2467826203871491,
          -0.5550420403733975,
          -0.37031802212742904,
          -0.4461485525661127,
          -0.48393604109584615,
          -0.5329588433635325,
          -0.2959451148093458,
          -0.16717120081267567,
          -0.591584307110857,
          -0.5549573916633067,
          -0.5549576753813702,
          -0.296046078346191,
          -0.1171537854517341,
          -0.18184188255585707,
          -0.5549624205658659,
          -0.530555477734468,
          -0.18183822445125283,
          -0.07881976215694686,
          -0.5558282013775907,
          -0.2476291136062731,
          -0.2959391186327762,
          -0.558667815206345,
          -0.2959325707184231,
          -0.6808967842993364,
          -0.5549707835726688,
          -0.41993812345429177,
          -0.2715319360082445,
          -0.10322852792633597,
          0.0807233491265875,
          -0.3378626873774753,
          -0.2714721147204385,
          -0.5305008743921285,
          -0.2975631935237256,
          -0.41038466673358254,
          -0.27149551150791973,
          -0.5550552749430033,
          -0.22491290689467175,
          -0.4839460981131811,
          -0.29598023530826845,
          -0.18185036245648303,
          -0.3694498597721541,
          -0.22491332984205775,
          -0.5569849740658097,
          1.2586552522729508,
          -0.27392896649707066,
          -0.42909030441334267,
          -0.22949507037290404,
          -0.5305134544135465,
          0.0631976004083063,
          -0.5549628547714581,
          -0.5305055151751,
          -0.27147000122055887,
          -0.5704354613836755,
          -0.22490453300711669,
          -0.554970502619513,
          -0.5330544815029024,
          -0.6816022102390924,
          -0.4839778759477324,
          -0.4839422922287858,
          -0.5624383933566423,
          -0.48399777194559884,
          -0.5549772105990055,
          -0.5549676267261979,
          -0.10320658752035052,
          -0.55495944530421,
          -0.4840979628083062,
          -0.5562366497987241,
          -0.36703980106806383,
          -0.48416188941887,
          -0.5549743410832436,
          -0.5551035540794935,
          -0.48400694192310306,
          -0.5550000408879129,
          -0.18182940464627995,
          -0.21422914898331932,
          -0.3622640945887905,
          -0.29956536696607416,
          -0.5550532126297364,
          -0.30988819526432443,
          1.2583161781617735,
          -0.6292096542616563,
          -0.10356719694499776,
          -0.1818308267331816,
          -0.048147648649326046,
          -0.5549850990610027,
          -0.29592639963900913
         ]
        },
        {
         "customdata": [
          [
           "X13"
          ],
          [
           "CryptoNight"
          ],
          [
           "DPoS"
          ],
          [
           "Scrypt"
          ],
          [
           "VeChainThor Authority"
          ],
          [
           "DPoS"
          ],
          [
           "CryptoNight"
          ],
          [
           "Semux BFT consensus"
          ],
          [
           "Scrypt"
          ],
          [
           "DPoS"
          ],
          [
           "DPoS"
          ],
          [
           "DPoS"
          ],
          [
           "DPoS"
          ],
          [
           "SHA-256"
          ]
         ],
         "hovertemplate": "<b>%{hovertext}</b><br><br>Class=%{marker.color}<br>PC 1=%{x}<br>PC 2=%{y}<br>PC 3=%{z}<br>Algorithm=%{customdata[0]}<extra></extra>",
         "hovertext": [
          "EliteCoin",
          "ByteCoin",
          "ARK",
          "gCn Coin",
          "Vechain",
          "Lamden Tau",
          "TurtleCoin",
          "Semux",
          "Lynx",
          "ALAX",
          "Lisk",
          "EOS",
          "Oxycoin",
          "ZEPHYR"
         ],
         "legendgroup": "4",
         "marker": {
          "color": [
           4,
           4,
           4,
           4,
           4,
           4,
           4,
           4,
           4,
           4,
           4,
           4,
           4,
           4
          ],
          "coloraxis": "coloraxis",
          "symbol": "diamond"
         },
         "mode": "markers",
         "name": "4",
         "scene": "scene",
         "showlegend": true,
         "type": "scatter3d",
         "x": [
          2.3103779229788457,
          3.8738521143820184,
          3.6508198106110163,
          3.2702894590447884,
          4.343068892386981,
          3.655697283361858,
          8.077008043689071,
          3.8234761048600965,
          2.304586996640513,
          3.6679904605755995,
          3.651213385240183,
          3.6611194903884856,
          3.662368549364044,
          2.4301268417986526
         ],
         "y": [
          1.5761845740028417,
          -2.357366687617178,
          2.1536080344257744,
          -1.2246030267069716,
          3.2917867441982023,
          2.1534253816235314,
          -2.8709684706716674,
          2.243339069090503,
          0.24755746171435855,
          2.1532870590177637,
          2.153589925439068,
          2.153885630519139,
          2.153908328582943,
          0.9648815037507013
         ],
         "z": [
          -0.667483288364861,
          0.37316891449018064,
          0.35255720478961633,
          -0.05985746854047514,
          -1.1406551068846678,
          0.35247284060744233,
          0.32903586657736067,
          0.4232856425367645,
          -0.3681208672299438,
          0.35223438165123294,
          0.3525506675494257,
          0.3523258569036312,
          0.3522986804897571,
          0.16793722691077806
         ]
        },
        {
         "customdata": [
          [
           "SHA-256"
          ],
          [
           "Ethash"
          ],
          [
           "Scrypt"
          ],
          [
           "CryptoNight-V7"
          ],
          [
           "Ethash"
          ],
          [
           "Equihash"
          ],
          [
           "Multiple"
          ],
          [
           "Scrypt"
          ],
          [
           "X11"
          ],
          [
           "Scrypt"
          ],
          [
           "Multiple"
          ],
          [
           "Scrypt"
          ],
          [
           "SHA-256"
          ],
          [
           "Scrypt"
          ],
          [
           "Scrypt"
          ],
          [
           "Quark"
          ],
          [
           "Groestl"
          ],
          [
           "Scrypt"
          ],
          [
           "Scrypt"
          ],
          [
           "Scrypt"
          ],
          [
           "X11"
          ],
          [
           "Multiple"
          ],
          [
           "SHA-256"
          ],
          [
           "Scrypt"
          ],
          [
           "Scrypt"
          ],
          [
           "Scrypt"
          ],
          [
           "Scrypt"
          ],
          [
           "Scrypt"
          ],
          [
           "NeoScrypt"
          ],
          [
           "Scrypt"
          ],
          [
           "Scrypt"
          ],
          [
           "Scrypt"
          ],
          [
           "Scrypt"
          ],
          [
           "SHA-256"
          ],
          [
           "Scrypt"
          ],
          [
           "Scrypt"
          ],
          [
           "Scrypt"
          ],
          [
           "Scrypt"
          ],
          [
           "HybridScryptHash256"
          ],
          [
           "Scrypt"
          ],
          [
           "Scrypt"
          ],
          [
           "SHA-256"
          ],
          [
           "Scrypt"
          ],
          [
           "Scrypt"
          ],
          [
           "Scrypt"
          ],
          [
           "Scrypt"
          ],
          [
           "SHA-256"
          ],
          [
           "SHA-256"
          ],
          [
           "SHA-256"
          ],
          [
           "SHA-256"
          ],
          [
           "SHA-256"
          ],
          [
           "X11"
          ],
          [
           "Scrypt"
          ],
          [
           "Lyra2REv2"
          ],
          [
           "Scrypt"
          ],
          [
           "SHA-256"
          ],
          [
           "CryptoNight"
          ],
          [
           "Scrypt"
          ],
          [
           "Scrypt"
          ],
          [
           "Scrypt"
          ],
          [
           "Scrypt"
          ],
          [
           "Scrypt"
          ],
          [
           "Scrypt"
          ],
          [
           "Stanford Folding"
          ],
          [
           "Multiple"
          ],
          [
           "QuBit"
          ],
          [
           "Scrypt"
          ],
          [
           "Scrypt"
          ],
          [
           "M7 POW"
          ],
          [
           "Scrypt"
          ],
          [
           "SHA-256"
          ],
          [
           "Scrypt"
          ],
          [
           "X11"
          ],
          [
           "Lyra2RE"
          ],
          [
           "SHA-256"
          ],
          [
           "X11"
          ],
          [
           "Scrypt"
          ],
          [
           "Scrypt"
          ],
          [
           "Ethash"
          ],
          [
           "Blake2b"
          ],
          [
           "X11"
          ],
          [
           "SHA-256"
          ],
          [
           "Scrypt"
          ],
          [
           "1GB AES Pattern Search"
          ],
          [
           "Scrypt"
          ],
          [
           "SHA-256"
          ],
          [
           "X11"
          ],
          [
           "Dagger"
          ],
          [
           "Scrypt"
          ],
          [
           "X11GOST"
          ],
          [
           "Scrypt"
          ],
          [
           "X11"
          ],
          [
           "Scrypt"
          ],
          [
           "X11"
          ],
          [
           "Equihash"
          ],
          [
           "CryptoNight"
          ],
          [
           "SHA-256"
          ],
          [
           "Multiple"
          ],
          [
           "Scrypt"
          ],
          [
           "SHA-256"
          ],
          [
           "Scrypt"
          ],
          [
           "Lyra2Z"
          ],
          [
           "Ethash"
          ],
          [
           "Equihash"
          ],
          [
           "Scrypt"
          ],
          [
           "X11"
          ],
          [
           "X11"
          ],
          [
           "CryptoNight"
          ],
          [
           "Scrypt"
          ],
          [
           "CryptoNight"
          ],
          [
           "Lyra2RE"
          ],
          [
           "X11"
          ],
          [
           "CryptoNight-V7"
          ],
          [
           "Scrypt"
          ],
          [
           "X11"
          ],
          [
           "Equihash"
          ],
          [
           "Scrypt"
          ],
          [
           "Lyra2RE"
          ],
          [
           "Dagger-Hashimoto"
          ],
          [
           "Scrypt"
          ],
          [
           "NIST5"
          ],
          [
           "Scrypt"
          ],
          [
           "SHA-256"
          ],
          [
           "Scrypt"
          ],
          [
           "CryptoNight-V7"
          ],
          [
           "Argon2d"
          ],
          [
           "Blake2b"
          ],
          [
           "Cloverhash"
          ],
          [
           "CryptoNight"
          ],
          [
           "X11"
          ],
          [
           "Scrypt"
          ],
          [
           "Scrypt"
          ],
          [
           "X11"
          ],
          [
           "X11"
          ],
          [
           "CryptoNight"
          ],
          [
           "Time Travel"
          ],
          [
           "Keccak"
          ],
          [
           "X11"
          ],
          [
           "SHA-256"
          ],
          [
           "Scrypt"
          ],
          [
           "Scrypt"
          ],
          [
           "Scrypt"
          ],
          [
           "Scrypt"
          ],
          [
           "Scrypt"
          ],
          [
           "Scrypt"
          ],
          [
           "CryptoNight"
          ],
          [
           "Equihash"
          ],
          [
           "X11"
          ],
          [
           "NeoScrypt"
          ],
          [
           "Equihash"
          ],
          [
           "Dagger"
          ],
          [
           "Scrypt"
          ],
          [
           "X11"
          ],
          [
           "NeoScrypt"
          ],
          [
           "Ethash"
          ],
          [
           "NeoScrypt"
          ],
          [
           "Multiple"
          ],
          [
           "CryptoNight"
          ],
          [
           "CryptoNight"
          ],
          [
           "Ethash"
          ],
          [
           "X11"
          ],
          [
           "CryptoNight-V7"
          ],
          [
           "Scrypt"
          ],
          [
           "BLAKE256"
          ],
          [
           "X11"
          ],
          [
           "NeoScrypt"
          ],
          [
           "NeoScrypt"
          ],
          [
           "Scrypt"
          ],
          [
           "X11"
          ],
          [
           "SHA-256"
          ],
          [
           "C11"
          ],
          [
           "SkunkHash"
          ],
          [
           "CryptoNight"
          ],
          [
           "Scrypt"
          ],
          [
           "Dagger"
          ],
          [
           "Lyra2REv2"
          ],
          [
           "Scrypt"
          ],
          [
           "Scrypt"
          ],
          [
           "X11"
          ],
          [
           "Ethash"
          ],
          [
           "CryptoNight"
          ],
          [
           "Scrypt"
          ],
          [
           "IMesh"
          ],
          [
           "Equihash"
          ],
          [
           "Lyra2Z"
          ],
          [
           "X11"
          ],
          [
           "CryptoNight"
          ],
          [
           "NIST5"
          ],
          [
           "Lyra2RE"
          ],
          [
           "Tribus"
          ],
          [
           "Lyra2Z"
          ],
          [
           "CryptoNight"
          ],
          [
           "CryptoNight Heavy"
          ],
          [
           "CryptoNight"
          ],
          [
           "Jump Consistent Hash"
          ],
          [
           "CryptoNight"
          ],
          [
           "X16R"
          ],
          [
           "HMQ1725"
          ],
          [
           "X11"
          ],
          [
           "Scrypt"
          ],
          [
           "CryptoNight-V7"
          ],
          [
           "Cryptonight-GPU"
          ],
          [
           "XEVAN"
          ],
          [
           "CryptoNight Heavy"
          ],
          [
           "SHA-256"
          ],
          [
           "X11"
          ],
          [
           "X16R"
          ],
          [
           "Equihash"
          ],
          [
           "Lyra2Z"
          ],
          [
           "SHA-256"
          ],
          [
           "CryptoNight"
          ],
          [
           "Blake"
          ],
          [
           "Blake"
          ],
          [
           "Exosis"
          ],
          [
           "Scrypt"
          ],
          [
           "Equihash"
          ],
          [
           "Equihash"
          ],
          [
           "QuBit"
          ],
          [
           "SHA-256"
          ],
          [
           "X13"
          ],
          [
           "SHA-256"
          ],
          [
           "Scrypt"
          ],
          [
           "NeoScrypt"
          ],
          [
           "Blake"
          ],
          [
           "Scrypt"
          ],
          [
           "SHA-256"
          ],
          [
           "Scrypt"
          ],
          [
           "Groestl"
          ],
          [
           "Scrypt"
          ],
          [
           "Scrypt"
          ],
          [
           "Multiple"
          ],
          [
           "Equihash+Scrypt"
          ],
          [
           "Ethash"
          ],
          [
           "CryptoNight"
          ],
          [
           "Equihash"
          ]
         ],
         "hovertemplate": "<b>%{hovertext}</b><br><br>Class=%{marker.color}<br>PC 1=%{x}<br>PC 2=%{y}<br>PC 3=%{z}<br>Algorithm=%{customdata[0]}<extra></extra>",
         "hovertext": [
          "Bitcoin",
          "Ethereum",
          "Litecoin",
          "Monero",
          "Ethereum Classic",
          "ZCash",
          "DigiByte",
          "ProsperCoin",
          "Spreadcoin",
          "Argentum",
          "MyriadCoin",
          "MoonCoin",
          "ZetaCoin",
          "SexCoin",
          "Quatloo",
          "QuarkCoin",
          "Riecoin",
          "Digitalcoin ",
          "Catcoin",
          "CannaCoin",
          "CryptCoin",
          "Verge",
          "DevCoin",
          "EarthCoin",
          "E-Gulden",
          "Einsteinium",
          "Emerald",
          "Franko",
          "FeatherCoin",
          "GrandCoin",
          "GlobalCoin",
          "GoldCoin",
          "Infinite Coin",
          "IXcoin",
          "KrugerCoin",
          "LuckyCoin",
          "Litebar ",
          "MegaCoin",
          "MediterraneanCoin",
          "MinCoin",
          "NobleCoin",
          "Namecoin",
          "NyanCoin",
          "RonPaulCoin",
          "StableCoin",
          "SmartCoin",
          "SysCoin",
          "TigerCoin",
          "TerraCoin",
          "UnbreakableCoin",
          "Unobtanium",
          "UroCoin",
          "ViaCoin",
          "Vertcoin",
          "WorldCoin",
          "JouleCoin",
          "DigitalNote ",
          "MonaCoin",
          "Gulden",
          "PesetaCoin",
          "Wild Beast Coin",
          "Flo",
          "ArtByte",
          "Folding Coin",
          "Unitus",
          "CypherPunkCoin",
          "OmniCron",
          "GreenCoin",
          "Cryptonite",
          "MasterCoin",
          "SoonCoin",
          "1Credit",
          "MarsCoin ",
          "Crypto",
          "Anarchists Prime",
          "BowsCoin",
          "Song Coin",
          "BitZeny",
          "Expanse",
          "Siacoin",
          "MindCoin",
          "I0coin",
          "Revolution VR",
          "HOdlcoin",
          "Gamecredits",
          "CarpeDiemCoin",
          "Adzcoin",
          "SoilCoin",
          "YoCoin",
          "SibCoin",
          "Francs",
          "BolivarCoin",
          "Omni",
          "PizzaCoin",
          "Komodo",
          "Karbo",
          "ZayedCoin",
          "Circuits of Value",
          "DopeCoin",
          "DollarCoin",
          "Shilling",
          "ZCoin",
          "Elementrem",
          "ZClassic",
          "KiloCoin",
          "ArtexCoin",
          "Kurrent",
          "Cannabis Industry Coin",
          "OsmiumCoin",
          "Bikercoins",
          "HexxCoin",
          "PacCoin",
          "Citadel",
          "BeaverCoin",
          "VaultCoin",
          "Zero",
          "Canada eCoin",
          "Zoin",
          "DubaiCoin",
          "EB3coin",
          "Coinonat",
          "BenjiRolls",
          "ILCoin",
          "EquiTrader",
          "Quantum Resistant Ledger",
          "Dynamic",
          "Nano",
          "ChanCoin",
          "Dinastycoin",
          "DigitalPrice",
          "Unify",
          "SocialCoin",
          "ArcticCoin",
          "DAS",
          "LeviarCoin",
          "Bitcore",
          "SmartCash",
          "Onix",
          "Bitcoin Cash",
          "Sojourn Coin",
          "NewYorkCoin",
          "FrazCoin",
          "Kronecoin",
          "AdCoin",
          "Linx",
          "Sumokoin",
          "BitcoinZ",
          "Elements",
          "VIVO Coin",
          "Bitcoin Gold",
          "Pirl",
          "eBoost",
          "Pura",
          "Innova",
          "Ellaism",
          "GoByte",
          "SHIELD",
          "UltraNote",
          "BitCoal",
          "DaxxCoin",
          "AC3",
          "Lethean",
          "PopularCoin",
          "Photon",
          "Sucre",
          "SparksPay",
          "GunCoin",
          "IrishCoin",
          "Pioneer Coin",
          "UnitedBitcoin",
          "Interzone",
          "MUNcoin",
          "Niobio Cash",
          "ShareChain",
          "Travelflex",
          "KREDS",
          "BitFlip",
          "LottoCoin",
          "Crypto Improvement Fund",
          "Callisto Network",
          "BitTube",
          "Poseidon",
          "Aidos Kuneen",
          "Bitrolium",
          "Alpenschillling",
          "FuturoCoin",
          "Monero Classic",
          "Jumpcoin",
          "Infinex",
          "KEYCO",
          "GINcoin",
          "PlatinCoin",
          "Loki",
          "Newton Coin",
          "MassGrid",
          "PluraCoin",
          "Motion",
          "PlusOneCoin",
          "Axe",
          "HexCoin",
          "Webchain",
          "Ryo",
          "Urals Coin",
          "Qwertycoin",
          "Project Pai",
          "Azart",
          "Xchange",
          "CrypticCoin",
          "Actinium",
          "Bitcoin SV",
          "FREDEnergy",
          "Universal Molecule",
          "Lithium",
          "Exosis",
          "Block-Logic",
          "Beam",
          "Bithereum",
          "SLICE",
          "BLAST",
          "Bitcoin Rhodium",
          "GlobalToken",
          "SolarCoin",
          "UFO Coin",
          "BlakeCoin",
          "Crypto Escudo",
          "Crown Coin",
          "SmileyCoin",
          "Groestlcoin",
          "Bata",
          "Pakcoin",
          "JoinCoin",
          "Vollar",
          "Reality Clash",
          "Beldex",
          "Horizen"
         ],
         "legendgroup": "1",
         "marker": {
          "color": [
           1,
           1,
           1,
           1,
           1,
           1,
           1,
           1,
           1,
           1,
           1,
           1,
           1,
           1,
           1,
           1,
           1,
           1,
           1,
           1,
           1,
           1,
           1,
           1,
           1,
           1,
           1,
           1,
           1,
           1,
           1,
           1,
           1,
           1,
           1,
           1,
           1,
           1,
           1,
           1,
           1,
           1,
           1,
           1,
           1,
           1,
           1,
           1,
           1,
           1,
           1,
           1,
           1,
           1,
           1,
           1,
           1,
           1,
           1,
           1,
           1,
           1,
           1,
           1,
           1,
           1,
           1,
           1,
           1,
           1,
           1,
           1,
           1,
           1,
           1,
           1,
           1,
           1,
           1,
           1,
           1,
           1,
           1,
           1,
           1,
           1,
           1,
           1,
           1,
           1,
           1,
           1,
           1,
           1,
           1,
           1,
           1,
           1,
           1,
           1,
           1,
           1,
           1,
           1,
           1,
           1,
           1,
           1,
           1,
           1,
           1,
           1,
           1,
           1,
           1,
           1,
           1,
           1,
           1,
           1,
           1,
           1,
           1,
           1,
           1,
           1,
           1,
           1,
           1,
           1,
           1,
           1,
           1,
           1,
           1,
           1,
           1,
           1,
           1,
           1,
           1,
           1,
           1,
           1,
           1,
           1,
           1,
           1,
           1,
           1,
           1,
           1,
           1,
           1,
           1,
           1,
           1,
           1,
           1,
           1,
           1,
           1,
           1,
           1,
           1,
           1,
           1,
           1,
           1,
           1,
           1,
           1,
           1,
           1,
           1,
           1,
           1,
           1,
           1,
           1,
           1,
           1,
           1,
           1,
           1,
           1,
           1,
           1,
           1,
           1,
           1,
           1,
           1,
           1,
           1,
           1,
           1,
           1,
           1,
           1,
           1,
           1,
           1,
           1,
           1,
           1,
           1,
           1,
           1,
           1,
           1,
           1,
           1,
           1,
           1,
           1,
           1,
           1,
           1,
           1,
           1,
           1,
           1,
           1,
           1,
           1,
           1,
           1,
           1,
           1,
           1,
           1,
           1,
           1,
           1
          ],
          "coloraxis": "coloraxis",
          "symbol": "square"
         },
         "mode": "markers",
         "name": "1",
         "scene": "scene",
         "showlegend": true,
         "type": "scatter3d",
         "x": [
          -0.1568780824198781,
          -0.1644240768965737,
          -0.1528304827126493,
          -0.17091301776449017,
          -0.16285864604172395,
          -0.1582669783926367,
          0.16740949875037323,
          -0.15398166731936086,
          -0.240742928313431,
          -0.15359642340882365,
          -0.08711923771243851,
          2.581011787113126,
          -0.15395051028624884,
          -0.15083977594437809,
          -0.15339945874164898,
          -0.22086115042030552,
          -0.2042137851902898,
          -0.15344873013879004,
          -0.15396386260461115,
          -0.15405070916335348,
          -0.2408326388088189,
          0.1912272275516311,
          0.22259929572947623,
          0.09575120257102757,
          -0.1537959458168302,
          -0.1493820869415651,
          -0.1537349325386945,
          -0.1541079507285158,
          -0.1892263874591551,
          -0.13323909724697222,
          -0.1528979039637148,
          -0.15317644499190164,
          1.6023111795242961,
          -0.1568392977706071,
          -0.15045388549397615,
          -0.1538224987808106,
          -0.15417883774051527,
          -0.15343489336500418,
          -0.16921077395115797,
          -0.15405957954012658,
          -0.018337469155428006,
          -0.15691721786571977,
          -0.14769629313322696,
          -0.15403887401385477,
          -0.15212425688672487,
          -0.15352339161931905,
          -0.1440129357385401,
          -0.15637869361591283,
          -0.15666707365866775,
          -0.156649766406119,
          -0.1572432995841622,
          -0.24100733303493801,
          -0.15375422082722195,
          -0.21903629007157377,
          -0.15084441767966508,
          -0.15644626868059336,
          0.4582256673768706,
          -0.15261681363223367,
          -0.1371449889697537,
          -0.15133015964781923,
          -0.15418104832028723,
          -0.1511946984196606,
          -0.13735843011477006,
          -0.19010384831571916,
          -0.12127326693760293,
          -0.18255798973076637,
          -0.1540536153177329,
          -0.02642579194493885,
          -0.11655689620674853,
          -0.1541899881880985,
          -0.15694510619819224,
          0.501110719164829,
          -0.24039187990296176,
          -0.16195326162345827,
          -0.1566837374757075,
          -0.240677986009045,
          -0.15230504973481984,
          -0.15149383473642203,
          -0.16549569382450988,
          0.37146993162339864,
          -0.24071355345891612,
          -0.1568404245993317,
          -0.15013048981289817,
          -0.2015556455115966,
          -0.15274711800743704,
          0.2634402008251655,
          -0.23987052642837745,
          -0.1733406113914274,
          -0.15299503405767526,
          -0.1532234562191007,
          -0.1539789474896594,
          -0.24067659725280155,
          -0.15419004693415547,
          -0.24082716669440038,
          -0.27005049938149916,
          0.30245273970859354,
          -0.15710161362338956,
          -0.10125916550458616,
          -0.1513442798558047,
          -0.1570600729181397,
          -0.15385193109022618,
          -0.15448425518090264,
          -0.16523676721873884,
          -0.15828868171424768,
          -0.0805648421282916,
          -0.2273541521486196,
          -0.23864545694355083,
          0.3024471457312985,
          -0.15417169958805665,
          0.3025784068280099,
          -0.16249619068489624,
          0.47785930003732197,
          -0.16967170602228168,
          -0.1541398563763361,
          -0.23352650407998968,
          -0.1583011293881042,
          -0.15226510557693348,
          -0.16221338233517585,
          -0.1675630584734172,
          -0.12492403851601316,
          -0.19676332452773437,
          -0.15370029848033462,
          -0.1232777461892807,
          -0.15352143926795792,
          -0.16952934342716536,
          -0.18459729859931967,
          -0.03042867011644292,
          -0.1382516375942325,
          0.33872492108529517,
          -0.2398788596280713,
          -0.153842283988521,
          -0.15360439355378738,
          -0.24027534934334854,
          -0.2408553469298717,
          0.3028439031709863,
          -0.14423368659783609,
          -0.12786366472130586,
          -0.2316847067251352,
          -0.1568772433015737,
          -0.07940504554664829,
          1.5998012696543866,
          -0.15394051779062154,
          -0.1533895972310679,
          -0.15308928525846685,
          -0.1530761640255949,
          0.30302845028540126,
          0.05499555403506188,
          -0.1950498013462217,
          -0.19393564847916375,
          -0.1581465428016829,
          -0.17209401460053855,
          -0.15226330758448228,
          -0.23638005258288397,
          -0.19378033796434682,
          -0.16359395789532313,
          -0.1938810203469768,
          -0.11146223039838937,
          1.144231642394367,
          0.30242979683780974,
          -0.08812648409588587,
          -0.23611942386335474,
          -0.15859271777322004,
          -0.06996557398820398,
          1.1021905903296438,
          -0.24082923649034735,
          -0.19393323253199393,
          -0.18694051090700237,
          -0.15318827173170743,
          -0.2407543274878883,
          -0.1568565633593882,
          -0.2447926121634582,
          -0.18330150734179515,
          0.3063215851616792,
          0.03967937747366681,
          -0.1715955771370019,
          -0.20453074946644295,
          -0.15376442689049916,
          0.15464501903888905,
          -0.23486905999555902,
          -0.11640863958858405,
          0.3103903359777127,
          -0.15400249480373981,
          -0.16183608302035607,
          -0.15713332013811485,
          -0.15225729065428645,
          -0.23991979485261125,
          0.30261307872614396,
          -0.19682318272160626,
          -0.16234071618569215,
          -0.16563054786880457,
          -0.1545690322486873,
          0.3065603757814662,
          0.5915029426281353,
          2.1193937681887864,
          -0.1786915894882456,
          0.31627807701495747,
          -0.2054964520066519,
          -0.15362453764069534,
          -0.240811318466168,
          -0.15402716833837674,
          -0.1584677319528255,
          -0.1771266800508095,
          -0.1679243249926517,
          3.1252079598229305,
          -0.11653245554344475,
          -0.24078254638814306,
          -0.20492143455927916,
          -0.05242824913613857,
          -0.15396395076200037,
          -0.15687728101701745,
          0.3827387968459008,
          -0.1517432158376561,
          -0.1521372720195938,
          -0.17622830436788262,
          -0.15291447081935716,
          -0.1561974889768005,
          -0.15797863637181003,
          -0.18176522866126335,
          -0.15615028199504716,
          -0.123032145464025,
          -0.15501309318226925,
          0.5452411638035995,
          -0.11877678485764441,
          -0.10236419522929979,
          -0.13750961753159993,
          -0.1566664415958385,
          0.5647987331966193,
          -0.20377290971754905,
          -0.1541044134166388,
          -0.15205092860472832,
          -0.12201107045770893,
          -0.13781589129191193,
          -0.1652700681857968,
          0.32428189735068935,
          -0.15826803956111624
         ],
         "y": [
          -1.2864826557475737,
          -1.983205103092303,
          -1.1421828454114362,
          -2.183585838772368,
          -1.983328576528749,
          -1.9657655296927306,
          -1.9150113123611208,
          -1.1421581886938694,
          -0.8762136644711814,
          -1.1421822955529102,
          -1.9058914401878067,
          -1.3702400991916066,
          -1.2865370989634988,
          -1.1422667596844436,
          -1.1422047598253764,
          -0.5086070020888093,
          -1.3075939138492163,
          -1.142168156834272,
          -1.1421578651442537,
          -1.142153757158369,
          -0.876213847838741,
          -1.9113628396718738,
          -1.2947636160720368,
          -1.147371145710722,
          -1.1421548137383257,
          -1.1422762918096343,
          -1.1421616627454372,
          -1.1421534198104217,
          -1.5454250506372786,
          -1.1427937739118246,
          -1.1421739425558284,
          -1.142180628850498,
          -1.1757703219692577,
          -1.2864819509478322,
          -1.1422709031276443,
          -1.1421545728306013,
          -1.1421475562682664,
          -1.142163444710897,
          -2.1876364843465628,
          -1.1421516467765636,
          -1.1505295275536311,
          -1.2864833669220375,
          -1.1422725744574778,
          -1.1421592282614377,
          -1.1422901014408813,
          -1.142171708484205,
          -1.2868760838735052,
          -1.2864923986701822,
          -1.2864940133338039,
          -1.286521189227761,
          -1.2864742813146233,
          -0.8762040006350313,
          -1.1421555023696812,
          -1.1976872286602642,
          -1.1422779999298305,
          -1.2864921711317563,
          -2.293220627388491,
          -1.142194241465798,
          -1.1430524035106073,
          -1.1422151819855124,
          -1.142148520984892,
          -1.1422081005316056,
          -1.142564348652602,
          -1.7624579706499859,
          -1.9050652283453697,
          -1.6864717136339433,
          -1.1421467430091583,
          -1.1470593512464224,
          -2.263596158934154,
          -1.1421472304129112,
          -1.2864838737124793,
          -1.1967942857532563,
          -0.8762166897851122,
          -2.1980837942232556,
          -1.2865028237073668,
          -0.8762132077627682,
          -1.1422646231888984,
          -1.1422786453267422,
          -1.9832368072789928,
          -2.278187641194965,
          -0.8762102369407687,
          -1.286481971424712,
          -1.142224933176705,
          -2.0006121290583,
          -1.1421813304970612,
          -1.294474520568002,
          -0.8762441106966672,
          -2.173208752088382,
          -1.1422468580622869,
          -2.2559345305130623,
          -1.1421574158370926,
          -0.8762160762528046,
          -1.1421472292884545,
          -0.8762188124204793,
          -1.186510924439778,
          -2.2888242710689246,
          -1.2864785690515923,
          -1.9055696474738792,
          -1.1422397560120872,
          -1.2864784669193916,
          -1.1421623419951379,
          -2.3237409691834916,
          -1.9832388293245617,
          -1.9657659240883443,
          -1.1480431731790737,
          -0.8763176090753851,
          -0.8763260227341424,
          -2.2888323304718328,
          -1.1421484135205278,
          -2.2888328389046357,
          -2.1980533007987444,
          -0.9354838291665187,
          -2.1836971163520524,
          -1.1421483019914607,
          -0.8767914897027548,
          -1.9657632565624115,
          -1.142184146210637,
          -2.198056119317399,
          -2.159023404176652,
          -1.1445086842777985,
          -0.673249741228582,
          -1.1421635801396446,
          -1.2876654531438483,
          -1.1421867203846454,
          -2.1836366547863255,
          -2.0552185936273117,
          -2.285737166429204,
          -2.189005245526505,
          -2.2896047572554394,
          -0.8762558370354561,
          -1.142154409184208,
          -1.1421903981358488,
          -0.8762341048316795,
          -0.876214911582207,
          -2.2888489937887653,
          -2.133481159139939,
          -1.2021174339694753,
          -0.8768303634866812,
          -1.2864826404990057,
          -1.1483838130403767,
          -1.1102730226882653,
          -1.1421567174875529,
          -1.1421930057139216,
          -1.1421991233120898,
          -1.1421988848713223,
          -2.2888708799010176,
          -1.9770669680307429,
          -0.8766710313451088,
          -1.5452870875598677,
          -1.9657633411213506,
          -2.173277473058844,
          -1.142184113537282,
          -0.8763731141727407,
          -1.5452972870069253,
          -1.9833925789295597,
          -1.5452895673223095,
          -1.9053644058054653,
          -2.3350118122574774,
          -2.2888264965689724,
          -1.9890529299551936,
          -0.8765130643282714,
          -2.1840850092488653,
          -1.1442334035136172,
          -1.4477666386065968,
          -0.8762150881883766,
          -1.5452827030669127,
          -1.5455021541828449,
          -1.142174878567011,
          -0.8762160419135002,
          -1.2864816613583634,
          -1.0554586028899535,
          -2.0607809212500885,
          -2.2889898046268935,
          -1.1458580794229356,
          -2.173227681313852,
          -1.198158638651772,
          -1.1421679861740672,
          -1.1498507841819532,
          -0.8764541709680788,
          -1.9870348661403794,
          -2.2893962253842624,
          -1.1421585671736518,
          -2.1659286995810367,
          -1.965780376858034,
          -2.3239020485560022,
          -0.8762565809157342,
          -2.2888274341932973,
          -0.6732311140195567,
          -2.1980622529641,
          -2.029699630107664,
          -2.3237346243582553,
          -2.2891764516291357,
          -2.3455024832417655,
          -2.3889107737491293,
          -2.231129314998196,
          -2.2892892325806096,
          -1.1597705175581376,
          -2.3256558207051,
          -0.8762156306976964,
          -1.1421598151266275,
          -2.184625686833601,
          -2.057114964723594,
          -0.6391353914473337,
          -2.4328025890040372,
          -1.287253504166319,
          -0.8762180015744115,
          -1.1598164411723575,
          -1.969325103059357,
          -2.3237768009660464,
          -1.2864826411843762,
          -2.2932033959024642,
          -2.214189653911855,
          -2.2141390189269434,
          -2.077568307651245,
          -1.1422104151946217,
          -1.96590284843803,
          -1.9657674417491802,
          -1.686529650643068,
          -1.2865005376246321,
          -0.3500253700891053,
          -1.2865551093742527,
          -1.2004052747287985,
          -1.5467954848579142,
          -2.2182803064435634,
          -1.1425670960502035,
          -1.2864940018478752,
          -1.165252808473811,
          -1.3076010942673646,
          -1.1421488443452865,
          -1.1422395755558539,
          -1.9050806614165567,
          -2.0583326359093816,
          -1.9832381919114839,
          -2.289433319818788,
          -1.9657655489764259
         ],
         "z": [
          0.1957630187414922,
          0.396891290115905,
          0.003021982654634293,
          0.4329736564620043,
          0.3968694144278874,
          0.36218058898954325,
          0.36821705818476974,
          0.0030433743087813167,
          0.07406587165781667,
          0.0030374872183500656,
          0.372652590732452,
          -0.03418483074067876,
          0.19570795517301554,
          0.0029883011434489095,
          0.0030352904758692294,
          0.027411815622755114,
          0.1777171806745363,
          0.003033355092511047,
          0.003042986922511772,
          0.003044420450592757,
          0.07406770749496092,
          0.36744094500227764,
          0.18872373628971598,
          -0.0016081402879964024,
          0.0030393334712251687,
          0.002959474415678768,
          0.0030386441936761832,
          0.003045555403710016,
          0.24803349914587083,
          0.0026732729066069275,
          0.003022637293858239,
          0.0030288279486367226,
          -0.029913796460642943,
          0.1957621748840756,
          0.002980799842000665,
          0.003039853177665753,
          0.0030465241542065994,
          0.0030326962877217584,
          0.45106735542835497,
          0.0030444312652533004,
          0.0009611751252393814,
          0.1957638702313693,
          0.002924954518940039,
          0.0030446189840418352,
          0.003016248251140502,
          0.003035155573004376,
          0.1955334084767079,
          0.1957536624974975,
          0.19575964613517496,
          0.19576147433070165,
          0.19576976104375962,
          0.07407046404725932,
          0.003038541679230554,
          0.14760600569901264,
          0.0029892968501622334,
          0.1957550160283911,
          0.4373618501353032,
          0.0030185591287866017,
          0.0027733052053845676,
          0.0029941193916192183,
          0.003046646400420786,
          0.0029908015770874668,
          0.002738495584543276,
          0.35798121794008436,
          0.3732796574763639,
          0.35398779369160144,
          0.003043916903898218,
          0.0008470571232227277,
          0.4191752717261847,
          0.003046724375334921,
          0.1957644770120581,
          -0.005873187858976284,
          0.07405898797771589,
          0.3604544259188497,
          0.19576069101301102,
          0.07406451669489615,
          0.00301787498006919,
          0.0030025318345361053,
          0.3969155867409286,
          0.4600551984872587,
          0.07406500045429222,
          0.19576219940106346,
          0.0029705480447742095,
          0.522127834940181,
          0.0030201688461772907,
          0.18787147660191614,
          0.07405060364163832,
          0.43353858023910086,
          0.0030304569408202992,
          0.48006603786124175,
          0.0030432571121035614,
          0.07406471855883402,
          0.0030467254777024437,
          0.07406799457505238,
          0.277190102219008,
          0.44017146191515816,
          0.19576722868725419,
          0.37291382439766796,
          0.0029963768949321985,
          0.1957663772162089,
          0.003041073750990583,
          0.37504396898216014,
          0.3969104926783569,
          0.36218106119979276,
          0.0020249880803243957,
          0.0738024147967558,
          0.07403230405275757,
          0.44017222184567395,
          0.003046448001590071,
          0.44016959801079025,
          0.36046300182256624,
          0.0642317110868118,
          0.43295738230015657,
          0.0030457926368709426,
          0.07396571978626747,
          0.36218109995037173,
          0.003010609774887571,
          0.36045748683645895,
          0.31303709478115427,
          0.002642014040195362,
          -0.033579334803772246,
          0.0030380948962315094,
          0.1951757905367981,
          0.003036319909744949,
          0.43294964324815655,
          0.4398752598456086,
          0.4688192547336273,
          0.5417763444262875,
          0.4394977292538602,
          0.07405171327058471,
          0.003040241694500962,
          0.003038298848358854,
          0.07405801910159399,
          0.07406825378510354,
          0.440165504049969,
          0.4522427802373442,
          0.1875078742794776,
          0.07393144885624835,
          0.195763000484367,
          0.0020287637709972754,
          -0.035115794914742114,
          0.003042420977520253,
          0.003034147594682238,
          0.0030285418730275565,
          0.0030282563876644552,
          0.4401635130158564,
          0.3587577278019434,
          0.07317497848280036,
          0.24811803277650532,
          0.36217796861089885,
          0.43351878570707425,
          0.0030105706550478365,
          0.07399009292781906,
          0.24811569796551045,
          0.3968894743801102,
          0.24811712270012123,
          0.3731044869148002,
          0.42678756443673616,
          0.44017210614479724,
          0.39581144397474194,
          0.0739960262865237,
          0.43276358727632525,
          0.0015042746209028364,
          0.12081533993982949,
          0.07406773790489825,
          0.24811763209178428,
          0.24799327943508326,
          0.003028606853917383,
          0.07406629373533795,
          0.19576250215166444,
          0.11185473997419412,
          0.31945421827187964,
          0.4401061999743321,
          -0.0005912267997295824,
          0.4335046740346389,
          0.14734934951924356,
          0.0030397500769806566,
          -0.002604820377575068,
          0.07396592048373579,
          0.39622372343259826,
          0.44005619933495504,
          0.0030438274629929953,
          0.438806494395283,
          0.36215876638583,
          0.3750116801371352,
          0.07405260391916578,
          0.44016846070490234,
          -0.03357961359827594,
          0.36046056364941653,
          0.3480048671036957,
          0.375045181102609,
          0.440116321782842,
          0.33466891199805854,
          0.4113144396278999,
          0.28412819059357036,
          0.43992809674705047,
          0.22015468545028027,
          0.5071360054824318,
          0.0740674176772425,
          0.0030444284249923257,
          0.4328044129440352,
          0.5390294025603836,
          0.02502661457873261,
          0.2902360362285563,
          0.1950058218225587,
          0.07406702374826706,
          0.22014669566639808,
          0.36031753495046653,
          0.3750362805023901,
          0.1957630013049613,
          0.43889285820751733,
          0.43958271664188103,
          0.43958665503958494,
          0.48560878543789154,
          0.003025898745101956,
          0.3621495912765948,
          0.36217488897024147,
          0.3539763471796587,
          0.1957496784740775,
          -0.07120629609864666,
          0.19573097015168323,
          -0.006479434754836094,
          0.2467132762839331,
          0.4389083926998976,
          0.0027417850463644197,
          0.1957596323830613,
          -0.009695718571705803,
          0.17770880674081083,
          0.0030451166390251254,
          0.0030107074533881023,
          0.3732958727001295,
          0.34092441259679795,
          0.3969111175697165,
          0.43977717443889935,
          0.3621806120779275
         ]
        },
        {
         "customdata": [
          [
           "Proof-of-BibleHash"
          ],
          [
           "Proof-of-Authority"
          ],
          [
           "Leased POS"
          ]
         ],
         "hovertemplate": "<b>%{hovertext}</b><br><br>Class=%{marker.color}<br>PC 1=%{x}<br>PC 2=%{y}<br>PC 3=%{z}<br>Algorithm=%{customdata[0]}<extra></extra>",
         "hovertext": [
          "BiblePay",
          "Poa Network",
          "Waves"
         ],
         "legendgroup": "3",
         "marker": {
          "color": [
           3,
           3,
           3
          ],
          "coloraxis": "coloraxis",
          "symbol": "x"
         },
         "mode": "markers",
         "name": "3",
         "scene": "scene",
         "showlegend": true,
         "type": "scatter3d",
         "x": [
          -0.360279104210363,
          -0.3997988407525276,
          -0.2982539351577252
         ],
         "y": [
          5.359051699939999,
          3.425246007792903,
          1.9244206646655642
         ],
         "z": [
          13.630233971209186,
          17.172601240967925,
          19.052452881621573
         ]
        },
        {
         "customdata": [
          [
           "SHA-256 + Hive"
          ],
          [
           "ECC 256K1"
          ]
         ],
         "hovertemplate": "<b>%{hovertext}</b><br><br>Class=%{marker.color}<br>PC 1=%{x}<br>PC 2=%{y}<br>PC 3=%{z}<br>Algorithm=%{customdata[0]}<extra></extra>",
         "hovertext": [
          "LitecoinCash",
          "Acute Angle Cloud"
         ],
         "legendgroup": "5",
         "marker": {
          "color": [
           5,
           5
          ],
          "coloraxis": "coloraxis",
          "symbol": "cross"
         },
         "mode": "markers",
         "name": "5",
         "scene": "scene",
         "showlegend": true,
         "type": "scatter3d",
         "x": [
          -0.32442449142136204,
          -0.32181101458862044
         ],
         "y": [
          2.7875067198855468,
          2.5714994659787695
         ],
         "z": [
          8.180782188259016,
          8.98069895959506
         ]
        },
        {
         "customdata": [
          [
           "TRC10"
          ]
         ],
         "hovertemplate": "<b>%{hovertext}</b><br><br>Class=%{marker.color}<br>PC 1=%{x}<br>PC 2=%{y}<br>PC 3=%{z}<br>Algorithm=%{customdata[0]}<extra></extra>",
         "hovertext": [
          "BitTorrent"
         ],
         "legendgroup": "2",
         "marker": {
          "color": [
           2
          ],
          "coloraxis": "coloraxis",
          "symbol": "circle"
         },
         "mode": "markers",
         "name": "2",
         "scene": "scene",
         "showlegend": true,
         "type": "scatter3d",
         "x": [
          34.145364688700035
         ],
         "y": [
          1.4350932301247383
         ],
         "z": [
          -0.363280555115869
         ]
        }
       ],
       "layout": {
        "coloraxis": {
         "colorbar": {
          "title": {
           "text": "Class"
          }
         },
         "colorscale": [
          [
           0,
           "#0d0887"
          ],
          [
           0.1111111111111111,
           "#46039f"
          ],
          [
           0.2222222222222222,
           "#7201a8"
          ],
          [
           0.3333333333333333,
           "#9c179e"
          ],
          [
           0.4444444444444444,
           "#bd3786"
          ],
          [
           0.5555555555555556,
           "#d8576b"
          ],
          [
           0.6666666666666666,
           "#ed7953"
          ],
          [
           0.7777777777777778,
           "#fb9f3a"
          ],
          [
           0.8888888888888888,
           "#fdca26"
          ],
          [
           1,
           "#f0f921"
          ]
         ]
        },
        "legend": {
         "title": {
          "text": "Class"
         },
         "tracegroupgap": 0,
         "x": 0,
         "y": 1
        },
        "margin": {
         "t": 60
        },
        "scene": {
         "domain": {
          "x": [
           0,
           1
          ],
          "y": [
           0,
           1
          ]
         },
         "xaxis": {
          "title": {
           "text": "PC 1"
          }
         },
         "yaxis": {
          "title": {
           "text": "PC 2"
          }
         },
         "zaxis": {
          "title": {
           "text": "PC 3"
          }
         }
        },
        "template": {
         "data": {
          "bar": [
           {
            "error_x": {
             "color": "#2a3f5f"
            },
            "error_y": {
             "color": "#2a3f5f"
            },
            "marker": {
             "line": {
              "color": "#E5ECF6",
              "width": 0.5
             }
            },
            "type": "bar"
           }
          ],
          "barpolar": [
           {
            "marker": {
             "line": {
              "color": "#E5ECF6",
              "width": 0.5
             }
            },
            "type": "barpolar"
           }
          ],
          "carpet": [
           {
            "aaxis": {
             "endlinecolor": "#2a3f5f",
             "gridcolor": "white",
             "linecolor": "white",
             "minorgridcolor": "white",
             "startlinecolor": "#2a3f5f"
            },
            "baxis": {
             "endlinecolor": "#2a3f5f",
             "gridcolor": "white",
             "linecolor": "white",
             "minorgridcolor": "white",
             "startlinecolor": "#2a3f5f"
            },
            "type": "carpet"
           }
          ],
          "choropleth": [
           {
            "colorbar": {
             "outlinewidth": 0,
             "ticks": ""
            },
            "type": "choropleth"
           }
          ],
          "contour": [
           {
            "colorbar": {
             "outlinewidth": 0,
             "ticks": ""
            },
            "colorscale": [
             [
              0,
              "#0d0887"
             ],
             [
              0.1111111111111111,
              "#46039f"
             ],
             [
              0.2222222222222222,
              "#7201a8"
             ],
             [
              0.3333333333333333,
              "#9c179e"
             ],
             [
              0.4444444444444444,
              "#bd3786"
             ],
             [
              0.5555555555555556,
              "#d8576b"
             ],
             [
              0.6666666666666666,
              "#ed7953"
             ],
             [
              0.7777777777777778,
              "#fb9f3a"
             ],
             [
              0.8888888888888888,
              "#fdca26"
             ],
             [
              1,
              "#f0f921"
             ]
            ],
            "type": "contour"
           }
          ],
          "contourcarpet": [
           {
            "colorbar": {
             "outlinewidth": 0,
             "ticks": ""
            },
            "type": "contourcarpet"
           }
          ],
          "heatmap": [
           {
            "colorbar": {
             "outlinewidth": 0,
             "ticks": ""
            },
            "colorscale": [
             [
              0,
              "#0d0887"
             ],
             [
              0.1111111111111111,
              "#46039f"
             ],
             [
              0.2222222222222222,
              "#7201a8"
             ],
             [
              0.3333333333333333,
              "#9c179e"
             ],
             [
              0.4444444444444444,
              "#bd3786"
             ],
             [
              0.5555555555555556,
              "#d8576b"
             ],
             [
              0.6666666666666666,
              "#ed7953"
             ],
             [
              0.7777777777777778,
              "#fb9f3a"
             ],
             [
              0.8888888888888888,
              "#fdca26"
             ],
             [
              1,
              "#f0f921"
             ]
            ],
            "type": "heatmap"
           }
          ],
          "heatmapgl": [
           {
            "colorbar": {
             "outlinewidth": 0,
             "ticks": ""
            },
            "colorscale": [
             [
              0,
              "#0d0887"
             ],
             [
              0.1111111111111111,
              "#46039f"
             ],
             [
              0.2222222222222222,
              "#7201a8"
             ],
             [
              0.3333333333333333,
              "#9c179e"
             ],
             [
              0.4444444444444444,
              "#bd3786"
             ],
             [
              0.5555555555555556,
              "#d8576b"
             ],
             [
              0.6666666666666666,
              "#ed7953"
             ],
             [
              0.7777777777777778,
              "#fb9f3a"
             ],
             [
              0.8888888888888888,
              "#fdca26"
             ],
             [
              1,
              "#f0f921"
             ]
            ],
            "type": "heatmapgl"
           }
          ],
          "histogram": [
           {
            "marker": {
             "colorbar": {
              "outlinewidth": 0,
              "ticks": ""
             }
            },
            "type": "histogram"
           }
          ],
          "histogram2d": [
           {
            "colorbar": {
             "outlinewidth": 0,
             "ticks": ""
            },
            "colorscale": [
             [
              0,
              "#0d0887"
             ],
             [
              0.1111111111111111,
              "#46039f"
             ],
             [
              0.2222222222222222,
              "#7201a8"
             ],
             [
              0.3333333333333333,
              "#9c179e"
             ],
             [
              0.4444444444444444,
              "#bd3786"
             ],
             [
              0.5555555555555556,
              "#d8576b"
             ],
             [
              0.6666666666666666,
              "#ed7953"
             ],
             [
              0.7777777777777778,
              "#fb9f3a"
             ],
             [
              0.8888888888888888,
              "#fdca26"
             ],
             [
              1,
              "#f0f921"
             ]
            ],
            "type": "histogram2d"
           }
          ],
          "histogram2dcontour": [
           {
            "colorbar": {
             "outlinewidth": 0,
             "ticks": ""
            },
            "colorscale": [
             [
              0,
              "#0d0887"
             ],
             [
              0.1111111111111111,
              "#46039f"
             ],
             [
              0.2222222222222222,
              "#7201a8"
             ],
             [
              0.3333333333333333,
              "#9c179e"
             ],
             [
              0.4444444444444444,
              "#bd3786"
             ],
             [
              0.5555555555555556,
              "#d8576b"
             ],
             [
              0.6666666666666666,
              "#ed7953"
             ],
             [
              0.7777777777777778,
              "#fb9f3a"
             ],
             [
              0.8888888888888888,
              "#fdca26"
             ],
             [
              1,
              "#f0f921"
             ]
            ],
            "type": "histogram2dcontour"
           }
          ],
          "mesh3d": [
           {
            "colorbar": {
             "outlinewidth": 0,
             "ticks": ""
            },
            "type": "mesh3d"
           }
          ],
          "parcoords": [
           {
            "line": {
             "colorbar": {
              "outlinewidth": 0,
              "ticks": ""
             }
            },
            "type": "parcoords"
           }
          ],
          "pie": [
           {
            "automargin": true,
            "type": "pie"
           }
          ],
          "scatter": [
           {
            "marker": {
             "colorbar": {
              "outlinewidth": 0,
              "ticks": ""
             }
            },
            "type": "scatter"
           }
          ],
          "scatter3d": [
           {
            "line": {
             "colorbar": {
              "outlinewidth": 0,
              "ticks": ""
             }
            },
            "marker": {
             "colorbar": {
              "outlinewidth": 0,
              "ticks": ""
             }
            },
            "type": "scatter3d"
           }
          ],
          "scattercarpet": [
           {
            "marker": {
             "colorbar": {
              "outlinewidth": 0,
              "ticks": ""
             }
            },
            "type": "scattercarpet"
           }
          ],
          "scattergeo": [
           {
            "marker": {
             "colorbar": {
              "outlinewidth": 0,
              "ticks": ""
             }
            },
            "type": "scattergeo"
           }
          ],
          "scattergl": [
           {
            "marker": {
             "colorbar": {
              "outlinewidth": 0,
              "ticks": ""
             }
            },
            "type": "scattergl"
           }
          ],
          "scattermapbox": [
           {
            "marker": {
             "colorbar": {
              "outlinewidth": 0,
              "ticks": ""
             }
            },
            "type": "scattermapbox"
           }
          ],
          "scatterpolar": [
           {
            "marker": {
             "colorbar": {
              "outlinewidth": 0,
              "ticks": ""
             }
            },
            "type": "scatterpolar"
           }
          ],
          "scatterpolargl": [
           {
            "marker": {
             "colorbar": {
              "outlinewidth": 0,
              "ticks": ""
             }
            },
            "type": "scatterpolargl"
           }
          ],
          "scatterternary": [
           {
            "marker": {
             "colorbar": {
              "outlinewidth": 0,
              "ticks": ""
             }
            },
            "type": "scatterternary"
           }
          ],
          "surface": [
           {
            "colorbar": {
             "outlinewidth": 0,
             "ticks": ""
            },
            "colorscale": [
             [
              0,
              "#0d0887"
             ],
             [
              0.1111111111111111,
              "#46039f"
             ],
             [
              0.2222222222222222,
              "#7201a8"
             ],
             [
              0.3333333333333333,
              "#9c179e"
             ],
             [
              0.4444444444444444,
              "#bd3786"
             ],
             [
              0.5555555555555556,
              "#d8576b"
             ],
             [
              0.6666666666666666,
              "#ed7953"
             ],
             [
              0.7777777777777778,
              "#fb9f3a"
             ],
             [
              0.8888888888888888,
              "#fdca26"
             ],
             [
              1,
              "#f0f921"
             ]
            ],
            "type": "surface"
           }
          ],
          "table": [
           {
            "cells": {
             "fill": {
              "color": "#EBF0F8"
             },
             "line": {
              "color": "white"
             }
            },
            "header": {
             "fill": {
              "color": "#C8D4E3"
             },
             "line": {
              "color": "white"
             }
            },
            "type": "table"
           }
          ]
         },
         "layout": {
          "annotationdefaults": {
           "arrowcolor": "#2a3f5f",
           "arrowhead": 0,
           "arrowwidth": 1
          },
          "autotypenumbers": "strict",
          "coloraxis": {
           "colorbar": {
            "outlinewidth": 0,
            "ticks": ""
           }
          },
          "colorscale": {
           "diverging": [
            [
             0,
             "#8e0152"
            ],
            [
             0.1,
             "#c51b7d"
            ],
            [
             0.2,
             "#de77ae"
            ],
            [
             0.3,
             "#f1b6da"
            ],
            [
             0.4,
             "#fde0ef"
            ],
            [
             0.5,
             "#f7f7f7"
            ],
            [
             0.6,
             "#e6f5d0"
            ],
            [
             0.7,
             "#b8e186"
            ],
            [
             0.8,
             "#7fbc41"
            ],
            [
             0.9,
             "#4d9221"
            ],
            [
             1,
             "#276419"
            ]
           ],
           "sequential": [
            [
             0,
             "#0d0887"
            ],
            [
             0.1111111111111111,
             "#46039f"
            ],
            [
             0.2222222222222222,
             "#7201a8"
            ],
            [
             0.3333333333333333,
             "#9c179e"
            ],
            [
             0.4444444444444444,
             "#bd3786"
            ],
            [
             0.5555555555555556,
             "#d8576b"
            ],
            [
             0.6666666666666666,
             "#ed7953"
            ],
            [
             0.7777777777777778,
             "#fb9f3a"
            ],
            [
             0.8888888888888888,
             "#fdca26"
            ],
            [
             1,
             "#f0f921"
            ]
           ],
           "sequentialminus": [
            [
             0,
             "#0d0887"
            ],
            [
             0.1111111111111111,
             "#46039f"
            ],
            [
             0.2222222222222222,
             "#7201a8"
            ],
            [
             0.3333333333333333,
             "#9c179e"
            ],
            [
             0.4444444444444444,
             "#bd3786"
            ],
            [
             0.5555555555555556,
             "#d8576b"
            ],
            [
             0.6666666666666666,
             "#ed7953"
            ],
            [
             0.7777777777777778,
             "#fb9f3a"
            ],
            [
             0.8888888888888888,
             "#fdca26"
            ],
            [
             1,
             "#f0f921"
            ]
           ]
          },
          "colorway": [
           "#636efa",
           "#EF553B",
           "#00cc96",
           "#ab63fa",
           "#FFA15A",
           "#19d3f3",
           "#FF6692",
           "#B6E880",
           "#FF97FF",
           "#FECB52"
          ],
          "font": {
           "color": "#2a3f5f"
          },
          "geo": {
           "bgcolor": "white",
           "lakecolor": "white",
           "landcolor": "#E5ECF6",
           "showlakes": true,
           "showland": true,
           "subunitcolor": "white"
          },
          "hoverlabel": {
           "align": "left"
          },
          "hovermode": "closest",
          "mapbox": {
           "style": "light"
          },
          "paper_bgcolor": "white",
          "plot_bgcolor": "#E5ECF6",
          "polar": {
           "angularaxis": {
            "gridcolor": "white",
            "linecolor": "white",
            "ticks": ""
           },
           "bgcolor": "#E5ECF6",
           "radialaxis": {
            "gridcolor": "white",
            "linecolor": "white",
            "ticks": ""
           }
          },
          "scene": {
           "xaxis": {
            "backgroundcolor": "#E5ECF6",
            "gridcolor": "white",
            "gridwidth": 2,
            "linecolor": "white",
            "showbackground": true,
            "ticks": "",
            "zerolinecolor": "white"
           },
           "yaxis": {
            "backgroundcolor": "#E5ECF6",
            "gridcolor": "white",
            "gridwidth": 2,
            "linecolor": "white",
            "showbackground": true,
            "ticks": "",
            "zerolinecolor": "white"
           },
           "zaxis": {
            "backgroundcolor": "#E5ECF6",
            "gridcolor": "white",
            "gridwidth": 2,
            "linecolor": "white",
            "showbackground": true,
            "ticks": "",
            "zerolinecolor": "white"
           }
          },
          "shapedefaults": {
           "line": {
            "color": "#2a3f5f"
           }
          },
          "ternary": {
           "aaxis": {
            "gridcolor": "white",
            "linecolor": "white",
            "ticks": ""
           },
           "baxis": {
            "gridcolor": "white",
            "linecolor": "white",
            "ticks": ""
           },
           "bgcolor": "#E5ECF6",
           "caxis": {
            "gridcolor": "white",
            "linecolor": "white",
            "ticks": ""
           }
          },
          "title": {
           "x": 0.05
          },
          "xaxis": {
           "automargin": true,
           "gridcolor": "white",
           "linecolor": "white",
           "ticks": "",
           "title": {
            "standoff": 15
           },
           "zerolinecolor": "white",
           "zerolinewidth": 2
          },
          "yaxis": {
           "automargin": true,
           "gridcolor": "white",
           "linecolor": "white",
           "ticks": "",
           "title": {
            "standoff": 15
           },
           "zerolinecolor": "white",
           "zerolinewidth": 2
          }
         }
        },
        "width": 800
       }
      },
      "text/html": [
       "<div>                            <div id=\"c2ab2eab-d1a9-4848-b87e-8fda284f68aa\" class=\"plotly-graph-div\" style=\"height:525px; width:800px;\"></div>            <script type=\"text/javascript\">                require([\"plotly\"], function(Plotly) {                    window.PLOTLYENV=window.PLOTLYENV || {};                                    if (document.getElementById(\"c2ab2eab-d1a9-4848-b87e-8fda284f68aa\")) {                    Plotly.newPlot(                        \"c2ab2eab-d1a9-4848-b87e-8fda284f68aa\",                        [{\"customdata\": [[\"Scrypt\"], [\"Scrypt\"], [\"X11\"], [\"SHA-512\"], [\"SHA-256\"], [\"SHA-256\"], [\"X15\"], [\"Scrypt\"], [\"Scrypt\"], [\"Scrypt\"], [\"Scrypt\"], [\"Scrypt\"], [\"Scrypt\"], [\"Groestl\"], [\"PoS\"], [\"Scrypt\"], [\"Scrypt\"], [\"X11\"], [\"X11\"], [\"SHA3\"], [\"Scrypt\"], [\"SHA-256\"], [\"Scrypt\"], [\"X13\"], [\"X13\"], [\"NeoScrypt\"], [\"Scrypt\"], [\"Scrypt\"], [\"Scrypt\"], [\"X11\"], [\"X11\"], [\"Multiple\"], [\"PHI1612\"], [\"X11\"], [\"Scrypt\"], [\"Scrypt\"], [\"Scrypt\"], [\"X11\"], [\"Multiple\"], [\"X13\"], [\"Scrypt\"], [\"Shabal256\"], [\"Counterparty\"], [\"SHA-256\"], [\"Groestl\"], [\"Scrypt\"], [\"X13\"], [\"Scrypt\"], [\"Scrypt\"], [\"X13\"], [\"X11\"], [\"Scrypt\"], [\"X11\"], [\"SHA3\"], [\"QUAIT\"], [\"X11\"], [\"Scrypt\"], [\"X13\"], [\"SHA-256\"], [\"X15\"], [\"BLAKE256\"], [\"SHA-256\"], [\"X11\"], [\"SHA-256\"], [\"NIST5\"], [\"Scrypt\"], [\"Scrypt\"], [\"X11\"], [\"Scrypt\"], [\"SHA-256\"], [\"Scrypt\"], [\"PoS\"], [\"X11\"], [\"SHA-256\"], [\"SHA-256\"], [\"NIST5\"], [\"X11\"], [\"POS 3.0\"], [\"Scrypt\"], [\"Scrypt\"], [\"Scrypt\"], [\"X13\"], [\"X11\"], [\"X11\"], [\"Scrypt\"], [\"SHA-256\"], [\"X11\"], [\"Scrypt\"], [\"Scrypt\"], [\"Scrypt\"], [\"Scrypt\"], [\"SHA-256D\"], [\"PoS\"], [\"Scrypt\"], [\"X11\"], [\"PoS\"], [\"X13\"], [\"X14\"], [\"PoS\"], [\"SHA-256D\"], [\"X11\"], [\"X13\"], [\"X11\"], [\"PoS\"], [\"Scrypt\"], [\"Scrypt\"], [\"PoS\"], [\"X11\"], [\"SHA-256\"], [\"Scrypt\"], [\"X11\"], [\"Scrypt\"], [\"Scrypt\"], [\"X11\"], [\"Scrypt\"], [\"Scrypt\"], [\"Scrypt\"], [\"Scrypt\"], [\"Quark\"], [\"QuBit\"], [\"Scrypt\"], [\"SHA-256\"], [\"X11\"], [\"Scrypt\"], [\"Scrypt\"], [\"Scrypt\"], [\"Scrypt\"], [\"X13\"], [\"Scrypt\"], [\"Scrypt\"], [\"X11\"], [\"Blake2S\"], [\"X11\"], [\"PoS\"], [\"X11\"], [\"PoS\"], [\"X11\"], [\"Scrypt\"], [\"Scrypt\"], [\"Scrypt\"], [\"SHA-256\"], [\"X11\"], [\"Scrypt\"], [\"PoS\"], [\"Scrypt\"], [\"X15\"], [\"SHA-256\"], [\"POS 3.0\"], [\"536\"], [\"NIST5\"], [\"NIST5\"], [\"Skein\"], [\"X13\"], [\"Scrypt\"], [\"X13\"], [\"SkunkHash v2 Raptor\"], [\"Skein\"], [\"X11\"], [\"Scrypt\"], [\"PoS\"], [\"Scrypt\"], [\"Scrypt\"], [\"SHA-512\"], [\"Ouroboros\"], [\"X11\"], [\"NeoScrypt\"], [\"Scrypt\"], [\"Lyra2REv2\"], [\"Scrypt\"], [\"SHA-256\"], [\"NIST5\"], [\"PHI1612\"], [\"Scrypt\"], [\"Quark\"], [\"POS 2.0\"], [\"Scrypt\"], [\"SHA-256\"], [\"X11\"], [\"NIST5\"], [\"X13\"], [\"Scrypt\"], [\"NIST5\"], [\"Quark\"], [\"Scrypt\"], [\"Scrypt\"], [\"X11\"], [\"Quark\"], [\"Scrypt\"], [\"Scrypt\"], [\"X11\"], [\"POS 3.0\"], [\"Ethash\"], [\"Scrypt\"], [\"Scrypt\"], [\"X13\"], [\"C11\"], [\"X11\"], [\"XEVAN\"], [\"Scrypt\"], [\"VBFT\"], [\"NIST5\"], [\"Scrypt\"], [\"Scrypt\"], [\"Scrypt\"], [\"Green Protocol\"], [\"PoS\"], [\"Scrypt\"], [\"Quark\"], [\"PoS\"], [\"X16R\"], [\"Scrypt\"], [\"XEVAN\"], [\"Scrypt\"], [\"Scrypt\"], [\"Scrypt\"], [\"SHA-256D\"], [\"Scrypt\"], [\"X15\"], [\"Quark\"], [\"SHA-256\"], [\"DPoS\"], [\"X16R\"], [\"Quark\"], [\"Quark\"], [\"Scrypt\"], [\"Lyra2REv2\"], [\"Quark\"], [\"Scrypt\"], [\"X11\"], [\"X11\"], [\"Scrypt\"], [\"PoS\"], [\"Keccak\"], [\"X11\"], [\"Scrypt\"], [\"SHA-512\"], [\"XEVAN\"], [\"XEVAN\"], [\"X11\"], [\"Quark\"], [\"Equihash\"], [\"Scrypt\"], [\"Quark\"], [\"Quark\"], [\"Scrypt\"], [\"X11\"], [\"Scrypt\"], [\"XEVAN\"], [\"SHA-256D\"], [\"X11\"], [\"X11\"], [\"Scrypt\"], [\"X11\"], [\"Scrypt\"], [\"Scrypt\"], [\"SHA-256\"], [\"Scrypt\"], [\"X11\"], [\"Scrypt\"], [\"SHA-256\"], [\"X11\"], [\"Scrypt\"], [\"Scrypt\"], [\"X11\"], [\"Scrypt\"], [\"PoS\"], [\"X11\"], [\"SHA-256\"], [\"Scrypt\"], [\"Scrypt\"], [\"NeoScrypt\"], [\"SHA3-256\"], [\"X13\"], [\"SHA-256\"], [\"PoS\"], [\"PoS\"], [\"Scrypt\"], [\"Scrypt\"]], \"hovertemplate\": \"<b>%{hovertext}</b><br><br>Class=%{marker.color}<br>PC 1=%{x}<br>PC 2=%{y}<br>PC 3=%{z}<br>Algorithm=%{customdata[0]}<extra></extra>\", \"hovertext\": [\"42 Coin\", \"404Coin\", \"Dash\", \"Bitshares\", \"BitcoinDark\", \"PayCoin\", \"KoboCoin\", \"Aurora Coin\", \"BlueCoin\", \"EnergyCoin\", \"BitBar\", \"CryptoBullion\", \"CasinoCoin\", \"Diamond\", \"Exclusive Coin\", \"FlutterCoin\", \"HoboNickels\", \"HyperStake\", \"IOCoin\", \"MaxCoin\", \"MintCoin\", \"MazaCoin\", \"Nautilus Coin\", \"NavCoin\", \"OpalCoin\", \"Orbitcoin\", \"PotCoin\", \"PhoenixCoin\", \"Reddcoin\", \"SuperCoin\", \"SyncCoin\", \"TeslaCoin\", \"TittieCoin\", \"TorCoin\", \"UnitaryStatus Dollar\", \"UltraCoin\", \"VeriCoin\", \"X11 Coin\", \"Crypti\", \"StealthCoin\", \"ZCC Coin\", \"BurstCoin\", \"StorjCoin\", \"Neutron\", \"FairCoin\", \"RubyCoin\", \"Kore\", \"Dnotes\", \"8BIT Coin\", \"Sativa Coin\", \"Ucoin\", \"Vtorrent\", \"IslaCoin\", \"Nexus\", \"Droidz\", \"Squall Coin\", \"Diggits\", \"Paycon\", \"Emercoin\", \"EverGreenCoin\", \"Decred\", \"EDRCoin\", \"Hitcoin\", \"DubaiCoin\", \"PWR Coin\", \"BillaryCoin\", \"GPU Coin\", \"EuropeCoin\", \"ZeitCoin\", \"SwingCoin\", \"SafeExchangeCoin\", \"Nebuchadnezzar\", \"Ratecoin\", \"Revenu\", \"Clockcoin\", \"VIP Tokens\", \"BitSend\", \"Let it Ride\", \"PutinCoin\", \"iBankCoin\", \"Frankywillcoin\", \"MudraCoin\", \"Lutetium Coin\", \"GoldBlocks\", \"CarterCoin\", \"BitTokens\", \"MustangCoin\", \"ZoneCoin\", \"RootCoin\", \"BitCurrency\", \"Swiscoin\", \"BuzzCoin\", \"Opair\", \"PesoBit\", \"Halloween Coin\", \"CoffeeCoin\", \"RoyalCoin\", \"GanjaCoin V2\", \"TeamUP\", \"LanaCoin\", \"InsaneCoin\", \"EmberCoin\", \"XenixCoin\", \"FreeCoin\", \"PLNCoin\", \"AquariusCoin\", \"Creatio\", \"Eternity\", \"Eurocoin\", \"BitcoinFast\", \"Stakenet\", \"BitConnect Coin\", \"MoneyCoin\", \"Enigma\", \"Russiacoin\", \"PandaCoin\", \"GameUnits\", \"GAKHcoin\", \"Allsafe\", \"LiteCreed\", \"Klingon Empire Darsek\", \"Internet of People\", \"KushCoin\", \"Printerium\", \"Impeach\", \"Zilbercoin\", \"FirstCoin\", \"FindCoin\", \"OpenChat\", \"RenosCoin\", \"VirtacoinPlus\", \"TajCoin\", \"Impact\", \"Atmos\", \"HappyCoin\", \"MacronCoin\", \"Condensate\", \"Independent Money System\", \"ArgusCoin\", \"LomoCoin\", \"ProCurrency\", \"GoldReserve\", \"GrowthCoin\", \"Phreak\", \"Degas Coin\", \"HTML5 Coin\", \"Ultimate Secure Cash\", \"QTUM\", \"Espers\", \"Denarius\", \"Virta Unique Coin\", \"Bitcoin Planet\", \"BritCoin\", \"Linda\", \"DeepOnion\", \"Signatum\", \"Cream\", \"Monoeci\", \"Draftcoin\", \"Stakecoin\", \"CoinonatX\", \"Ethereum Dark\", \"Obsidian\", \"Cardano\", \"Regalcoin\", \"TrezarCoin\", \"TerraNovaCoin\", \"Rupee\", \"WomenCoin\", \"Theresa May Coin\", \"NamoCoin\", \"LUXCoin\", \"Xios\", \"Bitcloud 2.0\", \"KekCoin\", \"BlackholeCoin\", \"Infinity Economics\", \"Magnet\", \"Electra\", \"Bitcoin Diamond\", \"Cash & Back Coin\", \"Bulwark\", \"Kalkulus\", \"GermanCoin\", \"LiteCoin Ultra\", \"PhantomX\", \"Digiwage\", \"Trollcoin\", \"Litecoin Plus\", \"Monkey Project\", \"TokenPay\", \"1717 Masonic Commemorative Token\", \"My Big Coin\", \"Unified Society USDEX\", \"Tokyo Coin\", \"Stipend\", \"Pushi\", \"Ellerium\", \"Velox\", \"Ontology\", \"Bitspace\", \"Briacoin\", \"Ignition\", \"MedicCoin\", \"Bitcoin Green\", \"Deviant Coin\", \"Abjcoin\", \"Carebit\", \"Zealium\", \"Proton\", \"iDealCash\", \"Bitcoin Incognito\", \"HollyWoodCoin\", \"Swisscoin\", \"Xt3ch\", \"TheVig\", \"EmaratCoin\", \"Dekado\", \"Poseidon Quark\", \"BitcoinWSpectrum\", \"Muse\", \"Trivechain\", \"Dystem\", \"Giant\", \"Peony Coin\", \"Absolute Coin\", \"Vitae\", \"TPCash\", \"ARENON\", \"EUNO\", \"MMOCoin\", \"Ketan\", \"XDNA\", \"PAXEX\", \"ThunderStake\", \"Kcash\", \"Bettex coin\", \"BitMoney\", \"Junson Ming Chan Coin\", \"HerbCoin\", \"PirateCash\", \"Oduwa\", \"Galilel\", \"Crypto Sports\", \"Credit\", \"Dash Platinum\", \"Nasdacoin\", \"Beetle Coin\", \"Titan Coin\", \"Award\", \"Insane Coin\", \"LiteDoge\", \"TruckCoin\", \"OrangeCoin\", \"BitstarCoin\", \"NeosCoin\", \"HyperCoin\", \"PinkCoin\", \"AudioCoin\", \"IncaKoin\", \"Piggy Coin\", \"Genstake\", \"XiaoMiCoin\", \"CapriCoin\", \" ClubCoin\", \"Radium\", \"Creditbit \", \"OKCash\", \"HiCoin\", \"WhiteCoin\", \"FriendshipCoin\", \"Fiii\", \"Triangles Coin\", \"TigerCash\", \"Particl\", \"Nxt\", \"Gapcoin\", \"BitcoinPlus\"], \"legendgroup\": \"0\", \"marker\": {\"color\": [0, 0, 0, 0, 0, 0, 0, 0, 0, 0, 0, 0, 0, 0, 0, 0, 0, 0, 0, 0, 0, 0, 0, 0, 0, 0, 0, 0, 0, 0, 0, 0, 0, 0, 0, 0, 0, 0, 0, 0, 0, 0, 0, 0, 0, 0, 0, 0, 0, 0, 0, 0, 0, 0, 0, 0, 0, 0, 0, 0, 0, 0, 0, 0, 0, 0, 0, 0, 0, 0, 0, 0, 0, 0, 0, 0, 0, 0, 0, 0, 0, 0, 0, 0, 0, 0, 0, 0, 0, 0, 0, 0, 0, 0, 0, 0, 0, 0, 0, 0, 0, 0, 0, 0, 0, 0, 0, 0, 0, 0, 0, 0, 0, 0, 0, 0, 0, 0, 0, 0, 0, 0, 0, 0, 0, 0, 0, 0, 0, 0, 0, 0, 0, 0, 0, 0, 0, 0, 0, 0, 0, 0, 0, 0, 0, 0, 0, 0, 0, 0, 0, 0, 0, 0, 0, 0, 0, 0, 0, 0, 0, 0, 0, 0, 0, 0, 0, 0, 0, 0, 0, 0, 0, 0, 0, 0, 0, 0, 0, 0, 0, 0, 0, 0, 0, 0, 0, 0, 0, 0, 0, 0, 0, 0, 0, 0, 0, 0, 0, 0, 0, 0, 0, 0, 0, 0, 0, 0, 0, 0, 0, 0, 0, 0, 0, 0, 0, 0, 0, 0, 0, 0, 0, 0, 0, 0, 0, 0, 0, 0, 0, 0, 0, 0, 0, 0, 0, 0, 0, 0, 0, 0, 0, 0, 0, 0, 0, 0, 0, 0, 0, 0, 0, 0, 0, 0, 0, 0, 0, 0, 0, 0, 0, 0, 0, 0, 0, 0, 0, 0, 0, 0, 0, 0, 0, 0, 0, 0], \"coloraxis\": \"coloraxis\", \"symbol\": \"circle\"}, \"mode\": \"markers\", \"name\": \"0\", \"scene\": \"scene\", \"showlegend\": true, \"type\": \"scatter3d\", \"x\": [-0.317621723509612, -0.3008902754697042, -0.40417439107338626, -0.19546472760927722, -0.3204947570663429, -0.2728932542734229, -0.23390771926257312, -0.31727985213811344, -0.3098281326025446, -0.3161123362947754, -0.3176176406024626, -0.3176018564133212, 0.6668737771935297, -0.36876783269676644, -0.35416074138536785, -0.24230560666126247, -0.3156720945553111, -0.336316653025018, -0.4040686698439112, -0.38272588773808847, -0.008909934233396402, -0.283641424896142, -0.26977017028616573, -0.2856706126649022, -0.2862952875163204, -0.35753243518691386, -0.3118989068624209, -0.31601655078284263, 0.04193913197390741, -0.35628207370050513, -0.4044418449675247, -0.23625706057947685, -0.3022725480277772, -0.4043530750834703, -0.2927461433067616, -0.3162932849065712, -0.2680851357021364, -0.40431743705780965, -0.236727246770724, -0.28607528246326935, -0.3086836441044442, -0.06021741044018204, -0.2893078552351542, -0.3197030745627739, -0.3681871292017722, -0.2697504475475753, -0.2863709017927069, -0.2643803271642072, -0.31760372098241335, -0.2863229096216313, -0.35672856246229717, -0.3173369312097872, -0.40442330066692284, -0.339255659162099, -0.42049991594531466, -0.40929130971898975, -0.26814505659097043, -0.2858424136991718, -0.3130161812375792, -0.23636076240097742, -0.0710735444009818, -0.32046555574771224, -0.0804555995414791, -0.3205295708459177, -0.23714725399687286, -0.31721218906509335, -0.2680128645302771, -0.40157900565199234, 0.8885474853238894, -0.320328666335184, -0.06701598595280474, -0.3538426412658732, -0.40225730383108993, -0.3190661472084222, -0.316723347486542, -0.35898630940086623, -0.40315265616608553, -0.3395759005361346, -0.2934030911962339, -0.3172504238944506, -0.31568291056204373, -0.2374574127203515, -0.3441660061400754, -0.4038948251158728, -0.3164512257476513, -0.32051038510297514, -0.4044124316374309, -0.31744047398020075, -0.31759793122633895, -0.26800371194265854, -0.2031845771710772, 0.029562693529878236, -0.3527952671878699, -0.31721055905273937, -0.39051110740916234, -0.3521214473732974, -0.23889485641033578, -0.4120182145544978, -0.35186784586216785, -0.286283734510153, -0.404003199953807, 0.8503353579171937, -0.4043671576967565, -0.3532609971373137, -0.31713759862557267, -0.3172925157958981, -0.3538426412658732, -0.4039400460518733, -0.32037251976986575, -0.31713837019308666, -0.40493779365387894, -0.31728637454161646, -0.31285323784133134, -0.40439625967320453, -0.31649326299192293, 0.3762428065876653, -0.3174865291613857, -0.3175574373504621, -0.3414500612860979, -0.34512349840277756, -0.31376630831921354, -0.32048670532988643, -0.40430582855689134, -0.3173342695910391, -0.31746171436090453, -0.2696562615606774, -0.24782475119258998, -0.23866171933907443, -0.29823358670526035, -0.2693964881768463, -0.4035681277167963, -0.4287013423786302, -0.4023014395649068, -0.3520817117606276, -0.4034656082730929, -0.3464577152244857, -0.3993881409652625, -0.3174047804231805, -0.31740392347420326, -0.3104926391669371, 0.2623252383195321, -0.40394633824615583, -0.2522180741129595, -0.353877012211929, -0.31661184511165286, 0.9030420986366872, -0.2715773657221507, -0.3383490168296712, 0.5964976908698505, -0.36052851746950276, -0.35902415926200504, -0.42871657265513347, -0.2860066374685215, 0.1494636557196683, -0.28607775595339097, -0.3232218445607979, -0.42821949609790466, -0.4042199823552517, -0.26973098021978986, -0.3537425696493629, -0.3170383709540661, -0.3175402941459103, -0.2537796951353864, 0.6694608961048615, -0.40416047210236894, -0.3525095153729539, -0.3174956652144166, -0.33567882961668455, 0.4548164870645998, -0.31882595480086817, -0.3452279550620954, -0.38556207849578505, -0.3174457759989264, -0.38742248861120815, -0.34848297340266615, -0.3173156984932302, -0.09863617773744585, -0.402947648522868, 0.20135849984927073, -0.28273428431203507, -0.3147647511221159, -0.31275315608066406, -0.34133548335802016, 0.09876636359639078, -0.31645001591172894, -0.4035316488026668, -0.34049631806871455, -0.3039620636404446, -0.317562514526602, -0.3567003747903131, -0.33985898450211255, -0.28159534480878756, -0.20517545829409964, -0.31308876641985056, -0.23042030817404685, -0.40824656291405814, -0.40423720391194184, -0.332588215294852, -0.26888700329190746, -0.3397152983475926, -0.3601256515505765, -0.3175899835619442, -0.31757161022964625, -0.2632439386060818, -0.3469118060837669, -0.3533352638064683, -0.31728684955695674, -0.38608523945119844, -0.35352472777211763, -0.32126068676146635, -0.2639160568023672, -0.33759088243616353, -0.26942392740519494, -0.11986272061369795, -0.2696768770778473, -0.3519015737118084, -0.31675847641035976, -0.18816367561131286, -0.3370226733443745, -0.27170619062696066, 0.9844743002588979, -0.36813224285296087, -0.34144945914817376, -0.38911446800854965, -0.1498356505894599, -0.38314451685466405, -0.3401634497144983, -0.31043249312185556, -0.35627590605916454, -0.40370830534395485, -0.2669101589039128, -0.3526201849846497, -0.3517202351924446, -0.3561364670681453, -0.17640804521842526, -0.12485717657013692, -0.2850434845589754, 0.48300478234743965, -0.14582111325886812, -0.3884060120433467, -0.27347579191584087, -0.3172908929420892, -0.3888641457137668, -0.34156694465371024, 0.5932581650741066, -0.3567549126945108, -0.31677138933782734, -0.327019245501664, -0.3064127430193322, -0.40126109441933416, -0.40393656139649137, 0.11957060030473751, -0.4014666502366717, -0.31615375001170526, -0.31698288558918697, -0.2729259623185747, -0.31750359587369914, -0.3955284322909317, -0.23080185644062973, -0.09927986166389918, -0.3912569607320025, -0.3167789689321897, -0.30981352690510217, -0.40049052165398197, -0.3152111104267448, -0.354119429159009, -0.408707515271161, -0.31900344437871603, -0.07613655734010101, -0.31239394367506435, -0.3571564736005911, -0.6123118066553167, -0.2864786017100805, -0.2537412785639787, -0.3540550440485852, -0.3973789538921414, -0.3156578541386577, -0.2700751734459133], \"y\": [0.9641442555044674, 0.9640634359560551, 1.2300759314162497, 1.46091274128961, 0.8198042978767985, 0.6464488516469061, 1.7559260921628532, 0.9641383371415309, 0.9642858816927277, 0.9641716843176218, 0.9641439680141402, 0.9641438931306617, 0.24326321179465982, 0.7987343287739764, 1.5901030770624192, 0.42096527493678465, 0.9640928726474318, 1.057097627050588, 1.230077852596323, 1.8701749374269265, 0.7955268671343635, 0.8187397910610718, 0.7907747755288385, 1.7562816022876742, 1.7562702506142052, 0.5610177562202086, 0.9639444100076093, 0.9641025286404458, 0.9706782426393438, 1.0567348128030414, 1.2300869859823527, 0.027806529052810634, 1.6223292126869577, 1.2300813655270364, 0.9634388071675171, 0.9640960529282441, 0.37672989880812574, 1.2300852685884551, 0.02787032793500264, 1.7562742485749336, 0.9635832478137621, 0.4166177566152215, 1.2781577275758973, 0.8197854065782447, 0.7987480500249131, 0.790786839057526, 1.7562601953615486, 0.7905227097534944, 0.9641445826791417, 1.756262514344935, 1.0567122305171173, 0.9641349621844542, 1.2300873236952508, 1.9603289644810475, 1.7666080776045925, 0.9940258188216924, 0.790743669265472, 1.7562423087129926, 0.8192326833618044, 1.7561156914205038, 0.7052672507817574, 0.8198048285269965, 1.2167673963695131, 0.8198119847004766, 1.4353122444881363, 0.964121313518261, 0.7906584981687184, 1.2298612128350053, 0.7402158455122257, 0.8197942943292479, 0.257310579883536, 1.5900943889860961, 1.230072427098744, 0.8196850479399985, 0.819508946294985, 1.4330330603155876, 1.2300098570113263, 1.572590026995132, 0.9631374963544349, 0.9641189307029199, 0.9641071447310229, 1.5827857129630165, 1.0564796929645188, 1.2300607556386796, 0.9641004171232729, 0.8198047373137374, 1.23008535091366, 0.9641323571599528, 0.96414468789135, 0.7908185809664222, 0.34328947127514287, 1.8188040334910414, 1.590074356695031, 0.964151727269381, 1.2292549903874257, 1.5901111981879448, 1.5829024692134044, 1.7920830972447894, 1.5899269909271359, 1.8221029860440838, 1.2300732548703728, 1.7763103351089349, 1.2300855563140387, 1.5900832557493871, 0.9641251720591212, 0.9641198538103558, 1.5900943889860961, 1.2300526995611463, 0.8198079660523575, 0.9641291658495705, 0.7266558916761393, 0.9641300934534756, 0.9637602011504975, 1.2300841979293697, 0.9640605879065344, 0.7790035925697194, 0.9641373076925439, 0.9641430250045944, 1.4244030776986576, 0.4197780334675604, 0.9638526008090547, 0.8198051676256856, 1.2300826914339862, 0.9641350105517396, 0.9641312959743091, 0.7907487618755666, 0.2981679836167463, 1.5828980067421565, 0.9637731476297353, 0.790768366088882, 1.2300305208430207, 2.002530034924975, 1.2300463049497898, 1.5900610701608373, 1.2300323838398208, 1.5899536847961033, 1.229817107441705, 0.9641328523329099, 0.9641275232798246, 0.963550374517823, 0.6019265797329637, 1.2300670538520513, 0.7896585763023317, 1.5900865300760063, 0.9640866468519735, 1.7117312440224315, 0.6463370597946586, 1.572564213880691, 1.7179745398045645, 1.4330629096418963, 1.4330106695527087, 1.8840946438682418, 1.7562537930505666, 0.9364606086955588, 1.7562605320788336, 1.4917255732039034, 1.884103676808744, 1.2300841405613443, 0.7907746008473524, 1.590066112768327, 0.9641199492689827, 0.9641426968669156, 1.4623916871269094, 1.5052684783818722, 1.2300725671952497, 0.5608223880466587, 0.9641351642913193, 0.7352701348573293, 0.9600953123214864, 0.8197781959002152, 1.4324800697796973, 1.7966634909406618, 0.9641322608109719, 1.5976611654431343, 1.5497179422361718, 0.9641391183543948, 0.6431136319624874, 1.230009965278781, 1.4215778784279167, 1.7561830409806678, 0.9640442521608172, 1.2596909337892672, 1.424401542665448, 0.9355393308425493, 0.9640570332081113, 1.2300673553263568, 1.4243444489199026, 0.9637413921617004, 0.9641424377615733, 1.0567120193155215, 1.5725910319253429, -0.050301924132840986, 0.08671226395615418, 0.9640587928781805, 1.582479533146769, 1.0508346785363167, 1.2300726196780738, 1.4672417702193827, 0.7907128241523632, 1.7920855455690592, 1.43304129330733, 0.9641426620223285, 0.9641415490415881, 0.7905433603556701, 1.6044974746592489, 1.590054415762094, 0.9641286379580858, 1.5976854661105564, 1.590056760251413, 0.7731428165643051, 0.9614148202191961, 1.2312060321566334, 0.7907739634009189, 0.9603589550387933, 0.7907563449960974, 1.8262683050292976, 0.9640991743139099, 1.5827181115758242, 1.4240241536608103, 0.6464069331645397, 1.8344813652673408, 0.9464912377088021, 1.4243987480507416, 1.5977713785095442, 0.7807544198396718, 0.9086143039435174, 1.4243649664808535, 0.963551467499656, 1.0566951361401438, 1.2300641451004795, 0.7906503609205905, 1.5899791516041233, 0.9064279381641785, 1.0566651156184637, 0.9536886389115704, 1.445133377527381, 1.2938856540360486, 1.1649649704357337, 1.0605593370262791, 1.5977489137505618, -0.03288628647860946, 0.964135075366229, 1.597765882551098, 1.4244021328723753, 0.9265841953017017, 1.0567119687067377, 0.9640989396584954, 1.4670246603334098, 1.8235501188327643, 1.2298409464194167, 1.2300744658349911, 0.9467688632799655, 1.2301410523353102, 0.9640262454072539, 0.9641166139864622, 0.6464421081027805, 0.9641464021657717, 1.2298872465748187, 0.9581259249852102, 0.8237027074976961, 1.2296031524800108, 0.9641487187066387, 0.9639967744396545, 1.2300083168839, 0.9640723124446074, 1.5900973169085557, 0.8197916912278325, 0.8197713533779161, 0.7870645073857538, 0.9640222259345304, 0.5609837880390827, 3.90360322673026, 1.7562668325927915, 0.6460824950872744, 1.590098751597954, 1.825458411024215, 0.9639990853084934, 0.7907802146641649], \"z\": [-0.5549568751384836, -0.5552900431830593, -0.4839375818067084, 0.32677727997960954, -0.3622364629934063, -0.10320779233559901, -0.6789926738005126, -0.5549633404984297, -0.5551264442775311, -0.5549897156492167, -0.5549569349648406, -0.5549572493795256, -0.43713283157267263, -0.3802665837291467, -0.18182902797466519, -0.35443249405636157, -0.554992331819024, -0.2253503616511887, -0.4839398820374766, -0.5878593186601944, -0.3016087631139982, -0.3628992143239181, -0.2959321550055802, -0.629227241054249, -0.6292136496845608, -0.3098832874939192, -0.5550570210039282, -0.5549861137480004, -0.5627800242579012, -0.2249159637996275, -0.4839330390567479, 0.07429270134194466, -0.1991410171454545, -0.48393439032691776, -0.5554052739137281, -0.5549799766624677, -0.2835377499028129, -0.4839354268114317, 0.07429712942756146, -0.6292184364468302, -0.5550933255440008, -0.5192776110163116, -0.127112039602464, -0.3622510191159626, -0.3802794725189815, -0.2959335228861315, -0.6292113082666927, -0.29602135336011576, -0.5549572668310979, -0.6292124684967708, -0.22490508891658662, -0.5549619111133157, -0.48393344259258436, -0.39191582759406, -0.5142475011251076, -0.19860437988191457, -0.29596265020143964, -0.6292206020937217, -0.3623424346709723, -0.6789580828636715, -0.42043736197430387, -0.3622370983414052, -0.4894417434947888, -0.3622363727617013, -0.5942629118943279, -0.5549633487528574, -0.2959585029034424, -0.48397304770907346, -0.3153912269548418, -0.36223903235507193, -0.4233614185498937, -0.1818347886422977, -0.48397621779509387, -0.36225589993220936, -0.3622893354403065, -0.5916067755615669, -0.4839530238801286, -0.23194664185740232, -0.5553677723814189, -0.5549623814782798, -0.5549932568887259, -0.3701997242232982, -0.22514146015788264, -0.48394203990727025, -0.5549771204624884, -0.36223618098618793, -0.4839335050157461, -0.5549596002604388, -0.5549573928017772, -0.2959715275045343, -0.4515417728694718, -0.6880419000420703, -0.1818544438173565, -0.5549658210559423, -0.4841491073533645, -0.1818710771434592, -0.3701799079607538, -0.7148018796822393, -0.18186145166707302, -0.6818947693496127, -0.48394084233967016, -0.653894586015988, -0.4839344405540088, -0.18184570317195384, -0.5549651724041758, -0.5549616010431622, -0.1818347886422977, -0.48394047581273547, -0.3622392386125858, -0.5549654770473332, -0.2287023383693133, -0.554962546940925, -0.5550228742646273, -0.48393374083752055, -0.5549730727591781, -0.30810221395981496, -0.5549590623739802, -0.5549580814657842, -0.27147244973914114, -0.20403004280337253, -0.555011749400646, -0.3622366961991013, -0.48393545577461, -0.5549619690235139, -0.554959083970693, -0.2959323810412605, -0.46094293539418896, -0.37018428276891124, -0.5553206927784147, -0.29593922674140133, -0.48394624703168004, -0.6870307642649178, -0.48397322681300353, -0.18186786346123746, -0.483948477599561, -0.18197341866619685, -0.48401398515599253, -0.5549603645561328, -0.5549599545568084, -0.5550539663147911, -0.11050204303955903, -0.48394149930933456, -0.29619894377834005, -0.1818334606165338, -0.554972755485665, -0.6985283826030371, -0.10322553916799368, -0.23196947746567498, -0.7326000259038373, -0.5915778625495292, -0.5916042114441886, -0.6873945048219741, -0.6292181893924053, -0.5622184925140435, -0.6292172861578635, -0.21669312770711477, -0.6874053199704265, -0.4839373146814739, -0.2959329365577129, -0.18183455232349113, -0.5549667678614938, -0.5549584031573568, 0.32784246594954214, -0.34403526802257933, -0.48393759454909635, -0.3099695844784819, -0.554958705008354, -0.15135414344653061, -0.5703127088257398, -0.36226824641992894, -0.5918417209525525, -0.4575237210504043, -0.5549594849017103, -0.5305263825217222, -0.2951225697696496, -0.5549626754683588, -0.10647773818400734, -0.483957194236324, -0.6020631068485348, -0.6292789440590815, -0.5550068515574984, -0.3325513955438699, -0.27147465256985276, -0.5611154456443448, -0.5549736655882582, -0.4839499417197468, -0.27148710872209875, -0.5552018573763096, -0.55495793130118, -0.22490564419020384, -0.23194097582462797, 0.09794621985884994, -0.2467826203871491, -0.5550420403733975, -0.37031802212742904, -0.4461485525661127, -0.48393604109584615, -0.5329588433635325, -0.2959451148093458, -0.16717120081267567, -0.591584307110857, -0.5549573916633067, -0.5549576753813702, -0.296046078346191, -0.1171537854517341, -0.18184188255585707, -0.5549624205658659, -0.530555477734468, -0.18183822445125283, -0.07881976215694686, -0.5558282013775907, -0.2476291136062731, -0.2959391186327762, -0.558667815206345, -0.2959325707184231, -0.6808967842993364, -0.5549707835726688, -0.41993812345429177, -0.2715319360082445, -0.10322852792633597, 0.0807233491265875, -0.3378626873774753, -0.2714721147204385, -0.5305008743921285, -0.2975631935237256, -0.41038466673358254, -0.27149551150791973, -0.5550552749430033, -0.22491290689467175, -0.4839460981131811, -0.29598023530826845, -0.18185036245648303, -0.3694498597721541, -0.22491332984205775, -0.5569849740658097, 1.2586552522729508, -0.27392896649707066, -0.42909030441334267, -0.22949507037290404, -0.5305134544135465, 0.0631976004083063, -0.5549628547714581, -0.5305055151751, -0.27147000122055887, -0.5704354613836755, -0.22490453300711669, -0.554970502619513, -0.5330544815029024, -0.6816022102390924, -0.4839778759477324, -0.4839422922287858, -0.5624383933566423, -0.48399777194559884, -0.5549772105990055, -0.5549676267261979, -0.10320658752035052, -0.55495944530421, -0.4840979628083062, -0.5562366497987241, -0.36703980106806383, -0.48416188941887, -0.5549743410832436, -0.5551035540794935, -0.48400694192310306, -0.5550000408879129, -0.18182940464627995, -0.21422914898331932, -0.3622640945887905, -0.29956536696607416, -0.5550532126297364, -0.30988819526432443, 1.2583161781617735, -0.6292096542616563, -0.10356719694499776, -0.1818308267331816, -0.048147648649326046, -0.5549850990610027, -0.29592639963900913]}, {\"customdata\": [[\"X13\"], [\"CryptoNight\"], [\"DPoS\"], [\"Scrypt\"], [\"VeChainThor Authority\"], [\"DPoS\"], [\"CryptoNight\"], [\"Semux BFT consensus\"], [\"Scrypt\"], [\"DPoS\"], [\"DPoS\"], [\"DPoS\"], [\"DPoS\"], [\"SHA-256\"]], \"hovertemplate\": \"<b>%{hovertext}</b><br><br>Class=%{marker.color}<br>PC 1=%{x}<br>PC 2=%{y}<br>PC 3=%{z}<br>Algorithm=%{customdata[0]}<extra></extra>\", \"hovertext\": [\"EliteCoin\", \"ByteCoin\", \"ARK\", \"gCn Coin\", \"Vechain\", \"Lamden Tau\", \"TurtleCoin\", \"Semux\", \"Lynx\", \"ALAX\", \"Lisk\", \"EOS\", \"Oxycoin\", \"ZEPHYR\"], \"legendgroup\": \"4\", \"marker\": {\"color\": [4, 4, 4, 4, 4, 4, 4, 4, 4, 4, 4, 4, 4, 4], \"coloraxis\": \"coloraxis\", \"symbol\": \"diamond\"}, \"mode\": \"markers\", \"name\": \"4\", \"scene\": \"scene\", \"showlegend\": true, \"type\": \"scatter3d\", \"x\": [2.3103779229788457, 3.8738521143820184, 3.6508198106110163, 3.2702894590447884, 4.343068892386981, 3.655697283361858, 8.077008043689071, 3.8234761048600965, 2.304586996640513, 3.6679904605755995, 3.651213385240183, 3.6611194903884856, 3.662368549364044, 2.4301268417986526], \"y\": [1.5761845740028417, -2.357366687617178, 2.1536080344257744, -1.2246030267069716, 3.2917867441982023, 2.1534253816235314, -2.8709684706716674, 2.243339069090503, 0.24755746171435855, 2.1532870590177637, 2.153589925439068, 2.153885630519139, 2.153908328582943, 0.9648815037507013], \"z\": [-0.667483288364861, 0.37316891449018064, 0.35255720478961633, -0.05985746854047514, -1.1406551068846678, 0.35247284060744233, 0.32903586657736067, 0.4232856425367645, -0.3681208672299438, 0.35223438165123294, 0.3525506675494257, 0.3523258569036312, 0.3522986804897571, 0.16793722691077806]}, {\"customdata\": [[\"SHA-256\"], [\"Ethash\"], [\"Scrypt\"], [\"CryptoNight-V7\"], [\"Ethash\"], [\"Equihash\"], [\"Multiple\"], [\"Scrypt\"], [\"X11\"], [\"Scrypt\"], [\"Multiple\"], [\"Scrypt\"], [\"SHA-256\"], [\"Scrypt\"], [\"Scrypt\"], [\"Quark\"], [\"Groestl\"], [\"Scrypt\"], [\"Scrypt\"], [\"Scrypt\"], [\"X11\"], [\"Multiple\"], [\"SHA-256\"], [\"Scrypt\"], [\"Scrypt\"], [\"Scrypt\"], [\"Scrypt\"], [\"Scrypt\"], [\"NeoScrypt\"], [\"Scrypt\"], [\"Scrypt\"], [\"Scrypt\"], [\"Scrypt\"], [\"SHA-256\"], [\"Scrypt\"], [\"Scrypt\"], [\"Scrypt\"], [\"Scrypt\"], [\"HybridScryptHash256\"], [\"Scrypt\"], [\"Scrypt\"], [\"SHA-256\"], [\"Scrypt\"], [\"Scrypt\"], [\"Scrypt\"], [\"Scrypt\"], [\"SHA-256\"], [\"SHA-256\"], [\"SHA-256\"], [\"SHA-256\"], [\"SHA-256\"], [\"X11\"], [\"Scrypt\"], [\"Lyra2REv2\"], [\"Scrypt\"], [\"SHA-256\"], [\"CryptoNight\"], [\"Scrypt\"], [\"Scrypt\"], [\"Scrypt\"], [\"Scrypt\"], [\"Scrypt\"], [\"Scrypt\"], [\"Stanford Folding\"], [\"Multiple\"], [\"QuBit\"], [\"Scrypt\"], [\"Scrypt\"], [\"M7 POW\"], [\"Scrypt\"], [\"SHA-256\"], [\"Scrypt\"], [\"X11\"], [\"Lyra2RE\"], [\"SHA-256\"], [\"X11\"], [\"Scrypt\"], [\"Scrypt\"], [\"Ethash\"], [\"Blake2b\"], [\"X11\"], [\"SHA-256\"], [\"Scrypt\"], [\"1GB AES Pattern Search\"], [\"Scrypt\"], [\"SHA-256\"], [\"X11\"], [\"Dagger\"], [\"Scrypt\"], [\"X11GOST\"], [\"Scrypt\"], [\"X11\"], [\"Scrypt\"], [\"X11\"], [\"Equihash\"], [\"CryptoNight\"], [\"SHA-256\"], [\"Multiple\"], [\"Scrypt\"], [\"SHA-256\"], [\"Scrypt\"], [\"Lyra2Z\"], [\"Ethash\"], [\"Equihash\"], [\"Scrypt\"], [\"X11\"], [\"X11\"], [\"CryptoNight\"], [\"Scrypt\"], [\"CryptoNight\"], [\"Lyra2RE\"], [\"X11\"], [\"CryptoNight-V7\"], [\"Scrypt\"], [\"X11\"], [\"Equihash\"], [\"Scrypt\"], [\"Lyra2RE\"], [\"Dagger-Hashimoto\"], [\"Scrypt\"], [\"NIST5\"], [\"Scrypt\"], [\"SHA-256\"], [\"Scrypt\"], [\"CryptoNight-V7\"], [\"Argon2d\"], [\"Blake2b\"], [\"Cloverhash\"], [\"CryptoNight\"], [\"X11\"], [\"Scrypt\"], [\"Scrypt\"], [\"X11\"], [\"X11\"], [\"CryptoNight\"], [\"Time Travel\"], [\"Keccak\"], [\"X11\"], [\"SHA-256\"], [\"Scrypt\"], [\"Scrypt\"], [\"Scrypt\"], [\"Scrypt\"], [\"Scrypt\"], [\"Scrypt\"], [\"CryptoNight\"], [\"Equihash\"], [\"X11\"], [\"NeoScrypt\"], [\"Equihash\"], [\"Dagger\"], [\"Scrypt\"], [\"X11\"], [\"NeoScrypt\"], [\"Ethash\"], [\"NeoScrypt\"], [\"Multiple\"], [\"CryptoNight\"], [\"CryptoNight\"], [\"Ethash\"], [\"X11\"], [\"CryptoNight-V7\"], [\"Scrypt\"], [\"BLAKE256\"], [\"X11\"], [\"NeoScrypt\"], [\"NeoScrypt\"], [\"Scrypt\"], [\"X11\"], [\"SHA-256\"], [\"C11\"], [\"SkunkHash\"], [\"CryptoNight\"], [\"Scrypt\"], [\"Dagger\"], [\"Lyra2REv2\"], [\"Scrypt\"], [\"Scrypt\"], [\"X11\"], [\"Ethash\"], [\"CryptoNight\"], [\"Scrypt\"], [\"IMesh\"], [\"Equihash\"], [\"Lyra2Z\"], [\"X11\"], [\"CryptoNight\"], [\"NIST5\"], [\"Lyra2RE\"], [\"Tribus\"], [\"Lyra2Z\"], [\"CryptoNight\"], [\"CryptoNight Heavy\"], [\"CryptoNight\"], [\"Jump Consistent Hash\"], [\"CryptoNight\"], [\"X16R\"], [\"HMQ1725\"], [\"X11\"], [\"Scrypt\"], [\"CryptoNight-V7\"], [\"Cryptonight-GPU\"], [\"XEVAN\"], [\"CryptoNight Heavy\"], [\"SHA-256\"], [\"X11\"], [\"X16R\"], [\"Equihash\"], [\"Lyra2Z\"], [\"SHA-256\"], [\"CryptoNight\"], [\"Blake\"], [\"Blake\"], [\"Exosis\"], [\"Scrypt\"], [\"Equihash\"], [\"Equihash\"], [\"QuBit\"], [\"SHA-256\"], [\"X13\"], [\"SHA-256\"], [\"Scrypt\"], [\"NeoScrypt\"], [\"Blake\"], [\"Scrypt\"], [\"SHA-256\"], [\"Scrypt\"], [\"Groestl\"], [\"Scrypt\"], [\"Scrypt\"], [\"Multiple\"], [\"Equihash+Scrypt\"], [\"Ethash\"], [\"CryptoNight\"], [\"Equihash\"]], \"hovertemplate\": \"<b>%{hovertext}</b><br><br>Class=%{marker.color}<br>PC 1=%{x}<br>PC 2=%{y}<br>PC 3=%{z}<br>Algorithm=%{customdata[0]}<extra></extra>\", \"hovertext\": [\"Bitcoin\", \"Ethereum\", \"Litecoin\", \"Monero\", \"Ethereum Classic\", \"ZCash\", \"DigiByte\", \"ProsperCoin\", \"Spreadcoin\", \"Argentum\", \"MyriadCoin\", \"MoonCoin\", \"ZetaCoin\", \"SexCoin\", \"Quatloo\", \"QuarkCoin\", \"Riecoin\", \"Digitalcoin \", \"Catcoin\", \"CannaCoin\", \"CryptCoin\", \"Verge\", \"DevCoin\", \"EarthCoin\", \"E-Gulden\", \"Einsteinium\", \"Emerald\", \"Franko\", \"FeatherCoin\", \"GrandCoin\", \"GlobalCoin\", \"GoldCoin\", \"Infinite Coin\", \"IXcoin\", \"KrugerCoin\", \"LuckyCoin\", \"Litebar \", \"MegaCoin\", \"MediterraneanCoin\", \"MinCoin\", \"NobleCoin\", \"Namecoin\", \"NyanCoin\", \"RonPaulCoin\", \"StableCoin\", \"SmartCoin\", \"SysCoin\", \"TigerCoin\", \"TerraCoin\", \"UnbreakableCoin\", \"Unobtanium\", \"UroCoin\", \"ViaCoin\", \"Vertcoin\", \"WorldCoin\", \"JouleCoin\", \"DigitalNote \", \"MonaCoin\", \"Gulden\", \"PesetaCoin\", \"Wild Beast Coin\", \"Flo\", \"ArtByte\", \"Folding Coin\", \"Unitus\", \"CypherPunkCoin\", \"OmniCron\", \"GreenCoin\", \"Cryptonite\", \"MasterCoin\", \"SoonCoin\", \"1Credit\", \"MarsCoin \", \"Crypto\", \"Anarchists Prime\", \"BowsCoin\", \"Song Coin\", \"BitZeny\", \"Expanse\", \"Siacoin\", \"MindCoin\", \"I0coin\", \"Revolution VR\", \"HOdlcoin\", \"Gamecredits\", \"CarpeDiemCoin\", \"Adzcoin\", \"SoilCoin\", \"YoCoin\", \"SibCoin\", \"Francs\", \"BolivarCoin\", \"Omni\", \"PizzaCoin\", \"Komodo\", \"Karbo\", \"ZayedCoin\", \"Circuits of Value\", \"DopeCoin\", \"DollarCoin\", \"Shilling\", \"ZCoin\", \"Elementrem\", \"ZClassic\", \"KiloCoin\", \"ArtexCoin\", \"Kurrent\", \"Cannabis Industry Coin\", \"OsmiumCoin\", \"Bikercoins\", \"HexxCoin\", \"PacCoin\", \"Citadel\", \"BeaverCoin\", \"VaultCoin\", \"Zero\", \"Canada eCoin\", \"Zoin\", \"DubaiCoin\", \"EB3coin\", \"Coinonat\", \"BenjiRolls\", \"ILCoin\", \"EquiTrader\", \"Quantum Resistant Ledger\", \"Dynamic\", \"Nano\", \"ChanCoin\", \"Dinastycoin\", \"DigitalPrice\", \"Unify\", \"SocialCoin\", \"ArcticCoin\", \"DAS\", \"LeviarCoin\", \"Bitcore\", \"SmartCash\", \"Onix\", \"Bitcoin Cash\", \"Sojourn Coin\", \"NewYorkCoin\", \"FrazCoin\", \"Kronecoin\", \"AdCoin\", \"Linx\", \"Sumokoin\", \"BitcoinZ\", \"Elements\", \"VIVO Coin\", \"Bitcoin Gold\", \"Pirl\", \"eBoost\", \"Pura\", \"Innova\", \"Ellaism\", \"GoByte\", \"SHIELD\", \"UltraNote\", \"BitCoal\", \"DaxxCoin\", \"AC3\", \"Lethean\", \"PopularCoin\", \"Photon\", \"Sucre\", \"SparksPay\", \"GunCoin\", \"IrishCoin\", \"Pioneer Coin\", \"UnitedBitcoin\", \"Interzone\", \"MUNcoin\", \"Niobio Cash\", \"ShareChain\", \"Travelflex\", \"KREDS\", \"BitFlip\", \"LottoCoin\", \"Crypto Improvement Fund\", \"Callisto Network\", \"BitTube\", \"Poseidon\", \"Aidos Kuneen\", \"Bitrolium\", \"Alpenschillling\", \"FuturoCoin\", \"Monero Classic\", \"Jumpcoin\", \"Infinex\", \"KEYCO\", \"GINcoin\", \"PlatinCoin\", \"Loki\", \"Newton Coin\", \"MassGrid\", \"PluraCoin\", \"Motion\", \"PlusOneCoin\", \"Axe\", \"HexCoin\", \"Webchain\", \"Ryo\", \"Urals Coin\", \"Qwertycoin\", \"Project Pai\", \"Azart\", \"Xchange\", \"CrypticCoin\", \"Actinium\", \"Bitcoin SV\", \"FREDEnergy\", \"Universal Molecule\", \"Lithium\", \"Exosis\", \"Block-Logic\", \"Beam\", \"Bithereum\", \"SLICE\", \"BLAST\", \"Bitcoin Rhodium\", \"GlobalToken\", \"SolarCoin\", \"UFO Coin\", \"BlakeCoin\", \"Crypto Escudo\", \"Crown Coin\", \"SmileyCoin\", \"Groestlcoin\", \"Bata\", \"Pakcoin\", \"JoinCoin\", \"Vollar\", \"Reality Clash\", \"Beldex\", \"Horizen\"], \"legendgroup\": \"1\", \"marker\": {\"color\": [1, 1, 1, 1, 1, 1, 1, 1, 1, 1, 1, 1, 1, 1, 1, 1, 1, 1, 1, 1, 1, 1, 1, 1, 1, 1, 1, 1, 1, 1, 1, 1, 1, 1, 1, 1, 1, 1, 1, 1, 1, 1, 1, 1, 1, 1, 1, 1, 1, 1, 1, 1, 1, 1, 1, 1, 1, 1, 1, 1, 1, 1, 1, 1, 1, 1, 1, 1, 1, 1, 1, 1, 1, 1, 1, 1, 1, 1, 1, 1, 1, 1, 1, 1, 1, 1, 1, 1, 1, 1, 1, 1, 1, 1, 1, 1, 1, 1, 1, 1, 1, 1, 1, 1, 1, 1, 1, 1, 1, 1, 1, 1, 1, 1, 1, 1, 1, 1, 1, 1, 1, 1, 1, 1, 1, 1, 1, 1, 1, 1, 1, 1, 1, 1, 1, 1, 1, 1, 1, 1, 1, 1, 1, 1, 1, 1, 1, 1, 1, 1, 1, 1, 1, 1, 1, 1, 1, 1, 1, 1, 1, 1, 1, 1, 1, 1, 1, 1, 1, 1, 1, 1, 1, 1, 1, 1, 1, 1, 1, 1, 1, 1, 1, 1, 1, 1, 1, 1, 1, 1, 1, 1, 1, 1, 1, 1, 1, 1, 1, 1, 1, 1, 1, 1, 1, 1, 1, 1, 1, 1, 1, 1, 1, 1, 1, 1, 1, 1, 1, 1, 1, 1, 1, 1, 1, 1, 1, 1, 1, 1, 1, 1, 1, 1, 1], \"coloraxis\": \"coloraxis\", \"symbol\": \"square\"}, \"mode\": \"markers\", \"name\": \"1\", \"scene\": \"scene\", \"showlegend\": true, \"type\": \"scatter3d\", \"x\": [-0.1568780824198781, -0.1644240768965737, -0.1528304827126493, -0.17091301776449017, -0.16285864604172395, -0.1582669783926367, 0.16740949875037323, -0.15398166731936086, -0.240742928313431, -0.15359642340882365, -0.08711923771243851, 2.581011787113126, -0.15395051028624884, -0.15083977594437809, -0.15339945874164898, -0.22086115042030552, -0.2042137851902898, -0.15344873013879004, -0.15396386260461115, -0.15405070916335348, -0.2408326388088189, 0.1912272275516311, 0.22259929572947623, 0.09575120257102757, -0.1537959458168302, -0.1493820869415651, -0.1537349325386945, -0.1541079507285158, -0.1892263874591551, -0.13323909724697222, -0.1528979039637148, -0.15317644499190164, 1.6023111795242961, -0.1568392977706071, -0.15045388549397615, -0.1538224987808106, -0.15417883774051527, -0.15343489336500418, -0.16921077395115797, -0.15405957954012658, -0.018337469155428006, -0.15691721786571977, -0.14769629313322696, -0.15403887401385477, -0.15212425688672487, -0.15352339161931905, -0.1440129357385401, -0.15637869361591283, -0.15666707365866775, -0.156649766406119, -0.1572432995841622, -0.24100733303493801, -0.15375422082722195, -0.21903629007157377, -0.15084441767966508, -0.15644626868059336, 0.4582256673768706, -0.15261681363223367, -0.1371449889697537, -0.15133015964781923, -0.15418104832028723, -0.1511946984196606, -0.13735843011477006, -0.19010384831571916, -0.12127326693760293, -0.18255798973076637, -0.1540536153177329, -0.02642579194493885, -0.11655689620674853, -0.1541899881880985, -0.15694510619819224, 0.501110719164829, -0.24039187990296176, -0.16195326162345827, -0.1566837374757075, -0.240677986009045, -0.15230504973481984, -0.15149383473642203, -0.16549569382450988, 0.37146993162339864, -0.24071355345891612, -0.1568404245993317, -0.15013048981289817, -0.2015556455115966, -0.15274711800743704, 0.2634402008251655, -0.23987052642837745, -0.1733406113914274, -0.15299503405767526, -0.1532234562191007, -0.1539789474896594, -0.24067659725280155, -0.15419004693415547, -0.24082716669440038, -0.27005049938149916, 0.30245273970859354, -0.15710161362338956, -0.10125916550458616, -0.1513442798558047, -0.1570600729181397, -0.15385193109022618, -0.15448425518090264, -0.16523676721873884, -0.15828868171424768, -0.0805648421282916, -0.2273541521486196, -0.23864545694355083, 0.3024471457312985, -0.15417169958805665, 0.3025784068280099, -0.16249619068489624, 0.47785930003732197, -0.16967170602228168, -0.1541398563763361, -0.23352650407998968, -0.1583011293881042, -0.15226510557693348, -0.16221338233517585, -0.1675630584734172, -0.12492403851601316, -0.19676332452773437, -0.15370029848033462, -0.1232777461892807, -0.15352143926795792, -0.16952934342716536, -0.18459729859931967, -0.03042867011644292, -0.1382516375942325, 0.33872492108529517, -0.2398788596280713, -0.153842283988521, -0.15360439355378738, -0.24027534934334854, -0.2408553469298717, 0.3028439031709863, -0.14423368659783609, -0.12786366472130586, -0.2316847067251352, -0.1568772433015737, -0.07940504554664829, 1.5998012696543866, -0.15394051779062154, -0.1533895972310679, -0.15308928525846685, -0.1530761640255949, 0.30302845028540126, 0.05499555403506188, -0.1950498013462217, -0.19393564847916375, -0.1581465428016829, -0.17209401460053855, -0.15226330758448228, -0.23638005258288397, -0.19378033796434682, -0.16359395789532313, -0.1938810203469768, -0.11146223039838937, 1.144231642394367, 0.30242979683780974, -0.08812648409588587, -0.23611942386335474, -0.15859271777322004, -0.06996557398820398, 1.1021905903296438, -0.24082923649034735, -0.19393323253199393, -0.18694051090700237, -0.15318827173170743, -0.2407543274878883, -0.1568565633593882, -0.2447926121634582, -0.18330150734179515, 0.3063215851616792, 0.03967937747366681, -0.1715955771370019, -0.20453074946644295, -0.15376442689049916, 0.15464501903888905, -0.23486905999555902, -0.11640863958858405, 0.3103903359777127, -0.15400249480373981, -0.16183608302035607, -0.15713332013811485, -0.15225729065428645, -0.23991979485261125, 0.30261307872614396, -0.19682318272160626, -0.16234071618569215, -0.16563054786880457, -0.1545690322486873, 0.3065603757814662, 0.5915029426281353, 2.1193937681887864, -0.1786915894882456, 0.31627807701495747, -0.2054964520066519, -0.15362453764069534, -0.240811318466168, -0.15402716833837674, -0.1584677319528255, -0.1771266800508095, -0.1679243249926517, 3.1252079598229305, -0.11653245554344475, -0.24078254638814306, -0.20492143455927916, -0.05242824913613857, -0.15396395076200037, -0.15687728101701745, 0.3827387968459008, -0.1517432158376561, -0.1521372720195938, -0.17622830436788262, -0.15291447081935716, -0.1561974889768005, -0.15797863637181003, -0.18176522866126335, -0.15615028199504716, -0.123032145464025, -0.15501309318226925, 0.5452411638035995, -0.11877678485764441, -0.10236419522929979, -0.13750961753159993, -0.1566664415958385, 0.5647987331966193, -0.20377290971754905, -0.1541044134166388, -0.15205092860472832, -0.12201107045770893, -0.13781589129191193, -0.1652700681857968, 0.32428189735068935, -0.15826803956111624], \"y\": [-1.2864826557475737, -1.983205103092303, -1.1421828454114362, -2.183585838772368, -1.983328576528749, -1.9657655296927306, -1.9150113123611208, -1.1421581886938694, -0.8762136644711814, -1.1421822955529102, -1.9058914401878067, -1.3702400991916066, -1.2865370989634988, -1.1422667596844436, -1.1422047598253764, -0.5086070020888093, -1.3075939138492163, -1.142168156834272, -1.1421578651442537, -1.142153757158369, -0.876213847838741, -1.9113628396718738, -1.2947636160720368, -1.147371145710722, -1.1421548137383257, -1.1422762918096343, -1.1421616627454372, -1.1421534198104217, -1.5454250506372786, -1.1427937739118246, -1.1421739425558284, -1.142180628850498, -1.1757703219692577, -1.2864819509478322, -1.1422709031276443, -1.1421545728306013, -1.1421475562682664, -1.142163444710897, -2.1876364843465628, -1.1421516467765636, -1.1505295275536311, -1.2864833669220375, -1.1422725744574778, -1.1421592282614377, -1.1422901014408813, -1.142171708484205, -1.2868760838735052, -1.2864923986701822, -1.2864940133338039, -1.286521189227761, -1.2864742813146233, -0.8762040006350313, -1.1421555023696812, -1.1976872286602642, -1.1422779999298305, -1.2864921711317563, -2.293220627388491, -1.142194241465798, -1.1430524035106073, -1.1422151819855124, -1.142148520984892, -1.1422081005316056, -1.142564348652602, -1.7624579706499859, -1.9050652283453697, -1.6864717136339433, -1.1421467430091583, -1.1470593512464224, -2.263596158934154, -1.1421472304129112, -1.2864838737124793, -1.1967942857532563, -0.8762166897851122, -2.1980837942232556, -1.2865028237073668, -0.8762132077627682, -1.1422646231888984, -1.1422786453267422, -1.9832368072789928, -2.278187641194965, -0.8762102369407687, -1.286481971424712, -1.142224933176705, -2.0006121290583, -1.1421813304970612, -1.294474520568002, -0.8762441106966672, -2.173208752088382, -1.1422468580622869, -2.2559345305130623, -1.1421574158370926, -0.8762160762528046, -1.1421472292884545, -0.8762188124204793, -1.186510924439778, -2.2888242710689246, -1.2864785690515923, -1.9055696474738792, -1.1422397560120872, -1.2864784669193916, -1.1421623419951379, -2.3237409691834916, -1.9832388293245617, -1.9657659240883443, -1.1480431731790737, -0.8763176090753851, -0.8763260227341424, -2.2888323304718328, -1.1421484135205278, -2.2888328389046357, -2.1980533007987444, -0.9354838291665187, -2.1836971163520524, -1.1421483019914607, -0.8767914897027548, -1.9657632565624115, -1.142184146210637, -2.198056119317399, -2.159023404176652, -1.1445086842777985, -0.673249741228582, -1.1421635801396446, -1.2876654531438483, -1.1421867203846454, -2.1836366547863255, -2.0552185936273117, -2.285737166429204, -2.189005245526505, -2.2896047572554394, -0.8762558370354561, -1.142154409184208, -1.1421903981358488, -0.8762341048316795, -0.876214911582207, -2.2888489937887653, -2.133481159139939, -1.2021174339694753, -0.8768303634866812, -1.2864826404990057, -1.1483838130403767, -1.1102730226882653, -1.1421567174875529, -1.1421930057139216, -1.1421991233120898, -1.1421988848713223, -2.2888708799010176, -1.9770669680307429, -0.8766710313451088, -1.5452870875598677, -1.9657633411213506, -2.173277473058844, -1.142184113537282, -0.8763731141727407, -1.5452972870069253, -1.9833925789295597, -1.5452895673223095, -1.9053644058054653, -2.3350118122574774, -2.2888264965689724, -1.9890529299551936, -0.8765130643282714, -2.1840850092488653, -1.1442334035136172, -1.4477666386065968, -0.8762150881883766, -1.5452827030669127, -1.5455021541828449, -1.142174878567011, -0.8762160419135002, -1.2864816613583634, -1.0554586028899535, -2.0607809212500885, -2.2889898046268935, -1.1458580794229356, -2.173227681313852, -1.198158638651772, -1.1421679861740672, -1.1498507841819532, -0.8764541709680788, -1.9870348661403794, -2.2893962253842624, -1.1421585671736518, -2.1659286995810367, -1.965780376858034, -2.3239020485560022, -0.8762565809157342, -2.2888274341932973, -0.6732311140195567, -2.1980622529641, -2.029699630107664, -2.3237346243582553, -2.2891764516291357, -2.3455024832417655, -2.3889107737491293, -2.231129314998196, -2.2892892325806096, -1.1597705175581376, -2.3256558207051, -0.8762156306976964, -1.1421598151266275, -2.184625686833601, -2.057114964723594, -0.6391353914473337, -2.4328025890040372, -1.287253504166319, -0.8762180015744115, -1.1598164411723575, -1.969325103059357, -2.3237768009660464, -1.2864826411843762, -2.2932033959024642, -2.214189653911855, -2.2141390189269434, -2.077568307651245, -1.1422104151946217, -1.96590284843803, -1.9657674417491802, -1.686529650643068, -1.2865005376246321, -0.3500253700891053, -1.2865551093742527, -1.2004052747287985, -1.5467954848579142, -2.2182803064435634, -1.1425670960502035, -1.2864940018478752, -1.165252808473811, -1.3076010942673646, -1.1421488443452865, -1.1422395755558539, -1.9050806614165567, -2.0583326359093816, -1.9832381919114839, -2.289433319818788, -1.9657655489764259], \"z\": [0.1957630187414922, 0.396891290115905, 0.003021982654634293, 0.4329736564620043, 0.3968694144278874, 0.36218058898954325, 0.36821705818476974, 0.0030433743087813167, 0.07406587165781667, 0.0030374872183500656, 0.372652590732452, -0.03418483074067876, 0.19570795517301554, 0.0029883011434489095, 0.0030352904758692294, 0.027411815622755114, 0.1777171806745363, 0.003033355092511047, 0.003042986922511772, 0.003044420450592757, 0.07406770749496092, 0.36744094500227764, 0.18872373628971598, -0.0016081402879964024, 0.0030393334712251687, 0.002959474415678768, 0.0030386441936761832, 0.003045555403710016, 0.24803349914587083, 0.0026732729066069275, 0.003022637293858239, 0.0030288279486367226, -0.029913796460642943, 0.1957621748840756, 0.002980799842000665, 0.003039853177665753, 0.0030465241542065994, 0.0030326962877217584, 0.45106735542835497, 0.0030444312652533004, 0.0009611751252393814, 0.1957638702313693, 0.002924954518940039, 0.0030446189840418352, 0.003016248251140502, 0.003035155573004376, 0.1955334084767079, 0.1957536624974975, 0.19575964613517496, 0.19576147433070165, 0.19576976104375962, 0.07407046404725932, 0.003038541679230554, 0.14760600569901264, 0.0029892968501622334, 0.1957550160283911, 0.4373618501353032, 0.0030185591287866017, 0.0027733052053845676, 0.0029941193916192183, 0.003046646400420786, 0.0029908015770874668, 0.002738495584543276, 0.35798121794008436, 0.3732796574763639, 0.35398779369160144, 0.003043916903898218, 0.0008470571232227277, 0.4191752717261847, 0.003046724375334921, 0.1957644770120581, -0.005873187858976284, 0.07405898797771589, 0.3604544259188497, 0.19576069101301102, 0.07406451669489615, 0.00301787498006919, 0.0030025318345361053, 0.3969155867409286, 0.4600551984872587, 0.07406500045429222, 0.19576219940106346, 0.0029705480447742095, 0.522127834940181, 0.0030201688461772907, 0.18787147660191614, 0.07405060364163832, 0.43353858023910086, 0.0030304569408202992, 0.48006603786124175, 0.0030432571121035614, 0.07406471855883402, 0.0030467254777024437, 0.07406799457505238, 0.277190102219008, 0.44017146191515816, 0.19576722868725419, 0.37291382439766796, 0.0029963768949321985, 0.1957663772162089, 0.003041073750990583, 0.37504396898216014, 0.3969104926783569, 0.36218106119979276, 0.0020249880803243957, 0.0738024147967558, 0.07403230405275757, 0.44017222184567395, 0.003046448001590071, 0.44016959801079025, 0.36046300182256624, 0.0642317110868118, 0.43295738230015657, 0.0030457926368709426, 0.07396571978626747, 0.36218109995037173, 0.003010609774887571, 0.36045748683645895, 0.31303709478115427, 0.002642014040195362, -0.033579334803772246, 0.0030380948962315094, 0.1951757905367981, 0.003036319909744949, 0.43294964324815655, 0.4398752598456086, 0.4688192547336273, 0.5417763444262875, 0.4394977292538602, 0.07405171327058471, 0.003040241694500962, 0.003038298848358854, 0.07405801910159399, 0.07406825378510354, 0.440165504049969, 0.4522427802373442, 0.1875078742794776, 0.07393144885624835, 0.195763000484367, 0.0020287637709972754, -0.035115794914742114, 0.003042420977520253, 0.003034147594682238, 0.0030285418730275565, 0.0030282563876644552, 0.4401635130158564, 0.3587577278019434, 0.07317497848280036, 0.24811803277650532, 0.36217796861089885, 0.43351878570707425, 0.0030105706550478365, 0.07399009292781906, 0.24811569796551045, 0.3968894743801102, 0.24811712270012123, 0.3731044869148002, 0.42678756443673616, 0.44017210614479724, 0.39581144397474194, 0.0739960262865237, 0.43276358727632525, 0.0015042746209028364, 0.12081533993982949, 0.07406773790489825, 0.24811763209178428, 0.24799327943508326, 0.003028606853917383, 0.07406629373533795, 0.19576250215166444, 0.11185473997419412, 0.31945421827187964, 0.4401061999743321, -0.0005912267997295824, 0.4335046740346389, 0.14734934951924356, 0.0030397500769806566, -0.002604820377575068, 0.07396592048373579, 0.39622372343259826, 0.44005619933495504, 0.0030438274629929953, 0.438806494395283, 0.36215876638583, 0.3750116801371352, 0.07405260391916578, 0.44016846070490234, -0.03357961359827594, 0.36046056364941653, 0.3480048671036957, 0.375045181102609, 0.440116321782842, 0.33466891199805854, 0.4113144396278999, 0.28412819059357036, 0.43992809674705047, 0.22015468545028027, 0.5071360054824318, 0.0740674176772425, 0.0030444284249923257, 0.4328044129440352, 0.5390294025603836, 0.02502661457873261, 0.2902360362285563, 0.1950058218225587, 0.07406702374826706, 0.22014669566639808, 0.36031753495046653, 0.3750362805023901, 0.1957630013049613, 0.43889285820751733, 0.43958271664188103, 0.43958665503958494, 0.48560878543789154, 0.003025898745101956, 0.3621495912765948, 0.36217488897024147, 0.3539763471796587, 0.1957496784740775, -0.07120629609864666, 0.19573097015168323, -0.006479434754836094, 0.2467132762839331, 0.4389083926998976, 0.0027417850463644197, 0.1957596323830613, -0.009695718571705803, 0.17770880674081083, 0.0030451166390251254, 0.0030107074533881023, 0.3732958727001295, 0.34092441259679795, 0.3969111175697165, 0.43977717443889935, 0.3621806120779275]}, {\"customdata\": [[\"Proof-of-BibleHash\"], [\"Proof-of-Authority\"], [\"Leased POS\"]], \"hovertemplate\": \"<b>%{hovertext}</b><br><br>Class=%{marker.color}<br>PC 1=%{x}<br>PC 2=%{y}<br>PC 3=%{z}<br>Algorithm=%{customdata[0]}<extra></extra>\", \"hovertext\": [\"BiblePay\", \"Poa Network\", \"Waves\"], \"legendgroup\": \"3\", \"marker\": {\"color\": [3, 3, 3], \"coloraxis\": \"coloraxis\", \"symbol\": \"x\"}, \"mode\": \"markers\", \"name\": \"3\", \"scene\": \"scene\", \"showlegend\": true, \"type\": \"scatter3d\", \"x\": [-0.360279104210363, -0.3997988407525276, -0.2982539351577252], \"y\": [5.359051699939999, 3.425246007792903, 1.9244206646655642], \"z\": [13.630233971209186, 17.172601240967925, 19.052452881621573]}, {\"customdata\": [[\"SHA-256 + Hive\"], [\"ECC 256K1\"]], \"hovertemplate\": \"<b>%{hovertext}</b><br><br>Class=%{marker.color}<br>PC 1=%{x}<br>PC 2=%{y}<br>PC 3=%{z}<br>Algorithm=%{customdata[0]}<extra></extra>\", \"hovertext\": [\"LitecoinCash\", \"Acute Angle Cloud\"], \"legendgroup\": \"5\", \"marker\": {\"color\": [5, 5], \"coloraxis\": \"coloraxis\", \"symbol\": \"cross\"}, \"mode\": \"markers\", \"name\": \"5\", \"scene\": \"scene\", \"showlegend\": true, \"type\": \"scatter3d\", \"x\": [-0.32442449142136204, -0.32181101458862044], \"y\": [2.7875067198855468, 2.5714994659787695], \"z\": [8.180782188259016, 8.98069895959506]}, {\"customdata\": [[\"TRC10\"]], \"hovertemplate\": \"<b>%{hovertext}</b><br><br>Class=%{marker.color}<br>PC 1=%{x}<br>PC 2=%{y}<br>PC 3=%{z}<br>Algorithm=%{customdata[0]}<extra></extra>\", \"hovertext\": [\"BitTorrent\"], \"legendgroup\": \"2\", \"marker\": {\"color\": [2], \"coloraxis\": \"coloraxis\", \"symbol\": \"circle\"}, \"mode\": \"markers\", \"name\": \"2\", \"scene\": \"scene\", \"showlegend\": true, \"type\": \"scatter3d\", \"x\": [34.145364688700035], \"y\": [1.4350932301247383], \"z\": [-0.363280555115869]}],                        {\"coloraxis\": {\"colorbar\": {\"title\": {\"text\": \"Class\"}}, \"colorscale\": [[0.0, \"#0d0887\"], [0.1111111111111111, \"#46039f\"], [0.2222222222222222, \"#7201a8\"], [0.3333333333333333, \"#9c179e\"], [0.4444444444444444, \"#bd3786\"], [0.5555555555555556, \"#d8576b\"], [0.6666666666666666, \"#ed7953\"], [0.7777777777777778, \"#fb9f3a\"], [0.8888888888888888, \"#fdca26\"], [1.0, \"#f0f921\"]]}, \"legend\": {\"title\": {\"text\": \"Class\"}, \"tracegroupgap\": 0, \"x\": 0, \"y\": 1}, \"margin\": {\"t\": 60}, \"scene\": {\"domain\": {\"x\": [0.0, 1.0], \"y\": [0.0, 1.0]}, \"xaxis\": {\"title\": {\"text\": \"PC 1\"}}, \"yaxis\": {\"title\": {\"text\": \"PC 2\"}}, \"zaxis\": {\"title\": {\"text\": \"PC 3\"}}}, \"template\": {\"data\": {\"bar\": [{\"error_x\": {\"color\": \"#2a3f5f\"}, \"error_y\": {\"color\": \"#2a3f5f\"}, \"marker\": {\"line\": {\"color\": \"#E5ECF6\", \"width\": 0.5}}, \"type\": \"bar\"}], \"barpolar\": [{\"marker\": {\"line\": {\"color\": \"#E5ECF6\", \"width\": 0.5}}, \"type\": \"barpolar\"}], \"carpet\": [{\"aaxis\": {\"endlinecolor\": \"#2a3f5f\", \"gridcolor\": \"white\", \"linecolor\": \"white\", \"minorgridcolor\": \"white\", \"startlinecolor\": \"#2a3f5f\"}, \"baxis\": {\"endlinecolor\": \"#2a3f5f\", \"gridcolor\": \"white\", \"linecolor\": \"white\", \"minorgridcolor\": \"white\", \"startlinecolor\": \"#2a3f5f\"}, \"type\": \"carpet\"}], \"choropleth\": [{\"colorbar\": {\"outlinewidth\": 0, \"ticks\": \"\"}, \"type\": \"choropleth\"}], \"contour\": [{\"colorbar\": {\"outlinewidth\": 0, \"ticks\": \"\"}, \"colorscale\": [[0.0, \"#0d0887\"], [0.1111111111111111, \"#46039f\"], [0.2222222222222222, \"#7201a8\"], [0.3333333333333333, \"#9c179e\"], [0.4444444444444444, \"#bd3786\"], [0.5555555555555556, \"#d8576b\"], [0.6666666666666666, \"#ed7953\"], [0.7777777777777778, \"#fb9f3a\"], [0.8888888888888888, \"#fdca26\"], [1.0, \"#f0f921\"]], \"type\": \"contour\"}], \"contourcarpet\": [{\"colorbar\": {\"outlinewidth\": 0, \"ticks\": \"\"}, \"type\": \"contourcarpet\"}], \"heatmap\": [{\"colorbar\": {\"outlinewidth\": 0, \"ticks\": \"\"}, \"colorscale\": [[0.0, \"#0d0887\"], [0.1111111111111111, \"#46039f\"], [0.2222222222222222, \"#7201a8\"], [0.3333333333333333, \"#9c179e\"], [0.4444444444444444, \"#bd3786\"], [0.5555555555555556, \"#d8576b\"], [0.6666666666666666, \"#ed7953\"], [0.7777777777777778, \"#fb9f3a\"], [0.8888888888888888, \"#fdca26\"], [1.0, \"#f0f921\"]], \"type\": \"heatmap\"}], \"heatmapgl\": [{\"colorbar\": {\"outlinewidth\": 0, \"ticks\": \"\"}, \"colorscale\": [[0.0, \"#0d0887\"], [0.1111111111111111, \"#46039f\"], [0.2222222222222222, \"#7201a8\"], [0.3333333333333333, \"#9c179e\"], [0.4444444444444444, \"#bd3786\"], [0.5555555555555556, \"#d8576b\"], [0.6666666666666666, \"#ed7953\"], [0.7777777777777778, \"#fb9f3a\"], [0.8888888888888888, \"#fdca26\"], [1.0, \"#f0f921\"]], \"type\": \"heatmapgl\"}], \"histogram\": [{\"marker\": {\"colorbar\": {\"outlinewidth\": 0, \"ticks\": \"\"}}, \"type\": \"histogram\"}], \"histogram2d\": [{\"colorbar\": {\"outlinewidth\": 0, \"ticks\": \"\"}, \"colorscale\": [[0.0, \"#0d0887\"], [0.1111111111111111, \"#46039f\"], [0.2222222222222222, \"#7201a8\"], [0.3333333333333333, \"#9c179e\"], [0.4444444444444444, \"#bd3786\"], [0.5555555555555556, \"#d8576b\"], [0.6666666666666666, \"#ed7953\"], [0.7777777777777778, \"#fb9f3a\"], [0.8888888888888888, \"#fdca26\"], [1.0, \"#f0f921\"]], \"type\": \"histogram2d\"}], \"histogram2dcontour\": [{\"colorbar\": {\"outlinewidth\": 0, \"ticks\": \"\"}, \"colorscale\": [[0.0, \"#0d0887\"], [0.1111111111111111, \"#46039f\"], [0.2222222222222222, \"#7201a8\"], [0.3333333333333333, \"#9c179e\"], [0.4444444444444444, \"#bd3786\"], [0.5555555555555556, \"#d8576b\"], [0.6666666666666666, \"#ed7953\"], [0.7777777777777778, \"#fb9f3a\"], [0.8888888888888888, \"#fdca26\"], [1.0, \"#f0f921\"]], \"type\": \"histogram2dcontour\"}], \"mesh3d\": [{\"colorbar\": {\"outlinewidth\": 0, \"ticks\": \"\"}, \"type\": \"mesh3d\"}], \"parcoords\": [{\"line\": {\"colorbar\": {\"outlinewidth\": 0, \"ticks\": \"\"}}, \"type\": \"parcoords\"}], \"pie\": [{\"automargin\": true, \"type\": \"pie\"}], \"scatter\": [{\"marker\": {\"colorbar\": {\"outlinewidth\": 0, \"ticks\": \"\"}}, \"type\": \"scatter\"}], \"scatter3d\": [{\"line\": {\"colorbar\": {\"outlinewidth\": 0, \"ticks\": \"\"}}, \"marker\": {\"colorbar\": {\"outlinewidth\": 0, \"ticks\": \"\"}}, \"type\": \"scatter3d\"}], \"scattercarpet\": [{\"marker\": {\"colorbar\": {\"outlinewidth\": 0, \"ticks\": \"\"}}, \"type\": \"scattercarpet\"}], \"scattergeo\": [{\"marker\": {\"colorbar\": {\"outlinewidth\": 0, \"ticks\": \"\"}}, \"type\": \"scattergeo\"}], \"scattergl\": [{\"marker\": {\"colorbar\": {\"outlinewidth\": 0, \"ticks\": \"\"}}, \"type\": \"scattergl\"}], \"scattermapbox\": [{\"marker\": {\"colorbar\": {\"outlinewidth\": 0, \"ticks\": \"\"}}, \"type\": \"scattermapbox\"}], \"scatterpolar\": [{\"marker\": {\"colorbar\": {\"outlinewidth\": 0, \"ticks\": \"\"}}, \"type\": \"scatterpolar\"}], \"scatterpolargl\": [{\"marker\": {\"colorbar\": {\"outlinewidth\": 0, \"ticks\": \"\"}}, \"type\": \"scatterpolargl\"}], \"scatterternary\": [{\"marker\": {\"colorbar\": {\"outlinewidth\": 0, \"ticks\": \"\"}}, \"type\": \"scatterternary\"}], \"surface\": [{\"colorbar\": {\"outlinewidth\": 0, \"ticks\": \"\"}, \"colorscale\": [[0.0, \"#0d0887\"], [0.1111111111111111, \"#46039f\"], [0.2222222222222222, \"#7201a8\"], [0.3333333333333333, \"#9c179e\"], [0.4444444444444444, \"#bd3786\"], [0.5555555555555556, \"#d8576b\"], [0.6666666666666666, \"#ed7953\"], [0.7777777777777778, \"#fb9f3a\"], [0.8888888888888888, \"#fdca26\"], [1.0, \"#f0f921\"]], \"type\": \"surface\"}], \"table\": [{\"cells\": {\"fill\": {\"color\": \"#EBF0F8\"}, \"line\": {\"color\": \"white\"}}, \"header\": {\"fill\": {\"color\": \"#C8D4E3\"}, \"line\": {\"color\": \"white\"}}, \"type\": \"table\"}]}, \"layout\": {\"annotationdefaults\": {\"arrowcolor\": \"#2a3f5f\", \"arrowhead\": 0, \"arrowwidth\": 1}, \"autotypenumbers\": \"strict\", \"coloraxis\": {\"colorbar\": {\"outlinewidth\": 0, \"ticks\": \"\"}}, \"colorscale\": {\"diverging\": [[0, \"#8e0152\"], [0.1, \"#c51b7d\"], [0.2, \"#de77ae\"], [0.3, \"#f1b6da\"], [0.4, \"#fde0ef\"], [0.5, \"#f7f7f7\"], [0.6, \"#e6f5d0\"], [0.7, \"#b8e186\"], [0.8, \"#7fbc41\"], [0.9, \"#4d9221\"], [1, \"#276419\"]], \"sequential\": [[0.0, \"#0d0887\"], [0.1111111111111111, \"#46039f\"], [0.2222222222222222, \"#7201a8\"], [0.3333333333333333, \"#9c179e\"], [0.4444444444444444, \"#bd3786\"], [0.5555555555555556, \"#d8576b\"], [0.6666666666666666, \"#ed7953\"], [0.7777777777777778, \"#fb9f3a\"], [0.8888888888888888, \"#fdca26\"], [1.0, \"#f0f921\"]], \"sequentialminus\": [[0.0, \"#0d0887\"], [0.1111111111111111, \"#46039f\"], [0.2222222222222222, \"#7201a8\"], [0.3333333333333333, \"#9c179e\"], [0.4444444444444444, \"#bd3786\"], [0.5555555555555556, \"#d8576b\"], [0.6666666666666666, \"#ed7953\"], [0.7777777777777778, \"#fb9f3a\"], [0.8888888888888888, \"#fdca26\"], [1.0, \"#f0f921\"]]}, \"colorway\": [\"#636efa\", \"#EF553B\", \"#00cc96\", \"#ab63fa\", \"#FFA15A\", \"#19d3f3\", \"#FF6692\", \"#B6E880\", \"#FF97FF\", \"#FECB52\"], \"font\": {\"color\": \"#2a3f5f\"}, \"geo\": {\"bgcolor\": \"white\", \"lakecolor\": \"white\", \"landcolor\": \"#E5ECF6\", \"showlakes\": true, \"showland\": true, \"subunitcolor\": \"white\"}, \"hoverlabel\": {\"align\": \"left\"}, \"hovermode\": \"closest\", \"mapbox\": {\"style\": \"light\"}, \"paper_bgcolor\": \"white\", \"plot_bgcolor\": \"#E5ECF6\", \"polar\": {\"angularaxis\": {\"gridcolor\": \"white\", \"linecolor\": \"white\", \"ticks\": \"\"}, \"bgcolor\": \"#E5ECF6\", \"radialaxis\": {\"gridcolor\": \"white\", \"linecolor\": \"white\", \"ticks\": \"\"}}, \"scene\": {\"xaxis\": {\"backgroundcolor\": \"#E5ECF6\", \"gridcolor\": \"white\", \"gridwidth\": 2, \"linecolor\": \"white\", \"showbackground\": true, \"ticks\": \"\", \"zerolinecolor\": \"white\"}, \"yaxis\": {\"backgroundcolor\": \"#E5ECF6\", \"gridcolor\": \"white\", \"gridwidth\": 2, \"linecolor\": \"white\", \"showbackground\": true, \"ticks\": \"\", \"zerolinecolor\": \"white\"}, \"zaxis\": {\"backgroundcolor\": \"#E5ECF6\", \"gridcolor\": \"white\", \"gridwidth\": 2, \"linecolor\": \"white\", \"showbackground\": true, \"ticks\": \"\", \"zerolinecolor\": \"white\"}}, \"shapedefaults\": {\"line\": {\"color\": \"#2a3f5f\"}}, \"ternary\": {\"aaxis\": {\"gridcolor\": \"white\", \"linecolor\": \"white\", \"ticks\": \"\"}, \"baxis\": {\"gridcolor\": \"white\", \"linecolor\": \"white\", \"ticks\": \"\"}, \"bgcolor\": \"#E5ECF6\", \"caxis\": {\"gridcolor\": \"white\", \"linecolor\": \"white\", \"ticks\": \"\"}}, \"title\": {\"x\": 0.05}, \"xaxis\": {\"automargin\": true, \"gridcolor\": \"white\", \"linecolor\": \"white\", \"ticks\": \"\", \"title\": {\"standoff\": 15}, \"zerolinecolor\": \"white\", \"zerolinewidth\": 2}, \"yaxis\": {\"automargin\": true, \"gridcolor\": \"white\", \"linecolor\": \"white\", \"ticks\": \"\", \"title\": {\"standoff\": 15}, \"zerolinecolor\": \"white\", \"zerolinewidth\": 2}}}, \"width\": 800},                        {\"responsive\": true}                    ).then(function(){\n",
       "                            \n",
       "var gd = document.getElementById('c2ab2eab-d1a9-4848-b87e-8fda284f68aa');\n",
       "var x = new MutationObserver(function (mutations, observer) {{\n",
       "        var display = window.getComputedStyle(gd).display;\n",
       "        if (!display || display === 'none') {{\n",
       "            console.log([gd, 'removed!']);\n",
       "            Plotly.purge(gd);\n",
       "            observer.disconnect();\n",
       "        }}\n",
       "}});\n",
       "\n",
       "// Listen for the removal of the full notebook cells\n",
       "var notebookContainer = gd.closest('#notebook-container');\n",
       "if (notebookContainer) {{\n",
       "    x.observe(notebookContainer, {childList: true});\n",
       "}}\n",
       "\n",
       "// Listen for the clearing of the current output cell\n",
       "var outputEl = gd.closest('.output');\n",
       "if (outputEl) {{\n",
       "    x.observe(outputEl, {childList: true});\n",
       "}}\n",
       "\n",
       "                        })                };                });            </script>        </div>"
      ]
     },
     "metadata": {},
     "output_type": "display_data"
    }
   ],
   "source": [
    "# Create a 3D-Scatter with the PCA data and the clusters\n",
    "fig = px.scatter_3d(\n",
    "    clustered_df,\n",
    "    x=\"PC 1\",\n",
    "    y=\"PC 2\",\n",
    "    z=\"PC 3\",\n",
    "    color=\"Class\",\n",
    "    symbol=\"Class\",\n",
    "    hover_name=\"CoinName\",\n",
    "    hover_data=[\"Algorithm\"],\n",
    "    width=800,\n",
    ")\n",
    "fig.update_layout(legend=dict(x=0, y=1))\n",
    "fig.show()"
   ]
  },
  {
   "cell_type": "markdown",
   "metadata": {},
   "source": [
    "#### Table of Tradable Cryptocurrencies"
   ]
  },
  {
   "cell_type": "code",
   "execution_count": 37,
   "metadata": {},
   "outputs": [
    {
     "data": {},
     "metadata": {},
     "output_type": "display_data"
    },
    {
     "data": {
      "application/vnd.holoviews_exec.v0+json": "",
      "text/html": [
       "<div id='2567'>\n",
       "\n",
       "\n",
       "\n",
       "\n",
       "\n",
       "  <div class=\"bk-root\" id=\"a5d58fc2-af4f-400a-9313-893117d9bf00\" data-root-id=\"2567\"></div>\n",
       "</div>\n",
       "<script type=\"application/javascript\">(function(root) {\n",
       "  function embed_document(root) {\n",
       "    var docs_json = {\"78e29eda-b646-4221-8ac0-7f625c7012a9\":{\"roots\":{\"references\":[{\"attributes\":{\"children\":[{\"id\":\"2568\"},{\"id\":\"2601\"},{\"id\":\"2607\"}],\"margin\":[0,0,0,0],\"name\":\"Row05106\",\"tags\":[\"embedded\"]},\"id\":\"2567\",\"type\":\"Row\"},{\"attributes\":{},\"id\":\"2592\",\"type\":\"NumberEditor\"},{\"attributes\":{},\"id\":\"2596\",\"type\":\"NumberFormatter\"},{\"attributes\":{},\"id\":\"2597\",\"type\":\"IntEditor\"},{\"attributes\":{},\"id\":\"2577\",\"type\":\"StringEditor\"},{\"attributes\":{\"editor\":{\"id\":\"2592\"},\"field\":\"TotalCoinsMined\",\"formatter\":{\"id\":\"2591\"},\"title\":\"TotalCoinsMined\"},\"id\":\"2593\",\"type\":\"TableColumn\"},{\"attributes\":{},\"id\":\"2604\",\"type\":\"UnionRenderers\"},{\"attributes\":{\"source\":{\"id\":\"2569\"}},\"id\":\"2602\",\"type\":\"CDSView\"},{\"attributes\":{},\"id\":\"2572\",\"type\":\"StringEditor\"},{\"attributes\":{},\"id\":\"2587\",\"type\":\"StringEditor\"},{\"attributes\":{},\"id\":\"2576\",\"type\":\"StringFormatter\"},{\"attributes\":{\"editor\":{\"id\":\"2587\"},\"field\":\"TotalCoinSupply\",\"formatter\":{\"id\":\"2586\"},\"title\":\"TotalCoinSupply\"},\"id\":\"2588\",\"type\":\"TableColumn\"},{\"attributes\":{\"columns\":[{\"id\":\"2573\"},{\"id\":\"2578\"},{\"id\":\"2583\"},{\"id\":\"2588\"},{\"id\":\"2593\"},{\"id\":\"2598\"}],\"height\":300,\"reorderable\":false,\"source\":{\"id\":\"2569\"},\"view\":{\"id\":\"2602\"},\"width\":700},\"id\":\"2601\",\"type\":\"DataTable\"},{\"attributes\":{\"editor\":{\"id\":\"2597\"},\"field\":\"Class\",\"formatter\":{\"id\":\"2596\"},\"title\":\"Class\"},\"id\":\"2598\",\"type\":\"TableColumn\"},{\"attributes\":{},\"id\":\"2571\",\"type\":\"StringFormatter\"},{\"attributes\":{\"data\":{\"Algorithm\":[\"Scrypt\",\"Scrypt\",\"X13\",\"SHA-256\",\"Ethash\",\"Scrypt\",\"X11\",\"CryptoNight-V7\",\"Ethash\",\"Equihash\",\"SHA-512\",\"Multiple\",\"SHA-256\",\"SHA-256\",\"Scrypt\",\"X15\",\"X11\",\"Scrypt\",\"Scrypt\",\"Scrypt\",\"Multiple\",\"Scrypt\",\"SHA-256\",\"Scrypt\",\"Scrypt\",\"Scrypt\",\"Quark\",\"Groestl\",\"Scrypt\",\"Scrypt\",\"Scrypt\",\"Scrypt\",\"Scrypt\",\"X11\",\"Scrypt\",\"Groestl\",\"Multiple\",\"SHA-256\",\"Scrypt\",\"Scrypt\",\"Scrypt\",\"Scrypt\",\"PoS\",\"Scrypt\",\"Scrypt\",\"NeoScrypt\",\"Scrypt\",\"Scrypt\",\"Scrypt\",\"Scrypt\",\"X11\",\"Scrypt\",\"X11\",\"SHA-256\",\"Scrypt\",\"Scrypt\",\"Scrypt\",\"SHA3\",\"Scrypt\",\"HybridScryptHash256\",\"Scrypt\",\"Scrypt\",\"SHA-256\",\"Scrypt\",\"X13\",\"Scrypt\",\"SHA-256\",\"Scrypt\",\"X13\",\"NeoScrypt\",\"Scrypt\",\"Scrypt\",\"Scrypt\",\"Scrypt\",\"Scrypt\",\"Scrypt\",\"X11\",\"X11\",\"SHA-256\",\"Multiple\",\"SHA-256\",\"PHI1612\",\"X11\",\"SHA-256\",\"SHA-256\",\"SHA-256\",\"X11\",\"Scrypt\",\"Scrypt\",\"Scrypt\",\"Scrypt\",\"Lyra2REv2\",\"Scrypt\",\"X11\",\"Multiple\",\"SHA-256\",\"X13\",\"Scrypt\",\"CryptoNight\",\"CryptoNight\",\"Shabal256\",\"Counterparty\",\"Scrypt\",\"SHA-256\",\"Groestl\",\"Scrypt\",\"Scrypt\",\"Scrypt\",\"X13\",\"Scrypt\",\"Scrypt\",\"Scrypt\",\"Scrypt\",\"X13\",\"Scrypt\",\"Stanford Folding\",\"X11\",\"Multiple\",\"QuBit\",\"Scrypt\",\"Scrypt\",\"Scrypt\",\"M7 POW\",\"Scrypt\",\"SHA-256\",\"Scrypt\",\"X11\",\"SHA3\",\"X11\",\"Lyra2RE\",\"SHA-256\",\"QUAIT\",\"X11\",\"X11\",\"Scrypt\",\"Scrypt\",\"Scrypt\",\"Ethash\",\"X13\",\"Blake2b\",\"SHA-256\",\"X15\",\"X11\",\"SHA-256\",\"BLAKE256\",\"Scrypt\",\"1GB AES Pattern Search\",\"SHA-256\",\"X11\",\"Scrypt\",\"SHA-256\",\"SHA-256\",\"NIST5\",\"Scrypt\",\"Scrypt\",\"X11\",\"Dagger\",\"Scrypt\",\"X11GOST\",\"X11\",\"Scrypt\",\"SHA-256\",\"Scrypt\",\"PoS\",\"Scrypt\",\"X11\",\"X11\",\"SHA-256\",\"SHA-256\",\"NIST5\",\"X11\",\"Scrypt\",\"POS 3.0\",\"Scrypt\",\"Scrypt\",\"Scrypt\",\"X13\",\"X11\",\"X11\",\"Equihash\",\"X11\",\"Scrypt\",\"CryptoNight\",\"SHA-256\",\"SHA-256\",\"X11\",\"Scrypt\",\"Multiple\",\"Scrypt\",\"Scrypt\",\"Scrypt\",\"SHA-256\",\"Scrypt\",\"Scrypt\",\"SHA-256D\",\"PoS\",\"Scrypt\",\"X11\",\"Lyra2Z\",\"PoS\",\"X13\",\"X14\",\"PoS\",\"SHA-256D\",\"Ethash\",\"Equihash\",\"DPoS\",\"X11\",\"Scrypt\",\"X11\",\"X13\",\"X11\",\"PoS\",\"Scrypt\",\"Scrypt\",\"X11\",\"PoS\",\"X11\",\"SHA-256\",\"Scrypt\",\"X11\",\"Scrypt\",\"Scrypt\",\"X11\",\"CryptoNight\",\"Scrypt\",\"Scrypt\",\"Scrypt\",\"Scrypt\",\"Quark\",\"QuBit\",\"Scrypt\",\"CryptoNight\",\"Lyra2RE\",\"Scrypt\",\"SHA-256\",\"X11\",\"Scrypt\",\"X11\",\"Scrypt\",\"CryptoNight-V7\",\"Scrypt\",\"Scrypt\",\"Scrypt\",\"X13\",\"X11\",\"Equihash\",\"Scrypt\",\"Scrypt\",\"Lyra2RE\",\"Scrypt\",\"Dagger-Hashimoto\",\"X11\",\"Blake2S\",\"X11\",\"Scrypt\",\"PoS\",\"X11\",\"NIST5\",\"PoS\",\"X11\",\"Scrypt\",\"Scrypt\",\"Scrypt\",\"SHA-256\",\"X11\",\"Scrypt\",\"Scrypt\",\"SHA-256\",\"PoS\",\"Scrypt\",\"X15\",\"SHA-256\",\"Scrypt\",\"POS 3.0\",\"CryptoNight-V7\",\"536\",\"Argon2d\",\"Blake2b\",\"Cloverhash\",\"CryptoNight\",\"NIST5\",\"X11\",\"NIST5\",\"Skein\",\"Scrypt\",\"X13\",\"Scrypt\",\"X11\",\"X11\",\"Scrypt\",\"CryptoNight\",\"X13\",\"Time Travel\",\"Scrypt\",\"Keccak\",\"SkunkHash v2 Raptor\",\"X11\",\"Skein\",\"SHA-256\",\"X11\",\"Scrypt\",\"VeChainThor Authority\",\"Scrypt\",\"PoS\",\"Scrypt\",\"Scrypt\",\"Scrypt\",\"Scrypt\",\"Scrypt\",\"Scrypt\",\"Scrypt\",\"CryptoNight\",\"SHA-512\",\"Ouroboros\",\"X11\",\"Equihash\",\"NeoScrypt\",\"X11\",\"Scrypt\",\"NeoScrypt\",\"Lyra2REv2\",\"Equihash\",\"Scrypt\",\"SHA-256\",\"NIST5\",\"PHI1612\",\"Dagger\",\"Scrypt\",\"Quark\",\"Scrypt\",\"POS 2.0\",\"Scrypt\",\"SHA-256\",\"X11\",\"NeoScrypt\",\"Ethash\",\"NeoScrypt\",\"X11\",\"DPoS\",\"NIST5\",\"X13\",\"Multiple\",\"Scrypt\",\"CryptoNight\",\"CryptoNight\",\"Ethash\",\"NIST5\",\"Quark\",\"X11\",\"CryptoNight-V7\",\"Scrypt\",\"Scrypt\",\"Scrypt\",\"X11\",\"BLAKE256\",\"X11\",\"NeoScrypt\",\"Quark\",\"NeoScrypt\",\"Scrypt\",\"Scrypt\",\"Scrypt\",\"X11\",\"X11\",\"SHA-256\",\"C11\",\"POS 3.0\",\"Ethash\",\"Scrypt\",\"CryptoNight\",\"SkunkHash\",\"Scrypt\",\"CryptoNight\",\"Scrypt\",\"Dagger\",\"Lyra2REv2\",\"X13\",\"Proof-of-BibleHash\",\"SHA-256 + Hive\",\"Scrypt\",\"Scrypt\",\"X11\",\"C11\",\"Proof-of-Authority\",\"X11\",\"XEVAN\",\"Scrypt\",\"VBFT\",\"Ethash\",\"CryptoNight\",\"Scrypt\",\"IMesh\",\"NIST5\",\"Scrypt\",\"Scrypt\",\"Equihash\",\"Scrypt\",\"Lyra2Z\",\"Green Protocol\",\"PoS\",\"Scrypt\",\"Semux BFT consensus\",\"X11\",\"Quark\",\"PoS\",\"CryptoNight\",\"X16R\",\"Scrypt\",\"NIST5\",\"Lyra2RE\",\"XEVAN\",\"Tribus\",\"Scrypt\",\"Lyra2Z\",\"CryptoNight\",\"CryptoNight Heavy\",\"CryptoNight\",\"Scrypt\",\"Scrypt\",\"Jump Consistent Hash\",\"SHA-256D\",\"CryptoNight\",\"Scrypt\",\"X15\",\"Scrypt\",\"Quark\",\"SHA-256\",\"DPoS\",\"X16R\",\"HMQ1725\",\"X11\",\"X16R\",\"Quark\",\"Quark\",\"Scrypt\",\"Lyra2REv2\",\"Quark\",\"Scrypt\",\"Scrypt\",\"CryptoNight-V7\",\"Cryptonight-GPU\",\"XEVAN\",\"CryptoNight Heavy\",\"X11\",\"X11\",\"Scrypt\",\"PoS\",\"SHA-256\",\"Keccak\",\"X11\",\"X11\",\"Scrypt\",\"SHA-512\",\"X16R\",\"ECC 256K1\",\"Equihash\",\"XEVAN\",\"Lyra2Z\",\"SHA-256\",\"XEVAN\",\"X11\",\"CryptoNight\",\"Quark\",\"Blake\",\"Blake\",\"Equihash\",\"Exosis\",\"Scrypt\",\"Scrypt\",\"Equihash\",\"Quark\",\"Equihash\",\"Quark\",\"Scrypt\",\"QuBit\",\"X11\",\"Scrypt\",\"XEVAN\",\"SHA-256D\",\"X11\",\"SHA-256\",\"X13\",\"SHA-256\",\"X11\",\"DPoS\",\"Scrypt\",\"Scrypt\",\"X11\",\"NeoScrypt\",\"Scrypt\",\"Blake\",\"Scrypt\",\"SHA-256\",\"Scrypt\",\"X11\",\"Scrypt\",\"Scrypt\",\"SHA-256\",\"X11\",\"SHA-256\",\"Scrypt\",\"Scrypt\",\"Scrypt\",\"Groestl\",\"X11\",\"Scrypt\",\"PoS\",\"Scrypt\",\"Scrypt\",\"X11\",\"SHA-256\",\"DPoS\",\"Scrypt\",\"Scrypt\",\"NeoScrypt\",\"SHA3-256\",\"Multiple\",\"X13\",\"Equihash+Scrypt\",\"DPoS\",\"Ethash\",\"DPoS\",\"SHA-256\",\"Leased POS\",\"PoS\",\"TRC10\",\"PoS\",\"SHA-256\",\"Scrypt\",\"CryptoNight\",\"Equihash\",\"Scrypt\"],\"Class\":{\"__ndarray__\":\"AAAAAAAAAAAEAAAAAQAAAAEAAAABAAAAAAAAAAEAAAABAAAAAQAAAAAAAAABAAAAAAAAAAAAAAABAAAAAAAAAAEAAAABAAAAAAAAAAAAAAABAAAAAQAAAAEAAAABAAAAAQAAAAAAAAABAAAAAQAAAAEAAAAAAAAAAQAAAAAAAAABAAAAAQAAAAAAAAAAAAAAAQAAAAEAAAABAAAAAQAAAAEAAAABAAAAAAAAAAAAAAABAAAAAQAAAAEAAAABAAAAAQAAAAAAAAAAAAAAAQAAAAAAAAABAAAAAQAAAAEAAAABAAAAAAAAAAEAAAABAAAAAAAAAAEAAAAAAAAAAAAAAAAAAAABAAAAAQAAAAEAAAAAAAAAAAAAAAAAAAAAAAAAAAAAAAEAAAABAAAAAQAAAAAAAAAAAAAAAQAAAAAAAAABAAAAAAAAAAAAAAABAAAAAQAAAAEAAAABAAAAAAAAAAAAAAABAAAAAAAAAAEAAAABAAAAAAAAAAAAAAABAAAAAAAAAAAAAAAEAAAAAQAAAAAAAAAAAAAAAQAAAAAAAAAAAAAAAQAAAAAAAAABAAAAAAAAAAEAAAAAAAAAAQAAAAAAAAAAAAAAAQAAAAEAAAAAAAAAAQAAAAEAAAABAAAAAAAAAAEAAAABAAAAAQAAAAEAAAABAAAAAAAAAAAAAAABAAAAAQAAAAEAAAAAAAAAAQAAAAAAAAABAAAAAQAAAAAAAAABAAAAAAAAAAEAAAAAAAAAAAAAAAEAAAABAAAAAAAAAAEAAAABAAAAAAAAAAAAAAABAAAAAAAAAAEAAAAAAAAAAAAAAAAAAAABAAAAAQAAAAEAAAABAAAAAAAAAAAAAAAAAAAAAAAAAAAAAAABAAAAAQAAAAAAAAAAAAAAAAAAAAAAAAAAAAAAAQAAAAAAAAAAAAAAAAAAAAAAAAAAAAAAAQAAAAAAAAABAAAAAAAAAAAAAAABAAAAAAAAAAEAAAAAAAAAAAAAAAEAAAAAAAAAAQAAAAAAAAABAAAAAAAAAAEAAAAAAAAAAAAAAAAAAAAAAAAAAQAAAAAAAAAAAAAAAAAAAAAAAAAAAAAAAQAAAAEAAAAEAAAAAAAAAAEAAAABAAAAAAAAAAAAAAAAAAAAAAAAAAAAAAABAAAAAAAAAAAAAAAAAAAAAAAAAAAAAAAAAAAAAAAAAAAAAAABAAAAAAAAAAAAAAAAAAAAAAAAAAAAAAAAAAAAAQAAAAEAAAABAAAAAAAAAAAAAAAAAAAAAAAAAAEAAAAAAAAAAQAAAAAAAAAAAAAAAQAAAAAAAAABAAAAAQAAAAAAAAABAAAAAQAAAAAAAAABAAAAAAAAAAAAAAAAAAAAAQAAAAAAAAAAAAAAAQAAAAAAAAAAAAAAAAAAAAAAAAAAAAAAAAAAAAAAAAABAAAAAAAAAAEAAAAAAAAAAAAAAAAAAAAAAAAAAQAAAAAAAAABAAAAAAAAAAEAAAABAAAAAQAAAAEAAAAAAAAAAQAAAAAAAAAAAAAAAQAAAAAAAAABAAAAAQAAAAEAAAAAAAAAAQAAAAAAAAABAAAABAAAAAEAAAAAAAAAAQAAAAAAAAABAAAAAAAAAAAAAAAEAAAAAQAAAAAAAAABAAAAAQAAAAEAAAABAAAAAQAAAAAAAAAAAAAAAQAAAAAAAAAAAAAAAAAAAAEAAAAAAAAAAQAAAAAAAAABAAAAAAAAAAEAAAAAAAAAAAAAAAAAAAAAAAAAAQAAAAAAAAAAAAAAAQAAAAAAAAAAAAAAAAAAAAEAAAABAAAAAQAAAAEAAAAAAAAABAAAAAAAAAAAAAAAAQAAAAAAAAABAAAAAQAAAAEAAAAAAAAAAAAAAAEAAAABAAAAAAAAAAAAAAABAAAAAAAAAAEAAAABAAAAAQAAAAAAAAABAAAAAQAAAAAAAAAAAAAAAAAAAAEAAAABAAAAAQAAAAAAAAAAAAAAAAAAAAQAAAABAAAAAAAAAAEAAAABAAAAAQAAAAEAAAAAAAAAAwAAAAUAAAABAAAAAQAAAAEAAAAAAAAAAwAAAAAAAAAAAAAAAAAAAAAAAAABAAAAAQAAAAEAAAABAAAAAAAAAAAAAAAAAAAAAQAAAAAAAAABAAAAAAAAAAAAAAAAAAAABAAAAAEAAAAAAAAAAAAAAAEAAAAAAAAAAAAAAAEAAAABAAAAAAAAAAEAAAAAAAAAAQAAAAEAAAABAAAAAQAAAAAAAAAAAAAAAQAAAAAAAAABAAAAAAAAAAAAAAAEAAAAAAAAAAAAAAAAAAAAAQAAAAEAAAABAAAAAAAAAAAAAAAAAAAAAAAAAAAAAAAAAAAAAQAAAAAAAAABAAAAAQAAAAEAAAABAAAAAAAAAAAAAAAAAAAAAAAAAAEAAAAAAAAAAAAAAAEAAAAAAAAAAAAAAAEAAAAFAAAAAQAAAAAAAAABAAAAAQAAAAAAAAAAAAAAAQAAAAAAAAABAAAAAQAAAAAAAAABAAAAAQAAAAAAAAABAAAAAAAAAAEAAAAAAAAAAAAAAAEAAAAAAAAAAAAAAAAAAAAAAAAAAAAAAAEAAAABAAAAAQAAAAAAAAAEAAAAAAAAAAEAAAAAAAAAAQAAAAAAAAABAAAAAAAAAAAAAAAAAAAAAAAAAAEAAAAAAAAAAAAAAAAAAAABAAAAAAAAAAEAAAAAAAAAAQAAAAAAAAAAAAAAAAAAAAEAAAABAAAAAAAAAAAAAAAEAAAAAAAAAAAAAAAAAAAAAAAAAAEAAAAAAAAAAQAAAAQAAAABAAAABAAAAAAAAAADAAAAAAAAAAIAAAAAAAAABAAAAAAAAAABAAAAAQAAAAAAAAA=\",\"dtype\":\"int32\",\"order\":\"little\",\"shape\":[533]},\"CoinName\":[\"42 Coin\",\"404Coin\",\"EliteCoin\",\"Bitcoin\",\"Ethereum\",\"Litecoin\",\"Dash\",\"Monero\",\"Ethereum Classic\",\"ZCash\",\"Bitshares\",\"DigiByte\",\"BitcoinDark\",\"PayCoin\",\"ProsperCoin\",\"KoboCoin\",\"Spreadcoin\",\"Argentum\",\"Aurora Coin\",\"BlueCoin\",\"MyriadCoin\",\"MoonCoin\",\"ZetaCoin\",\"SexCoin\",\"Quatloo\",\"EnergyCoin\",\"QuarkCoin\",\"Riecoin\",\"Digitalcoin \",\"BitBar\",\"Catcoin\",\"CryptoBullion\",\"CannaCoin\",\"CryptCoin\",\"CasinoCoin\",\"Diamond\",\"Verge\",\"DevCoin\",\"EarthCoin\",\"E-Gulden\",\"Einsteinium\",\"Emerald\",\"Exclusive Coin\",\"FlutterCoin\",\"Franko\",\"FeatherCoin\",\"GrandCoin\",\"GlobalCoin\",\"GoldCoin\",\"HoboNickels\",\"HyperStake\",\"Infinite Coin\",\"IOCoin\",\"IXcoin\",\"KrugerCoin\",\"LuckyCoin\",\"Litebar \",\"MaxCoin\",\"MegaCoin\",\"MediterraneanCoin\",\"MintCoin\",\"MinCoin\",\"MazaCoin\",\"Nautilus Coin\",\"NavCoin\",\"NobleCoin\",\"Namecoin\",\"NyanCoin\",\"OpalCoin\",\"Orbitcoin\",\"PotCoin\",\"PhoenixCoin\",\"Reddcoin\",\"RonPaulCoin\",\"StableCoin\",\"SmartCoin\",\"SuperCoin\",\"SyncCoin\",\"SysCoin\",\"TeslaCoin\",\"TigerCoin\",\"TittieCoin\",\"TorCoin\",\"TerraCoin\",\"UnbreakableCoin\",\"Unobtanium\",\"UroCoin\",\"UnitaryStatus Dollar\",\"UltraCoin\",\"ViaCoin\",\"VeriCoin\",\"Vertcoin\",\"WorldCoin\",\"X11 Coin\",\"Crypti\",\"JouleCoin\",\"StealthCoin\",\"ZCC Coin\",\"ByteCoin\",\"DigitalNote \",\"BurstCoin\",\"StorjCoin\",\"MonaCoin\",\"Neutron\",\"FairCoin\",\"Gulden\",\"RubyCoin\",\"PesetaCoin\",\"Kore\",\"Wild Beast Coin\",\"Dnotes\",\"Flo\",\"8BIT Coin\",\"Sativa Coin\",\"ArtByte\",\"Folding Coin\",\"Ucoin\",\"Unitus\",\"CypherPunkCoin\",\"OmniCron\",\"Vtorrent\",\"GreenCoin\",\"Cryptonite\",\"MasterCoin\",\"SoonCoin\",\"1Credit\",\"IslaCoin\",\"Nexus\",\"MarsCoin \",\"Crypto\",\"Anarchists Prime\",\"Droidz\",\"BowsCoin\",\"Squall Coin\",\"Song Coin\",\"BitZeny\",\"Diggits\",\"Expanse\",\"Paycon\",\"Siacoin\",\"Emercoin\",\"EverGreenCoin\",\"MindCoin\",\"I0coin\",\"Decred\",\"Revolution VR\",\"HOdlcoin\",\"EDRCoin\",\"Hitcoin\",\"Gamecredits\",\"DubaiCoin\",\"CarpeDiemCoin\",\"PWR Coin\",\"BillaryCoin\",\"GPU Coin\",\"Adzcoin\",\"SoilCoin\",\"YoCoin\",\"SibCoin\",\"EuropeCoin\",\"ZeitCoin\",\"SwingCoin\",\"SafeExchangeCoin\",\"Nebuchadnezzar\",\"Francs\",\"BolivarCoin\",\"Ratecoin\",\"Revenu\",\"Clockcoin\",\"VIP Tokens\",\"BitSend\",\"Omni\",\"Let it Ride\",\"PutinCoin\",\"iBankCoin\",\"Frankywillcoin\",\"MudraCoin\",\"PizzaCoin\",\"Lutetium Coin\",\"Komodo\",\"GoldBlocks\",\"CarterCoin\",\"Karbo\",\"BitTokens\",\"ZayedCoin\",\"MustangCoin\",\"ZoneCoin\",\"Circuits of Value\",\"RootCoin\",\"DopeCoin\",\"BitCurrency\",\"DollarCoin\",\"Swiscoin\",\"Shilling\",\"BuzzCoin\",\"Opair\",\"PesoBit\",\"Halloween Coin\",\"ZCoin\",\"CoffeeCoin\",\"RoyalCoin\",\"GanjaCoin V2\",\"TeamUP\",\"LanaCoin\",\"Elementrem\",\"ZClassic\",\"ARK\",\"InsaneCoin\",\"KiloCoin\",\"ArtexCoin\",\"EmberCoin\",\"XenixCoin\",\"FreeCoin\",\"PLNCoin\",\"AquariusCoin\",\"Kurrent\",\"Creatio\",\"Eternity\",\"Eurocoin\",\"BitcoinFast\",\"Stakenet\",\"BitConnect Coin\",\"MoneyCoin\",\"Enigma\",\"Cannabis Industry Coin\",\"Russiacoin\",\"PandaCoin\",\"GameUnits\",\"GAKHcoin\",\"Allsafe\",\"LiteCreed\",\"OsmiumCoin\",\"Bikercoins\",\"HexxCoin\",\"Klingon Empire Darsek\",\"Internet of People\",\"KushCoin\",\"Printerium\",\"PacCoin\",\"Impeach\",\"Citadel\",\"Zilbercoin\",\"FirstCoin\",\"BeaverCoin\",\"FindCoin\",\"VaultCoin\",\"Zero\",\"OpenChat\",\"Canada eCoin\",\"Zoin\",\"RenosCoin\",\"DubaiCoin\",\"VirtacoinPlus\",\"TajCoin\",\"Impact\",\"EB3coin\",\"Atmos\",\"HappyCoin\",\"Coinonat\",\"MacronCoin\",\"Condensate\",\"Independent Money System\",\"ArgusCoin\",\"LomoCoin\",\"ProCurrency\",\"GoldReserve\",\"BenjiRolls\",\"GrowthCoin\",\"ILCoin\",\"Phreak\",\"Degas Coin\",\"HTML5 Coin\",\"Ultimate Secure Cash\",\"EquiTrader\",\"QTUM\",\"Quantum Resistant Ledger\",\"Espers\",\"Dynamic\",\"Nano\",\"ChanCoin\",\"Dinastycoin\",\"Denarius\",\"DigitalPrice\",\"Virta Unique Coin\",\"Bitcoin Planet\",\"Unify\",\"BritCoin\",\"SocialCoin\",\"ArcticCoin\",\"DAS\",\"Linda\",\"LeviarCoin\",\"DeepOnion\",\"Bitcore\",\"gCn Coin\",\"SmartCash\",\"Signatum\",\"Onix\",\"Cream\",\"Bitcoin Cash\",\"Monoeci\",\"Draftcoin\",\"Vechain\",\"Sojourn Coin\",\"Stakecoin\",\"NewYorkCoin\",\"FrazCoin\",\"Kronecoin\",\"AdCoin\",\"Linx\",\"CoinonatX\",\"Ethereum Dark\",\"Sumokoin\",\"Obsidian\",\"Cardano\",\"Regalcoin\",\"BitcoinZ\",\"TrezarCoin\",\"Elements\",\"TerraNovaCoin\",\"VIVO Coin\",\"Rupee\",\"Bitcoin Gold\",\"WomenCoin\",\"Theresa May Coin\",\"NamoCoin\",\"LUXCoin\",\"Pirl\",\"Xios\",\"Bitcloud 2.0\",\"eBoost\",\"KekCoin\",\"BlackholeCoin\",\"Infinity Economics\",\"Pura\",\"Innova\",\"Ellaism\",\"GoByte\",\"Magnet\",\"Lamden Tau\",\"Electra\",\"Bitcoin Diamond\",\"SHIELD\",\"Cash & Back Coin\",\"UltraNote\",\"BitCoal\",\"DaxxCoin\",\"Bulwark\",\"Kalkulus\",\"AC3\",\"Lethean\",\"GermanCoin\",\"LiteCoin Ultra\",\"PopularCoin\",\"PhantomX\",\"Photon\",\"Sucre\",\"SparksPay\",\"Digiwage\",\"GunCoin\",\"IrishCoin\",\"Trollcoin\",\"Litecoin Plus\",\"Monkey Project\",\"Pioneer Coin\",\"UnitedBitcoin\",\"Interzone\",\"TokenPay\",\"1717 Masonic Commemorative Token\",\"My Big Coin\",\"TurtleCoin\",\"MUNcoin\",\"Unified Society USDEX\",\"Niobio Cash\",\"ShareChain\",\"Travelflex\",\"KREDS\",\"Tokyo Coin\",\"BiblePay\",\"LitecoinCash\",\"BitFlip\",\"LottoCoin\",\"Crypto Improvement Fund\",\"Stipend\",\"Poa Network\",\"Pushi\",\"Ellerium\",\"Velox\",\"Ontology\",\"Callisto Network\",\"BitTube\",\"Poseidon\",\"Aidos Kuneen\",\"Bitspace\",\"Briacoin\",\"Ignition\",\"Bitrolium\",\"MedicCoin\",\"Alpenschillling\",\"Bitcoin Green\",\"Deviant Coin\",\"Abjcoin\",\"Semux\",\"FuturoCoin\",\"Carebit\",\"Zealium\",\"Monero Classic\",\"Proton\",\"iDealCash\",\"Jumpcoin\",\"Infinex\",\"Bitcoin Incognito\",\"KEYCO\",\"HollyWoodCoin\",\"GINcoin\",\"PlatinCoin\",\"Loki\",\"Newton Coin\",\"Swisscoin\",\"Xt3ch\",\"MassGrid\",\"TheVig\",\"PluraCoin\",\"EmaratCoin\",\"Dekado\",\"Lynx\",\"Poseidon Quark\",\"BitcoinWSpectrum\",\"Muse\",\"Motion\",\"PlusOneCoin\",\"Axe\",\"Trivechain\",\"Dystem\",\"Giant\",\"Peony Coin\",\"Absolute Coin\",\"Vitae\",\"HexCoin\",\"TPCash\",\"Webchain\",\"Ryo\",\"Urals Coin\",\"Qwertycoin\",\"ARENON\",\"EUNO\",\"MMOCoin\",\"Ketan\",\"Project Pai\",\"XDNA\",\"PAXEX\",\"Azart\",\"ThunderStake\",\"Kcash\",\"Xchange\",\"Acute Angle Cloud\",\"CrypticCoin\",\"Bettex coin\",\"Actinium\",\"Bitcoin SV\",\"BitMoney\",\"Junson Ming Chan Coin\",\"FREDEnergy\",\"HerbCoin\",\"Universal Molecule\",\"Lithium\",\"PirateCash\",\"Exosis\",\"Block-Logic\",\"Oduwa\",\"Beam\",\"Galilel\",\"Bithereum\",\"Crypto Sports\",\"Credit\",\"SLICE\",\"Dash Platinum\",\"Nasdacoin\",\"Beetle Coin\",\"Titan Coin\",\"Award\",\"BLAST\",\"Bitcoin Rhodium\",\"GlobalToken\",\"Insane Coin\",\"ALAX\",\"LiteDoge\",\"SolarCoin\",\"TruckCoin\",\"UFO Coin\",\"OrangeCoin\",\"BlakeCoin\",\"BitstarCoin\",\"NeosCoin\",\"HyperCoin\",\"PinkCoin\",\"Crypto Escudo\",\"AudioCoin\",\"IncaKoin\",\"Piggy Coin\",\"Crown Coin\",\"Genstake\",\"SmileyCoin\",\"XiaoMiCoin\",\"Groestlcoin\",\"CapriCoin\",\" ClubCoin\",\"Radium\",\"Bata\",\"Pakcoin\",\"Creditbit \",\"OKCash\",\"Lisk\",\"HiCoin\",\"WhiteCoin\",\"FriendshipCoin\",\"Fiii\",\"JoinCoin\",\"Triangles Coin\",\"Vollar\",\"EOS\",\"Reality Clash\",\"Oxycoin\",\"TigerCash\",\"Waves\",\"Particl\",\"BitTorrent\",\"Nxt\",\"ZEPHYR\",\"Gapcoin\",\"Beldex\",\"Horizen\",\"BitcoinPlus\"],\"ProofType\":[\"PoW/PoS\",\"PoW/PoS\",\"PoW/PoS\",\"PoW\",\"PoW\",\"PoW\",\"PoW/PoS\",\"PoW\",\"PoW\",\"PoW\",\"PoS\",\"PoW\",\"PoW/PoS\",\"PoS\",\"PoW\",\"PoW/PoS\",\"PoW\",\"PoW\",\"PoW/PoS\",\"PoW/PoS\",\"PoW\",\"PoW\",\"PoW\",\"PoW\",\"PoW\",\"PoW/PoS\",\"PoW\",\"PoW\",\"PoW\",\"PoW/PoS\",\"PoW\",\"PoW/PoS\",\"PoW\",\"PoW\",\"PoC\",\"PoW/PoS\",\"PoW\",\"PoW\",\"PoW\",\"PoW\",\"PoW\",\"PoW\",\"PoS\",\"PoS/PoW/PoT\",\"PoW\",\"PoW\",\"PoW\",\"PoW\",\"PoW\",\"PoW/PoS\",\"PoS\",\"PoW\",\"PoW/PoS\",\"PoW\",\"PoW\",\"PoW\",\"PoW\",\"PoW/PoS\",\"PoW\",\"PoW\",\"PoS\",\"PoW\",\"PoW/PoS\",\"PoS\",\"PoW/PoS\",\"PoW\",\"PoW\",\"PoW\",\"PoW/PoS\",\"PoW/PoS\",\"PoW/PoS\",\"PoW/PoS\",\"PoW/PoS\",\"PoW\",\"PoW\",\"PoW\",\"PoS\",\"PoW/PoS\",\"PoW\",\"PoS\",\"PoW\",\"PoS\",\"PoW/PoS\",\"PoW\",\"PoW\",\"PoW\",\"PoW\",\"PoW/PoS\",\"PoW/PoS\",\"PoW\",\"PoST\",\"PoW\",\"PoW\",\"PoW/PoS\",\"PoS\",\"PoW\",\"PoW/PoS\",\"PoW/PoS\",\"PoW\",\"PoW\",\"PoC\",\"PoS\",\"PoW\",\"PoW/PoS\",\"PoW/PoS\",\"PoW\",\"PoS\",\"PoW\",\"PoW/PoS\",\"PoW\",\"PoS\",\"PoW\",\"PoW/PoS\",\"PoW/PoS\",\"PoW\",\"PoW\",\"PoS\",\"PoW\",\"PoW\",\"PoW\",\"PoW/PoS\",\"PoW\",\"PoW\",\"PoW\",\"PoW\",\"PoW\",\"PoW/PoS\",\"PoW/nPoS\",\"PoW\",\"PoW\",\"PoW\",\"PoW/PoS\",\"PoW\",\"PoS/PoW\",\"PoW\",\"PoW\",\"PoS\",\"PoW\",\"PoW/PoS\",\"PoW\",\"PoW/PoS\",\"PoW/PoS\",\"PoW\",\"PoW\",\"PoW/PoS\",\"PoW\",\"PoW\",\"PoW/PoS\",\"PoW/PoS\",\"PoW\",\"PoW/PoS\",\"PoW\",\"PoW/PoS\",\"PoW/PoS\",\"PoS\",\"PoW\",\"PoW\",\"PoW\",\"PoW\",\"PoW/PoS\",\"PoS\",\"PoW/PoS\",\"PoC\",\"PoS\",\"PoW\",\"PoW\",\"PoW/PoS\",\"PoW/PoS\",\"PoW/PoS\",\"PoW/PoS\",\"PoW/PoS\",\"PoW\",\"PoS\",\"PoW/PoS\",\"PoW/PoS\",\"PoW/PoS\",\"PoS\",\"PoW\",\"PoS\",\"dPoW/PoW\",\"PoW/PoS\",\"PoW/PoS\",\"PoW\",\"PoW/PoS\",\"PoW\",\"PoW/PoS\",\"PoW/PoS\",\"PoW\",\"PoW/PoS\",\"PoW\",\"PoS\",\"PoW\",\"PoW/PoW\",\"PoW\",\"PoW/PoS\",\"PoS\",\"PoW/PoS\",\"PoW/PoS\",\"PoW\",\"PoS\",\"PoS\",\"PoW/PoS\",\"PoS\",\"PoW/PoS\",\"PoW\",\"PoW\",\"DPoS\",\"PoW/PoS\",\"PoW\",\"PoW\",\"PoW/PoS\",\"PoW/PoS\",\"PoS\",\"PoW/PoS\",\"PoW/PoS\",\"PoW\",\"PoS\",\"PoW/PoS\",\"PoW/PoS\",\"PoW/PoS\",\"TPoS\",\"PoW/PoS\",\"PoW/PoS\",\"PoW/PoS\",\"PoW\",\"PoW/PoS\",\"PoS\",\"PoW/PoS\",\"PoW/PoS\",\"PoS\",\"PoW/PoS\",\"PoW\",\"PoW\",\"PoW\",\"PoW/PoS\",\"PoW/PoS\",\"PoW/PoS\",\"PoW/PoS\",\"PoW\",\"PoW/PoS\",\"PoW\",\"PoS\",\"PoW/PoS \",\"PoW\",\"PoS\",\"PoW\",\"PoW\",\"PoW/PoS\",\"PoW\",\"PoW\",\"PoS\",\"PoW\",\"PoW/PoS\",\"PoW/PoS\",\"PoW/PoS\",\"PoW\",\"PoS\",\"PoW/PoS\",\"PoW\",\"PoS\",\"PoW/PoS\",\"PoW/PoS\",\"PoW/PoS\",\"PoW/PoS\",\"PoS\",\"PoW/PoS\",\"PoW\",\"PoS\",\"PoW\",\"PoS\",\"PoW/PoS\",\"PoW/PoS\",\"PoS\",\"PoW\",\"PoS\",\"PoW\",\"PoW/PoS\",\"PoW\",\"PoW\",\"PoW\",\"PoW\",\"PoW/PoS\",\"PoW\",\"PoW/PoS\",\"PoW/PoS\",\"PoW\",\"PoW/PoS\",\"PoW\",\"PoW\",\"PoW\",\"PoW/PoS\",\"PoW\",\"PoW/PoS\",\"PoW\",\"PoW\",\"PoW\",\"PoS\",\"PoW\",\"PoW/PoS\",\"PoW\",\"PoW/PoS\",\"PoS\",\"Proof of Authority\",\"PoW\",\"PoS\",\"PoW\",\"PoW\",\"PoW\",\"PoW\",\"PoW\",\"PoW/PoS\",\"PoW/PoS\",\"PoW\",\"PoS\",\"PoS\",\"PoW/PoS\",\"PoW\",\"PoW/PoS\",\"PoW\",\"PoW/PoS\",\"PoW\",\"PoS\",\"PoW\",\"PoW/PoS\",\"PoW/PoS\",\"PoW/PoS\",\"PoW/PoS\",\"PoW\",\"PoW/PoS\",\"PoW/PoS\",\"PoW\",\"PoS\",\"PoW/PoS\",\"PoS\",\"PoW\",\"PoW\",\"PoW\",\"PoW\",\"PoW/PoS\",\"DPoS\",\"PoW/PoS\",\"PoW/PoS\",\"PoW\",\"PoW/PoS\",\"PoW\",\"PoW\",\"PoW\",\"PoS\",\"PoS\",\"PoW\",\"PoW\",\"PoW/PoS\",\"PoW/PoS\",\"PoW\",\"PoW/PoS\",\"PoW\",\"PoW\",\"PoW\",\"PoS\",\"PoW\",\"PoW\",\"PoW/PoS\",\"PoW/PoS\",\"PoS\",\"PoW\",\"PoW\",\"PoW\",\"PoS\",\"PoS\",\"PoW and PoS\",\"PoW\",\"PoW\",\"PoW/PoS\",\"PoW\",\"PoW\",\"PoW\",\"PoW\",\"PoS\",\"POBh\",\"PoW + Hive\",\"PoW\",\"PoW\",\"PoW\",\"PoW/PoS\",\"PoA\",\"PoW/PoS\",\"PoW/PoS\",\"PoS\",\"PoS\",\"PoW\",\"PoW\",\"PoW\",\"PoW\",\"PoW/PoS\",\"PoW/PoS\",\"PoW/PoS\",\"PoW\",\"PoS\",\"PoW\",\"PoS\",\"PoS\",\"PoW/PoS\",\"DPoS\",\"PoW\",\"PoW/PoS\",\"PoS\",\"PoW\",\"PoS\",\"PoW/PoS\",\"PoW\",\"PoW\",\"PoS/PoW\",\"PoW\",\"PoS\",\"PoW\",\"PoW\",\"PoW\",\"PoW\",\"PoW/PoS\",\"PoS\",\"PoW\",\"PoW/PoS\",\"PoW\",\"PoW/PoS\",\"PoS\",\"HPoW\",\"PoS\",\"PoS\",\"PoS\",\"PoW\",\"PoW\",\"PoW\",\"PoW/PoS\",\"PoS\",\"PoW/PoS\",\"PoS\",\"PoW/PoS\",\"PoS\",\"PoW\",\"PoW/PoS\",\"PoW\",\"PoW\",\"PoW\",\"PoW\",\"PoS\",\"PoW/PoS\",\"PoS\",\"PoS\",\"PoW\",\"PoW/PoS\",\"PoS\",\"PoW\",\"PoW/PoS\",\"Zero-Knowledge Proof\",\"PoW\",\"DPOS\",\"PoW\",\"PoS\",\"PoW\",\"PoW\",\"Pos\",\"PoS\",\"PoW\",\"PoW/PoS\",\"PoW\",\"PoW\",\"PoS\",\"PoW\",\"PoW\",\"PoW/PoS\",\"PoW\",\"PoW/PoS\",\"PoW\",\"PoS\",\"PoW/PoS\",\"PoW\",\"PoS\",\"PoW/PoS\",\"PoW/PoS\",\"PoW/PoS\",\"PoW/PoS\",\"PoW\",\"PoW\",\"PoW\",\"PoW/PoS\",\"DPoS\",\"PoW/PoS\",\"PoW\",\"PoW/PoS\",\"PoW\",\"PoW/PoS\",\"PoW\",\"PoW/PoS\",\"PoS\",\"PoW/PoS\",\"PoW/PoS\",\"PoW\",\"PoW/PoS\",\"PoW/PoS\",\"PoW/PoS\",\"PoW\",\"PoW/PoS\",\"PoW\",\"PoW/PoS\",\"PoW\",\"PoW/PoS\",\"PoW/PoS\",\"PoS\",\"PoW\",\"PoW\",\"Proof of Trust\",\"PoW/PoS\",\"DPoS\",\"PoS\",\"PoW/PoS\",\"PoW/PoS\",\"DPoC\",\"PoW\",\"PoW/PoS\",\"PoW\",\"DPoS\",\"PoW\",\"DPoS\",\"PoS\",\"LPoS\",\"PoS\",\"DPoS\",\"PoS/LPoS\",\"DPoS\",\"PoW/PoS\",\"PoW\",\"PoW\",\"PoS\"],\"TotalCoinSupply\":[\"42\",\"532000000\",\"314159265359\",\"21000000\",\"0\",\"84000000\",\"22000000\",\"0\",\"210000000\",\"21000000\",\"3600570502\",\"21000000000\",\"22000000\",\"12500000\",\"21000000\",\"350000000\",\"20000000\",\"64000000\",\"16768584\",\"0\",\"2000000000\",\"384000000000\",\"169795588\",\"250000000\",\"100000000\",\"0\",\"247000000\",\"84000000\",\"48166000\",\"500000\",\"21000000 \",\"1000000\",\"13140000\",\"18000000\",\"40000000000\",\"4380000\",\"16555000000\",\"21000000000\",\"13500000000\",\"21000000 \",\"299792458\",\"32000000\",\"0\",\"0\",\"11235813\",\"336000000\",\"1420609614\",\"70000000\",\"72245700\",\"120000000\",\"0\",\"90600000000\",\"22000000\",\"21000000\",\"265420800\",\"20000000\",\"1350000\",\"100000000\",\"42000000\",\"200000000\",\"0\",\"10000000\",\"2419200000\",\"16180000\",\"0\",\"15000000000\",\"21000000\",\"337000000\",\"0\",\"3770000\",\"420000000\",\"98000000\",\"0\",\"21000000\",\"250000000\",\"51200000\",\"0\",\"1000\",\"888000000\",\"100000000\",\"47011968\",\"2300000000\",\"10000000\",\"42000000\",\"80000000\",\"250000\",\"0\",\"1600000000\",\"100000000\",\"23000000\",\"0\",\"84000000\",\"265420800\",\"5500000\",\"0\",\"45000000\",\"0\",\"1000000000\",\"184467440735\",\"10000000000\",\"2158812800\",\"500000000\",\"105120000\",\"68000000\",\"0\",\"1680000000\",\"0\",\"166386000\",\"12000000\",\"2628000\",\"500000000\",\"160000000\",\"0\",\"10000000\",\"1000000000\",\"1000000000\",\"20000000\",\"0\",\"0\",\"3371337\",\"20000000\",\"10000000000\",\"1840000000\",\"619478\",\"21000000\",\"92000000000\",\"0\",\"78000000\",\"33000000\",\"65789100\",\"53760000\",\"5060000\",\"21000000\",\"0\",\"210240000\",\"250000000\",\"100000000\",\"16906397\",\"50000000\",\"0\",\"1000000000\",\"26298000\",\"16000000\",\"21000000\",\"21000000\",\"210000000\",\"81962100\",\"22000000\",\"26550000000\",\"84000000\",\"10500000\",\"21626280000 \",\"0\",\"42000000\",\"221052632\",\"84000000\",\"30000000\",\"168351300\",\"24000000\",\"384000000\",\" 99000000000\",\"40000000\",\"2147483647\",\"20000000\",\"20000000\",\"25000000\",\"75000000\",\"222725000\",\"525000000\",\"90000000\",\"139000000\",\"616448\",\"33500000\",\"2000000000\",\"44333333\",\"100000000\",\"200000000\",\"25000000\",\"657000000\",\"200000000\",\"50000000\",\"90000000\",\"10000000\",\"21000000\",\"9736000\",\"3000000\",\"21000000\",\"1200000000\",\"0\",\"200000000\",\"0\",\"10638298\",\"3100000000\",\"30000000\",\"20000000000\",\"74000000\",\"0\",\"1500000000\",\"21400000\",\"39999898\",\"2500124\",\"100000000\",\"301000000\",\"7506000000\",\"26205539\",\"21000000\",\"125000000\",\"30000000\",\"10000000000\",\"500000000\",\"850000000\",\"3853326.77707314\",\"50000000\",\"38540000 \",\"42000000\",\"228000000\",\"20000000\",\"60000000\",\"20000000\",\"33000000\",\"76500000\",\"28000000\",\"650659833\",\"5000000\",\"21000000\",\"144000000\",\"32514916898\",\"13000000\",\"3315789\",\"15000000\",\"78835200\",\"2714286\",\"25000000\",\"9999999\",\"500000000\",\"21000000\",\"9354000\",\"20000000\",\"100000000000\",\"21933333\",\"185000000\",\"55000000\",\"110000000\",\"3360000\",\"14524851.4827\",\"1000000000\",\"17000000\",\"1000000000\",\"100000000 \",\"21000000\",\"34426423\",\"2232901\",\"100000000\",\"36900000\",\"110000000\",\"4000000000\",\"110290030\",\"100000000\",\"48252000\",\"400000000\",\"500000000\",\"21212121\",\"28600000\",\"1000000000\",\"75000000000\",\"40000000\",\"35520400\",\"2000000000\",\"2500000000\",\"30000000\",\"105000000\",\"90000000000\",\"200084200\",\"72000000\",\"100000000\",\"105000000\",\"50000000000\",\"0\",\"340282367\",\"30000000\",\"2000000000\",\"10000000\",\"100000000\",\"120000000\",\"100000000\",\"19276800\",\"30000000\",\" 75000000\",\"60000000\",\"18900000\",\"50000000000\",\"54000000\",\"18898187.6216583\",\"21000000\",\"200000000000\",\"5000000000\",\"137500000\",\"1100000000\",\"100000000\",\"21000000\",\"9507271\",\"17405891.19707116\",\"86712634466\",\"10500000000\",\"61599965\",\"0\",\"20000000\",\"84000000\",\"100000000\",\"100000000\",\"48252000\",\"4200000\",\"88888888\",\"91388946\",\"45000000000\",\"27000000\",\"21000000000\",\"400000000\",\"1800000000\",\"15733333\",\"27000000\",\"24000000\",\"21000000\",\"25000000000\",\"100000000\",\"1200000000\",\"60000000\",\"156306732.71\",\"21000000\",\"200000000\",\"100000000\",\"21000000\",\"14788275.991\",\"9000000000\",\"350000000\",\"45000000\",\"280000000\",\"31800000\",\"144000000\",\"500000000\",\"30000000000\",\"210000000\",\"660000000\",\"210000000\",\"85000000000\",\"12500000\",\"10000000000\",\"27716121\",\"20000000\",\"550000000\",\"999481516\",\"50000000000\",\"150000000\",\"4999999999\",\"50000000\",\" 90000000000\",\"19800000\",\"21000000\",\"120000000\",\"500000000\",\"64000000\",\"900000000\",\"4000000\",\"21000000\",\"23000000\",\"20166000\",\"23000000\",\"25000000\",\"1618033\",\"30000000\",\"1000000000000\",\"16600000\",\"232000000\",\"336000000\",\"10000000000\",\"100000000\",\"1100000000\",\"800000000\",\"5200000000\",\"840000000\",\"40000000\",\"18406979840\",\"500000000\",\"19340594\",\"252460800\",\"25000000\",\"60000000\",\"124000000\",\"1000000000\",\"6500000000\",\"1000000000\",\"21000000\",\"25000000\",\"50000000\",\"3000000\",\"5000000\",\"70000000\",\"500000000\",\"300000000\",\"21000000\",\"88000000\",\"30000000\",\"100000000\",\"100000000\",\"200000000\",\"80000000\",\"18400000\",\"45000000\",\"5121951220\",\"21000000\",\"26280000\",\"21000000\",\"18000000\",\"26000000\",\"10500000\",\"600000518\",\"150000000\",\"184000000000\",\"10200000000\",\"44000000\",\"168000000\",\"100000000\",\"1000000000\",\"84000000\",\"90000000\",\"92000000000\",\"650000000 \",\"100262205\",\"18081806 \",\"22075700\",\"21000000\",\"21000000\",\"82546564\",\"21000000\",\"5151000\",\"16880000000\",\"52500000\",\"100000000\",\"22105263\",\"1000000000\",\"1750000000\",\"88188888\",\"210000000\",\"184470000000\",\"55000000\",\"50000000\",\"260000000\",\"210000000\",\"2100000000\",\"366000000\",\"100000000\",\"25000000\",\"18000000000\",\"1000000000\",\"100000000\",\"1000000000\",\"7600000000\",\"50000000\",\"84000000\",\"21000000\",\"70000000000\",\"0\",\"8080000000\",\"54000000\",\"105120001.44\",\"25228800\",\"105000000\",\"21000000\",\"120000000\",\"21000000\",\"262800000\",\"19035999\",\"30886000\",\"13370000\",\"74800000000\",\"100000000\",\"19700000\",\"84000000\",\"500000000\",\"5000000000\",\"420000000\",\"64000000\",\"2100000\",\"168000000\",\"30000000\",\"1000000000\",\"35000000000\",\"98100000000\",\"0\",\"4000000000\",\"200000000\",\"7000000000\",\"54256119\",\"21000000\",\"0\",\"500000000\",\"1000000000\",\"10500000000\",\"190000000\",\"1000000000\",\"42000000\",\"15000000\",\"50000000000\",\"400000000\",\"105000000\",\"208000000\",\"160000000\",\"9000000\",\"5000000\",\"182000000\",\"16504333\",\"105000000\",\"159918400\",\"10008835635\",\"300000000\",\"60168145\",\"5000000000\",\"2800000\",\"120000\",\"2100000000\",\"0\",\"24487944\",\"0\",\"1000000000\",\"100000000\",\"8634140\",\"990000000000\",\"1000000000\",\"2000000000\",\"250000000\",\"1400222610\",\"21000000\",\"1000000\"],\"TotalCoinsMined\":{\"__ndarray__\":\"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\",\"dtype\":\"float64\",\"order\":\"little\",\"shape\":[533]}},\"selected\":{\"id\":\"2570\"},\"selection_policy\":{\"id\":\"2604\"}},\"id\":\"2569\",\"type\":\"ColumnDataSource\"},{\"attributes\":{\"margin\":[5,5,5,5],\"name\":\"HSpacer05111\",\"sizing_mode\":\"stretch_width\"},\"id\":\"2607\",\"type\":\"Spacer\"},{\"attributes\":{\"editor\":{\"id\":\"2572\"},\"field\":\"CoinName\",\"formatter\":{\"id\":\"2571\"},\"title\":\"CoinName\"},\"id\":\"2573\",\"type\":\"TableColumn\"},{\"attributes\":{\"editor\":{\"id\":\"2577\"},\"field\":\"Algorithm\",\"formatter\":{\"id\":\"2576\"},\"title\":\"Algorithm\"},\"id\":\"2578\",\"type\":\"TableColumn\"},{\"attributes\":{},\"id\":\"2582\",\"type\":\"StringEditor\"},{\"attributes\":{},\"id\":\"2581\",\"type\":\"StringFormatter\"},{\"attributes\":{},\"id\":\"2570\",\"type\":\"Selection\"},{\"attributes\":{\"margin\":[5,5,5,5],\"name\":\"HSpacer05110\",\"sizing_mode\":\"stretch_width\"},\"id\":\"2568\",\"type\":\"Spacer\"},{\"attributes\":{\"editor\":{\"id\":\"2582\"},\"field\":\"ProofType\",\"formatter\":{\"id\":\"2581\"},\"title\":\"ProofType\"},\"id\":\"2583\",\"type\":\"TableColumn\"},{\"attributes\":{},\"id\":\"2586\",\"type\":\"StringFormatter\"},{\"attributes\":{\"format\":\"0,0.0[00000]\"},\"id\":\"2591\",\"type\":\"NumberFormatter\"}],\"root_ids\":[\"2567\"]},\"title\":\"Bokeh Application\",\"version\":\"2.2.3\"}};\n",
       "    var render_items = [{\"docid\":\"78e29eda-b646-4221-8ac0-7f625c7012a9\",\"root_ids\":[\"2567\"],\"roots\":{\"2567\":\"a5d58fc2-af4f-400a-9313-893117d9bf00\"}}];\n",
       "    root.Bokeh.embed.embed_items_notebook(docs_json, render_items);\n",
       "  }\n",
       "  if (root.Bokeh !== undefined && root.Bokeh.Panel !== undefined) {\n",
       "    embed_document(root);\n",
       "  } else {\n",
       "    var attempts = 0;\n",
       "    var timer = setInterval(function(root) {\n",
       "      if (root.Bokeh !== undefined && root.Bokeh.Panel !== undefined) {\n",
       "        clearInterval(timer);\n",
       "        embed_document(root);\n",
       "      } else if (document.readyState == \"complete\") {\n",
       "        attempts++;\n",
       "        if (attempts > 100) {\n",
       "          clearInterval(timer);\n",
       "          console.log(\"Bokeh: ERROR: Unable to run BokehJS code because BokehJS library is missing\");\n",
       "        }\n",
       "      }\n",
       "    }, 10, root)\n",
       "  }\n",
       "})(window);</script>"
      ],
      "text/plain": [
       ":Table   [CoinName,Algorithm,ProofType,TotalCoinSupply,TotalCoinsMined,Class]"
      ]
     },
     "execution_count": 37,
     "metadata": {
      "application/vnd.holoviews_exec.v0+json": {
       "id": "2567"
      }
     },
     "output_type": "execute_result"
    }
   ],
   "source": [
    "# Table with tradable cryptos\n",
    "columns = ['CoinName', 'Algorithm', 'ProofType', 'TotalCoinSupply', 'TotalCoinsMined', 'Class']\n",
    "clustered_df.hvplot.table(columns)"
   ]
  },
  {
   "cell_type": "code",
   "execution_count": 38,
   "metadata": {},
   "outputs": [
    {
     "name": "stdout",
     "output_type": "stream",
     "text": [
      "There are 533 tradable cryptocurrencies.\n"
     ]
    }
   ],
   "source": [
    "# Print the total number of tradable cryptocurrencies\n",
    "print(f\"There are {clustered_df.shape[0]} tradable cryptocurrencies.\")"
   ]
  },
  {
   "cell_type": "markdown",
   "metadata": {},
   "source": [
    "#### Scatter Plot with Tradable Cryptocurrencies"
   ]
  },
  {
   "cell_type": "code",
   "execution_count": 39,
   "metadata": {},
   "outputs": [
    {
     "data": {
      "text/html": [
       "<div>\n",
       "<style scoped>\n",
       "    .dataframe tbody tr th:only-of-type {\n",
       "        vertical-align: middle;\n",
       "    }\n",
       "\n",
       "    .dataframe tbody tr th {\n",
       "        vertical-align: top;\n",
       "    }\n",
       "\n",
       "    .dataframe thead th {\n",
       "        text-align: right;\n",
       "    }\n",
       "</style>\n",
       "<table border=\"1\" class=\"dataframe\">\n",
       "  <thead>\n",
       "    <tr style=\"text-align: right;\">\n",
       "      <th></th>\n",
       "      <th>TotalCoinSupply</th>\n",
       "      <th>TotalCoinsMined</th>\n",
       "      <th>CoinName</th>\n",
       "      <th>Class</th>\n",
       "    </tr>\n",
       "  </thead>\n",
       "  <tbody>\n",
       "    <tr>\n",
       "      <th>0</th>\n",
       "      <td>4.200000e-11</td>\n",
       "      <td>0.005942</td>\n",
       "      <td>42 Coin</td>\n",
       "      <td>0</td>\n",
       "    </tr>\n",
       "    <tr>\n",
       "      <th>2</th>\n",
       "      <td>5.320000e-04</td>\n",
       "      <td>0.007002</td>\n",
       "      <td>404Coin</td>\n",
       "      <td>0</td>\n",
       "    </tr>\n",
       "    <tr>\n",
       "      <th>5</th>\n",
       "      <td>3.141593e-01</td>\n",
       "      <td>0.035342</td>\n",
       "      <td>EliteCoin</td>\n",
       "      <td>4</td>\n",
       "    </tr>\n",
       "    <tr>\n",
       "      <th>7</th>\n",
       "      <td>2.100000e-05</td>\n",
       "      <td>0.005960</td>\n",
       "      <td>Bitcoin</td>\n",
       "      <td>1</td>\n",
       "    </tr>\n",
       "    <tr>\n",
       "      <th>8</th>\n",
       "      <td>0.000000e+00</td>\n",
       "      <td>0.006050</td>\n",
       "      <td>Ethereum</td>\n",
       "      <td>1</td>\n",
       "    </tr>\n",
       "  </tbody>\n",
       "</table>\n",
       "</div>"
      ],
      "text/plain": [
       "   TotalCoinSupply  TotalCoinsMined   CoinName  Class\n",
       "0     4.200000e-11         0.005942    42 Coin      0\n",
       "2     5.320000e-04         0.007002    404Coin      0\n",
       "5     3.141593e-01         0.035342  EliteCoin      4\n",
       "7     2.100000e-05         0.005960    Bitcoin      1\n",
       "8     0.000000e+00         0.006050   Ethereum      1"
      ]
     },
     "execution_count": 39,
     "metadata": {},
     "output_type": "execute_result"
    }
   ],
   "source": [
    "mm_scaler = MinMaxScaler()\n",
    "plot_data = mm_scaler.fit_transform(\n",
    "    clustered_df[[\"TotalCoinSupply\", \"TotalCoinsMined\"]]\n",
    ")\n",
    "plot_df = pd.DataFrame(\n",
    "    plot_data, columns=[\"TotalCoinSupply\", \"TotalCoinsMined\"], index=clustered_df.index\n",
    ")\n",
    "plot_df[\"CoinName\"] = clustered_df[\"CoinName\"]\n",
    "plot_df[\"Class\"] = clustered_df[\"Class\"]\n",
    "plot_df.head()"
   ]
  },
  {
   "cell_type": "code",
   "execution_count": 40,
   "metadata": {},
   "outputs": [
    {
     "data": {},
     "metadata": {},
     "output_type": "display_data"
    },
    {
     "data": {
      "application/vnd.holoviews_exec.v0+json": "",
      "text/html": [
       "<div id='2619'>\n",
       "\n",
       "\n",
       "\n",
       "\n",
       "\n",
       "  <div class=\"bk-root\" id=\"0f9259dc-84ca-4804-9243-e848298c8b28\" data-root-id=\"2619\"></div>\n",
       "</div>\n",
       "<script type=\"application/javascript\">(function(root) {\n",
       "  function embed_document(root) {\n",
       "    var docs_json = {\"86237b05-1871-46f5-bf6d-937f171324d8\":{\"roots\":{\"references\":[{\"attributes\":{\"children\":[{\"id\":\"2620\"},{\"id\":\"2624\"},{\"id\":\"2689\"}],\"margin\":[0,0,0,0],\"name\":\"Row05234\",\"tags\":[\"embedded\"]},\"id\":\"2619\",\"type\":\"Row\"},{\"attributes\":{\"below\":[{\"id\":\"2633\"}],\"center\":[{\"id\":\"2636\"},{\"id\":\"2639\"}],\"left\":[{\"id\":\"2637\"}],\"margin\":[5,5,5,5],\"min_border_bottom\":10,\"min_border_left\":10,\"min_border_right\":10,\"min_border_top\":10,\"plot_height\":300,\"plot_width\":700,\"renderers\":[{\"id\":\"2662\"}],\"right\":[{\"id\":\"2665\"}],\"sizing_mode\":\"fixed\",\"title\":{\"id\":\"2625\"},\"toolbar\":{\"id\":\"2646\"},\"x_range\":{\"id\":\"2621\"},\"x_scale\":{\"id\":\"2629\"},\"y_range\":{\"id\":\"2622\"},\"y_scale\":{\"id\":\"2631\"}},\"id\":\"2624\",\"subtype\":\"Figure\",\"type\":\"Plot\"},{\"attributes\":{},\"id\":\"2669\",\"type\":\"CategoricalTickFormatter\"},{\"attributes\":{\"source\":{\"id\":\"2654\"}},\"id\":\"2663\",\"type\":\"CDSView\"},{\"attributes\":{\"axis\":{\"id\":\"2633\"},\"grid_line_color\":null,\"ticker\":null},\"id\":\"2636\",\"type\":\"Grid\"},{\"attributes\":{\"fill_alpha\":{\"value\":0.2},\"fill_color\":{\"field\":\"color\",\"transform\":{\"id\":\"2653\"}},\"line_alpha\":{\"value\":0.2},\"line_color\":{\"field\":\"color\",\"transform\":{\"id\":\"2653\"}},\"size\":{\"units\":\"screen\",\"value\":5.477225575051661},\"x\":{\"field\":\"TotalCoinsMined\"},\"y\":{\"field\":\"TotalCoinSupply\"}},\"id\":\"2661\",\"type\":\"Scatter\"},{\"attributes\":{\"factors\":[\"42\",\"532000000\",\"314159265359\",\"21000000\",\"0\",\"84000000\",\"22000000\",\"210000000\",\"3600570502\",\"21000000000\",\"12500000\",\"350000000\",\"20000000\",\"64000000\",\"16768584\",\"2000000000\",\"384000000000\",\"169795588\",\"250000000\",\"100000000\",\"247000000\",\"48166000\",\"500000\",\"21000000 \",\"1000000\",\"13140000\",\"18000000\",\"40000000000\",\"4380000\",\"16555000000\",\"13500000000\",\"299792458\",\"32000000\",\"11235813\",\"336000000\",\"1420609614\",\"70000000\",\"72245700\",\"120000000\",\"90600000000\",\"265420800\",\"1350000\",\"42000000\",\"200000000\",\"10000000\",\"2419200000\",\"16180000\",\"15000000000\",\"337000000\",\"3770000\",\"420000000\",\"98000000\",\"51200000\",\"1000\",\"888000000\",\"47011968\",\"2300000000\",\"80000000\",\"250000\",\"1600000000\",\"23000000\",\"5500000\",\"45000000\",\"1000000000\",\"184467440735\",\"10000000000\",\"2158812800\",\"500000000\",\"105120000\",\"68000000\",\"1680000000\",\"166386000\",\"12000000\",\"2628000\",\"160000000\",\"3371337\",\"1840000000\",\"619478\",\"92000000000\",\"78000000\",\"33000000\",\"65789100\",\"53760000\",\"5060000\",\"210240000\",\"16906397\",\"50000000\",\"26298000\",\"16000000\",\"81962100\",\"26550000000\",\"10500000\",\"21626280000 \",\"221052632\",\"30000000\",\"168351300\",\"24000000\",\"384000000\",\" 99000000000\",\"40000000\",\"2147483647\",\"25000000\",\"75000000\",\"222725000\",\"525000000\",\"90000000\",\"139000000\",\"616448\",\"33500000\",\"44333333\",\"657000000\",\"9736000\",\"3000000\",\"1200000000\",\"10638298\",\"3100000000\",\"20000000000\",\"74000000\",\"1500000000\",\"21400000\",\"39999898\",\"2500124\",\"301000000\",\"7506000000\",\"26205539\",\"125000000\",\"850000000\",\"3853326.77707314\",\"38540000 \",\"228000000\",\"60000000\",\"76500000\",\"28000000\",\"650659833\",\"5000000\",\"144000000\",\"32514916898\",\"13000000\",\"3315789\",\"15000000\",\"78835200\",\"2714286\",\"9999999\",\"9354000\",\"100000000000\",\"21933333\",\"185000000\",\"55000000\",\"110000000\",\"3360000\",\"14524851.4827\",\"17000000\",\"100000000 \",\"34426423\",\"2232901\",\"36900000\",\"4000000000\",\"110290030\",\"48252000\",\"400000000\",\"21212121\",\"28600000\",\"75000000000\",\"35520400\",\"2500000000\",\"105000000\",\"90000000000\",\"200084200\",\"72000000\",\"50000000000\",\"340282367\",\"19276800\",\" 75000000\",\"18900000\",\"54000000\",\"18898187.6216583\",\"200000000000\",\"5000000000\",\"137500000\",\"1100000000\",\"9507271\",\"17405891.19707116\",\"86712634466\",\"10500000000\",\"61599965\",\"4200000\",\"88888888\",\"91388946\",\"45000000000\",\"27000000\",\"1800000000\",\"15733333\",\"25000000000\",\"156306732.71\",\"14788275.991\",\"9000000000\",\"280000000\",\"31800000\",\"30000000000\",\"660000000\",\"85000000000\",\"27716121\",\"550000000\",\"999481516\",\"150000000\",\"4999999999\",\" 90000000000\",\"19800000\",\"900000000\",\"4000000\",\"20166000\",\"1618033\",\"1000000000000\",\"16600000\",\"232000000\",\"800000000\",\"5200000000\",\"840000000\",\"18406979840\",\"19340594\",\"252460800\",\"124000000\",\"6500000000\",\"300000000\",\"88000000\",\"18400000\",\"5121951220\",\"26280000\",\"26000000\",\"600000518\",\"184000000000\",\"10200000000\",\"44000000\",\"168000000\",\"650000000 \",\"100262205\",\"18081806 \",\"22075700\",\"82546564\",\"5151000\",\"16880000000\",\"52500000\",\"22105263\",\"1750000000\",\"88188888\",\"184470000000\",\"260000000\",\"2100000000\",\"366000000\",\"18000000000\",\"7600000000\",\"70000000000\",\"8080000000\",\"105120001.44\",\"25228800\",\"262800000\",\"19035999\",\"30886000\",\"13370000\",\"74800000000\",\"19700000\",\"2100000\",\"35000000000\",\"98100000000\",\"7000000000\",\"54256119\",\"190000000\",\"208000000\",\"9000000\",\"182000000\",\"16504333\",\"159918400\",\"10008835635\",\"60168145\",\"2800000\",\"120000\",\"24487944\",\"8634140\",\"990000000000\",\"1400222610\"],\"tags\":[[[\"TotalCoinSupply\",\"TotalCoinSupply\",null]]]},\"id\":\"2622\",\"type\":\"FactorRange\"},{\"attributes\":{\"fill_color\":{\"field\":\"color\",\"transform\":{\"id\":\"2653\"}},\"line_color\":{\"field\":\"color\",\"transform\":{\"id\":\"2653\"}},\"size\":{\"units\":\"screen\",\"value\":5.477225575051661},\"x\":{\"field\":\"TotalCoinsMined\"},\"y\":{\"field\":\"TotalCoinSupply\"}},\"id\":\"2659\",\"type\":\"Scatter\"},{\"attributes\":{\"bottom_units\":\"screen\",\"fill_alpha\":0.5,\"fill_color\":\"lightgrey\",\"left_units\":\"screen\",\"level\":\"overlay\",\"line_alpha\":1.0,\"line_color\":\"black\",\"line_dash\":[4,4],\"line_width\":2,\"right_units\":\"screen\",\"top_units\":\"screen\"},\"id\":\"2645\",\"type\":\"BoxAnnotation\"},{\"attributes\":{\"axis_label\":\"TotalCoinsMined\",\"bounds\":\"auto\",\"formatter\":{\"id\":\"2667\"},\"major_label_orientation\":\"horizontal\",\"ticker\":{\"id\":\"2634\"}},\"id\":\"2633\",\"type\":\"LinearAxis\"},{\"attributes\":{},\"id\":\"2667\",\"type\":\"BasicTickFormatter\"},{\"attributes\":{},\"id\":\"2629\",\"type\":\"LinearScale\"},{\"attributes\":{\"text\":\"\",\"text_color\":{\"value\":\"black\"},\"text_font_size\":{\"value\":\"12pt\"}},\"id\":\"2625\",\"type\":\"Title\"},{\"attributes\":{},\"id\":\"2634\",\"type\":\"BasicTicker\"},{\"attributes\":{},\"id\":\"2642\",\"type\":\"WheelZoomTool\"},{\"attributes\":{\"axis\":{\"id\":\"2637\"},\"dimension\":1,\"grid_line_color\":null,\"ticker\":null},\"id\":\"2639\",\"type\":\"Grid\"},{\"attributes\":{\"callback\":null,\"renderers\":[{\"id\":\"2662\"}],\"tags\":[\"hv_created\"],\"tooltips\":[[\"TotalCoinsMined\",\"@{TotalCoinsMined}\"],[\"TotalCoinSupply\",\"@{TotalCoinSupply}\"],[\"Class\",\"@{Class}\"],[\"CoinName\",\"@{CoinName}\"]]},\"id\":\"2623\",\"type\":\"HoverTool\"},{\"attributes\":{},\"id\":\"2641\",\"type\":\"PanTool\"},{\"attributes\":{\"margin\":[5,5,5,5],\"name\":\"HSpacer05239\",\"sizing_mode\":\"stretch_width\"},\"id\":\"2689\",\"type\":\"Spacer\"},{\"attributes\":{\"margin\":[5,5,5,5],\"name\":\"HSpacer05238\",\"sizing_mode\":\"stretch_width\"},\"id\":\"2620\",\"type\":\"Spacer\"},{\"attributes\":{},\"id\":\"2631\",\"type\":\"CategoricalScale\"},{\"attributes\":{},\"id\":\"2679\",\"type\":\"UnionRenderers\"},{\"attributes\":{\"axis_label\":\"TotalCoinSupply\",\"bounds\":\"auto\",\"formatter\":{\"id\":\"2669\"},\"major_label_orientation\":\"horizontal\",\"ticker\":{\"id\":\"2638\"}},\"id\":\"2637\",\"type\":\"CategoricalAxis\"},{\"attributes\":{},\"id\":\"2638\",\"type\":\"CategoricalTicker\"},{\"attributes\":{\"fill_color\":{\"field\":\"color\",\"transform\":{\"id\":\"2653\"}},\"line_color\":{\"field\":\"color\",\"transform\":{\"id\":\"2653\"}},\"size\":{\"units\":\"screen\",\"value\":5.477225575051661},\"x\":{\"field\":\"TotalCoinsMined\"},\"y\":{\"field\":\"TotalCoinSupply\"}},\"id\":\"2657\",\"type\":\"Scatter\"},{\"attributes\":{},\"id\":\"2672\",\"type\":\"BasicTickFormatter\"},{\"attributes\":{},\"id\":\"2640\",\"type\":\"SaveTool\"},{\"attributes\":{\"overlay\":{\"id\":\"2645\"}},\"id\":\"2643\",\"type\":\"BoxZoomTool\"},{\"attributes\":{},\"id\":\"2644\",\"type\":\"ResetTool\"},{\"attributes\":{\"active_drag\":\"auto\",\"active_inspect\":\"auto\",\"active_multi\":null,\"active_scroll\":\"auto\",\"active_tap\":\"auto\",\"tools\":[{\"id\":\"2623\"},{\"id\":\"2640\"},{\"id\":\"2641\"},{\"id\":\"2642\"},{\"id\":\"2643\"},{\"id\":\"2644\"}]},\"id\":\"2646\",\"type\":\"Toolbar\"},{\"attributes\":{\"fill_color\":{\"field\":\"color\",\"transform\":{\"id\":\"2653\"}},\"line_color\":{\"field\":\"color\",\"transform\":{\"id\":\"2653\"}},\"size\":{\"units\":\"screen\",\"value\":5.477225575051661},\"x\":{\"field\":\"TotalCoinsMined\"},\"y\":{\"field\":\"TotalCoinSupply\"}},\"id\":\"2660\",\"type\":\"Scatter\"},{\"attributes\":{\"data_source\":{\"id\":\"2654\"},\"glyph\":{\"id\":\"2657\"},\"hover_glyph\":{\"id\":\"2660\"},\"muted_glyph\":{\"id\":\"2661\"},\"nonselection_glyph\":{\"id\":\"2658\"},\"selection_glyph\":{\"id\":\"2659\"},\"view\":{\"id\":\"2663\"}},\"id\":\"2662\",\"type\":\"GlyphRenderer\"},{\"attributes\":{\"data\":{\"Class\":{\"__ndarray__\":\"AAAAAAAAAAAEAAAAAQAAAAEAAAABAAAAAAAAAAEAAAABAAAAAQAAAAAAAAABAAAAAAAAAAAAAAABAAAAAAAAAAEAAAABAAAAAAAAAAAAAAABAAAAAQAAAAEAAAABAAAAAQAAAAAAAAABAAAAAQAAAAEAAAAAAAAAAQAAAAAAAAABAAAAAQAAAAAAAAAAAAAAAQAAAAEAAAABAAAAAQAAAAEAAAABAAAAAAAAAAAAAAABAAAAAQAAAAEAAAABAAAAAQAAAAAAAAAAAAAAAQAAAAAAAAABAAAAAQAAAAEAAAABAAAAAAAAAAEAAAABAAAAAAAAAAEAAAAAAAAAAAAAAAAAAAABAAAAAQAAAAEAAAAAAAAAAAAAAAAAAAAAAAAAAAAAAAEAAAABAAAAAQAAAAAAAAAAAAAAAQAAAAAAAAABAAAAAAAAAAAAAAABAAAAAQAAAAEAAAABAAAAAAAAAAAAAAABAAAAAAAAAAEAAAABAAAAAAAAAAAAAAABAAAAAAAAAAAAAAAEAAAAAQAAAAAAAAAAAAAAAQAAAAAAAAAAAAAAAQAAAAAAAAABAAAAAAAAAAEAAAAAAAAAAQAAAAAAAAAAAAAAAQAAAAEAAAAAAAAAAQAAAAEAAAABAAAAAAAAAAEAAAABAAAAAQAAAAEAAAABAAAAAAAAAAAAAAABAAAAAQAAAAEAAAAAAAAAAQAAAAAAAAABAAAAAQAAAAAAAAABAAAAAAAAAAEAAAAAAAAAAAAAAAEAAAABAAAAAAAAAAEAAAABAAAAAAAAAAAAAAABAAAAAAAAAAEAAAAAAAAAAAAAAAAAAAABAAAAAQAAAAEAAAABAAAAAAAAAAAAAAAAAAAAAAAAAAAAAAABAAAAAQAAAAAAAAAAAAAAAAAAAAAAAAAAAAAAAQAAAAAAAAAAAAAAAAAAAAAAAAAAAAAAAQAAAAAAAAABAAAAAAAAAAAAAAABAAAAAAAAAAEAAAAAAAAAAAAAAAEAAAAAAAAAAQAAAAAAAAABAAAAAAAAAAEAAAAAAAAAAAAAAAAAAAAAAAAAAQAAAAAAAAAAAAAAAAAAAAAAAAAAAAAAAQAAAAEAAAAEAAAAAAAAAAEAAAABAAAAAAAAAAAAAAAAAAAAAAAAAAAAAAABAAAAAAAAAAAAAAAAAAAAAAAAAAAAAAAAAAAAAAAAAAAAAAABAAAAAAAAAAAAAAAAAAAAAAAAAAAAAAAAAAAAAQAAAAEAAAABAAAAAAAAAAAAAAAAAAAAAAAAAAEAAAAAAAAAAQAAAAAAAAAAAAAAAQAAAAAAAAABAAAAAQAAAAAAAAABAAAAAQAAAAAAAAABAAAAAAAAAAAAAAAAAAAAAQAAAAAAAAAAAAAAAQAAAAAAAAAAAAAAAAAAAAAAAAAAAAAAAAAAAAAAAAABAAAAAAAAAAEAAAAAAAAAAAAAAAAAAAAAAAAAAQAAAAAAAAABAAAAAAAAAAEAAAABAAAAAQAAAAEAAAAAAAAAAQAAAAAAAAAAAAAAAQAAAAAAAAABAAAAAQAAAAEAAAAAAAAAAQAAAAAAAAABAAAABAAAAAEAAAAAAAAAAQAAAAAAAAABAAAAAAAAAAAAAAAEAAAAAQAAAAAAAAABAAAAAQAAAAEAAAABAAAAAQAAAAAAAAAAAAAAAQAAAAAAAAAAAAAAAAAAAAEAAAAAAAAAAQAAAAAAAAABAAAAAAAAAAEAAAAAAAAAAAAAAAAAAAAAAAAAAQAAAAAAAAAAAAAAAQAAAAAAAAAAAAAAAAAAAAEAAAABAAAAAQAAAAEAAAAAAAAABAAAAAAAAAAAAAAAAQAAAAAAAAABAAAAAQAAAAEAAAAAAAAAAAAAAAEAAAABAAAAAAAAAAAAAAABAAAAAAAAAAEAAAABAAAAAQAAAAAAAAABAAAAAQAAAAAAAAAAAAAAAAAAAAEAAAABAAAAAQAAAAAAAAAAAAAAAAAAAAQAAAABAAAAAAAAAAEAAAABAAAAAQAAAAEAAAAAAAAAAwAAAAUAAAABAAAAAQAAAAEAAAAAAAAAAwAAAAAAAAAAAAAAAAAAAAAAAAABAAAAAQAAAAEAAAABAAAAAAAAAAAAAAAAAAAAAQAAAAAAAAABAAAAAAAAAAAAAAAAAAAABAAAAAEAAAAAAAAAAAAAAAEAAAAAAAAAAAAAAAEAAAABAAAAAAAAAAEAAAAAAAAAAQAAAAEAAAABAAAAAQAAAAAAAAAAAAAAAQAAAAAAAAABAAAAAAAAAAAAAAAEAAAAAAAAAAAAAAAAAAAAAQAAAAEAAAABAAAAAAAAAAAAAAAAAAAAAAAAAAAAAAAAAAAAAQAAAAAAAAABAAAAAQAAAAEAAAABAAAAAAAAAAAAAAAAAAAAAAAAAAEAAAAAAAAAAAAAAAEAAAAAAAAAAAAAAAEAAAAFAAAAAQAAAAAAAAABAAAAAQAAAAAAAAAAAAAAAQAAAAAAAAABAAAAAQAAAAAAAAABAAAAAQAAAAAAAAABAAAAAAAAAAEAAAAAAAAAAAAAAAEAAAAAAAAAAAAAAAAAAAAAAAAAAAAAAAEAAAABAAAAAQAAAAAAAAAEAAAAAAAAAAEAAAAAAAAAAQAAAAAAAAABAAAAAAAAAAAAAAAAAAAAAAAAAAEAAAAAAAAAAAAAAAAAAAABAAAAAAAAAAEAAAAAAAAAAQAAAAAAAAAAAAAAAAAAAAEAAAABAAAAAAAAAAAAAAAEAAAAAAAAAAAAAAAAAAAAAAAAAAEAAAAAAAAAAQAAAAQAAAABAAAABAAAAAAAAAADAAAAAAAAAAIAAAAAAAAABAAAAAAAAAABAAAAAQAAAAAAAAA=\",\"dtype\":\"int32\",\"order\":\"little\",\"shape\":[533]},\"CoinName\":[\"42 Coin\",\"404Coin\",\"EliteCoin\",\"Bitcoin\",\"Ethereum\",\"Litecoin\",\"Dash\",\"Monero\",\"Ethereum Classic\",\"ZCash\",\"Bitshares\",\"DigiByte\",\"BitcoinDark\",\"PayCoin\",\"ProsperCoin\",\"KoboCoin\",\"Spreadcoin\",\"Argentum\",\"Aurora Coin\",\"BlueCoin\",\"MyriadCoin\",\"MoonCoin\",\"ZetaCoin\",\"SexCoin\",\"Quatloo\",\"EnergyCoin\",\"QuarkCoin\",\"Riecoin\",\"Digitalcoin \",\"BitBar\",\"Catcoin\",\"CryptoBullion\",\"CannaCoin\",\"CryptCoin\",\"CasinoCoin\",\"Diamond\",\"Verge\",\"DevCoin\",\"EarthCoin\",\"E-Gulden\",\"Einsteinium\",\"Emerald\",\"Exclusive Coin\",\"FlutterCoin\",\"Franko\",\"FeatherCoin\",\"GrandCoin\",\"GlobalCoin\",\"GoldCoin\",\"HoboNickels\",\"HyperStake\",\"Infinite Coin\",\"IOCoin\",\"IXcoin\",\"KrugerCoin\",\"LuckyCoin\",\"Litebar \",\"MaxCoin\",\"MegaCoin\",\"MediterraneanCoin\",\"MintCoin\",\"MinCoin\",\"MazaCoin\",\"Nautilus Coin\",\"NavCoin\",\"NobleCoin\",\"Namecoin\",\"NyanCoin\",\"OpalCoin\",\"Orbitcoin\",\"PotCoin\",\"PhoenixCoin\",\"Reddcoin\",\"RonPaulCoin\",\"StableCoin\",\"SmartCoin\",\"SuperCoin\",\"SyncCoin\",\"SysCoin\",\"TeslaCoin\",\"TigerCoin\",\"TittieCoin\",\"TorCoin\",\"TerraCoin\",\"UnbreakableCoin\",\"Unobtanium\",\"UroCoin\",\"UnitaryStatus Dollar\",\"UltraCoin\",\"ViaCoin\",\"VeriCoin\",\"Vertcoin\",\"WorldCoin\",\"X11 Coin\",\"Crypti\",\"JouleCoin\",\"StealthCoin\",\"ZCC Coin\",\"ByteCoin\",\"DigitalNote \",\"BurstCoin\",\"StorjCoin\",\"MonaCoin\",\"Neutron\",\"FairCoin\",\"Gulden\",\"RubyCoin\",\"PesetaCoin\",\"Kore\",\"Wild Beast Coin\",\"Dnotes\",\"Flo\",\"8BIT Coin\",\"Sativa Coin\",\"ArtByte\",\"Folding Coin\",\"Ucoin\",\"Unitus\",\"CypherPunkCoin\",\"OmniCron\",\"Vtorrent\",\"GreenCoin\",\"Cryptonite\",\"MasterCoin\",\"SoonCoin\",\"1Credit\",\"IslaCoin\",\"Nexus\",\"MarsCoin \",\"Crypto\",\"Anarchists Prime\",\"Droidz\",\"BowsCoin\",\"Squall Coin\",\"Song Coin\",\"BitZeny\",\"Diggits\",\"Expanse\",\"Paycon\",\"Siacoin\",\"Emercoin\",\"EverGreenCoin\",\"MindCoin\",\"I0coin\",\"Decred\",\"Revolution VR\",\"HOdlcoin\",\"EDRCoin\",\"Hitcoin\",\"Gamecredits\",\"DubaiCoin\",\"CarpeDiemCoin\",\"PWR Coin\",\"BillaryCoin\",\"GPU Coin\",\"Adzcoin\",\"SoilCoin\",\"YoCoin\",\"SibCoin\",\"EuropeCoin\",\"ZeitCoin\",\"SwingCoin\",\"SafeExchangeCoin\",\"Nebuchadnezzar\",\"Francs\",\"BolivarCoin\",\"Ratecoin\",\"Revenu\",\"Clockcoin\",\"VIP Tokens\",\"BitSend\",\"Omni\",\"Let it Ride\",\"PutinCoin\",\"iBankCoin\",\"Frankywillcoin\",\"MudraCoin\",\"PizzaCoin\",\"Lutetium Coin\",\"Komodo\",\"GoldBlocks\",\"CarterCoin\",\"Karbo\",\"BitTokens\",\"ZayedCoin\",\"MustangCoin\",\"ZoneCoin\",\"Circuits of Value\",\"RootCoin\",\"DopeCoin\",\"BitCurrency\",\"DollarCoin\",\"Swiscoin\",\"Shilling\",\"BuzzCoin\",\"Opair\",\"PesoBit\",\"Halloween Coin\",\"ZCoin\",\"CoffeeCoin\",\"RoyalCoin\",\"GanjaCoin V2\",\"TeamUP\",\"LanaCoin\",\"Elementrem\",\"ZClassic\",\"ARK\",\"InsaneCoin\",\"KiloCoin\",\"ArtexCoin\",\"EmberCoin\",\"XenixCoin\",\"FreeCoin\",\"PLNCoin\",\"AquariusCoin\",\"Kurrent\",\"Creatio\",\"Eternity\",\"Eurocoin\",\"BitcoinFast\",\"Stakenet\",\"BitConnect Coin\",\"MoneyCoin\",\"Enigma\",\"Cannabis Industry Coin\",\"Russiacoin\",\"PandaCoin\",\"GameUnits\",\"GAKHcoin\",\"Allsafe\",\"LiteCreed\",\"OsmiumCoin\",\"Bikercoins\",\"HexxCoin\",\"Klingon Empire Darsek\",\"Internet of People\",\"KushCoin\",\"Printerium\",\"PacCoin\",\"Impeach\",\"Citadel\",\"Zilbercoin\",\"FirstCoin\",\"BeaverCoin\",\"FindCoin\",\"VaultCoin\",\"Zero\",\"OpenChat\",\"Canada eCoin\",\"Zoin\",\"RenosCoin\",\"DubaiCoin\",\"VirtacoinPlus\",\"TajCoin\",\"Impact\",\"EB3coin\",\"Atmos\",\"HappyCoin\",\"Coinonat\",\"MacronCoin\",\"Condensate\",\"Independent Money System\",\"ArgusCoin\",\"LomoCoin\",\"ProCurrency\",\"GoldReserve\",\"BenjiRolls\",\"GrowthCoin\",\"ILCoin\",\"Phreak\",\"Degas Coin\",\"HTML5 Coin\",\"Ultimate Secure Cash\",\"EquiTrader\",\"QTUM\",\"Quantum Resistant Ledger\",\"Espers\",\"Dynamic\",\"Nano\",\"ChanCoin\",\"Dinastycoin\",\"Denarius\",\"DigitalPrice\",\"Virta Unique Coin\",\"Bitcoin Planet\",\"Unify\",\"BritCoin\",\"SocialCoin\",\"ArcticCoin\",\"DAS\",\"Linda\",\"LeviarCoin\",\"DeepOnion\",\"Bitcore\",\"gCn Coin\",\"SmartCash\",\"Signatum\",\"Onix\",\"Cream\",\"Bitcoin Cash\",\"Monoeci\",\"Draftcoin\",\"Vechain\",\"Sojourn Coin\",\"Stakecoin\",\"NewYorkCoin\",\"FrazCoin\",\"Kronecoin\",\"AdCoin\",\"Linx\",\"CoinonatX\",\"Ethereum Dark\",\"Sumokoin\",\"Obsidian\",\"Cardano\",\"Regalcoin\",\"BitcoinZ\",\"TrezarCoin\",\"Elements\",\"TerraNovaCoin\",\"VIVO Coin\",\"Rupee\",\"Bitcoin Gold\",\"WomenCoin\",\"Theresa May Coin\",\"NamoCoin\",\"LUXCoin\",\"Pirl\",\"Xios\",\"Bitcloud 2.0\",\"eBoost\",\"KekCoin\",\"BlackholeCoin\",\"Infinity Economics\",\"Pura\",\"Innova\",\"Ellaism\",\"GoByte\",\"Magnet\",\"Lamden Tau\",\"Electra\",\"Bitcoin Diamond\",\"SHIELD\",\"Cash & Back Coin\",\"UltraNote\",\"BitCoal\",\"DaxxCoin\",\"Bulwark\",\"Kalkulus\",\"AC3\",\"Lethean\",\"GermanCoin\",\"LiteCoin Ultra\",\"PopularCoin\",\"PhantomX\",\"Photon\",\"Sucre\",\"SparksPay\",\"Digiwage\",\"GunCoin\",\"IrishCoin\",\"Trollcoin\",\"Litecoin Plus\",\"Monkey Project\",\"Pioneer Coin\",\"UnitedBitcoin\",\"Interzone\",\"TokenPay\",\"1717 Masonic Commemorative Token\",\"My Big Coin\",\"TurtleCoin\",\"MUNcoin\",\"Unified Society USDEX\",\"Niobio Cash\",\"ShareChain\",\"Travelflex\",\"KREDS\",\"Tokyo Coin\",\"BiblePay\",\"LitecoinCash\",\"BitFlip\",\"LottoCoin\",\"Crypto Improvement Fund\",\"Stipend\",\"Poa Network\",\"Pushi\",\"Ellerium\",\"Velox\",\"Ontology\",\"Callisto Network\",\"BitTube\",\"Poseidon\",\"Aidos Kuneen\",\"Bitspace\",\"Briacoin\",\"Ignition\",\"Bitrolium\",\"MedicCoin\",\"Alpenschillling\",\"Bitcoin Green\",\"Deviant Coin\",\"Abjcoin\",\"Semux\",\"FuturoCoin\",\"Carebit\",\"Zealium\",\"Monero Classic\",\"Proton\",\"iDealCash\",\"Jumpcoin\",\"Infinex\",\"Bitcoin Incognito\",\"KEYCO\",\"HollyWoodCoin\",\"GINcoin\",\"PlatinCoin\",\"Loki\",\"Newton Coin\",\"Swisscoin\",\"Xt3ch\",\"MassGrid\",\"TheVig\",\"PluraCoin\",\"EmaratCoin\",\"Dekado\",\"Lynx\",\"Poseidon Quark\",\"BitcoinWSpectrum\",\"Muse\",\"Motion\",\"PlusOneCoin\",\"Axe\",\"Trivechain\",\"Dystem\",\"Giant\",\"Peony Coin\",\"Absolute Coin\",\"Vitae\",\"HexCoin\",\"TPCash\",\"Webchain\",\"Ryo\",\"Urals Coin\",\"Qwertycoin\",\"ARENON\",\"EUNO\",\"MMOCoin\",\"Ketan\",\"Project Pai\",\"XDNA\",\"PAXEX\",\"Azart\",\"ThunderStake\",\"Kcash\",\"Xchange\",\"Acute Angle Cloud\",\"CrypticCoin\",\"Bettex coin\",\"Actinium\",\"Bitcoin SV\",\"BitMoney\",\"Junson Ming Chan Coin\",\"FREDEnergy\",\"HerbCoin\",\"Universal Molecule\",\"Lithium\",\"PirateCash\",\"Exosis\",\"Block-Logic\",\"Oduwa\",\"Beam\",\"Galilel\",\"Bithereum\",\"Crypto Sports\",\"Credit\",\"SLICE\",\"Dash Platinum\",\"Nasdacoin\",\"Beetle Coin\",\"Titan Coin\",\"Award\",\"BLAST\",\"Bitcoin Rhodium\",\"GlobalToken\",\"Insane Coin\",\"ALAX\",\"LiteDoge\",\"SolarCoin\",\"TruckCoin\",\"UFO Coin\",\"OrangeCoin\",\"BlakeCoin\",\"BitstarCoin\",\"NeosCoin\",\"HyperCoin\",\"PinkCoin\",\"Crypto Escudo\",\"AudioCoin\",\"IncaKoin\",\"Piggy Coin\",\"Crown Coin\",\"Genstake\",\"SmileyCoin\",\"XiaoMiCoin\",\"Groestlcoin\",\"CapriCoin\",\" ClubCoin\",\"Radium\",\"Bata\",\"Pakcoin\",\"Creditbit \",\"OKCash\",\"Lisk\",\"HiCoin\",\"WhiteCoin\",\"FriendshipCoin\",\"Fiii\",\"JoinCoin\",\"Triangles Coin\",\"Vollar\",\"EOS\",\"Reality Clash\",\"Oxycoin\",\"TigerCash\",\"Waves\",\"Particl\",\"BitTorrent\",\"Nxt\",\"ZEPHYR\",\"Gapcoin\",\"Beldex\",\"Horizen\",\"BitcoinPlus\"],\"TotalCoinSupply\":[\"42\",\"532000000\",\"314159265359\",\"21000000\",\"0\",\"84000000\",\"22000000\",\"0\",\"210000000\",\"21000000\",\"3600570502\",\"21000000000\",\"22000000\",\"12500000\",\"21000000\",\"350000000\",\"20000000\",\"64000000\",\"16768584\",\"0\",\"2000000000\",\"384000000000\",\"169795588\",\"250000000\",\"100000000\",\"0\",\"247000000\",\"84000000\",\"48166000\",\"500000\",\"21000000 \",\"1000000\",\"13140000\",\"18000000\",\"40000000000\",\"4380000\",\"16555000000\",\"21000000000\",\"13500000000\",\"21000000 \",\"299792458\",\"32000000\",\"0\",\"0\",\"11235813\",\"336000000\",\"1420609614\",\"70000000\",\"72245700\",\"120000000\",\"0\",\"90600000000\",\"22000000\",\"21000000\",\"265420800\",\"20000000\",\"1350000\",\"100000000\",\"42000000\",\"200000000\",\"0\",\"10000000\",\"2419200000\",\"16180000\",\"0\",\"15000000000\",\"21000000\",\"337000000\",\"0\",\"3770000\",\"420000000\",\"98000000\",\"0\",\"21000000\",\"250000000\",\"51200000\",\"0\",\"1000\",\"888000000\",\"100000000\",\"47011968\",\"2300000000\",\"10000000\",\"42000000\",\"80000000\",\"250000\",\"0\",\"1600000000\",\"100000000\",\"23000000\",\"0\",\"84000000\",\"265420800\",\"5500000\",\"0\",\"45000000\",\"0\",\"1000000000\",\"184467440735\",\"10000000000\",\"2158812800\",\"500000000\",\"105120000\",\"68000000\",\"0\",\"1680000000\",\"0\",\"166386000\",\"12000000\",\"2628000\",\"500000000\",\"160000000\",\"0\",\"10000000\",\"1000000000\",\"1000000000\",\"20000000\",\"0\",\"0\",\"3371337\",\"20000000\",\"10000000000\",\"1840000000\",\"619478\",\"21000000\",\"92000000000\",\"0\",\"78000000\",\"33000000\",\"65789100\",\"53760000\",\"5060000\",\"21000000\",\"0\",\"210240000\",\"250000000\",\"100000000\",\"16906397\",\"50000000\",\"0\",\"1000000000\",\"26298000\",\"16000000\",\"21000000\",\"21000000\",\"210000000\",\"81962100\",\"22000000\",\"26550000000\",\"84000000\",\"10500000\",\"21626280000 \",\"0\",\"42000000\",\"221052632\",\"84000000\",\"30000000\",\"168351300\",\"24000000\",\"384000000\",\" 99000000000\",\"40000000\",\"2147483647\",\"20000000\",\"20000000\",\"25000000\",\"75000000\",\"222725000\",\"525000000\",\"90000000\",\"139000000\",\"616448\",\"33500000\",\"2000000000\",\"44333333\",\"100000000\",\"200000000\",\"25000000\",\"657000000\",\"200000000\",\"50000000\",\"90000000\",\"10000000\",\"21000000\",\"9736000\",\"3000000\",\"21000000\",\"1200000000\",\"0\",\"200000000\",\"0\",\"10638298\",\"3100000000\",\"30000000\",\"20000000000\",\"74000000\",\"0\",\"1500000000\",\"21400000\",\"39999898\",\"2500124\",\"100000000\",\"301000000\",\"7506000000\",\"26205539\",\"21000000\",\"125000000\",\"30000000\",\"10000000000\",\"500000000\",\"850000000\",\"3853326.77707314\",\"50000000\",\"38540000 \",\"42000000\",\"228000000\",\"20000000\",\"60000000\",\"20000000\",\"33000000\",\"76500000\",\"28000000\",\"650659833\",\"5000000\",\"21000000\",\"144000000\",\"32514916898\",\"13000000\",\"3315789\",\"15000000\",\"78835200\",\"2714286\",\"25000000\",\"9999999\",\"500000000\",\"21000000\",\"9354000\",\"20000000\",\"100000000000\",\"21933333\",\"185000000\",\"55000000\",\"110000000\",\"3360000\",\"14524851.4827\",\"1000000000\",\"17000000\",\"1000000000\",\"100000000 \",\"21000000\",\"34426423\",\"2232901\",\"100000000\",\"36900000\",\"110000000\",\"4000000000\",\"110290030\",\"100000000\",\"48252000\",\"400000000\",\"500000000\",\"21212121\",\"28600000\",\"1000000000\",\"75000000000\",\"40000000\",\"35520400\",\"2000000000\",\"2500000000\",\"30000000\",\"105000000\",\"90000000000\",\"200084200\",\"72000000\",\"100000000\",\"105000000\",\"50000000000\",\"0\",\"340282367\",\"30000000\",\"2000000000\",\"10000000\",\"100000000\",\"120000000\",\"100000000\",\"19276800\",\"30000000\",\" 75000000\",\"60000000\",\"18900000\",\"50000000000\",\"54000000\",\"18898187.6216583\",\"21000000\",\"200000000000\",\"5000000000\",\"137500000\",\"1100000000\",\"100000000\",\"21000000\",\"9507271\",\"17405891.19707116\",\"86712634466\",\"10500000000\",\"61599965\",\"0\",\"20000000\",\"84000000\",\"100000000\",\"100000000\",\"48252000\",\"4200000\",\"88888888\",\"91388946\",\"45000000000\",\"27000000\",\"21000000000\",\"400000000\",\"1800000000\",\"15733333\",\"27000000\",\"24000000\",\"21000000\",\"25000000000\",\"100000000\",\"1200000000\",\"60000000\",\"156306732.71\",\"21000000\",\"200000000\",\"100000000\",\"21000000\",\"14788275.991\",\"9000000000\",\"350000000\",\"45000000\",\"280000000\",\"31800000\",\"144000000\",\"500000000\",\"30000000000\",\"210000000\",\"660000000\",\"210000000\",\"85000000000\",\"12500000\",\"10000000000\",\"27716121\",\"20000000\",\"550000000\",\"999481516\",\"50000000000\",\"150000000\",\"4999999999\",\"50000000\",\" 90000000000\",\"19800000\",\"21000000\",\"120000000\",\"500000000\",\"64000000\",\"900000000\",\"4000000\",\"21000000\",\"23000000\",\"20166000\",\"23000000\",\"25000000\",\"1618033\",\"30000000\",\"1000000000000\",\"16600000\",\"232000000\",\"336000000\",\"10000000000\",\"100000000\",\"1100000000\",\"800000000\",\"5200000000\",\"840000000\",\"40000000\",\"18406979840\",\"500000000\",\"19340594\",\"252460800\",\"25000000\",\"60000000\",\"124000000\",\"1000000000\",\"6500000000\",\"1000000000\",\"21000000\",\"25000000\",\"50000000\",\"3000000\",\"5000000\",\"70000000\",\"500000000\",\"300000000\",\"21000000\",\"88000000\",\"30000000\",\"100000000\",\"100000000\",\"200000000\",\"80000000\",\"18400000\",\"45000000\",\"5121951220\",\"21000000\",\"26280000\",\"21000000\",\"18000000\",\"26000000\",\"10500000\",\"600000518\",\"150000000\",\"184000000000\",\"10200000000\",\"44000000\",\"168000000\",\"100000000\",\"1000000000\",\"84000000\",\"90000000\",\"92000000000\",\"650000000 \",\"100262205\",\"18081806 \",\"22075700\",\"21000000\",\"21000000\",\"82546564\",\"21000000\",\"5151000\",\"16880000000\",\"52500000\",\"100000000\",\"22105263\",\"1000000000\",\"1750000000\",\"88188888\",\"210000000\",\"184470000000\",\"55000000\",\"50000000\",\"260000000\",\"210000000\",\"2100000000\",\"366000000\",\"100000000\",\"25000000\",\"18000000000\",\"1000000000\",\"100000000\",\"1000000000\",\"7600000000\",\"50000000\",\"84000000\",\"21000000\",\"70000000000\",\"0\",\"8080000000\",\"54000000\",\"105120001.44\",\"25228800\",\"105000000\",\"21000000\",\"120000000\",\"21000000\",\"262800000\",\"19035999\",\"30886000\",\"13370000\",\"74800000000\",\"100000000\",\"19700000\",\"84000000\",\"500000000\",\"5000000000\",\"420000000\",\"64000000\",\"2100000\",\"168000000\",\"30000000\",\"1000000000\",\"35000000000\",\"98100000000\",\"0\",\"4000000000\",\"200000000\",\"7000000000\",\"54256119\",\"21000000\",\"0\",\"500000000\",\"1000000000\",\"10500000000\",\"190000000\",\"1000000000\",\"42000000\",\"15000000\",\"50000000000\",\"400000000\",\"105000000\",\"208000000\",\"160000000\",\"9000000\",\"5000000\",\"182000000\",\"16504333\",\"105000000\",\"159918400\",\"10008835635\",\"300000000\",\"60168145\",\"5000000000\",\"2800000\",\"120000\",\"2100000000\",\"0\",\"24487944\",\"0\",\"1000000000\",\"100000000\",\"8634140\",\"990000000000\",\"1000000000\",\"2000000000\",\"250000000\",\"1400222610\",\"21000000\",\"1000000\"],\"TotalCoinsMined\":{\"__ndarray__\":\"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\",\"dtype\":\"float64\",\"order\":\"little\",\"shape\":[533]},\"color\":{\"__ndarray__\":\"AAAAAAAAAAAEAAAAAQAAAAEAAAABAAAAAAAAAAEAAAABAAAAAQAAAAAAAAABAAAAAAAAAAAAAAABAAAAAAAAAAEAAAABAAAAAAAAAAAAAAABAAAAAQAAAAEAAAABAAAAAQAAAAAAAAABAAAAAQAAAAEAAAAAAAAAAQAAAAAAAAABAAAAAQAAAAAAAAAAAAAAAQAAAAEAAAABAAAAAQAAAAEAAAABAAAAAAAAAAAAAAABAAAAAQAAAAEAAAABAAAAAQAAAAAAAAAAAAAAAQAAAAAAAAABAAAAAQAAAAEAAAABAAAAAAAAAAEAAAABAAAAAAAAAAEAAAAAAAAAAAAAAAAAAAABAAAAAQAAAAEAAAAAAAAAAAAAAAAAAAAAAAAAAAAAAAEAAAABAAAAAQAAAAAAAAAAAAAAAQAAAAAAAAABAAAAAAAAAAAAAAABAAAAAQAAAAEAAAABAAAAAAAAAAAAAAABAAAAAAAAAAEAAAABAAAAAAAAAAAAAAABAAAAAAAAAAAAAAAEAAAAAQAAAAAAAAAAAAAAAQAAAAAAAAAAAAAAAQAAAAAAAAABAAAAAAAAAAEAAAAAAAAAAQAAAAAAAAAAAAAAAQAAAAEAAAAAAAAAAQAAAAEAAAABAAAAAAAAAAEAAAABAAAAAQAAAAEAAAABAAAAAAAAAAAAAAABAAAAAQAAAAEAAAAAAAAAAQAAAAAAAAABAAAAAQAAAAAAAAABAAAAAAAAAAEAAAAAAAAAAAAAAAEAAAABAAAAAAAAAAEAAAABAAAAAAAAAAAAAAABAAAAAAAAAAEAAAAAAAAAAAAAAAAAAAABAAAAAQAAAAEAAAABAAAAAAAAAAAAAAAAAAAAAAAAAAAAAAABAAAAAQAAAAAAAAAAAAAAAAAAAAAAAAAAAAAAAQAAAAAAAAAAAAAAAAAAAAAAAAAAAAAAAQAAAAAAAAABAAAAAAAAAAAAAAABAAAAAAAAAAEAAAAAAAAAAAAAAAEAAAAAAAAAAQAAAAAAAAABAAAAAAAAAAEAAAAAAAAAAAAAAAAAAAAAAAAAAQAAAAAAAAAAAAAAAAAAAAAAAAAAAAAAAQAAAAEAAAAEAAAAAAAAAAEAAAABAAAAAAAAAAAAAAAAAAAAAAAAAAAAAAABAAAAAAAAAAAAAAAAAAAAAAAAAAAAAAAAAAAAAAAAAAAAAAABAAAAAAAAAAAAAAAAAAAAAAAAAAAAAAAAAAAAAQAAAAEAAAABAAAAAAAAAAAAAAAAAAAAAAAAAAEAAAAAAAAAAQAAAAAAAAAAAAAAAQAAAAAAAAABAAAAAQAAAAAAAAABAAAAAQAAAAAAAAABAAAAAAAAAAAAAAAAAAAAAQAAAAAAAAAAAAAAAQAAAAAAAAAAAAAAAAAAAAAAAAAAAAAAAAAAAAAAAAABAAAAAAAAAAEAAAAAAAAAAAAAAAAAAAAAAAAAAQAAAAAAAAABAAAAAAAAAAEAAAABAAAAAQAAAAEAAAAAAAAAAQAAAAAAAAAAAAAAAQAAAAAAAAABAAAAAQAAAAEAAAAAAAAAAQAAAAAAAAABAAAABAAAAAEAAAAAAAAAAQAAAAAAAAABAAAAAAAAAAAAAAAEAAAAAQAAAAAAAAABAAAAAQAAAAEAAAABAAAAAQAAAAAAAAAAAAAAAQAAAAAAAAAAAAAAAAAAAAEAAAAAAAAAAQAAAAAAAAABAAAAAAAAAAEAAAAAAAAAAAAAAAAAAAAAAAAAAQAAAAAAAAAAAAAAAQAAAAAAAAAAAAAAAAAAAAEAAAABAAAAAQAAAAEAAAAAAAAABAAAAAAAAAAAAAAAAQAAAAAAAAABAAAAAQAAAAEAAAAAAAAAAAAAAAEAAAABAAAAAAAAAAAAAAABAAAAAAAAAAEAAAABAAAAAQAAAAAAAAABAAAAAQAAAAAAAAAAAAAAAAAAAAEAAAABAAAAAQAAAAAAAAAAAAAAAAAAAAQAAAABAAAAAAAAAAEAAAABAAAAAQAAAAEAAAAAAAAAAwAAAAUAAAABAAAAAQAAAAEAAAAAAAAAAwAAAAAAAAAAAAAAAAAAAAAAAAABAAAAAQAAAAEAAAABAAAAAAAAAAAAAAAAAAAAAQAAAAAAAAABAAAAAAAAAAAAAAAAAAAABAAAAAEAAAAAAAAAAAAAAAEAAAAAAAAAAAAAAAEAAAABAAAAAAAAAAEAAAAAAAAAAQAAAAEAAAABAAAAAQAAAAAAAAAAAAAAAQAAAAAAAAABAAAAAAAAAAAAAAAEAAAAAAAAAAAAAAAAAAAAAQAAAAEAAAABAAAAAAAAAAAAAAAAAAAAAAAAAAAAAAAAAAAAAQAAAAAAAAABAAAAAQAAAAEAAAABAAAAAAAAAAAAAAAAAAAAAAAAAAEAAAAAAAAAAAAAAAEAAAAAAAAAAAAAAAEAAAAFAAAAAQAAAAAAAAABAAAAAQAAAAAAAAAAAAAAAQAAAAAAAAABAAAAAQAAAAAAAAABAAAAAQAAAAAAAAABAAAAAAAAAAEAAAAAAAAAAAAAAAEAAAAAAAAAAAAAAAAAAAAAAAAAAAAAAAEAAAABAAAAAQAAAAAAAAAEAAAAAAAAAAEAAAAAAAAAAQAAAAAAAAABAAAAAAAAAAAAAAAAAAAAAAAAAAEAAAAAAAAAAAAAAAAAAAABAAAAAAAAAAEAAAAAAAAAAQAAAAAAAAAAAAAAAAAAAAEAAAABAAAAAAAAAAAAAAAEAAAAAAAAAAAAAAAAAAAAAAAAAAEAAAAAAAAAAQAAAAQAAAABAAAABAAAAAAAAAADAAAAAAAAAAIAAAAAAAAABAAAAAAAAAABAAAAAQAAAAAAAAA=\",\"dtype\":\"int32\",\"order\":\"little\",\"shape\":[533]}},\"selected\":{\"id\":\"2655\"},\"selection_policy\":{\"id\":\"2679\"}},\"id\":\"2654\",\"type\":\"ColumnDataSource\"},{\"attributes\":{\"fill_alpha\":{\"value\":0.1},\"fill_color\":{\"field\":\"color\",\"transform\":{\"id\":\"2653\"}},\"line_alpha\":{\"value\":0.1},\"line_color\":{\"field\":\"color\",\"transform\":{\"id\":\"2653\"}},\"size\":{\"units\":\"screen\",\"value\":5.477225575051661},\"x\":{\"field\":\"TotalCoinsMined\"},\"y\":{\"field\":\"TotalCoinSupply\"}},\"id\":\"2658\",\"type\":\"Scatter\"},{\"attributes\":{\"high\":5,\"low\":0,\"palette\":[\"#fcfea4\",\"#fafda0\",\"#f9fc9d\",\"#f7fb99\",\"#f6fa95\",\"#f5f891\",\"#f4f78d\",\"#f3f689\",\"#f2f485\",\"#f2f381\",\"#f1f27d\",\"#f1f079\",\"#f1ee74\",\"#f1ed70\",\"#f1eb6c\",\"#f1e968\",\"#f1e864\",\"#f2e660\",\"#f2e45d\",\"#f3e259\",\"#f3e056\",\"#f3de52\",\"#f4dc4f\",\"#f4db4b\",\"#f5d948\",\"#f5d745\",\"#f6d542\",\"#f6d33f\",\"#f7d13c\",\"#f7cf3a\",\"#f8cd37\",\"#f8cb34\",\"#f8c931\",\"#f9c72f\",\"#f9c52c\",\"#f9c32a\",\"#fac128\",\"#fabf25\",\"#fabd23\",\"#fabb21\",\"#fbb91e\",\"#fbb71c\",\"#fbb51a\",\"#fbb318\",\"#fbb116\",\"#fbb014\",\"#fbae12\",\"#fbac10\",\"#fbaa0e\",\"#fba80d\",\"#fba60b\",\"#fba40a\",\"#fba208\",\"#fba007\",\"#fb9e07\",\"#fb9d06\",\"#fb9b06\",\"#fb9906\",\"#fa9706\",\"#fa9506\",\"#fa9306\",\"#fa9107\",\"#f99008\",\"#f98e08\",\"#f98c09\",\"#f88a0b\",\"#f8880c\",\"#f8870d\",\"#f7850e\",\"#f78310\",\"#f68111\",\"#f68012\",\"#f57e14\",\"#f57c15\",\"#f47a16\",\"#f37918\",\"#f37719\",\"#f2751a\",\"#f2741c\",\"#f1721d\",\"#f0701e\",\"#f06f1f\",\"#ef6d21\",\"#ee6c22\",\"#ed6a23\",\"#ed6825\",\"#ec6726\",\"#eb6527\",\"#ea6428\",\"#e9622a\",\"#e8612b\",\"#e75f2c\",\"#e65e2d\",\"#e65c2e\",\"#e55b30\",\"#e45a31\",\"#e35832\",\"#e25733\",\"#e05634\",\"#df5436\",\"#de5337\",\"#dd5238\",\"#dc5039\",\"#db4f3a\",\"#da4e3b\",\"#d94d3d\",\"#d74b3e\",\"#d64a3f\",\"#d54940\",\"#d44841\",\"#d24742\",\"#d14643\",\"#d04544\",\"#cf4446\",\"#cd4247\",\"#cc4148\",\"#cb4049\",\"#c93f4a\",\"#c83e4b\",\"#c73e4c\",\"#c53d4d\",\"#c43c4e\",\"#c23b4f\",\"#c13a50\",\"#bf3951\",\"#be3852\",\"#bd3753\",\"#bb3754\",\"#ba3655\",\"#b83556\",\"#b73456\",\"#b53357\",\"#b43358\",\"#b23259\",\"#b1315a\",\"#af315b\",\"#ae305b\",\"#ac2f5c\",\"#ab2e5d\",\"#a92e5e\",\"#a72d5f\",\"#a62c5f\",\"#a42c60\",\"#a32b61\",\"#a12b61\",\"#a02a62\",\"#9e2963\",\"#9c2963\",\"#9b2864\",\"#992864\",\"#982765\",\"#962666\",\"#952666\",\"#932567\",\"#912567\",\"#902468\",\"#8e2468\",\"#8d2369\",\"#8b2269\",\"#892269\",\"#88216a\",\"#86216a\",\"#85206a\",\"#83206b\",\"#811f6b\",\"#801f6b\",\"#7e1e6c\",\"#7d1d6c\",\"#7b1d6c\",\"#7a1c6d\",\"#781c6d\",\"#761b6d\",\"#751b6d\",\"#731a6d\",\"#72196d\",\"#70196e\",\"#6e186e\",\"#6d186e\",\"#6b176e\",\"#6a176e\",\"#68166e\",\"#66156e\",\"#65156e\",\"#63146e\",\"#62146e\",\"#60136e\",\"#5f126e\",\"#5d126e\",\"#5b116e\",\"#5a116d\",\"#58106d\",\"#570f6d\",\"#550f6d\",\"#530e6d\",\"#520e6c\",\"#500d6c\",\"#4f0d6c\",\"#4d0c6b\",\"#4b0c6b\",\"#4a0b6a\",\"#480b6a\",\"#460a69\",\"#450a69\",\"#430a68\",\"#410967\",\"#400966\",\"#3e0966\",\"#3c0965\",\"#3b0964\",\"#390962\",\"#370961\",\"#350960\",\"#34095f\",\"#32095d\",\"#300a5c\",\"#2e0a5a\",\"#2d0a58\",\"#2b0a56\",\"#290b54\",\"#270b52\",\"#260b50\",\"#240b4e\",\"#220b4c\",\"#200c4a\",\"#1f0c47\",\"#1d0c45\",\"#1c0c43\",\"#1a0b40\",\"#190b3e\",\"#170b3b\",\"#160b39\",\"#140b36\",\"#130a34\",\"#120a32\",\"#10092f\",\"#0f092d\",\"#0e082a\",\"#0d0828\",\"#0b0726\",\"#0a0723\",\"#090621\",\"#08061f\",\"#07051d\",\"#06041b\",\"#050418\",\"#040316\",\"#040314\",\"#030212\",\"#020210\",\"#02010e\",\"#01010b\",\"#010109\",\"#010007\",\"#000006\",\"#000004\",\"#000003\"]},\"id\":\"2653\",\"type\":\"LinearColorMapper\"},{\"attributes\":{},\"id\":\"2655\",\"type\":\"Selection\"},{\"attributes\":{\"bar_line_color\":\"black\",\"color_mapper\":{\"id\":\"2653\"},\"formatter\":{\"id\":\"2672\"},\"label_standoff\":8,\"location\":[0,0],\"major_tick_line_color\":\"black\",\"ticker\":{\"id\":\"2664\"}},\"id\":\"2665\",\"type\":\"ColorBar\"},{\"attributes\":{\"end\":1032670428767.6898,\"reset_end\":1032670428767.6898,\"reset_start\":-48599692876.008446,\"start\":-48599692876.008446,\"tags\":[[[\"TotalCoinsMined\",\"TotalCoinsMined\",null]]]},\"id\":\"2621\",\"type\":\"Range1d\"},{\"attributes\":{},\"id\":\"2664\",\"type\":\"BasicTicker\"}],\"root_ids\":[\"2619\"]},\"title\":\"Bokeh Application\",\"version\":\"2.2.3\"}};\n",
       "    var render_items = [{\"docid\":\"86237b05-1871-46f5-bf6d-937f171324d8\",\"root_ids\":[\"2619\"],\"roots\":{\"2619\":\"0f9259dc-84ca-4804-9243-e848298c8b28\"}}];\n",
       "    root.Bokeh.embed.embed_items_notebook(docs_json, render_items);\n",
       "  }\n",
       "  if (root.Bokeh !== undefined && root.Bokeh.Panel !== undefined) {\n",
       "    embed_document(root);\n",
       "  } else {\n",
       "    var attempts = 0;\n",
       "    var timer = setInterval(function(root) {\n",
       "      if (root.Bokeh !== undefined && root.Bokeh.Panel !== undefined) {\n",
       "        clearInterval(timer);\n",
       "        embed_document(root);\n",
       "      } else if (document.readyState == \"complete\") {\n",
       "        attempts++;\n",
       "        if (attempts > 100) {\n",
       "          clearInterval(timer);\n",
       "          console.log(\"Bokeh: ERROR: Unable to run BokehJS code because BokehJS library is missing\");\n",
       "        }\n",
       "      }\n",
       "    }, 10, root)\n",
       "  }\n",
       "})(window);</script>"
      ],
      "text/plain": [
       ":Scatter   [TotalCoinsMined]   (TotalCoinSupply,Class,CoinName)"
      ]
     },
     "execution_count": 40,
     "metadata": {
      "application/vnd.holoviews_exec.v0+json": {
       "id": "2619"
      }
     },
     "output_type": "execute_result"
    }
   ],
   "source": [
    "# Plot the scatter with x=\"TotalCoinsMined\" and y=\"TotalCoinSupply\"\n",
    "clustered_df.hvplot(\n",
    "    kind=\"scatter\", \n",
    "    x=\"TotalCoinsMined\", \n",
    "    y=\"TotalCoinSupply\", \n",
    "    c='Class', \n",
    "    colormap=\"Inferno_r\", \n",
    "    hover_cols=['CoinName']\n",
    ")"
   ]
  },
  {
   "cell_type": "code",
   "execution_count": null,
   "metadata": {},
   "outputs": [],
   "source": []
  },
  {
   "cell_type": "code",
   "execution_count": null,
   "metadata": {},
   "outputs": [],
   "source": []
  }
 ],
 "metadata": {
  "file_extension": ".py",
  "kernelspec": {
   "display_name": "Python 3",
   "language": "python",
   "name": "python3"
  },
  "language_info": {
   "codemirror_mode": {
    "name": "ipython",
    "version": 3
   },
   "file_extension": ".py",
   "mimetype": "text/x-python",
   "name": "python",
   "nbconvert_exporter": "python",
   "pygments_lexer": "ipython3",
   "version": "3.8.3"
  },
  "mimetype": "text/x-python",
  "name": "python",
  "npconvert_exporter": "python",
  "pygments_lexer": "ipython3",
  "version": 3
 },
 "nbformat": 4,
 "nbformat_minor": 4
}
